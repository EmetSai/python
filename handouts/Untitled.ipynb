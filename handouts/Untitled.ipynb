{
 "cells": [
  {
   "cell_type": "code",
   "execution_count": 9,
   "id": "4eb290a8-16e3-4243-84ca-fb893ce65aa8",
   "metadata": {},
   "outputs": [
    {
     "name": "stdout",
     "output_type": "stream",
     "text": [
      "None\n"
     ]
    }
   ],
   "source": [
    "\n",
    "def cal(x):\n",
    "    for p in x:\n",
    "        if p >=7:\n",
    "            x.remove(p)\n",
    "\n",
    "Q = [q for q in range(0,10)]\n",
    "print(cal(Q))"
   ]
  },
  {
   "cell_type": "code",
   "execution_count": null,
   "id": "4d006070-b23f-44ab-af23-44ffa2fcb1ba",
   "metadata": {},
   "outputs": [],
   "source": []
  },
  {
   "cell_type": "code",
   "execution_count": 19,
   "id": "1d7603ec-637d-42fe-8bc5-42f7cc13bd34",
   "metadata": {},
   "outputs": [
    {
     "data": {
      "text/plain": [
       "[0, 1, 2, 3, 4, 5, 6, 8]"
      ]
     },
     "execution_count": 19,
     "metadata": {},
     "output_type": "execute_result"
    }
   ],
   "source": [
    "Q = [q for q in range(0,10)]\n",
    "for p in Q:\n",
    "    if p >=7:\n",
    "        Q.remove(p)\n",
    "Q"
   ]
  },
  {
   "cell_type": "code",
   "execution_count": null,
   "id": "ea57c6f0-5d85-4922-a7f9-f392f18e6b64",
   "metadata": {},
   "outputs": [],
   "source": []
  }
 ],
 "metadata": {
  "kernelspec": {
   "display_name": "Python 3 (ipykernel)",
   "language": "python",
   "name": "python3"
  },
  "language_info": {
   "codemirror_mode": {
    "name": "ipython",
    "version": 3
   },
   "file_extension": ".py",
   "mimetype": "text/x-python",
   "name": "python",
   "nbconvert_exporter": "python",
   "pygments_lexer": "ipython3",
   "version": "3.12.4"
  }
 },
 "nbformat": 4,
 "nbformat_minor": 5
}
