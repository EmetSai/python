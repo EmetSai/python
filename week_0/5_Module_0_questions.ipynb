{
 "cells": [
  {
   "cell_type": "markdown",
   "id": "7290ad86-547b-47f6-a020-01a769a37d80",
   "metadata": {},
   "source": [
    "# Setup & Preparation\n",
    "\n",
    "## Please do not panic. This is an easy homework. If you review the handout and/or watch videos, you will be able to answer all questions easily.\n",
    "\n",
    "## Once done, please \n",
    "  - **Save your notebook as `your first name_your last name_student_ID_section numnber.ipynb` and submit it before the due date**\n",
    "  \n",
    "### Here are section numbers for your reference\n",
    " - `section X1`: Wednesday morning\n",
    " - `section X3`: Wednesday afternoon\n",
    " - `section X5`: Thursday morning\n",
    " "
   ]
  },
  {
   "cell_type": "markdown",
   "id": "11dd80e9-219e-40b7-96ea-1cb51930ad96",
   "metadata": {},
   "source": [
    "## Write a program that accepts two numbers from the user and prints their sum."
   ]
  },
  {
   "cell_type": "code",
   "execution_count": null,
   "id": "7a2c4a6a-0b51-4ccb-9f5a-ef7bc7e7a435",
   "metadata": {},
   "outputs": [],
   "source": [
    "# Answer\n",
    "\n"
   ]
  },
  {
   "cell_type": "markdown",
   "id": "136ba1a7-5f73-40b9-877b-a3f4b2a6b54c",
   "metadata": {},
   "source": [
    "## Write a program that print integer numbers between 1 and 10 using `for` and `range`."
   ]
  },
  {
   "cell_type": "code",
   "execution_count": null,
   "id": "473bd094-21ae-4dc6-aec5-98b9e6867727",
   "metadata": {},
   "outputs": [],
   "source": [
    "# Answer\n",
    "\n"
   ]
  },
  {
   "cell_type": "markdown",
   "id": "2cb77024-f6c5-4f34-adab-04e4d773efc4",
   "metadata": {},
   "source": [
    "## Write a program that takes two float numbers from the user and writes `True` if both are strictly between 0.0 and 1.0, and `False` otherwise."
   ]
  },
  {
   "cell_type": "code",
   "execution_count": null,
   "id": "3bedf02d-cd0d-44fc-ae7d-767fdcbd3cc7",
   "metadata": {},
   "outputs": [],
   "source": [
    "# Answer\n",
    "\n"
   ]
  },
  {
   "cell_type": "markdown",
   "id": "aeb7ee3c-4716-45a6-9797-fd48ca4f107d",
   "metadata": {},
   "source": [
    "## Why does the following code generate an error?\n",
    "a = 10\n",
    "\n",
    "print('a = '+ a)\n"
   ]
  },
  {
   "cell_type": "markdown",
   "id": "eb6d81ae-741c-407e-a418-3f2154750a1e",
   "metadata": {},
   "source": [
    "## Answer\n"
   ]
  },
  {
   "cell_type": "markdown",
   "id": "3b41836b-2b74-4f40-9e98-db00363503ce",
   "metadata": {},
   "source": [
    "## What is the difference between `=` and `==` in python?"
   ]
  },
  {
   "cell_type": "markdown",
   "id": "0dcea61a-2640-4458-89a1-b99859b70173",
   "metadata": {},
   "source": [
    "## Answer\n"
   ]
  },
  {
   "cell_type": "markdown",
   "id": "2868485f-eeb9-4589-b686-c524aeb8e54a",
   "metadata": {},
   "source": [
    "## Write a program that takes two integers from the user and writes `equal` if they are equal, and `not equal` otherwise."
   ]
  },
  {
   "cell_type": "code",
   "execution_count": null,
   "id": "03a2538a-2751-4a8c-b20f-b910e86f9050",
   "metadata": {},
   "outputs": [],
   "source": [
    "## Answer\n"
   ]
  },
  {
   "cell_type": "markdown",
   "id": "769a387e-2317-4aa7-a7a0-7d4167fd3e00",
   "metadata": {},
   "source": [
    "## Python is case sensitive (True or False)"
   ]
  },
  {
   "cell_type": "code",
   "execution_count": null,
   "id": "0c7acf77-faa9-435f-ab98-5b393949a808",
   "metadata": {},
   "outputs": [],
   "source": [
    "## Answer\n"
   ]
  },
  {
   "cell_type": "markdown",
   "id": "35711503-3d74-4f7d-bad1-d5e1413e20cf",
   "metadata": {},
   "source": [
    "## Assume your friend's name is `Stefani Joanne Angelina Germanotta`. Write a simple program that counts number of characters (including the space chracter) in this name?"
   ]
  },
  {
   "cell_type": "code",
   "execution_count": null,
   "id": "b5cfe3b2-8645-4725-b42e-8677d490dca5",
   "metadata": {},
   "outputs": [],
   "source": [
    "## Answer\n"
   ]
  },
  {
   "cell_type": "markdown",
   "id": "b202b91d-76d9-43e7-9afc-37a0fab9d4f3",
   "metadata": {},
   "source": [
    "## Define a variable called num_1 with value of 10. Then add 0.7 to it using `+=`"
   ]
  },
  {
   "cell_type": "code",
   "execution_count": null,
   "id": "554ad25b-d222-424f-bed0-0ea01a1ec886",
   "metadata": {},
   "outputs": [],
   "source": [
    "## Answer\n"
   ]
  },
  {
   "cell_type": "markdown",
   "id": "2286235c-19d4-483e-bad6-3ac3ea247226",
   "metadata": {},
   "source": [
    "## Define a variable called num_2 with value of 10. Then multiply it by 3.2 using `*=`"
   ]
  },
  {
   "cell_type": "code",
   "execution_count": null,
   "id": "bbf5fc56-0e89-4bc7-8526-0e1e96cdda98",
   "metadata": {},
   "outputs": [],
   "source": [
    "## Answer\n"
   ]
  },
  {
   "cell_type": "markdown",
   "id": "ae658a8a-40a0-478a-8857-22e987407a1f",
   "metadata": {},
   "source": [
    "## This question will help you understand what happens when you multiply a string by an integer. Define a variable called str_1 with value of `555Penn`. Then multiply it by 3 and print the results."
   ]
  },
  {
   "cell_type": "code",
   "execution_count": null,
   "id": "f35138a8-3c49-46a8-8220-40d119d070e9",
   "metadata": {},
   "outputs": [],
   "source": [
    "## Answer\n"
   ]
  },
  {
   "cell_type": "markdown",
   "id": "48998e58-31b2-4b18-a1b1-729379d7c70e",
   "metadata": {},
   "source": [
    "# Great job!\n",
    "# I told you it is an easy homework! Now, as a reminder:\n",
    "  - **Save your notebook as `your first name_your last name_student_ID_section numnber.ipynb` and submit it before the due date**\n",
    "  \n",
    "### Here are section numbers for your reference\n",
    " - `section X1`: Wednesday morning\n",
    " - `section X3`: Wednesday afternoon\n",
    " - `section X5`: Thursday morning\n"
   ]
  },
  {
   "cell_type": "code",
   "execution_count": null,
   "id": "80d5a244-e118-4cb7-a0b2-5880d9977cc5",
   "metadata": {},
   "outputs": [],
   "source": []
  }
 ],
 "metadata": {
  "kernelspec": {
   "display_name": "Python 3 (ipykernel)",
   "language": "python",
   "name": "python3"
  },
  "language_info": {
   "codemirror_mode": {
    "name": "ipython",
    "version": 3
   },
   "file_extension": ".py",
   "mimetype": "text/x-python",
   "name": "python",
   "nbconvert_exporter": "python",
   "pygments_lexer": "ipython3",
   "version": "3.12.4"
  }
 },
 "nbformat": 4,
 "nbformat_minor": 5
}
