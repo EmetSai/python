{
 "cells": [
  {
   "cell_type": "code",
   "execution_count": 5,
   "id": "658dedee-54c8-4596-87ff-efbbcd95ff51",
   "metadata": {},
   "outputs": [
    {
     "data": {
      "text/plain": [
       "21"
      ]
     },
     "execution_count": 5,
     "metadata": {},
     "output_type": "execute_result"
    }
   ],
   "source": [
    "3*7"
   ]
  },
  {
   "cell_type": "markdown",
   "id": "8f16f817-7ca2-49ee-8554-dd4d7e09ba3e",
   "metadata": {},
   "source": [
    "This is fun"
   ]
  },
  {
   "cell_type": "code",
   "execution_count": 3,
   "id": "324e90f6-eafe-4313-b17a-5084dead949c",
   "metadata": {},
   "outputs": [
    {
     "data": {
      "text/plain": [
       "-1"
      ]
     },
     "execution_count": 3,
     "metadata": {},
     "output_type": "execute_result"
    }
   ],
   "source": [
    "6-7"
   ]
  },
  {
   "cell_type": "code",
   "execution_count": 8,
   "id": "59025063-dba8-43ad-91bf-baf5a5951463",
   "metadata": {},
   "outputs": [
    {
     "name": "stdout",
     "output_type": "stream",
     "text": [
      "13\n"
     ]
    }
   ],
   "source": [
    "var_1 = 10\n",
    "var_2 = 3\n",
    "results = var_1 + var_2\n",
    "print(results)"
   ]
  },
  {
   "cell_type": "markdown",
   "id": "9404a6d5-0e91-45e2-9fa9-d6fceacfc4a2",
   "metadata": {},
   "source": [
    "# This is our first notebook\n",
    "## this is subsection A\n",
    "### this is subsubsection"
   ]
  },
  {
   "cell_type": "code",
   "execution_count": 11,
   "id": "e57fa4d7-ce20-4a13-9a24-68c93d47b0cd",
   "metadata": {},
   "outputs": [
    {
     "name": "stdout",
     "output_type": "stream",
     "text": [
      "Requirement already satisfied: covid in d:\\anaconda\\lib\\site-packages (3.0.0)\n",
      "Requirement already satisfied: beautifulsoup4 in d:\\anaconda\\lib\\site-packages (from covid) (4.12.3)\n",
      "Requirement already satisfied: bleach>=3 in d:\\anaconda\\lib\\site-packages (from covid) (4.1.0)\n",
      "Requirement already satisfied: click in d:\\anaconda\\lib\\site-packages (from covid) (8.1.7)\n",
      "Requirement already satisfied: importlib-metadata in d:\\anaconda\\lib\\site-packages (from covid) (7.0.1)\n",
      "Requirement already satisfied: inflection in d:\\anaconda\\lib\\site-packages (from covid) (0.5.1)\n",
      "Requirement already satisfied: jeepney>=0.4.2 in d:\\anaconda\\lib\\site-packages (from covid) (0.8.0)\n",
      "Requirement already satisfied: pydantic in d:\\anaconda\\lib\\site-packages (from covid) (2.5.3)\n",
      "Requirement already satisfied: requests in d:\\anaconda\\lib\\site-packages (from covid) (2.32.2)\n",
      "Requirement already satisfied: typer in d:\\anaconda\\lib\\site-packages (from covid) (0.12.5)\n",
      "Requirement already satisfied: typing-extensions in d:\\anaconda\\lib\\site-packages (from covid) (4.11.0)\n",
      "Requirement already satisfied: packaging in d:\\anaconda\\lib\\site-packages (from bleach>=3->covid) (23.2)\n",
      "Requirement already satisfied: six>=1.9.0 in d:\\anaconda\\lib\\site-packages (from bleach>=3->covid) (1.16.0)\n",
      "Requirement already satisfied: webencodings in d:\\anaconda\\lib\\site-packages (from bleach>=3->covid) (0.5.1)\n",
      "Requirement already satisfied: soupsieve>1.2 in d:\\anaconda\\lib\\site-packages (from beautifulsoup4->covid) (2.5)\n",
      "Requirement already satisfied: colorama in d:\\anaconda\\lib\\site-packages (from click->covid) (0.4.6)\n",
      "Requirement already satisfied: zipp>=0.5 in d:\\anaconda\\lib\\site-packages (from importlib-metadata->covid) (3.17.0)\n",
      "Requirement already satisfied: annotated-types>=0.4.0 in d:\\anaconda\\lib\\site-packages (from pydantic->covid) (0.6.0)\n",
      "Requirement already satisfied: pydantic-core==2.14.6 in d:\\anaconda\\lib\\site-packages (from pydantic->covid) (2.14.6)\n",
      "Requirement already satisfied: charset-normalizer<4,>=2 in d:\\anaconda\\lib\\site-packages (from requests->covid) (2.0.4)\n",
      "Requirement already satisfied: idna<4,>=2.5 in d:\\anaconda\\lib\\site-packages (from requests->covid) (3.7)\n",
      "Requirement already satisfied: urllib3<3,>=1.21.1 in d:\\anaconda\\lib\\site-packages (from requests->covid) (2.2.2)\n",
      "Requirement already satisfied: certifi>=2017.4.17 in d:\\anaconda\\lib\\site-packages (from requests->covid) (2024.8.30)\n",
      "Requirement already satisfied: shellingham>=1.3.0 in d:\\anaconda\\lib\\site-packages (from typer->covid) (1.5.4)\n",
      "Requirement already satisfied: rich>=10.11.0 in d:\\anaconda\\lib\\site-packages (from typer->covid) (13.3.5)\n",
      "Requirement already satisfied: markdown-it-py<3.0.0,>=2.2.0 in d:\\anaconda\\lib\\site-packages (from rich>=10.11.0->typer->covid) (2.2.0)\n",
      "Requirement already satisfied: pygments<3.0.0,>=2.13.0 in d:\\anaconda\\lib\\site-packages (from rich>=10.11.0->typer->covid) (2.15.1)\n",
      "Requirement already satisfied: mdurl~=0.1 in d:\\anaconda\\lib\\site-packages (from markdown-it-py<3.0.0,>=2.2.0->rich>=10.11.0->typer->covid) (0.1.0)\n",
      "Note: you may need to restart the kernel to use updated packages.\n"
     ]
    }
   ],
   "source": [
    "pip install covid"
   ]
  },
  {
   "cell_type": "code",
   "execution_count": 7,
   "id": "7d6a0509-2332-4594-a68b-356c1184acbb",
   "metadata": {},
   "outputs": [
    {
     "name": "stdin",
     "output_type": "stream",
     "text": [
      "num1 1\n",
      "num2 1\n"
     ]
    },
    {
     "name": "stdout",
     "output_type": "stream",
     "text": [
      "sum 1.0 and 1.0 is 2.0\n"
     ]
    }
   ],
   "source": [
    "num1 = float(input('num1'))\n",
    "num2 = float(input('num2'))\n",
    "sum_result =num1 + num2\n",
    "add_numbers =f'sum {num1} and {num2} is {sum_result}'\n",
    "print (add_numbers)"
   ]
  },
  {
   "cell_type": "code",
   "execution_count": null,
   "id": "d58e125f-60d2-4ec1-bb76-9b3afe78c251",
   "metadata": {},
   "outputs": [],
   "source": []
  }
 ],
 "metadata": {
  "kernelspec": {
   "display_name": "Python 3 (ipykernel)",
   "language": "python",
   "name": "python3"
  },
  "language_info": {
   "codemirror_mode": {
    "name": "ipython",
    "version": 3
   },
   "file_extension": ".py",
   "mimetype": "text/x-python",
   "name": "python",
   "nbconvert_exporter": "python",
   "pygments_lexer": "ipython3",
   "version": "3.12.4"
  }
 },
 "nbformat": 4,
 "nbformat_minor": 5
}
