{
 "cells": [
  {
   "cell_type": "code",
   "execution_count": 8,
   "id": "7d83b402-6cc8-4e3a-97dd-55d979671d42",
   "metadata": {},
   "outputs": [],
   "source": [
    "import numpy as np\n",
    "import pandas as pd\n",
    "from scipy.stats import norm"
   ]
  },
  {
   "cell_type": "code",
   "execution_count": null,
   "id": "4f6ddae6-18f8-4d7a-becc-d381341c5aaf",
   "metadata": {},
   "outputs": [],
   "source": [
    "pip install scipy"
   ]
  },
  {
   "cell_type": "code",
   "execution_count": 10,
   "id": "a44636e6-1c9f-4495-90af-88e38c2ac75a",
   "metadata": {},
   "outputs": [],
   "source": [
    "T=6\n",
    "N=1000\n",
    "drugs = ['M','ST','SG','AGI', 'PA']\n",
    "muhat0 = [0.32, 0.28, 0.30, 0.26, 0.21]\n",
    "sigmahat0 = [0.12, 0.09, 0.17, 0.15, 0.11]"
   ]
  },
  {
   "cell_type": "code",
   "execution_count": 14,
   "id": "cf4895a2-c134-405e-a0e6-e61aca4c56ec",
   "metadata": {},
   "outputs": [],
   "source": [
    "# initial belief\n",
    "s0 = {x: (muhat0[k], 1/sigmahat0[k]**2) \n",
    "      for k, x in enumerate(drugs)}"
   ]
  },
  {
   "cell_type": "code",
   "execution_count": 16,
   "id": "81495f6f-e73e-4ca0-9dcb-2b6e85c03f87",
   "metadata": {},
   "outputs": [
    {
     "data": {
      "text/plain": [
       "{'M': (0.32, 69.44444444444444),\n",
       " 'ST': (0.28, 123.4567901234568),\n",
       " 'SG': (0.3, 34.60207612456747),\n",
       " 'AGI': (0.26, 44.44444444444444),\n",
       " 'PA': (0.21, 82.64462809917356)}"
      ]
     },
     "execution_count": 16,
     "metadata": {},
     "output_type": "execute_result"
    }
   ],
   "source": [
    "s0"
   ]
  },
  {
   "cell_type": "code",
   "execution_count": 18,
   "id": "378004fe-620d-40fc-8643-6117fb7e8bac",
   "metadata": {},
   "outputs": [],
   "source": [
    "sigma_test = 5\n",
    "phi_test = 1/sigma_test **2\n",
    "true_mu_low = 0.15\n",
    "true_mu_high = 0.45"
   ]
  },
  {
   "cell_type": "code",
   "execution_count": 22,
   "id": "3cd6d62e-4ea5-4333-889e-aed39332d2df",
   "metadata": {},
   "outputs": [],
   "source": [
    "truth_seed = pd.read_excel('Lecture 6 Continuous Uniform 0-1.xlsx', sheet_name = 'Diabetes_truth')\n",
    "observed_seed = pd.read_excel('Lecture 6 Continuous Uniform 0-1.xlsx', sheet_name = 'Diabetes_observed')"
   ]
  },
  {
   "cell_type": "code",
   "execution_count": 24,
   "id": "6b0f5634-4959-43f7-a726-87ea65c6a414",
   "metadata": {},
   "outputs": [
    {
     "data": {
      "text/html": [
       "<div>\n",
       "<style scoped>\n",
       "    .dataframe tbody tr th:only-of-type {\n",
       "        vertical-align: middle;\n",
       "    }\n",
       "\n",
       "    .dataframe tbody tr th {\n",
       "        vertical-align: top;\n",
       "    }\n",
       "\n",
       "    .dataframe thead th {\n",
       "        text-align: right;\n",
       "    }\n",
       "</style>\n",
       "<table border=\"1\" class=\"dataframe\">\n",
       "  <thead>\n",
       "    <tr style=\"text-align: right;\">\n",
       "      <th></th>\n",
       "      <th>U1</th>\n",
       "      <th>U2</th>\n",
       "      <th>U3</th>\n",
       "      <th>U4</th>\n",
       "      <th>U5</th>\n",
       "    </tr>\n",
       "  </thead>\n",
       "  <tbody>\n",
       "    <tr>\n",
       "      <th>0</th>\n",
       "      <td>0.784088</td>\n",
       "      <td>0.169264</td>\n",
       "      <td>0.814389</td>\n",
       "      <td>0.441520</td>\n",
       "      <td>0.634123</td>\n",
       "    </tr>\n",
       "    <tr>\n",
       "      <th>1</th>\n",
       "      <td>0.430665</td>\n",
       "      <td>0.193144</td>\n",
       "      <td>0.177082</td>\n",
       "      <td>0.209839</td>\n",
       "      <td>0.769090</td>\n",
       "    </tr>\n",
       "    <tr>\n",
       "      <th>2</th>\n",
       "      <td>0.244497</td>\n",
       "      <td>0.264560</td>\n",
       "      <td>0.457426</td>\n",
       "      <td>0.960882</td>\n",
       "      <td>0.539002</td>\n",
       "    </tr>\n",
       "  </tbody>\n",
       "</table>\n",
       "</div>"
      ],
      "text/plain": [
       "         U1        U2        U3        U4        U5\n",
       "0  0.784088  0.169264  0.814389  0.441520  0.634123\n",
       "1  0.430665  0.193144  0.177082  0.209839  0.769090\n",
       "2  0.244497  0.264560  0.457426  0.960882  0.539002"
      ]
     },
     "execution_count": 24,
     "metadata": {},
     "output_type": "execute_result"
    }
   ],
   "source": [
    "truth_seed.head(3)"
   ]
  },
  {
   "cell_type": "code",
   "execution_count": 26,
   "id": "8e6a2984-b6e5-43f6-871d-a31e8725d4ed",
   "metadata": {},
   "outputs": [
    {
     "data": {
      "text/plain": [
       "{'M': 0.3852264401201282,\n",
       " 'ST': 0.2007790989944614,\n",
       " 'SG': 0.39431679991274926,\n",
       " 'AGI': 0.28245613357632243,\n",
       " 'PA': 0.3402370172507302}"
      ]
     },
     "execution_count": 26,
     "metadata": {},
     "output_type": "execute_result"
    }
   ],
   "source": [
    "i = 0 # patient 0\n",
    "true_mu = {x: (true_mu_high - true_mu_low) * truth_seed.iloc[i,k] + true_mu_low\n",
    "           for k,x in enumerate(drugs)}\n",
    "true_mu"
   ]
  },
  {
   "cell_type": "code",
   "execution_count": 29,
   "id": "d98ee5ca-0acd-4b99-ac78-0445943ceb52",
   "metadata": {},
   "outputs": [
    {
     "data": {
      "text/plain": [
       "{'M': (0.32, 69.44444444444444),\n",
       " 'ST': (0.28, 123.4567901234568),\n",
       " 'SG': (0.3, 34.60207612456747),\n",
       " 'AGI': (0.26, 44.44444444444444),\n",
       " 'PA': (0.21, 82.64462809917356)}"
      ]
     },
     "execution_count": 29,
     "metadata": {},
     "output_type": "execute_result"
    }
   ],
   "source": [
    "curr_state = s0.copy()\n",
    "curr_state"
   ]
  },
  {
   "cell_type": "code",
   "execution_count": 33,
   "id": "aacaba03-964c-4a14-9e72-f1f1673e7230",
   "metadata": {},
   "outputs": [
    {
     "data": {
      "text/plain": [
       "{'M': 0.44,\n",
       " 'ST': 0.37,\n",
       " 'SG': 0.47,\n",
       " 'AGI': 0.41000000000000003,\n",
       " 'PA': 0.31999999999999995}"
      ]
     },
     "execution_count": 33,
     "metadata": {},
     "output_type": "execute_result"
    }
   ],
   "source": [
    "theta = 1 # to be optimized\n",
    "t = 0\n",
    "# interval estimation\n",
    "ie_stats = {x: curr_state[x][0] + theta / np.sqrt(curr_state[x][1])\n",
    "    for x in drugs}\n",
    "ie_stats"
   ]
  },
  {
   "cell_type": "code",
   "execution_count": 37,
   "id": "2144d182-3003-48bb-97e6-705d6df5c8ce",
   "metadata": {},
   "outputs": [
    {
     "data": {
      "text/plain": [
       "'SG'"
      ]
     },
     "execution_count": 37,
     "metadata": {},
     "output_type": "execute_result"
    }
   ],
   "source": [
    "opt_drug = max(ie_stats, key = ie_stats.get)\n",
    "opt_drug"
   ]
  },
  {
   "cell_type": "code",
   "execution_count": 39,
   "id": "ade1a0c3-164c-495f-a491-515625ee79c8",
   "metadata": {},
   "outputs": [
    {
     "data": {
      "text/plain": [
       "8.346003889297709"
      ]
     },
     "execution_count": 39,
     "metadata": {},
     "output_type": "execute_result"
    }
   ],
   "source": [
    "# sample\n",
    "w = norm.ppf(observed_seed.iloc[i,t],\n",
    "            true_mu[opt_drug],\n",
    "            sigma_test)\n",
    "w"
   ]
  },
  {
   "cell_type": "code",
   "execution_count": 47,
   "id": "cf3af125-1a00-4ffa-8a96-c3b7315a3b22",
   "metadata": {},
   "outputs": [
    {
     "data": {
      "text/plain": [
       "{'M': (0.32, 69.44444444444444),\n",
       " 'ST': (0.28, 123.4567901234568),\n",
       " 'SG': (0.3092904407465251, 34.64207612456747),\n",
       " 'AGI': (0.26, 44.44444444444444),\n",
       " 'PA': (0.21, 82.64462809917356)}"
      ]
     },
     "execution_count": 47,
     "metadata": {},
     "output_type": "execute_result"
    }
   ],
   "source": [
    "# update belief\n",
    "phihat = curr_state[opt_drug][1]+ phi_test\n",
    "muhat = (curr_state[opt_drug][1]*curr_state[opt_drug][0]+phi_test * w) /phihat\n",
    "curr_state[opt_drug] = (muhat,phihat)\n",
    "curr_state\n"
   ]
  },
  {
   "cell_type": "code",
   "execution_count": 55,
   "id": "059b931f-9ff3-4953-befa-365bc1c09a19",
   "metadata": {},
   "outputs": [],
   "source": [
    "def cal_obj(theta):\n",
    "    obj = np.zeros(N)\n",
    "    for i in range(N):\n",
    "        true_mu = {x: (true_mu_high - true_mu_low) * truth_seed.iloc[i,k] + true_mu_low\n",
    "                   for k,x in enumerate(drugs)}\n",
    "        curr_state = s0.copy()\n",
    "        for t in range(T):\n",
    "            ie_stats = {x: curr_state[x][0] + theta / np.sqrt(curr_state[x][1])\n",
    "                        for x in drugs}\n",
    "        opt_drug = max(ie_stats, key = ie_stats.get)\n",
    "        w = norm.ppf(observed_seed.iloc[i,t],\n",
    "                    true_mu[opt_drug],\n",
    "                    sigma_test)\n",
    "        phihat = curr_state[opt_drug][1]+ phi_test\n",
    "        muhat = (curr_state[opt_drug][1]*curr_state[opt_drug][0]+phi_test * w) /phihat\n",
    "        curr_state[opt_drug] = (muhat,phihat)\n",
    "        obj[i] +=w\n",
    "    return np.mean(obj)"
   ]
  },
  {
   "cell_type": "code",
   "execution_count": 65,
   "id": "549f2988-832b-4d9f-a7ad-74e7bcb70fcf",
   "metadata": {},
   "outputs": [
    {
     "name": "stderr",
     "output_type": "stream",
     "text": [
      "100%|██████████| 11/11 [00:12<00:00,  1.11s/it]\n"
     ]
    }
   ],
   "source": [
    "theta_grid = np.arange(0, 2.1, 0.2)\n",
    "a1c = []\n",
    "from tqdm import tqdm\n",
    "for theta in tqdm(theta_grid):\n",
    "    a1c.append(cal_obj(theta))\n",
    "opt_val = max(a1c)\n",
    "opt_theta = theta_grid[a1c.index(opt_val)]"
   ]
  },
  {
   "cell_type": "code",
   "execution_count": 67,
   "id": "cda51a83-0222-4381-a574-382306782d9d",
   "metadata": {},
   "outputs": [
    {
     "data": {
      "text/plain": [
       "0.19942929165740844"
      ]
     },
     "execution_count": 67,
     "metadata": {},
     "output_type": "execute_result"
    }
   ],
   "source": [
    "opt_val"
   ]
  },
  {
   "cell_type": "code",
   "execution_count": 69,
   "id": "ad6f8a2c-0a85-4117-93e3-e859128b9be9",
   "metadata": {},
   "outputs": [
    {
     "data": {
      "text/plain": [
       "'SG'"
      ]
     },
     "execution_count": 69,
     "metadata": {},
     "output_type": "execute_result"
    }
   ],
   "source": [
    "opt_drug"
   ]
  },
  {
   "cell_type": "code",
   "execution_count": null,
   "id": "798be99f-7e07-43d8-80a2-3126b420c121",
   "metadata": {},
   "outputs": [],
   "source": []
  }
 ],
 "metadata": {
  "kernelspec": {
   "display_name": "Python 3 (ipykernel)",
   "language": "python",
   "name": "python3"
  },
  "language_info": {
   "codemirror_mode": {
    "name": "ipython",
    "version": 3
   },
   "file_extension": ".py",
   "mimetype": "text/x-python",
   "name": "python",
   "nbconvert_exporter": "python",
   "pygments_lexer": "ipython3",
   "version": "3.12.4"
  }
 },
 "nbformat": 4,
 "nbformat_minor": 5
}
