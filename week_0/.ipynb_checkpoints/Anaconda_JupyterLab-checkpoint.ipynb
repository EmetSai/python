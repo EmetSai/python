{
 "cells": [
  {
   "cell_type": "code",
   "execution_count": 5,
   "id": "658dedee-54c8-4596-87ff-efbbcd95ff51",
   "metadata": {},
   "outputs": [
    {
     "data": {
      "text/plain": [
       "21"
      ]
     },
     "execution_count": 5,
     "metadata": {},
     "output_type": "execute_result"
    }
   ],
   "source": [
    "3*7"
   ]
  },
  {
   "cell_type": "markdown",
   "id": "8f16f817-7ca2-49ee-8554-dd4d7e09ba3e",
   "metadata": {},
   "source": [
    "This is fun"
   ]
  },
  {
   "cell_type": "code",
   "execution_count": 3,
   "id": "324e90f6-eafe-4313-b17a-5084dead949c",
   "metadata": {},
   "outputs": [
    {
     "data": {
      "text/plain": [
       "-1"
      ]
     },
     "execution_count": 3,
     "metadata": {},
     "output_type": "execute_result"
    }
   ],
   "source": [
    "6-7"
   ]
  },
  {
   "cell_type": "code",
   "execution_count": 8,
   "id": "59025063-dba8-43ad-91bf-baf5a5951463",
   "metadata": {},
   "outputs": [
    {
     "name": "stdout",
     "output_type": "stream",
     "text": [
      "13\n"
     ]
    }
   ],
   "source": [
    "var_1 = 10\n",
    "var_2 = 3\n",
    "results = var_1 + var_2\n",
    "print(results)"
   ]
  },
  {
   "cell_type": "markdown",
   "id": "9404a6d5-0e91-45e2-9fa9-d6fceacfc4a2",
   "metadata": {},
   "source": [
    "# This is our first notebook\n",
    "## this is subsection A\n",
    "### this is subsubsection"
   ]
  },
  {
   "cell_type": "code",
   "execution_count": null,
   "id": "e57fa4d7-ce20-4a13-9a24-68c93d47b0cd",
   "metadata": {},
   "outputs": [],
   "source": []
  }
 ],
 "metadata": {
  "kernelspec": {
   "display_name": "Python 3 (ipykernel)",
   "language": "python",
   "name": "python3"
  },
  "language_info": {
   "codemirror_mode": {
    "name": "ipython",
    "version": 3
   },
   "file_extension": ".py",
   "mimetype": "text/x-python",
   "name": "python",
   "nbconvert_exporter": "python",
   "pygments_lexer": "ipython3",
   "version": "3.12.4"
  }
 },
 "nbformat": 4,
 "nbformat_minor": 5
}
