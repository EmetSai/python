{
 "cells": [
  {
   "cell_type": "markdown",
   "id": "40e2ef34-ae36-40c1-804b-be084ef67040",
   "metadata": {},
   "source": [
    "# Week 4 Pre-Lecture File"
   ]
  },
  {
   "cell_type": "code",
   "execution_count": 1,
   "id": "f7c6c344-c515-4feb-82ef-29793b4fc6c9",
   "metadata": {
    "tags": []
   },
   "outputs": [],
   "source": [
    "# please run it before the start of the class\n",
    "\n",
    "most_valuable_50_2023 = [\n",
    "{'Company': 'Apple', 'Sector': 'Information Technology', 'Country': 'US', 'Market_Cap_USD_Billions': 2777.0,}, \n",
    "{'Company': 'Microsoft', 'Sector': 'Information Technology', 'Country': 'US', 'Market_Cap_USD_Billions': 2382.0}, \n",
    "{'Company': 'Saudi Aramco', 'Sector': 'Energy', 'Country': 'Saudi Arabia', 'Market_Cap_USD_Billions': 2222.0}, \n",
    "{'Company': 'Alphabet', 'Sector': 'Communication Services', 'Country': 'US', 'Market_Cap_USD_Billions': 1636.0}, \n",
    "{'Company': 'Amazon', 'Sector': 'Consumer Discretionary', 'Country': 'US', 'Market_Cap_USD_Billions': 1385.0}, \n",
    "{'Company': 'NVIDIA', 'Sector': 'Information Technology', 'Country': 'US', 'Market_Cap_USD_Billions': 1074.0}, \n",
    "{'Company': 'Berkshire Hathaway', 'Sector': 'Financials', 'Country': 'US', 'Market_Cap_USD_Billions': 774.0}, \n",
    "{'Company': 'Meta Platforms', 'Sector': 'Communication Services', 'Country': 'US', 'Market_Cap_USD_Billions': 754.0}, \n",
    "{'Company': 'Tesla', 'Sector': 'Consumer Discretionary', 'Country': 'US', 'Market_Cap_USD_Billions': 715.0}, \n",
    "{'Company': 'Eli Lilly', 'Sector': 'Health Care', 'Country': 'US', 'Market_Cap_USD_Billions': 519.0}, \n",
    "{'Company': 'Visa', 'Sector': 'Information Technology', 'Country': 'US', 'Market_Cap_USD_Billions': 501.0}, \n",
    "{'Company': 'TSMC', 'Sector': 'Information Technology', 'Country': 'Taiwan', 'Market_Cap_USD_Billions': 476.0}, \n",
    "{'Company': 'UnitedHealth', 'Sector': 'Health Care', 'Country': 'US', 'Market_Cap_USD_Billions': 469.0}, \n",
    "{'Company': 'Johnson & Johnson', 'Sector': 'Health Care', 'Country': 'US', 'Market_Cap_USD_Billions': 448.0}, \n",
    "{'Company': 'LVMH', 'Sector': 'Consumer Discretionary', 'Country': 'France', 'Market_Cap_USD_Billions': 442.0}, \n",
    "{'Company': 'JPMorgan Chase', 'Sector': 'Financials', 'Country': 'US', 'Market_Cap_USD_Billions': 436.0}, \n",
    "{'Company': 'Exxon Mobil', 'Sector': 'Energy', 'Country': 'US', 'Market_Cap_USD_Billions': 430.0}, \n",
    "{'Company': 'Walmart', 'Sector': 'Consumer Staples', 'Country': 'US', 'Market_Cap_USD_Billions': 429.0}, \n",
    "{'Company': 'Novo Nordisk', 'Sector': 'Health Care', 'Country': 'Denmark', 'Market_Cap_USD_Billions': 418.0}, \n",
    "{'Company': 'Tencent', 'Sector': 'Communication Services', 'Country': 'China', 'Market_Cap_USD_Billions': 389.0}, \n",
    "{'Company': 'Mastercard', 'Sector': 'Information Technology', 'Country': 'US', 'Market_Cap_USD_Billions': 374.0}, \n",
    "{'Company': 'Procter & Gamble', 'Sector': 'Consumer Staples', 'Country': 'US', 'Market_Cap_USD_Billions': 361.0}, \n",
    "{'Company': 'Broadcom', 'Sector': 'Information Technology', 'Country': 'US', 'Market_Cap_USD_Billions': 344.0}, \n",
    "{'Company': 'Samsung', 'Sector': 'Information Technology', 'Country': 'South Korea', 'Market_Cap_USD_Billions': 341.0}, \n",
    "{'Company': 'Home Depot', 'Sector': 'Consumer Discretionary', 'Country': 'US', 'Market_Cap_USD_Billions': 335.0}, \n",
    "{'Company': 'Kweichow Moutai', 'Sector': 'Consumer Staples', 'Country': 'China', 'Market_Cap_USD_Billions': 319.0}, \n",
    "{'Company': 'Nestlé', 'Sector': 'Consumer Staples', 'Country': 'Switzerland', 'Market_Cap_USD_Billions': 319.0}, \n",
    "{'Company': 'Oracle', 'Sector': 'Information Technology', 'Country': 'US', 'Market_Cap_USD_Billions': 313.0}, \n",
    "{'Company': 'Chevron', 'Sector': 'Energy', 'Country': 'US', 'Market_Cap_USD_Billions': 297.0}, \n",
    "{'Company': 'Merck', 'Sector': 'Health Care', 'Country': 'US', 'Market_Cap_USD_Billions': 276.0}, \n",
    "{'Company': 'AbbVie', 'Sector': 'Health Care', 'Country': 'US', 'Market_Cap_USD_Billions': 267.0}, \n",
    "{'Company': 'Coca-Cola', 'Sector': 'Consumer Staples', 'Country': 'US', 'Market_Cap_USD_Billions': 262.0}, \n",
    "{'Company': 'ASML', 'Sector': 'Information Technology', 'Country': 'Netherlands', 'Market_Cap_USD_Billions': 258.0}, \n",
    "{'Company': 'Pepsico', 'Sector': 'Consumer Staples', 'Country': 'US', 'Market_Cap_USD_Billions': 249.0}, \n",
    "{'Company': 'Costco', 'Sector': 'Consumer Staples', 'Country': 'US', 'Market_Cap_USD_Billions': 248.0}, \n",
    "{'Company': \"L'Oréal\", 'Sector': 'Consumer Discretionary', 'Country': 'France', 'Market_Cap_USD_Billions': 244.0}, \n",
    "{'Company': 'Roche', 'Sector': 'Health Care', 'Country': 'Switzerland', 'Market_Cap_USD_Billions': 241.0}, \n",
    "{'Company': 'International Holding Company', 'Sector': 'Financials', 'Country': 'UAE', 'Market_Cap_USD_Billions': 240.0}, \n",
    "{'Company': 'Adobe', 'Sector': 'Information Technology', 'Country': 'US', 'Market_Cap_USD_Billions': 235.0}, \n",
    "{'Company': 'Bank of America', 'Sector': 'Financials', 'Country': 'US', 'Market_Cap_USD_Billions': 233.0}, \n",
    "{'Company': 'Alibaba', 'Sector': 'Consumer Discretionary', 'Country': 'China', 'Market_Cap_USD_Billions': 228.0}, \n",
    "{'Company': 'Hermès', 'Sector': 'Consumer Discretionary', 'Country': 'France', 'Market_Cap_USD_Billions': 227.0}, \n",
    "{'Company': 'Toyota', 'Sector': 'Consumer Discretionary', 'Country': 'Japan', 'Market_Cap_USD_Billions': 220.0}, \n",
    "{'Company': 'Novartis', 'Sector': 'Health Care', 'Country': 'Switzerland', 'Market_Cap_USD_Billions': 216.0}, \n",
    "{'Company': 'AstraZeneca', 'Sector': 'Health Care', 'Country': 'UK', 'Market_Cap_USD_Billions': 216.0}, \n",
    "{'Company': 'Cisco', 'Sector': 'Information Technology', 'Country': 'US', 'Market_Cap_USD_Billions': 216.0}, \n",
    "{'Company': 'Reliance Industries', 'Sector': 'Energy', 'Country': 'India', 'Market_Cap_USD_Billions': 213.0}, \n",
    "{'Company': 'McDonald', 'Sector': 'Consumer Discretionary', 'Country': 'US', 'Market_Cap_USD_Billions': 208.0}, \n",
    "{'Company': 'Thermo Fisher Scientific', 'Sector': 'Health Care', 'Country': 'US', 'Market_Cap_USD_Billions': 204.0}, \n",
    "{'Company': 'Shell', 'Sector': 'Energy', 'Country': 'UK', 'Market_Cap_USD_Billions': 204.0} \n",
    "]\n",
    "\n",
    "\n",
    "# Sales data for the first five months of the year (in thousands of dollars)\n",
    "sales_data = [100, 30, 55, 80, 65]\n",
    "\n",
    "# Corresponding months\n",
    "months = ['January', 'February', 'March', 'April', 'May']\n",
    "\n",
    "\n",
    "barm_grades = {\n",
    "'Annan': [73.33, 81.95, 83.81, 99.24],\n",
    "'Zihua': [79.90, 77.80, 91.34, 77.43],\n",
    "'Yuming': [80.28, 98.58, 99.85, 91.53],\n",
    "'Daniel': [86.60, 91.99, 99.16, 79.80],\n",
    "'Manman': [88.29, 72.80, 73.30, 82.25],\n",
    "'Jack': [74.11, 94.78, 83.56, 72.85],\n",
    "'Siqi': [82.16, 90.35, 73.12, 75.09],\n",
    "'Junchi': [92.30, 99.68, 86.09, 97.00],\n",
    "'Jie': [97.74, 74.34, 70.06, 76.60],\n",
    "'Kang': [94.92, 77.00, 93.52, 99.13],\n",
    "'Jiarui': [97.00, 79.10, 83.25, 100],\n",
    "'Siru': [77.25, 97.15, 95.59, 99.00],\n",
    "'Ziming': [84.92, 87.40, 73.60, 90.50]\n",
    "}\n",
    "\n",
    "\n",
    "covid_data = [\n",
    " {'country': 'USA', 'confirmed': 108622505, 'deaths': 1176310, 'recovered': 106391032, 'active': 1055163},\n",
    " {'country': 'India','confirmed': 44998603, 'deaths': 531930,  'recovered': 44466109,  'active': 564},\n",
    " {'country': 'France','confirmed': 40138560,'deaths': 167642,  'recovered': 39970918, 'active': 869},\n",
    " {'country': 'Germany', 'confirmed': 38486260, 'deaths': 175989,'recovered': 38240600,'active': 69671},\n",
    " {'country': 'Brazil', 'confirmed': 37789040, 'deaths': 705313, 'recovered': 36249161, 'active': 834566},\n",
    " {'country': 'S. Korea', 'confirmed': 34571873, 'deaths': 35934,'recovered': 34535939},\n",
    " {'country': 'Japan', 'confirmed': 33803572,  'deaths': 74694, 'recovered': 4456839, 'active': 83},\n",
    " {'country': 'Italy', 'confirmed': 26043870, 'deaths': 191586, 'recovered': 25698988,'active': 153296}\n",
    "]\n",
    "\n",
    "\n",
    "sales_dict = {\n",
    "    'Item': ['Laptop', 'Chair', 'Desk', 'Phone', 'Jacket'],\n",
    "    'Type': ['Electronics', 'Furniture', 'Furniture', 'Electronics', 'Clothing'],\n",
    "    'Order_ID': ['A', 'B', 'C', 'D', 'E'],\n",
    "    'Unit Price': [2200, 350, 450, 1400, 120],\n",
    "    'Quantity': [1, 5, 3, 2, 10],\n",
    "    'Discount': [0.0, 0.1, 0.0, 0.15, 0.2]\n",
    "}\n",
    "\n",
    "\n",
    "LINK_ITEMS = 'https://www.dropbox.com/s/m6iggs4bl76ie4o/items.csv?raw=1'\n",
    "LINK_RESTAURANTS = 'https://www.dropbox.com/s/fj9bxnzhcnsl9oo/restaurants.csv?raw=1'\n",
    "LINK_ORDERS = 'https://www.dropbox.com/s/fckortfcnqdkisk/orders.csv?raw=1'\n",
    "\n"
   ]
  },
  {
   "cell_type": "code",
   "execution_count": 15,
   "id": "8d5b0f95-672d-43e3-9b85-73f65285ad0c",
   "metadata": {},
   "outputs": [
    {
     "data": {
      "text/plain": [
       "{'Company': 'Apple',\n",
       " 'Sector': 'Information Technology',\n",
       " 'Country': 'US',\n",
       " 'Market_Cap_USD_Billions': 2777.0}"
      ]
     },
     "execution_count": 15,
     "metadata": {},
     "output_type": "execute_result"
    }
   ],
   "source": [
    "# in a list extract market caps and find average of the list\n",
    "# most_valuable_50_2023\n",
    "list1 = []\n",
    "most_valuable_50_2023[0]\n",
    "for i in most_valuable_50_2023:\n",
    "    i.get('most_valuable_50_2023')"
   ]
  },
  {
   "cell_type": "code",
   "execution_count": null,
   "id": "30cea86f-2c40-4343-8d2e-c78f3973e30a",
   "metadata": {},
   "outputs": [],
   "source": [
    "list1 = [i for i in most_valuable_50_2023 []['most_valuable_50_2023']"
   ]
  },
  {
   "cell_type": "code",
   "execution_count": 29,
   "id": "e1120a5b-ae3c-4cc3-b322-60c762248f23",
   "metadata": {},
   "outputs": [
    {
     "data": {
      "text/plain": [
       "2777.0"
      ]
     },
     "execution_count": 29,
     "metadata": {},
     "output_type": "execute_result"
    }
   ],
   "source": [
    "most_valuable_50_2023[0].get('Market_Cap_USD_Billions')"
   ]
  },
  {
   "cell_type": "code",
   "execution_count": 41,
   "id": "a7d8bdbc-7922-4bf9-a7a4-3d7a37bf8315",
   "metadata": {},
   "outputs": [
    {
     "data": {
      "text/plain": [
       "2777.0"
      ]
     },
     "execution_count": 41,
     "metadata": {},
     "output_type": "execute_result"
    }
   ],
   "source": [
    "most_valuable_50_2023[0]['Market_Cap_USD_Billions']"
   ]
  },
  {
   "cell_type": "code",
   "execution_count": null,
   "id": "843fd74d-5fa8-4b31-b568-a5436ff5ac34",
   "metadata": {},
   "outputs": [],
   "source": [
    "lst = [most_valuable_50_2023[i]['Market_Cap_USD_Billions'] for i in range(len(most_valuable_50_2023))]\n",
    "lst"
   ]
  },
  {
   "cell_type": "code",
   "execution_count": 23,
   "id": "befca218-86ad-4fbb-a6e3-dcc3c86cf9a2",
   "metadata": {},
   "outputs": [
    {
     "data": {
      "text/plain": [
       "531.68"
      ]
     },
     "execution_count": 23,
     "metadata": {},
     "output_type": "execute_result"
    }
   ],
   "source": [
    "import statistics\n",
    "statistics.fmean(lst)"
   ]
  },
  {
   "cell_type": "code",
   "execution_count": null,
   "id": "278b6407-b4ff-494e-a2e0-442ffd0db3b2",
   "metadata": {},
   "outputs": [],
   "source": [
    "\n",
    "\n"
   ]
  },
  {
   "cell_type": "code",
   "execution_count": 50,
   "id": "b8b80fec-36b1-4912-ba76-9c18d7b702d5",
   "metadata": {},
   "outputs": [
    {
     "data": {
      "text/plain": [
       "{'Annan': [73.33, 81.95, 83.81, 99.24],\n",
       " 'Zihua': [79.9, 77.8, 91.34, 77.43],\n",
       " 'Yuming': [80.28, 98.58, 99.85, 91.53],\n",
       " 'Daniel': [86.6, 91.99, 99.16, 79.8],\n",
       " 'Manman': [88.29, 72.8, 73.3, 82.25],\n",
       " 'Jack': [74.11, 94.78, 83.56, 72.85],\n",
       " 'Siqi': [82.16, 90.35, 73.12, 75.09],\n",
       " 'Junchi': [92.3, 99.68, 86.09, 97.0],\n",
       " 'Jie': [97.74, 74.34, 70.06, 76.6],\n",
       " 'Kang': [94.92, 77.0, 93.52, 99.13],\n",
       " 'Jiarui': [97.0, 79.1, 83.25, 100],\n",
       " 'Siru': [77.25, 97.15, 95.59, 99.0],\n",
       " 'Ziming': [84.92, 87.4, 73.6, 90.5]}"
      ]
     },
     "execution_count": 50,
     "metadata": {},
     "output_type": "execute_result"
    }
   ],
   "source": [
    "barm_grades"
   ]
  },
  {
   "cell_type": "markdown",
   "id": "fa72a4f3-8f43-4767-8f6d-c18b8b96d2c4",
   "metadata": {},
   "source": [
    "### write a code that will return name: average_grade dictionary based on barm_grades"
   ]
  },
  {
   "cell_type": "code",
   "execution_count": 60,
   "id": "bde1fd70-a750-4634-8ab9-59a646c313a1",
   "metadata": {},
   "outputs": [
    {
     "data": {
      "text/plain": [
       "{'Annan': 84.5825,\n",
       " 'Zihua': 81.6175,\n",
       " 'Yuming': 92.56,\n",
       " 'Daniel': 89.38749999999999,\n",
       " 'Manman': 79.16,\n",
       " 'Jack': 81.325,\n",
       " 'Siqi': 80.18,\n",
       " 'Junchi': 93.7675,\n",
       " 'Jie': 79.685,\n",
       " 'Kang': 91.1425,\n",
       " 'Jiarui': 89.8375,\n",
       " 'Siru': 92.2475,\n",
       " 'Ziming': 84.105}"
      ]
     },
     "execution_count": 60,
     "metadata": {},
     "output_type": "execute_result"
    }
   ],
   "source": [
    "import statistics\n",
    "dict1 = {i: statistics.fmean(barm_grades[i]) for i in barm_grades} \n",
    "# dict1 = {k: statistics.fmean(v) for k,v in barm_grades.items()} \n",
    "\n",
    "dict1"
   ]
  },
  {
   "cell_type": "code",
   "execution_count": 73,
   "id": "28d62437-611e-45e6-bc76-436281eefea9",
   "metadata": {},
   "outputs": [
    {
     "data": {
      "text/plain": [
       "531.68"
      ]
     },
     "execution_count": 73,
     "metadata": {},
     "output_type": "execute_result"
    }
   ],
   "source": [
    "import pandas as pd\n",
    "\n",
    "df_1 = pd.DataFrame(most_valuable_50_2023)\n",
    "df_1\n",
    "df_1['Market_Cap_USD_Billions'].mean()"
   ]
  },
  {
   "cell_type": "code",
   "execution_count": 93,
   "id": "8184b6e5-845f-4816-93f2-13bfc7c35653",
   "metadata": {},
   "outputs": [
    {
     "data": {
      "text/html": [
       "<div>\n",
       "<style scoped>\n",
       "    .dataframe tbody tr th:only-of-type {\n",
       "        vertical-align: middle;\n",
       "    }\n",
       "\n",
       "    .dataframe tbody tr th {\n",
       "        vertical-align: top;\n",
       "    }\n",
       "\n",
       "    .dataframe thead th {\n",
       "        text-align: right;\n",
       "    }\n",
       "</style>\n",
       "<table border=\"1\" class=\"dataframe\">\n",
       "  <thead>\n",
       "    <tr style=\"text-align: right;\">\n",
       "      <th></th>\n",
       "      <th>Annan</th>\n",
       "      <th>Zihua</th>\n",
       "      <th>Yuming</th>\n",
       "      <th>Daniel</th>\n",
       "      <th>Manman</th>\n",
       "      <th>Jack</th>\n",
       "      <th>Siqi</th>\n",
       "      <th>Junchi</th>\n",
       "      <th>Jie</th>\n",
       "      <th>Kang</th>\n",
       "      <th>Jiarui</th>\n",
       "      <th>Siru</th>\n",
       "      <th>Ziming</th>\n",
       "    </tr>\n",
       "  </thead>\n",
       "  <tbody>\n",
       "    <tr>\n",
       "      <th>0</th>\n",
       "      <td>73.33</td>\n",
       "      <td>79.90</td>\n",
       "      <td>80.28</td>\n",
       "      <td>86.60</td>\n",
       "      <td>88.29</td>\n",
       "      <td>74.11</td>\n",
       "      <td>82.16</td>\n",
       "      <td>92.30</td>\n",
       "      <td>97.74</td>\n",
       "      <td>94.92</td>\n",
       "      <td>97.00</td>\n",
       "      <td>77.25</td>\n",
       "      <td>84.92</td>\n",
       "    </tr>\n",
       "    <tr>\n",
       "      <th>1</th>\n",
       "      <td>81.95</td>\n",
       "      <td>77.80</td>\n",
       "      <td>98.58</td>\n",
       "      <td>91.99</td>\n",
       "      <td>72.80</td>\n",
       "      <td>94.78</td>\n",
       "      <td>90.35</td>\n",
       "      <td>99.68</td>\n",
       "      <td>74.34</td>\n",
       "      <td>77.00</td>\n",
       "      <td>79.10</td>\n",
       "      <td>97.15</td>\n",
       "      <td>87.40</td>\n",
       "    </tr>\n",
       "    <tr>\n",
       "      <th>2</th>\n",
       "      <td>83.81</td>\n",
       "      <td>91.34</td>\n",
       "      <td>99.85</td>\n",
       "      <td>99.16</td>\n",
       "      <td>73.30</td>\n",
       "      <td>83.56</td>\n",
       "      <td>73.12</td>\n",
       "      <td>86.09</td>\n",
       "      <td>70.06</td>\n",
       "      <td>93.52</td>\n",
       "      <td>83.25</td>\n",
       "      <td>95.59</td>\n",
       "      <td>73.60</td>\n",
       "    </tr>\n",
       "    <tr>\n",
       "      <th>3</th>\n",
       "      <td>99.24</td>\n",
       "      <td>77.43</td>\n",
       "      <td>91.53</td>\n",
       "      <td>79.80</td>\n",
       "      <td>82.25</td>\n",
       "      <td>72.85</td>\n",
       "      <td>75.09</td>\n",
       "      <td>97.00</td>\n",
       "      <td>76.60</td>\n",
       "      <td>99.13</td>\n",
       "      <td>100.00</td>\n",
       "      <td>99.00</td>\n",
       "      <td>90.50</td>\n",
       "    </tr>\n",
       "  </tbody>\n",
       "</table>\n",
       "</div>"
      ],
      "text/plain": [
       "   Annan  Zihua  Yuming  Daniel  Manman   Jack   Siqi  Junchi    Jie   Kang  \\\n",
       "0  73.33  79.90   80.28   86.60   88.29  74.11  82.16   92.30  97.74  94.92   \n",
       "1  81.95  77.80   98.58   91.99   72.80  94.78  90.35   99.68  74.34  77.00   \n",
       "2  83.81  91.34   99.85   99.16   73.30  83.56  73.12   86.09  70.06  93.52   \n",
       "3  99.24  77.43   91.53   79.80   82.25  72.85  75.09   97.00  76.60  99.13   \n",
       "\n",
       "   Jiarui   Siru  Ziming  \n",
       "0   97.00  77.25   84.92  \n",
       "1   79.10  97.15   87.40  \n",
       "2   83.25  95.59   73.60  \n",
       "3  100.00  99.00   90.50  "
      ]
     },
     "metadata": {},
     "output_type": "display_data"
    },
    {
     "name": "stdout",
     "output_type": "stream",
     "text": [
      "Annan     84.5825\n",
      "Zihua     81.6175\n",
      "Yuming    92.5600\n",
      "Daniel    89.3875\n",
      "Manman    79.1600\n",
      "Jack      81.3250\n",
      "Siqi      80.1800\n",
      "Junchi    93.7675\n",
      "Jie       79.6850\n",
      "Kang      91.1425\n",
      "Jiarui    89.8375\n",
      "Siru      92.2475\n",
      "Ziming    84.1050\n",
      "dtype: float64\n",
      "\n",
      "86.1228846153846\n"
     ]
    }
   ],
   "source": [
    "df_2 = pd.DataFrame(barm_grades)\n",
    "display(df_2)\n",
    "print(df_2.mean())\n",
    "print()\n",
    "# mean for whole class\n",
    "print(df_2.mean().mean())"
   ]
  },
  {
   "cell_type": "code",
   "execution_count": null,
   "id": "757f937d-31b2-4001-8de4-925112abfc01",
   "metadata": {},
   "outputs": [],
   "source": []
  },
  {
   "cell_type": "code",
   "execution_count": null,
   "id": "1d5caacc-e81f-4802-8beb-08f1bb4bd60d",
   "metadata": {},
   "outputs": [],
   "source": []
  },
  {
   "cell_type": "code",
   "execution_count": 63,
   "id": "bdc3f578-06c5-45d4-b124-0b7835ee61fa",
   "metadata": {},
   "outputs": [
    {
     "data": {
      "text/plain": [
       "[{'country': 'USA',\n",
       "  'confirmed': 108622505,\n",
       "  'deaths': 1176310,\n",
       "  'recovered': 106391032,\n",
       "  'active': 1055163},\n",
       " {'country': 'India',\n",
       "  'confirmed': 44998603,\n",
       "  'deaths': 531930,\n",
       "  'recovered': 44466109,\n",
       "  'active': 564},\n",
       " {'country': 'France',\n",
       "  'confirmed': 40138560,\n",
       "  'deaths': 167642,\n",
       "  'recovered': 39970918,\n",
       "  'active': 869},\n",
       " {'country': 'Germany',\n",
       "  'confirmed': 38486260,\n",
       "  'deaths': 175989,\n",
       "  'recovered': 38240600,\n",
       "  'active': 69671},\n",
       " {'country': 'Brazil',\n",
       "  'confirmed': 37789040,\n",
       "  'deaths': 705313,\n",
       "  'recovered': 36249161,\n",
       "  'active': 834566},\n",
       " {'country': 'S. Korea',\n",
       "  'confirmed': 34571873,\n",
       "  'deaths': 35934,\n",
       "  'recovered': 34535939},\n",
       " {'country': 'Japan',\n",
       "  'confirmed': 33803572,\n",
       "  'deaths': 74694,\n",
       "  'recovered': 4456839,\n",
       "  'active': 83},\n",
       " {'country': 'Italy',\n",
       "  'confirmed': 26043870,\n",
       "  'deaths': 191586,\n",
       "  'recovered': 25698988,\n",
       "  'active': 153296}]"
      ]
     },
     "execution_count": 63,
     "metadata": {},
     "output_type": "execute_result"
    }
   ],
   "source": [
    "covid_data"
   ]
  },
  {
   "cell_type": "code",
   "execution_count": null,
   "id": "788b5d49-834e-432f-86db-d43c3fcbb256",
   "metadata": {},
   "outputs": [],
   "source": []
  },
  {
   "cell_type": "code",
   "execution_count": null,
   "id": "5d5f715f-632d-4800-951a-f3e9c2e32a38",
   "metadata": {},
   "outputs": [],
   "source": []
  },
  {
   "cell_type": "markdown",
   "id": "dd98795a-9e8c-45ab-9744-72e1411b1306",
   "metadata": {},
   "source": [
    "# `pandas`\n",
    "## it gives 'Excel' kind of environment in python\n",
    "## it can handle mixed data types - (numbers, str, lists, dates, image, ...)"
   ]
  },
  {
   "cell_type": "markdown",
   "id": "20490efa-d1f3-48ab-acf6-75f51faa5a82",
   "metadata": {},
   "source": [
    "## 2 main data structures:\n",
    "### `Series`: one column\n",
    "### `DataFrame`: multiple columns by each other\n",
    "#### `DataFrame` is a bunch of `Series` attached to each other"
   ]
  },
  {
   "cell_type": "markdown",
   "id": "77f2bec9-7415-4e21-9e51-bbf6e1666b64",
   "metadata": {},
   "source": [
    "# `Series`"
   ]
  },
  {
   "cell_type": "code",
   "execution_count": 109,
   "id": "4cddfeef-c375-4f1b-ad8e-e113d676ca43",
   "metadata": {},
   "outputs": [
    {
     "data": {
      "text/plain": [
       "[100, 30, 55, 80, 65]"
      ]
     },
     "execution_count": 109,
     "metadata": {},
     "output_type": "execute_result"
    }
   ],
   "source": [
    "import pandas as pd\n",
    "# impact precision of calculation\n",
    "pd.options.display.precision = 2\n",
    "sales_data"
   ]
  },
  {
   "cell_type": "code",
   "execution_count": 111,
   "id": "fec12135-92ed-4a5b-b04e-74c2cd5bde9b",
   "metadata": {},
   "outputs": [
    {
     "data": {
      "text/plain": [
       "['January', 'February', 'March', 'April', 'May']"
      ]
     },
     "execution_count": 111,
     "metadata": {},
     "output_type": "execute_result"
    }
   ],
   "source": [
    "months"
   ]
  },
  {
   "cell_type": "code",
   "execution_count": 352,
   "id": "13aaa991-4f1a-4c3c-b3a9-c8b36bd8244a",
   "metadata": {},
   "outputs": [
    {
     "data": {
      "text/plain": [
       "0    100\n",
       "1     30\n",
       "2     55\n",
       "3     80\n",
       "4     65\n",
       "Name: Sales, dtype: int64"
      ]
     },
     "metadata": {},
     "output_type": "display_data"
    }
   ],
   "source": [
    "sales_s = pd.Series(sales_data, \n",
    "                    name = 'Sales')\n",
    "display(sales_s)\n"
   ]
  },
  {
   "cell_type": "code",
   "execution_count": 354,
   "id": "c26658cb-df8d-4922-b721-50c7166a66db",
   "metadata": {},
   "outputs": [
    {
     "data": {
      "text/plain": [
       "100"
      ]
     },
     "execution_count": 354,
     "metadata": {},
     "output_type": "execute_result"
    }
   ],
   "source": [
    "sales_s[0]"
   ]
  },
  {
   "cell_type": "code",
   "execution_count": 356,
   "id": "ac7619b1-7cc1-465c-b62e-ff7ab090b910",
   "metadata": {},
   "outputs": [
    {
     "data": {
      "text/plain": [
       "RangeIndex(start=0, stop=5, step=1)"
      ]
     },
     "execution_count": 356,
     "metadata": {},
     "output_type": "execute_result"
    }
   ],
   "source": [
    "sales_s.index"
   ]
  },
  {
   "cell_type": "code",
   "execution_count": 358,
   "id": "d787087f-2370-4ac5-92f5-9e144089dac1",
   "metadata": {},
   "outputs": [
    {
     "data": {
      "text/plain": [
       "January     100\n",
       "February     30\n",
       "March        55\n",
       "April        80\n",
       "May          65\n",
       "Name: Sales, dtype: int64"
      ]
     },
     "execution_count": 358,
     "metadata": {},
     "output_type": "execute_result"
    }
   ],
   "source": [
    "sales_s.index = months\n",
    "sales_s\n"
   ]
  },
  {
   "cell_type": "code",
   "execution_count": 360,
   "id": "6a5ea56f-806e-4487-9c4b-3e7b496774c3",
   "metadata": {},
   "outputs": [
    {
     "data": {
      "text/plain": [
       "65"
      ]
     },
     "execution_count": 360,
     "metadata": {},
     "output_type": "execute_result"
    }
   ],
   "source": [
    "sales_s['May']"
   ]
  },
  {
   "cell_type": "markdown",
   "id": "f95e01b0-3360-4cd3-8d84-9da26dce0c57",
   "metadata": {},
   "source": [
    "# descriptive stats"
   ]
  },
  {
   "cell_type": "code",
   "execution_count": 363,
   "id": "1a7997c4-ebff-4d7e-b606-ce6d8561cf6e",
   "metadata": {},
   "outputs": [
    {
     "data": {
      "text/plain": [
       "100"
      ]
     },
     "execution_count": 363,
     "metadata": {},
     "output_type": "execute_result"
    }
   ],
   "source": [
    "sales_s.max()"
   ]
  },
  {
   "cell_type": "code",
   "execution_count": 365,
   "id": "776355c2-d2cf-4c1d-b811-7579ea0ee21b",
   "metadata": {},
   "outputs": [
    {
     "data": {
      "text/plain": [
       "30"
      ]
     },
     "execution_count": 365,
     "metadata": {},
     "output_type": "execute_result"
    }
   ],
   "source": [
    "sales_s.min()"
   ]
  },
  {
   "cell_type": "code",
   "execution_count": 367,
   "id": "33583e6e-15b2-4a4d-ad0e-4f4db020c44e",
   "metadata": {},
   "outputs": [
    {
     "data": {
      "text/plain": [
       "26.315394733881533"
      ]
     },
     "execution_count": 367,
     "metadata": {},
     "output_type": "execute_result"
    }
   ],
   "source": [
    "sales_s.std()"
   ]
  },
  {
   "cell_type": "code",
   "execution_count": 369,
   "id": "5ddd4609-fde5-4c2d-b2c5-d5f641812e0c",
   "metadata": {},
   "outputs": [
    {
     "data": {
      "text/plain": [
       "66.0"
      ]
     },
     "execution_count": 369,
     "metadata": {},
     "output_type": "execute_result"
    }
   ],
   "source": [
    "sales_s.mean()"
   ]
  },
  {
   "cell_type": "markdown",
   "id": "3e5ac2c4-47ee-4383-997d-5835b84d2b5a",
   "metadata": {},
   "source": [
    "## which month has highest sales?"
   ]
  },
  {
   "cell_type": "code",
   "execution_count": 372,
   "id": "905ad72d-0454-4f78-9ea2-be60c0e50e40",
   "metadata": {},
   "outputs": [
    {
     "data": {
      "text/plain": [
       "January     100\n",
       "February     30\n",
       "March        55\n",
       "April        80\n",
       "May          65\n",
       "Name: Sales, dtype: int64"
      ]
     },
     "execution_count": 372,
     "metadata": {},
     "output_type": "execute_result"
    }
   ],
   "source": [
    "sales_s"
   ]
  },
  {
   "cell_type": "code",
   "execution_count": 374,
   "id": "4a2be04e-db1f-4f5a-ba93-f3914fe1c0b1",
   "metadata": {},
   "outputs": [
    {
     "data": {
      "text/plain": [
       "'January'"
      ]
     },
     "execution_count": 374,
     "metadata": {},
     "output_type": "execute_result"
    }
   ],
   "source": [
    "sales_s.idxmax()"
   ]
  },
  {
   "cell_type": "code",
   "execution_count": 376,
   "id": "82b8d03a-9c96-4242-b921-96f3d76540b9",
   "metadata": {},
   "outputs": [
    {
     "data": {
      "text/plain": [
       "'February'"
      ]
     },
     "execution_count": 376,
     "metadata": {},
     "output_type": "execute_result"
    }
   ],
   "source": [
    "sales_s.idxmin()"
   ]
  },
  {
   "cell_type": "code",
   "execution_count": 378,
   "id": "fa28dd6e-d1d9-4925-b67d-3514142a6fc7",
   "metadata": {},
   "outputs": [
    {
     "name": "stderr",
     "output_type": "stream",
     "text": [
      "C:\\Users\\mengn\\AppData\\Local\\Temp\\ipykernel_10180\\27496169.py:1: FutureWarning: Series.__getitem__ treating keys as positions is deprecated. In a future version, integer keys will always be treated as labels (consistent with DataFrame behavior). To access a value by position, use `ser.iloc[pos]`\n",
      "  sales_s[1]\n"
     ]
    },
    {
     "data": {
      "text/plain": [
       "30"
      ]
     },
     "execution_count": 378,
     "metadata": {},
     "output_type": "execute_result"
    }
   ],
   "source": [
    "sales_s[1]"
   ]
  },
  {
   "cell_type": "code",
   "execution_count": 380,
   "id": "cbb28462-ff31-4060-a589-457e3e37766f",
   "metadata": {},
   "outputs": [],
   "source": [
    "# if getting error\n",
    "# because changed the index to months\n",
    "# then that(months) is how to access the index"
   ]
  },
  {
   "cell_type": "code",
   "execution_count": 382,
   "id": "125f536f-f5cd-4dcd-ad61-4092cccb9242",
   "metadata": {},
   "outputs": [
    {
     "data": {
      "text/plain": [
       "100"
      ]
     },
     "execution_count": 382,
     "metadata": {},
     "output_type": "execute_result"
    }
   ],
   "source": [
    "# index location\n",
    "sales_s.iloc[0]"
   ]
  },
  {
   "cell_type": "code",
   "execution_count": 384,
   "id": "2565d737-a6ff-4202-b139-6412bf5e07c8",
   "metadata": {},
   "outputs": [
    {
     "data": {
      "text/plain": [
       "100"
      ]
     },
     "execution_count": 384,
     "metadata": {},
     "output_type": "execute_result"
    }
   ],
   "source": [
    "sales_s['January']"
   ]
  },
  {
   "cell_type": "code",
   "execution_count": 386,
   "id": "f3021ed1-7cad-434e-bea0-d123a829f8d6",
   "metadata": {},
   "outputs": [
    {
     "data": {
      "text/plain": [
       "<Axes: >"
      ]
     },
     "execution_count": 386,
     "metadata": {},
     "output_type": "execute_result"
    },
    {
     "data": {
      "image/png": "[encoded data removed]",
      "text/plain": [
       "<Figure size 640x480 with 1 Axes>"
      ]
     },
     "metadata": {},
     "output_type": "display_data"
    }
   ],
   "source": [
    "# plotting\n",
    "\n",
    "sales_s.plot()"
   ]
  },
  {
   "cell_type": "code",
   "execution_count": 388,
   "id": "2fa9511f-f2b7-4407-a6b4-a7d8a49bcc33",
   "metadata": {},
   "outputs": [
    {
     "data": {
      "image/png": "[encoded data removed]",
      "text/plain": [
       "<Figure size 1000x500 with 1 Axes>"
      ]
     },
     "metadata": {},
     "output_type": "display_data"
    }
   ],
   "source": [
    "sales_s.plot(kind = 'area', \n",
    "             color = 'orange', \n",
    "             figsize = (10,5), \n",
    "             legend = True, \n",
    "             grid = True);\n",
    "# kind = bar/barh/area"
   ]
  },
  {
   "cell_type": "markdown",
   "id": "680b50cd-9325-454d-ae91-ea8113720c99",
   "metadata": {},
   "source": [
    "# boolean indexing"
   ]
  },
  {
   "cell_type": "code",
   "execution_count": 391,
   "id": "9bbe9f35-4790-47cc-a0b8-fff92c381594",
   "metadata": {},
   "outputs": [
    {
     "data": {
      "text/plain": [
       "January     100\n",
       "February     30\n",
       "March        55\n",
       "April        80\n",
       "May          65\n",
       "Name: Sales, dtype: int64"
      ]
     },
     "execution_count": 391,
     "metadata": {},
     "output_type": "execute_result"
    }
   ],
   "source": [
    "sales_s"
   ]
  },
  {
   "cell_type": "code",
   "execution_count": 393,
   "id": "8977eedf-c725-402f-80be-0d99820ddfc6",
   "metadata": {},
   "outputs": [
    {
     "data": {
      "text/plain": [
       "January      True\n",
       "February    False\n",
       "March       False\n",
       "April        True\n",
       "May         False\n",
       "Name: Sales, dtype: bool"
      ]
     },
     "execution_count": 393,
     "metadata": {},
     "output_type": "execute_result"
    }
   ],
   "source": [
    "# months with sales >= 70\n",
    "sales_s >= 70"
   ]
  },
  {
   "cell_type": "code",
   "execution_count": 395,
   "id": "bdcba93c-c850-4a26-817a-0d47e692a33b",
   "metadata": {},
   "outputs": [
    {
     "data": {
      "text/plain": [
       "January    100\n",
       "April       80\n",
       "Name: Sales, dtype: int64"
      ]
     },
     "execution_count": 395,
     "metadata": {},
     "output_type": "execute_result"
    }
   ],
   "source": [
    "sales_s[sales_s >= 70]"
   ]
  },
  {
   "cell_type": "code",
   "execution_count": 397,
   "id": "2994c494-3d57-4b47-a229-3283c404ee02",
   "metadata": {},
   "outputs": [
    {
     "data": {
      "text/plain": [
       "Index(['January', 'April'], dtype='object')"
      ]
     },
     "execution_count": 397,
     "metadata": {},
     "output_type": "execute_result"
    }
   ],
   "source": [
    "sales_s.index[sales_s >= 70]"
   ]
  },
  {
   "cell_type": "code",
   "execution_count": 399,
   "id": "9cda5d84-2c05-47dd-8ede-f81f07b6d3ac",
   "metadata": {},
   "outputs": [
    {
     "data": {
      "text/plain": [
       "January    100\n",
       "April       80\n",
       "Name: Sales, dtype: int64"
      ]
     },
     "execution_count": 399,
     "metadata": {},
     "output_type": "execute_result"
    }
   ],
   "source": [
    "# more than average sales\n",
    "sales_s[sales_s >= sales_s.mean()]"
   ]
  },
  {
   "cell_type": "code",
   "execution_count": 401,
   "id": "0acf0af9-f71b-4238-b496-17bd915febaa",
   "metadata": {},
   "outputs": [
    {
     "data": {
      "text/plain": [
       "January    100\n",
       "April       80\n",
       "Name: Sales, dtype: int64"
      ]
     },
     "execution_count": 401,
     "metadata": {},
     "output_type": "execute_result"
    }
   ],
   "source": [
    "# better expected alternative\n",
    "# Series.ge() - '>='\n",
    "sales_s[sales_s.ge(sales_s.mean())]"
   ]
  },
  {
   "cell_type": "code",
   "execution_count": 403,
   "id": "b212bdb5-9c91-4b0c-b8fc-a24126f13db8",
   "metadata": {},
   "outputs": [
    {
     "data": {
      "text/plain": [
       "1"
      ]
     },
     "execution_count": 403,
     "metadata": {},
     "output_type": "execute_result"
    }
   ],
   "source": [
    "# sales more than 83\n",
    "# .gt - '>' greater than\n",
    "len(sales_s[sales_s.gt(83)])"
   ]
  },
  {
   "cell_type": "code",
   "execution_count": 405,
   "id": "f6fcc408-820a-455f-84a6-569d2b78e20a",
   "metadata": {},
   "outputs": [
    {
     "data": {
      "text/plain": [
       "January      True\n",
       "February    False\n",
       "March       False\n",
       "April       False\n",
       "May         False\n",
       "Name: Sales, dtype: bool"
      ]
     },
     "execution_count": 405,
     "metadata": {},
     "output_type": "execute_result"
    }
   ],
   "source": [
    "sales_s.gt(83)"
   ]
  },
  {
   "cell_type": "code",
   "execution_count": 407,
   "id": "3042c928-d502-4561-bf8a-77cc786c6d75",
   "metadata": {},
   "outputs": [
    {
     "data": {
      "text/plain": [
       "1"
      ]
     },
     "execution_count": 407,
     "metadata": {},
     "output_type": "execute_result"
    }
   ],
   "source": [
    "sales_s.gt(83).sum()"
   ]
  },
  {
   "cell_type": "code",
   "execution_count": 409,
   "id": "52f5986d-1b43-4371-a828-f493942e3388",
   "metadata": {},
   "outputs": [
    {
     "data": {
      "text/plain": [
       "count      5.00\n",
       "mean      66.00\n",
       "std       26.32\n",
       "min       30.00\n",
       "25%       55.00\n",
       "50%       65.00\n",
       "75%       80.00\n",
       "max      100.00\n",
       "Name: Sales, dtype: float64"
      ]
     },
     "execution_count": 409,
     "metadata": {},
     "output_type": "execute_result"
    }
   ],
   "source": [
    "sales_s.describe()"
   ]
  },
  {
   "cell_type": "code",
   "execution_count": 411,
   "id": "cc1bf185-e8ff-4b00-805d-2c85d716cc2a",
   "metadata": {},
   "outputs": [
    {
     "data": {
      "text/plain": [
       "pandas.core.series.Series"
      ]
     },
     "execution_count": 411,
     "metadata": {},
     "output_type": "execute_result"
    }
   ],
   "source": [
    "# it is a series\n",
    "type(sales_s.describe())"
   ]
  },
  {
   "cell_type": "code",
   "execution_count": 413,
   "id": "51e14150-2493-4ffc-9b48-f5a85af740ac",
   "metadata": {},
   "outputs": [
    {
     "data": {
      "text/plain": [
       "<Axes: >"
      ]
     },
     "execution_count": 413,
     "metadata": {},
     "output_type": "execute_result"
    },
    {
     "data": {
      "image/png": "[encoded data removed]",
      "text/plain": [
       "<Figure size 640x480 with 1 Axes>"
      ]
     },
     "metadata": {},
     "output_type": "display_data"
    }
   ],
   "source": [
    "sales_s.describe().plot(kind = 'bar')"
   ]
  },
  {
   "cell_type": "code",
   "execution_count": 415,
   "id": "28c0967f-4cdc-4066-8bba-1dce329e1c45",
   "metadata": {},
   "outputs": [
    {
     "data": {
      "text/plain": [
       "count      5.00\n",
       "mean      66.00\n",
       "std       26.32\n",
       "min       30.00\n",
       "25%       55.00\n",
       "50%       65.00\n",
       "75%       80.00\n",
       "max      100.00\n",
       "Name: Sales, dtype: float64"
      ]
     },
     "execution_count": 415,
     "metadata": {},
     "output_type": "execute_result"
    }
   ],
   "source": [
    "sales_s.describe()"
   ]
  },
  {
   "cell_type": "code",
   "execution_count": 417,
   "id": "b75ec42c-ab5f-480f-9c00-f5ef3fbf3eda",
   "metadata": {},
   "outputs": [
    {
     "data": {
      "text/plain": [
       "100.0"
      ]
     },
     "execution_count": 417,
     "metadata": {},
     "output_type": "execute_result"
    }
   ],
   "source": [
    "# access from series index\n",
    "sales_s.describe()['max']"
   ]
  },
  {
   "cell_type": "code",
   "execution_count": 419,
   "id": "6b85b41f-fda8-48a6-bc16-dff686dcbc9a",
   "metadata": {},
   "outputs": [
    {
     "data": {
      "text/plain": [
       "January     100\n",
       "February     30\n",
       "March        55\n",
       "April        80\n",
       "May          65\n",
       "Name: Sales, dtype: int64"
      ]
     },
     "execution_count": 419,
     "metadata": {},
     "output_type": "execute_result"
    }
   ],
   "source": [
    "# sort\n",
    "sales_s"
   ]
  },
  {
   "cell_type": "code",
   "execution_count": 421,
   "id": "fbb6614a-37d9-477d-b7fb-87941fc1fd0c",
   "metadata": {},
   "outputs": [
    {
     "data": {
      "text/plain": [
       "April        80\n",
       "February     30\n",
       "January     100\n",
       "March        55\n",
       "May          65\n",
       "Name: Sales, dtype: int64"
      ]
     },
     "execution_count": 421,
     "metadata": {},
     "output_type": "execute_result"
    }
   ],
   "source": [
    "sales_s.sort_index()"
   ]
  },
  {
   "cell_type": "code",
   "execution_count": 423,
   "id": "7c10f5c2-b13e-4569-bfcc-2c8543fc1ecb",
   "metadata": {},
   "outputs": [
    {
     "data": {
      "text/plain": [
       "January     100\n",
       "February     30\n",
       "March        55\n",
       "April        80\n",
       "May          65\n",
       "Name: Sales, dtype: int64"
      ]
     },
     "execution_count": 423,
     "metadata": {},
     "output_type": "execute_result"
    }
   ],
   "source": [
    "# .sort_index() wont change the series\n",
    "sales_s"
   ]
  },
  {
   "cell_type": "code",
   "execution_count": 425,
   "id": "7699fa30-dd40-4195-b1af-54a9797e9861",
   "metadata": {},
   "outputs": [
    {
     "data": {
      "text/plain": [
       "February     30\n",
       "March        55\n",
       "May          65\n",
       "April        80\n",
       "January     100\n",
       "Name: Sales, dtype: int64"
      ]
     },
     "execution_count": 425,
     "metadata": {},
     "output_type": "execute_result"
    }
   ],
   "source": [
    "sales_s.sort_values()"
   ]
  },
  {
   "cell_type": "markdown",
   "id": "8d5ddc0f-608f-4838-9488-1fb04af74a64",
   "metadata": {},
   "source": [
    "# `DataFrame`"
   ]
  },
  {
   "cell_type": "code",
   "execution_count": 429,
   "id": "87a544ce-8ab0-49d3-8cad-868d27841e4f",
   "metadata": {},
   "outputs": [
    {
     "data": {
      "text/plain": [
       "{'Item': ['Laptop', 'Chair', 'Desk', 'Phone', 'Jacket'],\n",
       " 'Type': ['Electronics', 'Furniture', 'Furniture', 'Electronics', 'Clothing'],\n",
       " 'Order_ID': ['A', 'B', 'C', 'D', 'E'],\n",
       " 'Unit Price': [2200, 350, 450, 1400, 120],\n",
       " 'Quantity': [1, 5, 3, 2, 10],\n",
       " 'Discount': [0.0, 0.1, 0.0, 0.15, 0.2]}"
      ]
     },
     "execution_count": 429,
     "metadata": {},
     "output_type": "execute_result"
    }
   ],
   "source": [
    "sales_dict"
   ]
  },
  {
   "cell_type": "code",
   "execution_count": 432,
   "id": "68cd650c-c4b2-4837-904a-9602e596e278",
   "metadata": {},
   "outputs": [
    {
     "data": {
      "text/html": [
       "<div>\n",
       "<style scoped>\n",
       "    .dataframe tbody tr th:only-of-type {\n",
       "        vertical-align: middle;\n",
       "    }\n",
       "\n",
       "    .dataframe tbody tr th {\n",
       "        vertical-align: top;\n",
       "    }\n",
       "\n",
       "    .dataframe thead th {\n",
       "        text-align: right;\n",
       "    }\n",
       "</style>\n",
       "<table border=\"1\" class=\"dataframe\">\n",
       "  <thead>\n",
       "    <tr style=\"text-align: right;\">\n",
       "      <th></th>\n",
       "      <th>Item</th>\n",
       "      <th>Type</th>\n",
       "      <th>Order_ID</th>\n",
       "      <th>Unit Price</th>\n",
       "      <th>Quantity</th>\n",
       "      <th>Discount</th>\n",
       "    </tr>\n",
       "  </thead>\n",
       "  <tbody>\n",
       "    <tr>\n",
       "      <th>0</th>\n",
       "      <td>Laptop</td>\n",
       "      <td>Electronics</td>\n",
       "      <td>A</td>\n",
       "      <td>2200</td>\n",
       "      <td>1</td>\n",
       "      <td>0.00</td>\n",
       "    </tr>\n",
       "    <tr>\n",
       "      <th>1</th>\n",
       "      <td>Chair</td>\n",
       "      <td>Furniture</td>\n",
       "      <td>B</td>\n",
       "      <td>350</td>\n",
       "      <td>5</td>\n",
       "      <td>0.10</td>\n",
       "    </tr>\n",
       "    <tr>\n",
       "      <th>2</th>\n",
       "      <td>Desk</td>\n",
       "      <td>Furniture</td>\n",
       "      <td>C</td>\n",
       "      <td>450</td>\n",
       "      <td>3</td>\n",
       "      <td>0.00</td>\n",
       "    </tr>\n",
       "    <tr>\n",
       "      <th>3</th>\n",
       "      <td>Phone</td>\n",
       "      <td>Electronics</td>\n",
       "      <td>D</td>\n",
       "      <td>1400</td>\n",
       "      <td>2</td>\n",
       "      <td>0.15</td>\n",
       "    </tr>\n",
       "    <tr>\n",
       "      <th>4</th>\n",
       "      <td>Jacket</td>\n",
       "      <td>Clothing</td>\n",
       "      <td>E</td>\n",
       "      <td>120</td>\n",
       "      <td>10</td>\n",
       "      <td>0.20</td>\n",
       "    </tr>\n",
       "  </tbody>\n",
       "</table>\n",
       "</div>"
      ],
      "text/plain": [
       "     Item         Type Order_ID  Unit Price  Quantity  Discount\n",
       "0  Laptop  Electronics        A        2200         1      0.00\n",
       "1   Chair    Furniture        B         350         5      0.10\n",
       "2    Desk    Furniture        C         450         3      0.00\n",
       "3   Phone  Electronics        D        1400         2      0.15\n",
       "4  Jacket     Clothing        E         120        10      0.20"
      ]
     },
     "execution_count": 432,
     "metadata": {},
     "output_type": "execute_result"
    }
   ],
   "source": [
    "df_sales = pd.DataFrame(sales_dict)\n",
    "df_sales"
   ]
  },
  {
   "cell_type": "markdown",
   "id": "6bc57b25-c20d-4917-8efd-9c7450737e6d",
   "metadata": {},
   "source": [
    "# access dataframe"
   ]
  },
  {
   "cell_type": "markdown",
   "id": "6098d907-cd27-4d2a-a65b-71c6d698096e",
   "metadata": {},
   "source": [
    "# access columns\n",
    "## `[]` : always works\n",
    "## `.column_name`: works only if column name is valid python identifier"
   ]
  },
  {
   "cell_type": "code",
   "execution_count": 440,
   "id": "ed4c01c8-b02b-4208-aef6-9b1b131ff990",
   "metadata": {},
   "outputs": [
    {
     "data": {
      "text/plain": [
       "0    Electronics\n",
       "1      Furniture\n",
       "2      Furniture\n",
       "3    Electronics\n",
       "4       Clothing\n",
       "Name: Type, dtype: object"
      ]
     },
     "execution_count": 440,
     "metadata": {},
     "output_type": "execute_result"
    }
   ],
   "source": [
    "df_sales['Type']"
   ]
  },
  {
   "cell_type": "code",
   "execution_count": 442,
   "id": "2fb61bc8-9ce2-4323-88db-e8d7d0daa9ca",
   "metadata": {},
   "outputs": [
    {
     "data": {
      "text/plain": [
       "0    Electronics\n",
       "1      Furniture\n",
       "2      Furniture\n",
       "3    Electronics\n",
       "4       Clothing\n",
       "Name: Type, dtype: object"
      ]
     },
     "execution_count": 442,
     "metadata": {},
     "output_type": "execute_result"
    }
   ],
   "source": [
    "df_sales.Type"
   ]
  },
  {
   "cell_type": "code",
   "execution_count": 445,
   "id": "20ddc001-3b69-4a4f-b7cc-a93be15f29cb",
   "metadata": {},
   "outputs": [
    {
     "data": {
      "text/plain": [
       "0    2200\n",
       "1     350\n",
       "2     450\n",
       "3    1400\n",
       "4     120\n",
       "Name: Unit Price, dtype: int64"
      ]
     },
     "execution_count": 445,
     "metadata": {},
     "output_type": "execute_result"
    }
   ],
   "source": [
    "df_sales['Unit Price']"
   ]
  },
  {
   "cell_type": "code",
   "execution_count": 449,
   "id": "2f1e6944-c246-4507-8ab9-5bf7d5b8d06d",
   "metadata": {},
   "outputs": [
    {
     "ename": "SyntaxError",
     "evalue": "invalid syntax (647330852.py, line 2)",
     "output_type": "error",
     "traceback": [
      "\u001b[1;36m  Cell \u001b[1;32mIn[449], line 2\u001b[1;36m\u001b[0m\n\u001b[1;33m    df_sales.Unit Price\u001b[0m\n\u001b[1;37m                  ^\u001b[0m\n\u001b[1;31mSyntaxError\u001b[0m\u001b[1;31m:\u001b[0m invalid syntax\n"
     ]
    }
   ],
   "source": [
    "# has space in bewteem, not valid python identifier\n",
    "df_sales.Unit Price"
   ]
  },
  {
   "cell_type": "code",
   "execution_count": 451,
   "id": "7c344db4-7826-46a8-bf73-1b533c63636c",
   "metadata": {},
   "outputs": [
    {
     "data": {
      "text/plain": [
       "Index(['Item', 'Type', 'Order_ID', 'Unit Price', 'Quantity', 'Discount'], dtype='object')"
      ]
     },
     "execution_count": 451,
     "metadata": {},
     "output_type": "execute_result"
    }
   ],
   "source": [
    "# 2 important attributes\n",
    "df_sales.columns"
   ]
  },
  {
   "cell_type": "code",
   "execution_count": 453,
   "id": "6cdd092c-41c5-4299-8f51-1630acbce05c",
   "metadata": {},
   "outputs": [
    {
     "data": {
      "text/plain": [
       "RangeIndex(start=0, stop=5, step=1)"
      ]
     },
     "execution_count": 453,
     "metadata": {},
     "output_type": "execute_result"
    }
   ],
   "source": [
    "df_sales.index"
   ]
  },
  {
   "cell_type": "code",
   "execution_count": 455,
   "id": "0cbffe0d-bbc2-4929-8b43-b4ad681205ed",
   "metadata": {},
   "outputs": [
    {
     "data": {
      "text/html": [
       "<div>\n",
       "<style scoped>\n",
       "    .dataframe tbody tr th:only-of-type {\n",
       "        vertical-align: middle;\n",
       "    }\n",
       "\n",
       "    .dataframe tbody tr th {\n",
       "        vertical-align: top;\n",
       "    }\n",
       "\n",
       "    .dataframe thead th {\n",
       "        text-align: right;\n",
       "    }\n",
       "</style>\n",
       "<table border=\"1\" class=\"dataframe\">\n",
       "  <thead>\n",
       "    <tr style=\"text-align: right;\">\n",
       "      <th></th>\n",
       "      <th>Item</th>\n",
       "      <th>Type</th>\n",
       "      <th>Order_ID</th>\n",
       "      <th>Unit Price</th>\n",
       "      <th>Quantity</th>\n",
       "      <th>Discount</th>\n",
       "    </tr>\n",
       "  </thead>\n",
       "  <tbody>\n",
       "    <tr>\n",
       "      <th>0</th>\n",
       "      <td>Laptop</td>\n",
       "      <td>Electronics</td>\n",
       "      <td>A</td>\n",
       "      <td>2200</td>\n",
       "      <td>1</td>\n",
       "      <td>0.00</td>\n",
       "    </tr>\n",
       "    <tr>\n",
       "      <th>1</th>\n",
       "      <td>Chair</td>\n",
       "      <td>Furniture</td>\n",
       "      <td>B</td>\n",
       "      <td>350</td>\n",
       "      <td>5</td>\n",
       "      <td>0.10</td>\n",
       "    </tr>\n",
       "    <tr>\n",
       "      <th>2</th>\n",
       "      <td>Desk</td>\n",
       "      <td>Furniture</td>\n",
       "      <td>C</td>\n",
       "      <td>450</td>\n",
       "      <td>3</td>\n",
       "      <td>0.00</td>\n",
       "    </tr>\n",
       "    <tr>\n",
       "      <th>3</th>\n",
       "      <td>Phone</td>\n",
       "      <td>Electronics</td>\n",
       "      <td>D</td>\n",
       "      <td>1400</td>\n",
       "      <td>2</td>\n",
       "      <td>0.15</td>\n",
       "    </tr>\n",
       "    <tr>\n",
       "      <th>4</th>\n",
       "      <td>Jacket</td>\n",
       "      <td>Clothing</td>\n",
       "      <td>E</td>\n",
       "      <td>120</td>\n",
       "      <td>10</td>\n",
       "      <td>0.20</td>\n",
       "    </tr>\n",
       "  </tbody>\n",
       "</table>\n",
       "</div>"
      ],
      "text/plain": [
       "     Item         Type Order_ID  Unit Price  Quantity  Discount\n",
       "0  Laptop  Electronics        A        2200         1      0.00\n",
       "1   Chair    Furniture        B         350         5      0.10\n",
       "2    Desk    Furniture        C         450         3      0.00\n",
       "3   Phone  Electronics        D        1400         2      0.15\n",
       "4  Jacket     Clothing        E         120        10      0.20"
      ]
     },
     "execution_count": 455,
     "metadata": {},
     "output_type": "execute_result"
    }
   ],
   "source": [
    "df_sales"
   ]
  },
  {
   "cell_type": "code",
   "execution_count": 464,
   "id": "49e1e58a-0fca-4327-b158-9eaf3229481a",
   "metadata": {},
   "outputs": [
    {
     "data": {
      "text/html": [
       "<div>\n",
       "<style scoped>\n",
       "    .dataframe tbody tr th:only-of-type {\n",
       "        vertical-align: middle;\n",
       "    }\n",
       "\n",
       "    .dataframe tbody tr th {\n",
       "        vertical-align: top;\n",
       "    }\n",
       "\n",
       "    .dataframe thead th {\n",
       "        text-align: right;\n",
       "    }\n",
       "</style>\n",
       "<table border=\"1\" class=\"dataframe\">\n",
       "  <thead>\n",
       "    <tr style=\"text-align: right;\">\n",
       "      <th></th>\n",
       "      <th>Item</th>\n",
       "      <th>Discount</th>\n",
       "    </tr>\n",
       "  </thead>\n",
       "  <tbody>\n",
       "    <tr>\n",
       "      <th>0</th>\n",
       "      <td>Laptop</td>\n",
       "      <td>0.00</td>\n",
       "    </tr>\n",
       "    <tr>\n",
       "      <th>1</th>\n",
       "      <td>Chair</td>\n",
       "      <td>0.10</td>\n",
       "    </tr>\n",
       "    <tr>\n",
       "      <th>2</th>\n",
       "      <td>Desk</td>\n",
       "      <td>0.00</td>\n",
       "    </tr>\n",
       "    <tr>\n",
       "      <th>3</th>\n",
       "      <td>Phone</td>\n",
       "      <td>0.15</td>\n",
       "    </tr>\n",
       "    <tr>\n",
       "      <th>4</th>\n",
       "      <td>Jacket</td>\n",
       "      <td>0.20</td>\n",
       "    </tr>\n",
       "  </tbody>\n",
       "</table>\n",
       "</div>"
      ],
      "text/plain": [
       "     Item  Discount\n",
       "0  Laptop      0.00\n",
       "1   Chair      0.10\n",
       "2    Desk      0.00\n",
       "3   Phone      0.15\n",
       "4  Jacket      0.20"
      ]
     },
     "execution_count": 464,
     "metadata": {},
     "output_type": "execute_result"
    }
   ],
   "source": [
    "# access multiple columns.\n",
    "# just give the names in a list\n",
    "df_sales[['Item','Discount']]\n"
   ]
  },
  {
   "cell_type": "markdown",
   "id": "07be6ca8-618b-4217-b660-8a22cf078d01",
   "metadata": {},
   "source": [
    "# change index"
   ]
  },
  {
   "cell_type": "code",
   "execution_count": 470,
   "id": "6a4b0746-2d8c-480d-b451-2f8665201091",
   "metadata": {},
   "outputs": [],
   "source": [
    "df_sales.index = df_sales['Order_ID']"
   ]
  },
  {
   "cell_type": "code",
   "execution_count": 472,
   "id": "986b3ee7-f681-4ddf-859d-f5820b027071",
   "metadata": {},
   "outputs": [
    {
     "data": {
      "text/html": [
       "<div>\n",
       "<style scoped>\n",
       "    .dataframe tbody tr th:only-of-type {\n",
       "        vertical-align: middle;\n",
       "    }\n",
       "\n",
       "    .dataframe tbody tr th {\n",
       "        vertical-align: top;\n",
       "    }\n",
       "\n",
       "    .dataframe thead th {\n",
       "        text-align: right;\n",
       "    }\n",
       "</style>\n",
       "<table border=\"1\" class=\"dataframe\">\n",
       "  <thead>\n",
       "    <tr style=\"text-align: right;\">\n",
       "      <th></th>\n",
       "      <th>Item</th>\n",
       "      <th>Type</th>\n",
       "      <th>Order_ID</th>\n",
       "      <th>Unit Price</th>\n",
       "      <th>Quantity</th>\n",
       "      <th>Discount</th>\n",
       "    </tr>\n",
       "    <tr>\n",
       "      <th>Order_ID</th>\n",
       "      <th></th>\n",
       "      <th></th>\n",
       "      <th></th>\n",
       "      <th></th>\n",
       "      <th></th>\n",
       "      <th></th>\n",
       "    </tr>\n",
       "  </thead>\n",
       "  <tbody>\n",
       "    <tr>\n",
       "      <th>A</th>\n",
       "      <td>Laptop</td>\n",
       "      <td>Electronics</td>\n",
       "      <td>A</td>\n",
       "      <td>2200</td>\n",
       "      <td>1</td>\n",
       "      <td>0.00</td>\n",
       "    </tr>\n",
       "    <tr>\n",
       "      <th>B</th>\n",
       "      <td>Chair</td>\n",
       "      <td>Furniture</td>\n",
       "      <td>B</td>\n",
       "      <td>350</td>\n",
       "      <td>5</td>\n",
       "      <td>0.10</td>\n",
       "    </tr>\n",
       "    <tr>\n",
       "      <th>C</th>\n",
       "      <td>Desk</td>\n",
       "      <td>Furniture</td>\n",
       "      <td>C</td>\n",
       "      <td>450</td>\n",
       "      <td>3</td>\n",
       "      <td>0.00</td>\n",
       "    </tr>\n",
       "    <tr>\n",
       "      <th>D</th>\n",
       "      <td>Phone</td>\n",
       "      <td>Electronics</td>\n",
       "      <td>D</td>\n",
       "      <td>1400</td>\n",
       "      <td>2</td>\n",
       "      <td>0.15</td>\n",
       "    </tr>\n",
       "    <tr>\n",
       "      <th>E</th>\n",
       "      <td>Jacket</td>\n",
       "      <td>Clothing</td>\n",
       "      <td>E</td>\n",
       "      <td>120</td>\n",
       "      <td>10</td>\n",
       "      <td>0.20</td>\n",
       "    </tr>\n",
       "  </tbody>\n",
       "</table>\n",
       "</div>"
      ],
      "text/plain": [
       "            Item         Type Order_ID  Unit Price  Quantity  Discount\n",
       "Order_ID                                                              \n",
       "A         Laptop  Electronics        A        2200         1      0.00\n",
       "B          Chair    Furniture        B         350         5      0.10\n",
       "C           Desk    Furniture        C         450         3      0.00\n",
       "D          Phone  Electronics        D        1400         2      0.15\n",
       "E         Jacket     Clothing        E         120        10      0.20"
      ]
     },
     "execution_count": 472,
     "metadata": {},
     "output_type": "execute_result"
    }
   ],
   "source": [
    "df_sales"
   ]
  },
  {
   "cell_type": "code",
   "execution_count": 478,
   "id": "102f42e9-c0fd-4ece-9833-a5d5b0eb6a08",
   "metadata": {},
   "outputs": [],
   "source": [
    "df_sales = df_sales.drop(columns = ['Order_ID'])"
   ]
  },
  {
   "cell_type": "code",
   "execution_count": 480,
   "id": "be6ca2c2-5466-4331-83cd-66b1d7257edb",
   "metadata": {},
   "outputs": [
    {
     "data": {
      "text/html": [
       "<div>\n",
       "<style scoped>\n",
       "    .dataframe tbody tr th:only-of-type {\n",
       "        vertical-align: middle;\n",
       "    }\n",
       "\n",
       "    .dataframe tbody tr th {\n",
       "        vertical-align: top;\n",
       "    }\n",
       "\n",
       "    .dataframe thead th {\n",
       "        text-align: right;\n",
       "    }\n",
       "</style>\n",
       "<table border=\"1\" class=\"dataframe\">\n",
       "  <thead>\n",
       "    <tr style=\"text-align: right;\">\n",
       "      <th></th>\n",
       "      <th>Item</th>\n",
       "      <th>Type</th>\n",
       "      <th>Unit Price</th>\n",
       "      <th>Quantity</th>\n",
       "      <th>Discount</th>\n",
       "    </tr>\n",
       "    <tr>\n",
       "      <th>Order_ID</th>\n",
       "      <th></th>\n",
       "      <th></th>\n",
       "      <th></th>\n",
       "      <th></th>\n",
       "      <th></th>\n",
       "    </tr>\n",
       "  </thead>\n",
       "  <tbody>\n",
       "    <tr>\n",
       "      <th>A</th>\n",
       "      <td>Laptop</td>\n",
       "      <td>Electronics</td>\n",
       "      <td>2200</td>\n",
       "      <td>1</td>\n",
       "      <td>0.00</td>\n",
       "    </tr>\n",
       "    <tr>\n",
       "      <th>B</th>\n",
       "      <td>Chair</td>\n",
       "      <td>Furniture</td>\n",
       "      <td>350</td>\n",
       "      <td>5</td>\n",
       "      <td>0.10</td>\n",
       "    </tr>\n",
       "    <tr>\n",
       "      <th>C</th>\n",
       "      <td>Desk</td>\n",
       "      <td>Furniture</td>\n",
       "      <td>450</td>\n",
       "      <td>3</td>\n",
       "      <td>0.00</td>\n",
       "    </tr>\n",
       "    <tr>\n",
       "      <th>D</th>\n",
       "      <td>Phone</td>\n",
       "      <td>Electronics</td>\n",
       "      <td>1400</td>\n",
       "      <td>2</td>\n",
       "      <td>0.15</td>\n",
       "    </tr>\n",
       "    <tr>\n",
       "      <th>E</th>\n",
       "      <td>Jacket</td>\n",
       "      <td>Clothing</td>\n",
       "      <td>120</td>\n",
       "      <td>10</td>\n",
       "      <td>0.20</td>\n",
       "    </tr>\n",
       "  </tbody>\n",
       "</table>\n",
       "</div>"
      ],
      "text/plain": [
       "            Item         Type  Unit Price  Quantity  Discount\n",
       "Order_ID                                                     \n",
       "A         Laptop  Electronics        2200         1      0.00\n",
       "B          Chair    Furniture         350         5      0.10\n",
       "C           Desk    Furniture         450         3      0.00\n",
       "D          Phone  Electronics        1400         2      0.15\n",
       "E         Jacket     Clothing         120        10      0.20"
      ]
     },
     "execution_count": 480,
     "metadata": {},
     "output_type": "execute_result"
    }
   ],
   "source": [
    "df_sales"
   ]
  },
  {
   "cell_type": "code",
   "execution_count": null,
   "id": "9b5de1b1-e7f9-4c54-b47f-32fca45fdbe2",
   "metadata": {},
   "outputs": [],
   "source": []
  },
  {
   "cell_type": "markdown",
   "id": "be203334-5a85-470d-8b07-fc9a63dd8112",
   "metadata": {},
   "source": [
    "# access rows\n",
    "## use `loc[]` or `iloc[]`"
   ]
  },
  {
   "cell_type": "code",
   "execution_count": 484,
   "id": "5a392a6f-632d-448b-bfaa-b9c3f4b68186",
   "metadata": {},
   "outputs": [
    {
     "data": {
      "text/html": [
       "<div>\n",
       "<style scoped>\n",
       "    .dataframe tbody tr th:only-of-type {\n",
       "        vertical-align: middle;\n",
       "    }\n",
       "\n",
       "    .dataframe tbody tr th {\n",
       "        vertical-align: top;\n",
       "    }\n",
       "\n",
       "    .dataframe thead th {\n",
       "        text-align: right;\n",
       "    }\n",
       "</style>\n",
       "<table border=\"1\" class=\"dataframe\">\n",
       "  <thead>\n",
       "    <tr style=\"text-align: right;\">\n",
       "      <th></th>\n",
       "      <th>Item</th>\n",
       "      <th>Type</th>\n",
       "      <th>Unit Price</th>\n",
       "      <th>Quantity</th>\n",
       "      <th>Discount</th>\n",
       "    </tr>\n",
       "    <tr>\n",
       "      <th>Order_ID</th>\n",
       "      <th></th>\n",
       "      <th></th>\n",
       "      <th></th>\n",
       "      <th></th>\n",
       "      <th></th>\n",
       "    </tr>\n",
       "  </thead>\n",
       "  <tbody>\n",
       "    <tr>\n",
       "      <th>A</th>\n",
       "      <td>Laptop</td>\n",
       "      <td>Electronics</td>\n",
       "      <td>2200</td>\n",
       "      <td>1</td>\n",
       "      <td>0.00</td>\n",
       "    </tr>\n",
       "    <tr>\n",
       "      <th>B</th>\n",
       "      <td>Chair</td>\n",
       "      <td>Furniture</td>\n",
       "      <td>350</td>\n",
       "      <td>5</td>\n",
       "      <td>0.10</td>\n",
       "    </tr>\n",
       "    <tr>\n",
       "      <th>C</th>\n",
       "      <td>Desk</td>\n",
       "      <td>Furniture</td>\n",
       "      <td>450</td>\n",
       "      <td>3</td>\n",
       "      <td>0.00</td>\n",
       "    </tr>\n",
       "    <tr>\n",
       "      <th>D</th>\n",
       "      <td>Phone</td>\n",
       "      <td>Electronics</td>\n",
       "      <td>1400</td>\n",
       "      <td>2</td>\n",
       "      <td>0.15</td>\n",
       "    </tr>\n",
       "    <tr>\n",
       "      <th>E</th>\n",
       "      <td>Jacket</td>\n",
       "      <td>Clothing</td>\n",
       "      <td>120</td>\n",
       "      <td>10</td>\n",
       "      <td>0.20</td>\n",
       "    </tr>\n",
       "  </tbody>\n",
       "</table>\n",
       "</div>"
      ],
      "text/plain": [
       "            Item         Type  Unit Price  Quantity  Discount\n",
       "Order_ID                                                     \n",
       "A         Laptop  Electronics        2200         1      0.00\n",
       "B          Chair    Furniture         350         5      0.10\n",
       "C           Desk    Furniture         450         3      0.00\n",
       "D          Phone  Electronics        1400         2      0.15\n",
       "E         Jacket     Clothing         120        10      0.20"
      ]
     },
     "execution_count": 484,
     "metadata": {},
     "output_type": "execute_result"
    }
   ],
   "source": [
    "df_sales"
   ]
  },
  {
   "cell_type": "code",
   "execution_count": 494,
   "id": "62ea5c7c-1094-40a1-a8bc-062659c523d9",
   "metadata": {},
   "outputs": [
    {
     "data": {
      "text/html": [
       "<div>\n",
       "<style scoped>\n",
       "    .dataframe tbody tr th:only-of-type {\n",
       "        vertical-align: middle;\n",
       "    }\n",
       "\n",
       "    .dataframe tbody tr th {\n",
       "        vertical-align: top;\n",
       "    }\n",
       "\n",
       "    .dataframe thead th {\n",
       "        text-align: right;\n",
       "    }\n",
       "</style>\n",
       "<table border=\"1\" class=\"dataframe\">\n",
       "  <thead>\n",
       "    <tr style=\"text-align: right;\">\n",
       "      <th></th>\n",
       "      <th>Item</th>\n",
       "      <th>Type</th>\n",
       "      <th>Unit Price</th>\n",
       "      <th>Quantity</th>\n",
       "      <th>Discount</th>\n",
       "    </tr>\n",
       "    <tr>\n",
       "      <th>Order_ID</th>\n",
       "      <th></th>\n",
       "      <th></th>\n",
       "      <th></th>\n",
       "      <th></th>\n",
       "      <th></th>\n",
       "    </tr>\n",
       "  </thead>\n",
       "  <tbody>\n",
       "    <tr>\n",
       "      <th>A</th>\n",
       "      <td>Laptop</td>\n",
       "      <td>Electronics</td>\n",
       "      <td>2200</td>\n",
       "      <td>1</td>\n",
       "      <td>0.0</td>\n",
       "    </tr>\n",
       "  </tbody>\n",
       "</table>\n",
       "</div>"
      ],
      "text/plain": [
       "            Item         Type  Unit Price  Quantity  Discount\n",
       "Order_ID                                                     \n",
       "A         Laptop  Electronics        2200         1       0.0"
      ]
     },
     "execution_count": 494,
     "metadata": {},
     "output_type": "execute_result"
    }
   ],
   "source": [
    "# .loc[] is NOT a function\n",
    "df_sales.loc[['A']]"
   ]
  },
  {
   "cell_type": "code",
   "execution_count": 490,
   "id": "63b2f961-d9aa-41e3-82b1-d74175cb7e43",
   "metadata": {},
   "outputs": [
    {
     "data": {
      "text/html": [
       "<div>\n",
       "<style scoped>\n",
       "    .dataframe tbody tr th:only-of-type {\n",
       "        vertical-align: middle;\n",
       "    }\n",
       "\n",
       "    .dataframe tbody tr th {\n",
       "        vertical-align: top;\n",
       "    }\n",
       "\n",
       "    .dataframe thead th {\n",
       "        text-align: right;\n",
       "    }\n",
       "</style>\n",
       "<table border=\"1\" class=\"dataframe\">\n",
       "  <thead>\n",
       "    <tr style=\"text-align: right;\">\n",
       "      <th></th>\n",
       "      <th>Item</th>\n",
       "      <th>Type</th>\n",
       "      <th>Unit Price</th>\n",
       "      <th>Quantity</th>\n",
       "      <th>Discount</th>\n",
       "    </tr>\n",
       "    <tr>\n",
       "      <th>Order_ID</th>\n",
       "      <th></th>\n",
       "      <th></th>\n",
       "      <th></th>\n",
       "      <th></th>\n",
       "      <th></th>\n",
       "    </tr>\n",
       "  </thead>\n",
       "  <tbody>\n",
       "    <tr>\n",
       "      <th>A</th>\n",
       "      <td>Laptop</td>\n",
       "      <td>Electronics</td>\n",
       "      <td>2200</td>\n",
       "      <td>1</td>\n",
       "      <td>0.0</td>\n",
       "    </tr>\n",
       "    <tr>\n",
       "      <th>B</th>\n",
       "      <td>Chair</td>\n",
       "      <td>Furniture</td>\n",
       "      <td>350</td>\n",
       "      <td>5</td>\n",
       "      <td>0.1</td>\n",
       "    </tr>\n",
       "  </tbody>\n",
       "</table>\n",
       "</div>"
      ],
      "text/plain": [
       "            Item         Type  Unit Price  Quantity  Discount\n",
       "Order_ID                                                     \n",
       "A         Laptop  Electronics        2200         1       0.0\n",
       "B          Chair    Furniture         350         5       0.1"
      ]
     },
     "execution_count": 490,
     "metadata": {},
     "output_type": "execute_result"
    }
   ],
   "source": [
    "df_sales.loc[['A','B']]"
   ]
  },
  {
   "cell_type": "code",
   "execution_count": 500,
   "id": "6244c996-612d-48ba-832f-927b220fc0bd",
   "metadata": {},
   "outputs": [
    {
     "data": {
      "text/html": [
       "<div>\n",
       "<style scoped>\n",
       "    .dataframe tbody tr th:only-of-type {\n",
       "        vertical-align: middle;\n",
       "    }\n",
       "\n",
       "    .dataframe tbody tr th {\n",
       "        vertical-align: top;\n",
       "    }\n",
       "\n",
       "    .dataframe thead th {\n",
       "        text-align: right;\n",
       "    }\n",
       "</style>\n",
       "<table border=\"1\" class=\"dataframe\">\n",
       "  <thead>\n",
       "    <tr style=\"text-align: right;\">\n",
       "      <th></th>\n",
       "      <th>Item</th>\n",
       "      <th>Type</th>\n",
       "      <th>Unit Price</th>\n",
       "      <th>Quantity</th>\n",
       "      <th>Discount</th>\n",
       "    </tr>\n",
       "    <tr>\n",
       "      <th>Order_ID</th>\n",
       "      <th></th>\n",
       "      <th></th>\n",
       "      <th></th>\n",
       "      <th></th>\n",
       "      <th></th>\n",
       "    </tr>\n",
       "  </thead>\n",
       "  <tbody>\n",
       "    <tr>\n",
       "      <th>A</th>\n",
       "      <td>Laptop</td>\n",
       "      <td>Electronics</td>\n",
       "      <td>2200</td>\n",
       "      <td>1</td>\n",
       "      <td>0.00</td>\n",
       "    </tr>\n",
       "    <tr>\n",
       "      <th>B</th>\n",
       "      <td>Chair</td>\n",
       "      <td>Furniture</td>\n",
       "      <td>350</td>\n",
       "      <td>5</td>\n",
       "      <td>0.10</td>\n",
       "    </tr>\n",
       "    <tr>\n",
       "      <th>C</th>\n",
       "      <td>Desk</td>\n",
       "      <td>Furniture</td>\n",
       "      <td>450</td>\n",
       "      <td>3</td>\n",
       "      <td>0.00</td>\n",
       "    </tr>\n",
       "    <tr>\n",
       "      <th>D</th>\n",
       "      <td>Phone</td>\n",
       "      <td>Electronics</td>\n",
       "      <td>1400</td>\n",
       "      <td>2</td>\n",
       "      <td>0.15</td>\n",
       "    </tr>\n",
       "    <tr>\n",
       "      <th>E</th>\n",
       "      <td>Jacket</td>\n",
       "      <td>Clothing</td>\n",
       "      <td>120</td>\n",
       "      <td>10</td>\n",
       "      <td>0.20</td>\n",
       "    </tr>\n",
       "  </tbody>\n",
       "</table>\n",
       "</div>"
      ],
      "text/plain": [
       "            Item         Type  Unit Price  Quantity  Discount\n",
       "Order_ID                                                     \n",
       "A         Laptop  Electronics        2200         1      0.00\n",
       "B          Chair    Furniture         350         5      0.10\n",
       "C           Desk    Furniture         450         3      0.00\n",
       "D          Phone  Electronics        1400         2      0.15\n",
       "E         Jacket     Clothing         120        10      0.20"
      ]
     },
     "execution_count": 500,
     "metadata": {},
     "output_type": "execute_result"
    }
   ],
   "source": [
    "# boolean indexing works EXCATLY the same way\n",
    "# how many orders have quantity more than or equal to 3\n",
    "df_sales"
   ]
  },
  {
   "cell_type": "code",
   "execution_count": 516,
   "id": "2b43d16f-6894-4f7b-b0bf-d501c9d715cd",
   "metadata": {},
   "outputs": [
    {
     "data": {
      "text/plain": [
       "Order_ID\n",
       "A    False\n",
       "B     True\n",
       "C     True\n",
       "D    False\n",
       "E     True\n",
       "Name: Quantity, dtype: bool"
      ]
     },
     "execution_count": 516,
     "metadata": {},
     "output_type": "execute_result"
    }
   ],
   "source": [
    "df_sales['Quantity'].ge(3)"
   ]
  },
  {
   "cell_type": "code",
   "execution_count": 518,
   "id": "9f1aaaed-a2f5-48df-8ae1-ae2d8c23fd67",
   "metadata": {},
   "outputs": [
    {
     "data": {
      "text/plain": [
       "3"
      ]
     },
     "execution_count": 518,
     "metadata": {},
     "output_type": "execute_result"
    }
   ],
   "source": [
    "df_sales['Quantity'].ge(3).sum()  # chaining: @@.@@.@@()"
   ]
  },
  {
   "cell_type": "markdown",
   "id": "b148d3d1-df14-4528-9df7-2122dc635176",
   "metadata": {},
   "source": [
    "# please read\n",
    "## drop\n",
    "## boolean indexing\n",
    "## rename vs. replace\n",
    "## describe()"
   ]
  },
  {
   "cell_type": "code",
   "execution_count": 523,
   "id": "a3170822-6f30-457b-991a-45fed79878ea",
   "metadata": {},
   "outputs": [
    {
     "data": {
      "text/html": [
       "<div>\n",
       "<style scoped>\n",
       "    .dataframe tbody tr th:only-of-type {\n",
       "        vertical-align: middle;\n",
       "    }\n",
       "\n",
       "    .dataframe tbody tr th {\n",
       "        vertical-align: top;\n",
       "    }\n",
       "\n",
       "    .dataframe thead th {\n",
       "        text-align: right;\n",
       "    }\n",
       "</style>\n",
       "<table border=\"1\" class=\"dataframe\">\n",
       "  <thead>\n",
       "    <tr style=\"text-align: right;\">\n",
       "      <th></th>\n",
       "      <th>Unit Price</th>\n",
       "      <th>Quantity</th>\n",
       "      <th>Discount</th>\n",
       "    </tr>\n",
       "  </thead>\n",
       "  <tbody>\n",
       "    <tr>\n",
       "      <th>count</th>\n",
       "      <td>5.00</td>\n",
       "      <td>5.00</td>\n",
       "      <td>5.00</td>\n",
       "    </tr>\n",
       "    <tr>\n",
       "      <th>mean</th>\n",
       "      <td>904.00</td>\n",
       "      <td>4.20</td>\n",
       "      <td>0.09</td>\n",
       "    </tr>\n",
       "    <tr>\n",
       "      <th>std</th>\n",
       "      <td>873.69</td>\n",
       "      <td>3.56</td>\n",
       "      <td>0.09</td>\n",
       "    </tr>\n",
       "    <tr>\n",
       "      <th>min</th>\n",
       "      <td>120.00</td>\n",
       "      <td>1.00</td>\n",
       "      <td>0.00</td>\n",
       "    </tr>\n",
       "    <tr>\n",
       "      <th>25%</th>\n",
       "      <td>350.00</td>\n",
       "      <td>2.00</td>\n",
       "      <td>0.00</td>\n",
       "    </tr>\n",
       "    <tr>\n",
       "      <th>50%</th>\n",
       "      <td>450.00</td>\n",
       "      <td>3.00</td>\n",
       "      <td>0.10</td>\n",
       "    </tr>\n",
       "    <tr>\n",
       "      <th>75%</th>\n",
       "      <td>1400.00</td>\n",
       "      <td>5.00</td>\n",
       "      <td>0.15</td>\n",
       "    </tr>\n",
       "    <tr>\n",
       "      <th>max</th>\n",
       "      <td>2200.00</td>\n",
       "      <td>10.00</td>\n",
       "      <td>0.20</td>\n",
       "    </tr>\n",
       "  </tbody>\n",
       "</table>\n",
       "</div>"
      ],
      "text/plain": [
       "       Unit Price  Quantity  Discount\n",
       "count        5.00      5.00      5.00\n",
       "mean       904.00      4.20      0.09\n",
       "std        873.69      3.56      0.09\n",
       "min        120.00      1.00      0.00\n",
       "25%        350.00      2.00      0.00\n",
       "50%        450.00      3.00      0.10\n",
       "75%       1400.00      5.00      0.15\n",
       "max       2200.00     10.00      0.20"
      ]
     },
     "execution_count": 523,
     "metadata": {},
     "output_type": "execute_result"
    }
   ],
   "source": [
    "# only give numerical columns\n",
    "df_sales.describe()"
   ]
  },
  {
   "cell_type": "code",
   "execution_count": 527,
   "id": "bb187068-7782-4113-bda3-9203ad7b3c8d",
   "metadata": {},
   "outputs": [
    {
     "data": {
      "text/html": [
       "<div>\n",
       "<style scoped>\n",
       "    .dataframe tbody tr th:only-of-type {\n",
       "        vertical-align: middle;\n",
       "    }\n",
       "\n",
       "    .dataframe tbody tr th {\n",
       "        vertical-align: top;\n",
       "    }\n",
       "\n",
       "    .dataframe thead th {\n",
       "        text-align: right;\n",
       "    }\n",
       "</style>\n",
       "<table border=\"1\" class=\"dataframe\">\n",
       "  <thead>\n",
       "    <tr style=\"text-align: right;\">\n",
       "      <th></th>\n",
       "      <th>Item</th>\n",
       "      <th>Type</th>\n",
       "      <th>Unit Price</th>\n",
       "      <th>Quantity</th>\n",
       "      <th>Discount</th>\n",
       "    </tr>\n",
       "  </thead>\n",
       "  <tbody>\n",
       "    <tr>\n",
       "      <th>count</th>\n",
       "      <td>5</td>\n",
       "      <td>5</td>\n",
       "      <td>5.00</td>\n",
       "      <td>5.00</td>\n",
       "      <td>5.00</td>\n",
       "    </tr>\n",
       "    <tr>\n",
       "      <th>unique</th>\n",
       "      <td>5</td>\n",
       "      <td>3</td>\n",
       "      <td>NaN</td>\n",
       "      <td>NaN</td>\n",
       "      <td>NaN</td>\n",
       "    </tr>\n",
       "    <tr>\n",
       "      <th>top</th>\n",
       "      <td>Laptop</td>\n",
       "      <td>Electronics</td>\n",
       "      <td>NaN</td>\n",
       "      <td>NaN</td>\n",
       "      <td>NaN</td>\n",
       "    </tr>\n",
       "    <tr>\n",
       "      <th>freq</th>\n",
       "      <td>1</td>\n",
       "      <td>2</td>\n",
       "      <td>NaN</td>\n",
       "      <td>NaN</td>\n",
       "      <td>NaN</td>\n",
       "    </tr>\n",
       "    <tr>\n",
       "      <th>mean</th>\n",
       "      <td>NaN</td>\n",
       "      <td>NaN</td>\n",
       "      <td>904.00</td>\n",
       "      <td>4.20</td>\n",
       "      <td>0.09</td>\n",
       "    </tr>\n",
       "    <tr>\n",
       "      <th>std</th>\n",
       "      <td>NaN</td>\n",
       "      <td>NaN</td>\n",
       "      <td>873.69</td>\n",
       "      <td>3.56</td>\n",
       "      <td>0.09</td>\n",
       "    </tr>\n",
       "    <tr>\n",
       "      <th>min</th>\n",
       "      <td>NaN</td>\n",
       "      <td>NaN</td>\n",
       "      <td>120.00</td>\n",
       "      <td>1.00</td>\n",
       "      <td>0.00</td>\n",
       "    </tr>\n",
       "    <tr>\n",
       "      <th>25%</th>\n",
       "      <td>NaN</td>\n",
       "      <td>NaN</td>\n",
       "      <td>350.00</td>\n",
       "      <td>2.00</td>\n",
       "      <td>0.00</td>\n",
       "    </tr>\n",
       "    <tr>\n",
       "      <th>50%</th>\n",
       "      <td>NaN</td>\n",
       "      <td>NaN</td>\n",
       "      <td>450.00</td>\n",
       "      <td>3.00</td>\n",
       "      <td>0.10</td>\n",
       "    </tr>\n",
       "    <tr>\n",
       "      <th>75%</th>\n",
       "      <td>NaN</td>\n",
       "      <td>NaN</td>\n",
       "      <td>1400.00</td>\n",
       "      <td>5.00</td>\n",
       "      <td>0.15</td>\n",
       "    </tr>\n",
       "    <tr>\n",
       "      <th>max</th>\n",
       "      <td>NaN</td>\n",
       "      <td>NaN</td>\n",
       "      <td>2200.00</td>\n",
       "      <td>10.00</td>\n",
       "      <td>0.20</td>\n",
       "    </tr>\n",
       "  </tbody>\n",
       "</table>\n",
       "</div>"
      ],
      "text/plain": [
       "          Item         Type  Unit Price  Quantity  Discount\n",
       "count        5            5        5.00      5.00      5.00\n",
       "unique       5            3         NaN       NaN       NaN\n",
       "top     Laptop  Electronics         NaN       NaN       NaN\n",
       "freq         1            2         NaN       NaN       NaN\n",
       "mean       NaN          NaN      904.00      4.20      0.09\n",
       "std        NaN          NaN      873.69      3.56      0.09\n",
       "min        NaN          NaN      120.00      1.00      0.00\n",
       "25%        NaN          NaN      350.00      2.00      0.00\n",
       "50%        NaN          NaN      450.00      3.00      0.10\n",
       "75%        NaN          NaN     1400.00      5.00      0.15\n",
       "max        NaN          NaN     2200.00     10.00      0.20"
      ]
     },
     "execution_count": 527,
     "metadata": {},
     "output_type": "execute_result"
    }
   ],
   "source": [
    "df_sales.describe(include='all')\n",
    "# top sale type electronics"
   ]
  },
  {
   "cell_type": "code",
   "execution_count": null,
   "id": "ed826990-7edd-48ab-b390-d028d29b344e",
   "metadata": {},
   "outputs": [],
   "source": []
  }
 ],
 "metadata": {
  "kernelspec": {
   "display_name": "Python 3 (ipykernel)",
   "language": "python",
   "name": "python3"
  },
  "language_info": {
   "codemirror_mode": {
    "name": "ipython",
    "version": 3
   },
   "file_extension": ".py",
   "mimetype": "text/x-python",
   "name": "python",
   "nbconvert_exporter": "python",
   "pygments_lexer": "ipython3",
   "version": "3.12.4"
  }
 },
 "nbformat": 4,
 "nbformat_minor": 5
}
