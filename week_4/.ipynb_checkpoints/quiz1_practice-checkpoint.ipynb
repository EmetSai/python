{
 "cells": [
  {
   "cell_type": "code",
   "execution_count": 3,
   "id": "d9df6fc0-05a2-4f68-ae0b-7fdb5c8b1bd7",
   "metadata": {},
   "outputs": [
    {
     "name": "stdout",
     "output_type": "stream",
     "text": [
      "56\n"
     ]
    }
   ],
   "source": [
    "#1\n",
    "print(7*8)"
   ]
  },
  {
   "cell_type": "code",
   "execution_count": 5,
   "id": "4abff3c0-cc1a-4191-b40a-bf62816f319b",
   "metadata": {},
   "outputs": [
    {
     "name": "stdout",
     "output_type": "stream",
     "text": [
      "1\n"
     ]
    }
   ],
   "source": [
    "#2\n",
    "print(10%3)"
   ]
  },
  {
   "cell_type": "code",
   "execution_count": 12,
   "id": "25394b16-889c-41bf-88c0-1227c2b144b3",
   "metadata": {},
   "outputs": [
    {
     "name": "stdout",
     "output_type": "stream",
     "text": [
      "5 is odd\n"
     ]
    }
   ],
   "source": [
    "#3\n",
    "if 5%2 == 0:\n",
    "    print('5 is even')\n",
    "else:\n",
    "    print('5 is odd')"
   ]
  },
  {
   "cell_type": "code",
   "execution_count": 32,
   "id": "5b6412ec-aed5-49ea-adc2-1e49694ec193",
   "metadata": {},
   "outputs": [
    {
     "name": "stdout",
     "output_type": "stream",
     "text": [
      "4.0\n"
     ]
    }
   ],
   "source": [
    "#4\n",
    "import math\n",
    "print(math.sqrt(16))"
   ]
  },
  {
   "cell_type": "code",
   "execution_count": 34,
   "id": "cb4f83bf-13b4-42b6-8fcd-37f5a9caf5c9",
   "metadata": {},
   "outputs": [
    {
     "name": "stdout",
     "output_type": "stream",
     "text": [
      "78.53981633974483\n"
     ]
    }
   ],
   "source": [
    "#5\n",
    "print(math.pi*5**2)"
   ]
  },
  {
   "cell_type": "code",
   "execution_count": 36,
   "id": "db8cca66-bd8f-4f0c-b545-c30637902dec",
   "metadata": {},
   "outputs": [
    {
     "name": "stdout",
     "output_type": "stream",
     "text": [
      "25.0\n"
     ]
    }
   ],
   "source": [
    "#6\n",
    "print(10*5/2)"
   ]
  },
  {
   "cell_type": "code",
   "execution_count": 39,
   "id": "33b59fd4-ae21-4d17-a998-2c91cceaec9f",
   "metadata": {},
   "outputs": [
    {
     "name": "stdout",
     "output_type": "stream",
     "text": [
      "12\n"
     ]
    }
   ],
   "source": [
    "#7\n",
    "print(len('Hello, BARM!'))"
   ]
  },
  {
   "cell_type": "code",
   "execution_count": 52,
   "id": "7f43ea01-29c4-48a3-ac53-22241bcc655b",
   "metadata": {},
   "outputs": [
    {
     "name": "stdout",
     "output_type": "stream",
     "text": [
      "BUSINESS\n"
     ]
    }
   ],
   "source": [
    "#8\n",
    "print(('Business').upper())"
   ]
  },
  {
   "cell_type": "code",
   "execution_count": 54,
   "id": "0db64805-8c27-478c-9a92-804d92cb101c",
   "metadata": {},
   "outputs": [
    {
     "name": "stdout",
     "output_type": "stream",
     "text": [
      "python\n"
     ]
    }
   ],
   "source": [
    "#9\n",
    "print(('PYTHON').lower())"
   ]
  },
  {
   "cell_type": "code",
   "execution_count": 61,
   "id": "42c74ad4-fe62-4d22-b425-76fe084260e0",
   "metadata": {},
   "outputs": [
    {
     "name": "stdout",
     "output_type": "stream",
     "text": [
      "True\n"
     ]
    }
   ],
   "source": [
    "#10\n",
    "s = \"12345\"\n",
    "print(s.isdigit())"
   ]
  },
  {
   "cell_type": "code",
   "execution_count": 74,
   "id": "6f63cdb8-55af-4e03-993a-522b4f5bafd7",
   "metadata": {},
   "outputs": [
    {
     "name": "stdout",
     "output_type": "stream",
     "text": [
      "7\n"
     ]
    }
   ],
   "source": [
    "#11\n",
    "s = 'I love python programming in Python'\n",
    "print(s.lower().find('python'))"
   ]
  },
  {
   "cell_type": "code",
   "execution_count": 80,
   "id": "85be9152-faa9-404d-b2e7-c60664a78df0",
   "metadata": {},
   "outputs": [
    {
     "name": "stdout",
     "output_type": "stream",
     "text": [
      "b@n@n@\n"
     ]
    }
   ],
   "source": [
    "#12\n",
    "s = 'banana'\n",
    "print(s.replace('a', '@'))"
   ]
  },
  {
   "cell_type": "code",
   "execution_count": 84,
   "id": "6d63017f-21dd-4747-a3c4-ce85f3d93019",
   "metadata": {},
   "outputs": [
    {
     "name": "stdout",
     "output_type": "stream",
     "text": [
      "is palindrome\n"
     ]
    }
   ],
   "source": [
    "#13\n",
    "s = 'radar'\n",
    "if s == s[::-1]:\n",
    "    print('is palindrome')\n",
    "else:\n",
    "    print('not palindrome')\n",
    "#s[::-1]"
   ]
  },
  {
   "cell_type": "code",
   "execution_count": 87,
   "id": "fc300782-f074-482e-a919-c32ae9b5b6ea",
   "metadata": {},
   "outputs": [
    {
     "name": "stdout",
     "output_type": "stream",
     "text": [
      "nohtyp\n"
     ]
    }
   ],
   "source": [
    "#14\n",
    "s = 'python'\n",
    "print(s[::-1])"
   ]
  },
  {
   "cell_type": "code",
   "execution_count": 97,
   "id": "6a91e8f4-387c-4a77-8068-0e256040ee65",
   "metadata": {},
   "outputs": [
    {
     "name": "stdout",
     "output_type": "stream",
     "text": [
      "JHU.EDU\n"
     ]
    }
   ],
   "source": [
    "#15\n",
    "s = '123@jhu.edu'\n",
    "s1 = s[-7:]\n",
    "print(s1.upper())"
   ]
  },
  {
   "cell_type": "code",
   "execution_count": 129,
   "id": "786c5535-54dd-4036-90e8-f69513bc8ca1",
   "metadata": {},
   "outputs": [
    {
     "name": "stdout",
     "output_type": "stream",
     "text": [
      "python\n",
      "python\n"
     ]
    }
   ],
   "source": [
    "#16\n",
    "s = 'World of python java c rubi julia'\n",
    "list1 = s.split()\n",
    "max_length = 0\n",
    "for i in list1:\n",
    "    if len(i)>max_length:\n",
    "        longest = i\n",
    "        max_length = len(i)\n",
    "print(longest)\n",
    "print(max(list1, key=len))"
   ]
  },
  {
   "cell_type": "code",
   "execution_count": 140,
   "id": "afd79dea-23fe-4786-ba93-620452fb3450",
   "metadata": {},
   "outputs": [
    {
     "data": {
      "text/plain": [
       "['python', 'for', 'data', 'analysis', 'analytics', 'business']"
      ]
     },
     "execution_count": 140,
     "metadata": {},
     "output_type": "execute_result"
    }
   ],
   "source": [
    "#17\n",
    "s = 'Python for Data Analysis, Data Analytics, Business Analytics'\n",
    "def func_(s):\n",
    "    s = s.lower()\n",
    "    s = s.replace(',', '')\n",
    "    list_ = s.split()\n",
    "    word = []\n",
    "    for i in list_:\n",
    "        if i not in word:\n",
    "            word.append(i)\n",
    "    return word\n",
    "func_(s)"
   ]
  },
  {
   "cell_type": "code",
   "execution_count": 154,
   "id": "0e509c1a-3164-4fa8-8bcf-ac2a92ff631e",
   "metadata": {},
   "outputs": [
    {
     "name": "stdout",
     "output_type": "stream",
     "text": [
      "5\n"
     ]
    }
   ],
   "source": [
    "#18\n",
    "list1 = [1,2,3,4,5]\n",
    "print(len(list1))"
   ]
  },
  {
   "cell_type": "code",
   "execution_count": 434,
   "id": "3687ba1f-eb3b-4cbc-b764-271e32e8087e",
   "metadata": {},
   "outputs": [
    {
     "name": "stdout",
     "output_type": "stream",
     "text": [
      "[1, 2, 3, 4, 5, 6]\n",
      "[1, 2, 3, 4, 5]\n"
     ]
    }
   ],
   "source": [
    "#19\n",
    "list1 = [1,2,3,4,5]\n",
    "list1.append(6)\n",
    "print(list1)\n",
    "list1.remove(list1[-1])\n",
    "print(list1)\n"
   ]
  },
  {
   "cell_type": "code",
   "execution_count": 436,
   "id": "696fac40-3cec-45dc-874e-fb1e076c07a9",
   "metadata": {},
   "outputs": [
    {
     "name": "stdout",
     "output_type": "stream",
     "text": [
      "[1, 2, 0, 3, 4, 5]\n",
      "3\n"
     ]
    }
   ],
   "source": [
    "#20\n",
    "list1 = [1,2,3,4,5]\n",
    "list1.insert(2,0)\n",
    "print(list1)\n",
    "print(list1.index(3))\n"
   ]
  },
  {
   "cell_type": "code",
   "execution_count": 174,
   "id": "1f9f0312-38ef-4c6f-834e-c5cb51478fd6",
   "metadata": {},
   "outputs": [
    {
     "name": "stdout",
     "output_type": "stream",
     "text": [
      "[1, 2, 3, 4]\n"
     ]
    }
   ],
   "source": [
    "#21\n",
    "list1 = [1,2,3,4,5]\n",
    "list1.remove(list1[-1])\n",
    "print(list1)"
   ]
  },
  {
   "cell_type": "code",
   "execution_count": 176,
   "id": "b48f2b7e-3039-4e91-995e-4abd6e7623c0",
   "metadata": {},
   "outputs": [
    {
     "name": "stdout",
     "output_type": "stream",
     "text": [
      "9\n",
      "1\n"
     ]
    }
   ],
   "source": [
    "#22\n",
    "list2 = [3,1,4,1,5,9,2,6]\n",
    "print(max(list2))\n",
    "print(min(list2))"
   ]
  },
  {
   "cell_type": "code",
   "execution_count": 438,
   "id": "5623257f-294e-4fb8-8333-6451e940366f",
   "metadata": {},
   "outputs": [
    {
     "name": "stdout",
     "output_type": "stream",
     "text": [
      "2\n"
     ]
    },
    {
     "data": {
      "text/plain": [
       "2"
      ]
     },
     "execution_count": 438,
     "metadata": {},
     "output_type": "execute_result"
    }
   ],
   "source": [
    "#23\n",
    "list3 = [1,2,3,4,3,5]\n",
    "print(list3.index(3))\n",
    "list3.count(3)"
   ]
  },
  {
   "cell_type": "code",
   "execution_count": 193,
   "id": "dddaa547-688c-4812-a502-c9a0b0a82917",
   "metadata": {},
   "outputs": [
    {
     "name": "stdout",
     "output_type": "stream",
     "text": [
      "2\n"
     ]
    }
   ],
   "source": [
    "#24\n",
    "list3 = [1,2,3,4,3,5]\n",
    "print(list3.count(3))"
   ]
  },
  {
   "cell_type": "code",
   "execution_count": 443,
   "id": "88cd3cd4-678b-4855-bc2e-9e42422a0d3e",
   "metadata": {},
   "outputs": [
    {
     "name": "stdout",
     "output_type": "stream",
     "text": [
      "[1, 1, 2, 3, 4, 5, 6, 9]\n"
     ]
    }
   ],
   "source": [
    "#25\n",
    "list4 = [3,1,4,1,5,9,2,6]\n",
    "print(sorted(list4))"
   ]
  },
  {
   "cell_type": "code",
   "execution_count": 236,
   "id": "af4d4d61-f6f2-47ea-969c-15d27c74514f",
   "metadata": {},
   "outputs": [
    {
     "name": "stdout",
     "output_type": "stream",
     "text": [
      "[5, 4, 3, 2, 1]\n"
     ]
    }
   ],
   "source": [
    "#26\n",
    "list1 = [1,2,3,4,5]\n",
    "list1.reverse()\n",
    "#list1 = list1[::-1]\n",
    "print(list1)"
   ]
  },
  {
   "cell_type": "code",
   "execution_count": 250,
   "id": "f4f698ed-0ed1-4c87-a971-0a6c566276ad",
   "metadata": {},
   "outputs": [
    {
     "name": "stdout",
     "output_type": "stream",
     "text": [
      "5 1\n"
     ]
    }
   ],
   "source": [
    "#27\n",
    "list4 = [3,1,4,1,5,9,2,6]\n",
    "print(list4.index(max(list4)),list4.index(min(list4)))"
   ]
  },
  {
   "cell_type": "code",
   "execution_count": 133,
   "id": "c53caac4-05d7-4fc5-a3d2-2a01f44d3357",
   "metadata": {},
   "outputs": [
    {
     "name": "stdout",
     "output_type": "stream",
     "text": [
      "[1, 2, 3, 4, 5]\n",
      "[1, 2, 3, 4, 5]\n"
     ]
    }
   ],
   "source": [
    "#28\n",
    "list5 = [1,2,2,3,4,4,5]\n",
    "list_new = []\n",
    "for i in list5:\n",
    "    if i not in list_new:\n",
    "        list_new.append(i)\n",
    "print(list_new)\n",
    "print(list(set(list5)))"
   ]
  },
  {
   "cell_type": "code",
   "execution_count": 267,
   "id": "a412b7ac-5df5-4211-8c6c-21ac9a27fd03",
   "metadata": {},
   "outputs": [
    {
     "data": {
      "text/plain": [
       "[15, 30, 45, 60, 75, 90]"
      ]
     },
     "execution_count": 267,
     "metadata": {},
     "output_type": "execute_result"
    }
   ],
   "source": [
    "#29\n",
    "list6 = [num for num in range(1,1000) if num%3==0 and num%5==0 and len(str(num))%2==0]\n",
    "list6"
   ]
  },
  {
   "cell_type": "code",
   "execution_count": 274,
   "id": "b77dadf3-b5fa-45ce-af47-9a3c111d474a",
   "metadata": {},
   "outputs": [
    {
     "name": "stdout",
     "output_type": "stream",
     "text": [
      "3\n"
     ]
    }
   ],
   "source": [
    "#30\n",
    "t1 = (1,2,3,4,5)\n",
    "print(t1[2])"
   ]
  },
  {
   "cell_type": "code",
   "execution_count": 4,
   "id": "59b450b5-f1b5-4ab9-b2ef-3e7a17626830",
   "metadata": {},
   "outputs": [
    {
     "data": {
      "text/plain": [
       "[1, 2, 3, 4, 5]"
      ]
     },
     "execution_count": 4,
     "metadata": {},
     "output_type": "execute_result"
    }
   ],
   "source": [
    "#31\n",
    "t1 = (1,2,3,4,5)\n",
    "list_t1 = list(t1)\n",
    "list_t1"
   ]
  },
  {
   "cell_type": "code",
   "execution_count": 8,
   "id": "59a43621-9476-4f6c-9d70-4832f129e014",
   "metadata": {},
   "outputs": [
    {
     "data": {
      "text/plain": [
       "(1, 2, 3, 4, 5)"
      ]
     },
     "execution_count": 8,
     "metadata": {},
     "output_type": "execute_result"
    }
   ],
   "source": [
    "#32\n",
    "list1 = [1,2,3,4,5]\n",
    "tuple_1 = tuple(list1)\n",
    "tuple_1"
   ]
  },
  {
   "cell_type": "code",
   "execution_count": 448,
   "id": "8bbf522e-46aa-4268-87e6-52728fb62588",
   "metadata": {},
   "outputs": [
    {
     "name": "stdout",
     "output_type": "stream",
     "text": [
      "True\n"
     ]
    },
    {
     "data": {
      "text/plain": [
       "2"
      ]
     },
     "execution_count": 448,
     "metadata": {},
     "output_type": "execute_result"
    }
   ],
   "source": [
    "#33\n",
    "t1 = (1,2,3,4,5)\n",
    "print(3 in t1)\n",
    "t1.count(2)\n",
    "t1.index(3)"
   ]
  },
  {
   "cell_type": "code",
   "execution_count": 17,
   "id": "0e73dc2d-e3f9-4d37-9979-e1d126d829db",
   "metadata": {},
   "outputs": [
    {
     "name": "stdout",
     "output_type": "stream",
     "text": [
      "3\n"
     ]
    }
   ],
   "source": [
    "#34\n",
    "print((1,2,3,2,4,2,5).count(2))"
   ]
  },
  {
   "cell_type": "code",
   "execution_count": 23,
   "id": "2796b013-5cd2-4cb6-aa78-a959dc276592",
   "metadata": {},
   "outputs": [
    {
     "name": "stdout",
     "output_type": "stream",
     "text": [
      "2\n"
     ]
    }
   ],
   "source": [
    "#35\n",
    "t1 = (1,2,3,4,5)\n",
    "print(t1.index(3))"
   ]
  },
  {
   "cell_type": "code",
   "execution_count": 31,
   "id": "46969703-e0fe-4536-947d-052dc994c88e",
   "metadata": {},
   "outputs": [
    {
     "name": "stdout",
     "output_type": "stream",
     "text": [
      "a b c d\n"
     ]
    }
   ],
   "source": [
    "#36\n",
    "tuple2 = ('a','b','c','d')\n",
    "a,b,c,d = tuple2\n",
    "print(a,b,c,d)"
   ]
  },
  {
   "cell_type": "code",
   "execution_count": 34,
   "id": "a9eeccf8-6263-479e-a54b-3297ba2e9e19",
   "metadata": {},
   "outputs": [
    {
     "name": "stdout",
     "output_type": "stream",
     "text": [
      "(1, 2, 3, 4, 5, 6)\n"
     ]
    }
   ],
   "source": [
    "#37\n",
    "t1 = (1,2,3) + (4,5,6)\n",
    "print(t1)"
   ]
  },
  {
   "cell_type": "code",
   "execution_count": 77,
   "id": "d662eab0-4c33-4976-9770-b1377f6af28a",
   "metadata": {},
   "outputs": [
    {
     "data": {
      "text/plain": [
       "(11, 5, (1, 2, 3))"
      ]
     },
     "execution_count": 77,
     "metadata": {},
     "output_type": "execute_result"
    }
   ],
   "source": [
    "#38\n",
    "def func_(*args):\n",
    "    '''\n",
    "    sum = 0\n",
    "    times = 0\n",
    "    uni = []\n",
    "    for i in args:\n",
    "        sum += i\n",
    "        times += 1\n",
    "        if i not in uni:\n",
    "            uni.append(i)\n",
    "    return sum,times,uni\n",
    "    '''\n",
    "    return sum(args), len(args), tuple(set(args))\n",
    "\n",
    "func_(1,2,2,3,3)"
   ]
  },
  {
   "cell_type": "code",
   "execution_count": 75,
   "id": "30a78f76-7fbe-4132-88e3-5451fd8e58f6",
   "metadata": {},
   "outputs": [
    {
     "name": "stdout",
     "output_type": "stream",
     "text": [
      "{1, 2, 3, 4}\n",
      "{2, 3}\n",
      "[2, 3, 4]\n",
      "{1, 4}\n"
     ]
    }
   ],
   "source": [
    "li = [1,2,3]\n",
    "st = [2,3,4]\n",
    "print((set(li)|set(st)))\n",
    "print((set(li)&set(st)))\n",
    "print(li and st)\n",
    "print((set(li)^set(st)))\n",
    "\n"
   ]
  },
  {
   "cell_type": "code",
   "execution_count": 388,
   "id": "8afda697-d91e-49d7-b697-f6c51815b1fa",
   "metadata": {},
   "outputs": [],
   "source": [
    "#39\n",
    "dict1 = {'apple':1, 'banana': 2, 'cherry':3}"
   ]
  },
  {
   "cell_type": "code",
   "execution_count": 390,
   "id": "0e99ff06-09a6-46a4-bce5-4e596f65938d",
   "metadata": {},
   "outputs": [
    {
     "data": {
      "text/plain": [
       "2"
      ]
     },
     "execution_count": 390,
     "metadata": {},
     "output_type": "execute_result"
    }
   ],
   "source": [
    "#40\n",
    "dict1['banana']"
   ]
  },
  {
   "cell_type": "code",
   "execution_count": 95,
   "id": "f11fccb2-adef-4237-acf5-1d5605f7d5c9",
   "metadata": {},
   "outputs": [
    {
     "data": {
      "text/plain": [
       "{'apple': 4, 'banana': 2, 'cherry': 3}"
      ]
     },
     "execution_count": 95,
     "metadata": {},
     "output_type": "execute_result"
    }
   ],
   "source": [
    "#41\n",
    "dict1['apple']=4\n",
    "dict1"
   ]
  },
  {
   "cell_type": "code",
   "execution_count": 103,
   "id": "da9ed14b-67da-42a5-a0cf-55cfc2c1ef1e",
   "metadata": {},
   "outputs": [
    {
     "data": {
      "text/plain": [
       "{'apple': 1, 'banana': 2, 'cherry': 3, 'date': 4}"
      ]
     },
     "execution_count": 103,
     "metadata": {},
     "output_type": "execute_result"
    }
   ],
   "source": [
    "#42\n",
    "dict1 = {'apple':1, 'banana': 2, 'cherry':3}\n",
    "dict1['date'] = 4\n",
    "dict1"
   ]
  },
  {
   "cell_type": "code",
   "execution_count": 120,
   "id": "c36c8707-6987-421b-8aaa-b57f0271fd17",
   "metadata": {},
   "outputs": [
    {
     "data": {
      "text/plain": [
       "{'apple': 1, 'cherry': 3}"
      ]
     },
     "execution_count": 120,
     "metadata": {},
     "output_type": "execute_result"
    }
   ],
   "source": [
    "#43\n",
    "dict1 = {'apple':1, 'banana': 2, 'cherry':3}\n",
    "del dict1['banana']\n",
    "dict1"
   ]
  },
  {
   "cell_type": "code",
   "execution_count": 227,
   "id": "b0256bd3-6b1e-4c69-8c73-9f8a77871edb",
   "metadata": {},
   "outputs": [
    {
     "data": {
      "text/plain": [
       "['banana', 'cherry']"
      ]
     },
     "execution_count": 227,
     "metadata": {},
     "output_type": "execute_result"
    }
   ],
   "source": [
    "dict1 = ['apple', 'banana', 'cherry']\n",
    "dict1.remove(dict1[0])\n",
    "dict1"
   ]
  },
  {
   "cell_type": "code",
   "execution_count": 125,
   "id": "7b2a4030-c5ef-41fd-b289-e7d116cd42e8",
   "metadata": {},
   "outputs": [
    {
     "name": "stdout",
     "output_type": "stream",
     "text": [
      "True\n"
     ]
    }
   ],
   "source": [
    "#44\n",
    "dict1 = {'apple':1, 'banana': 2, 'cherry':3}\n",
    "print('apple' in dict1)"
   ]
  },
  {
   "cell_type": "code",
   "execution_count": 138,
   "id": "07a711a9-acf7-42f8-9ae2-43fca749fd44",
   "metadata": {},
   "outputs": [
    {
     "name": "stdout",
     "output_type": "stream",
     "text": [
      "dict_keys(['apple', 'banana', 'cherry'])\n"
     ]
    }
   ],
   "source": [
    "#45\n",
    "dict1 = {'apple':1, 'banana': 2, 'cherry':3}\n",
    "print(dict1.keys())"
   ]
  },
  {
   "cell_type": "code",
   "execution_count": 140,
   "id": "b6f24789-c4bf-41eb-a289-bd6a2d1800ee",
   "metadata": {},
   "outputs": [
    {
     "name": "stdout",
     "output_type": "stream",
     "text": [
      "dict_values([1, 2, 3])\n"
     ]
    }
   ],
   "source": [
    "#46\n",
    "dict1 = {'apple':1, 'banana': 2, 'cherry':3}\n",
    "print(dict1.values())"
   ]
  },
  {
   "cell_type": "code",
   "execution_count": 173,
   "id": "3c9846a9-f32f-4e33-832e-53f1f0b2fa72",
   "metadata": {},
   "outputs": [
    {
     "name": "stdout",
     "output_type": "stream",
     "text": [
      "{'apple': 1, 'banana': 2, 'cherry': 3, 'data': 4}\n",
      "{'apple': 1, 'banana': 2, 'cherry': 3, 'data': 4}\n",
      "{'apple': 1, 'banana': 2, 'cherry': 3, 'data': 4}\n"
     ]
    }
   ],
   "source": [
    "#47\n",
    "dict1 = {'apple':1, 'banana':2}\n",
    "dict2 = {'cherry':3, 'data':4}\n",
    "print({**dict1,**dict2})\n",
    "dict1.update(dict2)\n",
    "print(dict1)\n",
    "dict3 = dict1 | dict2\n",
    "print(dict3)"
   ]
  },
  {
   "cell_type": "code",
   "execution_count": 182,
   "id": "551f2178-d0df-4a5a-8633-0da64621de63",
   "metadata": {},
   "outputs": [
    {
     "name": "stdout",
     "output_type": "stream",
     "text": [
      "Anna\n",
      "Marry\n"
     ]
    }
   ],
   "source": [
    "#48\n",
    "grades = {'John':82, 'Anna':90, 'George':67, 'Marry': 92}\n",
    "for name, score in grades.items():\n",
    "    if score > 85:\n",
    "        print(name)"
   ]
  },
  {
   "cell_type": "code",
   "execution_count": 259,
   "id": "9baf87e7-87b4-4cdc-ba3c-ea94271fb96c",
   "metadata": {},
   "outputs": [
    {
     "data": {
      "text/plain": [
       "{'b': [2, 3], 'c': 4, 'a': 1}"
      ]
     },
     "execution_count": 259,
     "metadata": {},
     "output_type": "execute_result"
    }
   ],
   "source": [
    "#49\n",
    "dict1 = {'a':1, 'b':2}\n",
    "dict2 = {'b':3, 'c':4}\n",
    "dict3 = {}\n",
    "for k in dict1.keys() | dict2.keys():\n",
    "    value = []\n",
    "    if k in dict1:\n",
    "        value.append(dict1[k])\n",
    "    if k in dict2:\n",
    "        value.append(dict2[k])\n",
    "    if len(value) > 1:\n",
    "        dict3[k] = value\n",
    "    else:\n",
    "        dict3[k] = value[0]\n",
    "\n",
    "\n",
    "dict3"
   ]
  },
  {
   "cell_type": "code",
   "execution_count": 261,
   "id": "2c934cb3-929a-4220-bb15-f0c13d1a239f",
   "metadata": {},
   "outputs": [
    {
     "name": "stdout",
     "output_type": "stream",
     "text": [
      "y\n",
      "y\n"
     ]
    }
   ],
   "source": [
    "#50\n",
    "values = {'x':12,'y':25,'z':5}\n",
    "max_key = max(values, key = lambda k: values[k])\n",
    "min_key = min(values, key = lambda k: values[k])\n",
    "\n",
    "print(max_key)\n",
    "\n",
    "print(max_key)\n"
   ]
  },
  {
   "cell_type": "code",
   "execution_count": 273,
   "id": "d0cbed82-57e0-4673-925e-11742d093d4d",
   "metadata": {},
   "outputs": [
    {
     "data": {
      "text/plain": [
       "{'a': [1, 3], 'b': [2]}"
      ]
     },
     "execution_count": 273,
     "metadata": {},
     "output_type": "execute_result"
    }
   ],
   "source": [
    "#51\n",
    "data = [('a',1),('b',2),('a',3)]\n",
    "data_d = {}\n",
    "for k,v in data:\n",
    "    if k not in data_d:\n",
    "        data_d[k] = []\n",
    "    data_d[k].append(v)\n",
    "data_d"
   ]
  },
  {
   "cell_type": "code",
   "execution_count": 416,
   "id": "7d2c07d2-5dda-4ea1-87cc-607b03fbe082",
   "metadata": {},
   "outputs": [
    {
     "name": "stdout",
     "output_type": "stream",
     "text": [
      "{'a': 2, 'b': 2, 'c': 2, 'd': 2, 'e': 2, 'f': 2, 'g': 6, 'h': 4, 'i': 3, 'j': 2}\n",
      "[('g', 6), ('h', 4), ('i', 3)]\n"
     ]
    }
   ],
   "source": [
    "#52\n",
    "s = 'aabbccddeeffgggggghhhhiiijj'\n",
    "count_char = {}\n",
    "for i in s:\n",
    "    #count_char[i] = 0\n",
    "    if i in count_char:\n",
    "        count_char[i] += 1\n",
    "    else:\n",
    "        count_char[i] = 1\n",
    "print(count_char)\n",
    "count_char = sorted(count_char.items(), key = lambda x: x[1],reverse=True)\n",
    "print(count_char[:3])"
   ]
  },
  {
   "cell_type": "code",
   "execution_count": 418,
   "id": "4571501b-5321-4865-b849-6c1c7b50601a",
   "metadata": {},
   "outputs": [
    {
     "data": {
      "text/plain": [
       "'cherry'"
      ]
     },
     "execution_count": 418,
     "metadata": {},
     "output_type": "execute_result"
    }
   ],
   "source": [
    "#53\n",
    "dict1 = {'apple':5, 'banana': 2, 'cherry':8}\n",
    "most_common = max(dict1, key = lambda k: dict1[k])\n",
    "most_common\n",
    "\n"
   ]
  },
  {
   "cell_type": "code",
   "execution_count": 23,
   "id": "8066b56d-9a7c-49f5-a8e0-b3a9218afc99",
   "metadata": {},
   "outputs": [
    {
     "data": {
      "text/plain": [
       "220"
      ]
     },
     "execution_count": 23,
     "metadata": {},
     "output_type": "execute_result"
    }
   ],
   "source": [
    "#54\n",
    "conversion = {\"USD\": 1, \"EUR\": 0.85, \"JPY\": 110}\n",
    "def cur_(f_value, currency):\n",
    "    if currency in conversion:\n",
    "        return f_value * conversion[currency]\n",
    "    else:\n",
    "        return 'ERROR'\n",
    "\n",
    "cur_(2,'JPY')"
   ]
  },
  {
   "cell_type": "code",
   "execution_count": 12,
   "id": "4ec06bd0-09dd-4faa-b1e0-9399d79ee78c",
   "metadata": {},
   "outputs": [
    {
     "name": "stdout",
     "output_type": "stream",
     "text": [
      "red\n",
      "green\n",
      "blue\n"
     ]
    }
   ],
   "source": [
    "#55\n",
    "colors = {\"red\": \"#FF0000\", \"green\": \"#008000\", \"blue\": \"#0000FF\"}\n",
    "for k,v in colors.items():\n",
    "    if \"00\"  in v:\n",
    "        print(k)"
   ]
  },
  {
   "cell_type": "code",
   "execution_count": 25,
   "id": "03647a30-19fb-4371-aa0d-6f3d34fac579",
   "metadata": {},
   "outputs": [
    {
     "data": {
      "text/plain": [
       "{'Alice': 2, 'Bob': 5, 'Charlie': 2}"
      ]
     },
     "execution_count": 25,
     "metadata": {},
     "output_type": "execute_result"
    }
   ],
   "source": [
    "#56\n",
    "votes = {\"Alice\": 3, \"Bob\": 4, \"Charlie\": 2}\n",
    "votes['Bob'] += 1\n",
    "votes['Alice'] -= 1\n",
    "votes"
   ]
  },
  {
   "cell_type": "code",
   "execution_count": 40,
   "id": "0d1b6d60-89fe-4c7c-9e34-5fdcf44133c2",
   "metadata": {},
   "outputs": [
    {
     "name": "stdout",
     "output_type": "stream",
     "text": [
      "{'John': 87.5, 'Anna': 86.0}\n"
     ]
    }
   ],
   "source": [
    "#57\n",
    "import math\n",
    "school = {\"John\": {\"Math\": 90, \"History\": 85},\n",
    "          \"Anna\": {\"Math\": 80, \"History\": 92}}\n",
    "for k,v in school.items():\n",
    "    avg_ = sum(v.values())/len(v)\n",
    "    school[k]=avg_\n",
    "print(school)"
   ]
  },
  {
   "cell_type": "code",
   "execution_count": 63,
   "id": "6418c32b-14cd-41cb-87bf-4d98db1b60c6",
   "metadata": {},
   "outputs": [
    {
     "name": "stdout",
     "output_type": "stream",
     "text": [
      "Bob\n",
      "{'Alice': 85, 'Bob': 92, 'Clara': 87, 'Dave': 75, 'Eva': 90, 'Frank': 88}\n",
      "{'Alice': 89.25, 'Bob': 96.60000000000001, 'Clara': 91.35000000000001, 'Dave': 78.75, 'Eva': 94.5, 'Frank': 92.4}\n"
     ]
    }
   ],
   "source": [
    "# 58\n",
    "students = {\"Alice\": 85, \"Bob\": 92, \"Clara\": 87, \"Dave\": 75, \"Eva\": 90}\n",
    "#a\n",
    "highest = max(students, key = lambda k: students[k])\n",
    "print(highest)\n",
    "#b\n",
    "students['Frank'] = 88\n",
    "print(students)\n",
    "#c\n",
    "for student in students:\n",
    "    students[student] *= 1.05\n",
    "print(students)"
   ]
  },
  {
   "cell_type": "code",
   "execution_count": 73,
   "id": "b04174f1-16cf-429d-ab38-711f726c016f",
   "metadata": {},
   "outputs": [
    {
     "data": {
      "text/plain": [
       "set"
      ]
     },
     "execution_count": 73,
     "metadata": {},
     "output_type": "execute_result"
    }
   ],
   "source": [
    "# 59\n",
    "set1 = {1,2,3,4,5}\n",
    "type(set1)"
   ]
  },
  {
   "cell_type": "code",
   "execution_count": 81,
   "id": "cd02bc17-816e-4537-9fdc-d1c80c8e16b1",
   "metadata": {},
   "outputs": [
    {
     "data": {
      "text/plain": [
       "{1, 2, 3, 4, 5, 6}"
      ]
     },
     "execution_count": 81,
     "metadata": {},
     "output_type": "execute_result"
    }
   ],
   "source": [
    "# 60\n",
    "set1\n",
    "set1.add(6)\n",
    "set1"
   ]
  },
  {
   "cell_type": "code",
   "execution_count": 86,
   "id": "0b1913c7-1ca8-45e4-a0bd-b5a278c0d344",
   "metadata": {},
   "outputs": [
    {
     "data": {
      "text/plain": [
       "{1, 2, 4, 5}"
      ]
     },
     "execution_count": 86,
     "metadata": {},
     "output_type": "execute_result"
    }
   ],
   "source": [
    "# 61\n",
    "set1 = {1,2,3,4,5}\n",
    "set1.remove(3)\n",
    "set1"
   ]
  },
  {
   "cell_type": "code",
   "execution_count": 93,
   "id": "1f0cdfb1-95fa-4ae0-ae8c-bbe6fdb27134",
   "metadata": {},
   "outputs": [
    {
     "data": {
      "text/plain": [
       "True"
      ]
     },
     "execution_count": 93,
     "metadata": {},
     "output_type": "execute_result"
    }
   ],
   "source": [
    "# 62\n",
    "set1 = {1,2,3,4,5}\n",
    "4 in set1"
   ]
  },
  {
   "cell_type": "code",
   "execution_count": 101,
   "id": "7ebf6ae1-189f-4798-9005-3a2df8c31d12",
   "metadata": {},
   "outputs": [
    {
     "data": {
      "text/plain": [
       "{1, 2, 3, 4, 5}"
      ]
     },
     "execution_count": 101,
     "metadata": {},
     "output_type": "execute_result"
    }
   ],
   "source": [
    "# 63\n",
    "set1 = {1,2,3}\n",
    "set2 = {3,4,5}\n",
    "set3 = set1 | set2\n",
    "set3"
   ]
  },
  {
   "cell_type": "code",
   "execution_count": 103,
   "id": "a4c0070a-dc12-48a9-9593-3afab4bb6095",
   "metadata": {},
   "outputs": [
    {
     "data": {
      "text/plain": [
       "{3}"
      ]
     },
     "execution_count": 103,
     "metadata": {},
     "output_type": "execute_result"
    }
   ],
   "source": [
    "# 64\n",
    "set1 = {1,2,3}\n",
    "set2 = {3,4,5}\n",
    "set3 = set1 & set2\n",
    "set3"
   ]
  },
  {
   "cell_type": "code",
   "execution_count": 113,
   "id": "4f7e5c60-ebdf-4673-942d-413f70217797",
   "metadata": {},
   "outputs": [
    {
     "name": "stdout",
     "output_type": "stream",
     "text": [
      "True\n",
      "True\n"
     ]
    }
   ],
   "source": [
    "# 65\n",
    "set1 = {1,2,3}\n",
    "set2 = {1,2,3,4,5}\n",
    "print(set1&set1 == set1)\n",
    "print(set1.issubset(set2))"
   ]
  },
  {
   "cell_type": "code",
   "execution_count": 115,
   "id": "15d93143-ba27-4270-a383-d75320e81062",
   "metadata": {},
   "outputs": [
    {
     "name": "stdout",
     "output_type": "stream",
     "text": [
      "True\n"
     ]
    }
   ],
   "source": [
    "# 66\n",
    "set1 = {1,2,3}\n",
    "set2 = {1,2,3,4,5}\n",
    "print(set2.issuperset(set1))"
   ]
  },
  {
   "cell_type": "code",
   "execution_count": 118,
   "id": "8b84437f-6b79-4cb1-a3df-0c58cdb0d121",
   "metadata": {},
   "outputs": [
    {
     "data": {
      "text/plain": [
       "{1, 2, 5, 6}"
      ]
     },
     "execution_count": 118,
     "metadata": {},
     "output_type": "execute_result"
    }
   ],
   "source": [
    "# 67\n",
    "set1 = {1,2,3,4}\n",
    "set2 = {3,4,5,6}\n",
    "set1^set2"
   ]
  },
  {
   "cell_type": "code",
   "execution_count": 134,
   "id": "cfe937b3-6b4e-473d-93a9-f8fd00250a40",
   "metadata": {},
   "outputs": [
    {
     "data": {
      "text/plain": [
       "({1, 2, 3, 4, 5, 6, 7, 8, 9}, {4, 5, 6}, {1, 2, 3, 7, 8, 9})"
      ]
     },
     "execution_count": 134,
     "metadata": {},
     "output_type": "execute_result"
    }
   ],
   "source": [
    "# 68\n",
    "set1 = {1, 2, 3, 4, 5, 6}\n",
    "set2 = {4, 5, 6, 7, 8, 9}\n",
    "def func_(s1,s2):\n",
    "    union = s1 | s2\n",
    "    inter = s1 & s2\n",
    "    s_d = s1 ^ s2\n",
    "    return (union,inter,s_d)\n",
    "\n",
    "func_(set1,set2)"
   ]
  },
  {
   "cell_type": "code",
   "execution_count": 137,
   "id": "c62f67ac-cedb-4b5c-92bf-9042078b3041",
   "metadata": {},
   "outputs": [
    {
     "data": {
      "text/plain": [
       "50"
      ]
     },
     "execution_count": 137,
     "metadata": {},
     "output_type": "execute_result"
    }
   ],
   "source": [
    "# 69\n",
    "def calculate_total(pizza_n):\n",
    "    price = pizza_n * 10\n",
    "    return price\n",
    "calculate_total(5)"
   ]
  },
  {
   "cell_type": "code",
   "execution_count": 147,
   "id": "91d3d4ed-18fd-4f70-a7b9-8554251b305d",
   "metadata": {},
   "outputs": [
    {
     "name": "stdout",
     "output_type": "stream",
     "text": [
      "Hello, Alex!\n"
     ]
    }
   ],
   "source": [
    "# 70\n",
    "def greet(name):\n",
    "    print(f'Hello, {name}!')\n",
    "greet('Alex')"
   ]
  },
  {
   "cell_type": "code",
   "execution_count": 174,
   "id": "a432709b-d715-41b0-9d3e-f0c08a5d4d81",
   "metadata": {},
   "outputs": [
    {
     "data": {
      "text/plain": [
       "30"
      ]
     },
     "execution_count": 174,
     "metadata": {},
     "output_type": "execute_result"
    }
   ],
   "source": [
    "# 71\n",
    "def sum_of_list(numbers):\n",
    "    return sum(numbers)\n",
    "list1 = [2,4,6,8,10]\n",
    "sum_of_list(list1)"
   ]
  },
  {
   "cell_type": "code",
   "execution_count": 176,
   "id": "218a47fe-ce4a-4aba-8437-136f6aff2bd4",
   "metadata": {},
   "outputs": [
    {
     "data": {
      "text/plain": [
       "45.0"
      ]
     },
     "execution_count": 176,
     "metadata": {},
     "output_type": "execute_result"
    }
   ],
   "source": [
    "# 72\n",
    "def apply_discount(price):\n",
    "    return price*0.9\n",
    "apply_discount(50)"
   ]
  },
  {
   "cell_type": "code",
   "execution_count": 213,
   "id": "37d344fb-90aa-414f-86ac-9a913c15597d",
   "metadata": {},
   "outputs": [
    {
     "data": {
      "text/plain": [
       "4"
      ]
     },
     "execution_count": 213,
     "metadata": {},
     "output_type": "execute_result"
    }
   ],
   "source": [
    "# 73\n",
    "def party_planner(n_guests):\n",
    "    n_slice = n_guests*2\n",
    "    n_pizza = n_slice//8\n",
    "    if n_slice%8 != 0:\n",
    "        n_pizza += 1\n",
    "    return n_pizza\n",
    "party_planner(16)"
   ]
  },
  {
   "cell_type": "code",
   "execution_count": 271,
   "id": "9e09d65b-acce-4d2b-a242-c351152727b6",
   "metadata": {},
   "outputs": [
    {
     "data": {
      "text/plain": [
       "'Red'"
      ]
     },
     "execution_count": 271,
     "metadata": {},
     "output_type": "execute_result"
    }
   ],
   "source": [
    "# 74\n",
    "def favorite_color(name, lst):\n",
    "    for person in lst:\n",
    "        if name == person[0]:\n",
    "            return person[1]\n",
    "    return 'not found'\n",
    "favorite_color('Alice', [('Bob', 'Blue'), ('Alice', 'Red'),('Eve', 'Green')])"
   ]
  },
  {
   "cell_type": "code",
   "execution_count": 273,
   "id": "c22f23bd-c80e-432e-b074-96d53cc6865b",
   "metadata": {},
   "outputs": [
    {
     "data": {
      "text/plain": [
       "21.0"
      ]
     },
     "execution_count": 273,
     "metadata": {},
     "output_type": "execute_result"
    }
   ],
   "source": [
    "# 75\n",
    "def add_tax(price):\n",
    "    price *= 1.05\n",
    "    return price\n",
    "add_tax(20)"
   ]
  },
  {
   "cell_type": "code",
   "execution_count": 286,
   "id": "b426c842-6ed1-435d-856e-8c46c89ead11",
   "metadata": {},
   "outputs": [
    {
     "data": {
      "text/plain": [
       "[1, 4, 9, 16, 25]"
      ]
     },
     "execution_count": 286,
     "metadata": {},
     "output_type": "execute_result"
    }
   ],
   "source": [
    "# 76\n",
    "def squared_numbers(n):\n",
    "    list1 = []\n",
    "    for num in range(1,n+1):\n",
    "        list1.append(num**2)\n",
    "    return list1\n",
    "squared_numbers(5)"
   ]
  },
  {
   "cell_type": "code",
   "execution_count": 294,
   "id": "6a22b3ce-c485-4051-87e4-501b809dcc84",
   "metadata": {},
   "outputs": [
    {
     "data": {
      "text/plain": [
       "True"
      ]
     },
     "execution_count": 294,
     "metadata": {},
     "output_type": "execute_result"
    }
   ],
   "source": [
    "# 77\n",
    "def is_birthday(guess_date):\n",
    "    date = '04-15'\n",
    "    return date == guess_date\n",
    "is_birthday('04-15')"
   ]
  },
  {
   "cell_type": "code",
   "execution_count": 300,
   "id": "cd22eba5-9ec9-45f3-a183-49af1a63d387",
   "metadata": {},
   "outputs": [
    {
     "data": {
      "text/plain": [
       "['eggs', 'Milk']"
      ]
     },
     "execution_count": 300,
     "metadata": {},
     "output_type": "execute_result"
    }
   ],
   "source": [
    "#78\n",
    "def weekly_groceries(list_items):\n",
    "    item = 'Milk'\n",
    "    if item not in list_items:\n",
    "        list_items.append(item)\n",
    "    return list_items\n",
    "weekly_groceries(['eggs'])"
   ]
  },
  {
   "cell_type": "code",
   "execution_count": 313,
   "id": "5f0d94b9-95d3-4458-9a1c-5f98cc1865bb",
   "metadata": {},
   "outputs": [
    {
     "name": "stdout",
     "output_type": "stream",
     "text": [
      "Hello, Alex!\n"
     ]
    }
   ],
   "source": [
    "#79\n",
    "print((lambda name: (f'Hello, {name}!'))('Alex'))\n"
   ]
  },
  {
   "cell_type": "code",
   "execution_count": 315,
   "id": "78551fdf-1d02-45d2-ad62-aa565c636bd2",
   "metadata": {},
   "outputs": [
    {
     "data": {
      "text/plain": [
       "10"
      ]
     },
     "execution_count": 315,
     "metadata": {},
     "output_type": "execute_result"
    }
   ],
   "source": [
    "(lambda x: x*2)(5)"
   ]
  },
  {
   "cell_type": "code",
   "execution_count": 319,
   "id": "dfd57e3c-5c49-492d-91f3-f3f212822b20",
   "metadata": {},
   "outputs": [
    {
     "data": {
      "text/plain": [
       "True"
      ]
     },
     "execution_count": 319,
     "metadata": {},
     "output_type": "execute_result"
    }
   ],
   "source": [
    "(lambda x: x%2==0)(6)"
   ]
  },
  {
   "cell_type": "code",
   "execution_count": 374,
   "id": "5d205300-098c-431a-b4e6-0f13c98e4902",
   "metadata": {},
   "outputs": [
    {
     "data": {
      "text/plain": [
       "'Book1'"
      ]
     },
     "execution_count": 374,
     "metadata": {},
     "output_type": "execute_result"
    }
   ],
   "source": [
    "#82\n",
    "import random\n",
    "def recommend_books(genre, book_list):\n",
    "    for k,v in book_list.items():\n",
    "        if genre == k:\n",
    "            return random.choice(v)\n",
    "    return('not found')\n",
    "recommend_books('Mystery', {'Mystery': ['Book1','Book2'], 'Romance': ['Book3', 'Book4']})"
   ]
  },
  {
   "cell_type": "code",
   "execution_count": 355,
   "id": "77739dbf-8202-4ba2-aa6d-dafae1e0e81f",
   "metadata": {},
   "outputs": [
    {
     "data": {
      "text/plain": [
       "675.0"
      ]
     },
     "execution_count": 355,
     "metadata": {},
     "output_type": "execute_result"
    }
   ],
   "source": [
    "def split_expenses(dict_exp):\n",
    "    total = 0\n",
    "    for k,v in dict_exp.items():\n",
    "        dict_exp[k] = v/2\n",
    "        total += dict_exp[k]\n",
    "    return total\n",
    "split_expenses({'rent': 1000, 'utilities': 150, 'gro\u0002ceries': 200})"
   ]
  },
  {
   "cell_type": "code",
   "execution_count": 384,
   "id": "016a560a-67f7-457e-bb8b-823929d8c4bb",
   "metadata": {},
   "outputs": [
    {
     "data": {
      "text/plain": [
       "{1, 2, 3, 4, 5, 6, 7, 8}"
      ]
     },
     "execution_count": 384,
     "metadata": {},
     "output_type": "execute_result"
    }
   ],
   "source": [
    "def common_elements(lst1,lst2):\n",
    "    set1 = set(lst1+lst2)\n",
    "    return set1\n",
    "common_elements([1,2,3,4,5],[4,5,6,7,8])"
   ]
  },
  {
   "cell_type": "code",
   "execution_count": 376,
   "id": "8359b33b-678b-4b78-aafd-722fb6084a05",
   "metadata": {},
   "outputs": [
    {
     "data": {
      "text/plain": [
       "{'John': 84.33333333333333, 'Jane': 86.0}"
      ]
     },
     "execution_count": 376,
     "metadata": {},
     "output_type": "execute_result"
    }
   ],
   "source": [
    "#85\n",
    "def computer_average(dict_):\n",
    "    import statistics\n",
    "    for k,v in dict_.items():\n",
    "        dict_[k] = statistics.fmean(v)\n",
    "    return dict_\n",
    "computer_average({'John': [85, 90, 78], 'Jane': [90, 88, 80]})"
   ]
  },
  {
   "cell_type": "code",
   "execution_count": null,
   "id": "54f8da27-9540-4023-a43a-a8d4195e2d45",
   "metadata": {},
   "outputs": [],
   "source": [
    "#86\n",
    "def password_strength(str):\n",
    "    "
   ]
  }
 ],
 "metadata": {
  "kernelspec": {
   "display_name": "Python 3 (ipykernel)",
   "language": "python",
   "name": "python3"
  },
  "language_info": {
   "codemirror_mode": {
    "name": "ipython",
    "version": 3
   },
   "file_extension": ".py",
   "mimetype": "text/x-python",
   "name": "python",
   "nbconvert_exporter": "python",
   "pygments_lexer": "ipython3",
   "version": "3.12.4"
  }
 },
 "nbformat": 4,
 "nbformat_minor": 5
}
