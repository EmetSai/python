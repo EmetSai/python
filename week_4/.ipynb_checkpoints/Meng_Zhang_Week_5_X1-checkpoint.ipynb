{
 "cells": [
  {
   "cell_type": "markdown",
   "metadata": {
    "id": "cuYPG-FC8ryF"
   },
   "source": [
    "# Week 5 Homework\n",
    "\n",
    "This homework provides an opportunity for you to practice the most important topics we discussed in week 4. It will also prepare you for week 5 of this course."
   ]
  },
  {
   "cell_type": "markdown",
   "metadata": {
    "id": "cKDuOTQB8ryN",
    "jp-MarkdownHeadingCollapsed": true,
    "tags": []
   },
   "source": [
    "## Submission guidelines:\n",
    "**`Please display all your output using the print() function`**\n",
    "\n",
    "**Once you are done, remove all the output (`Right click on screen --> Clear All Outputs`), save your file as: `YourFirstName_YourLastName_Week_5_SectionNumber.ipynb`.**\n",
    "\n",
    "\n",
    "## **Please import all the needed libraries/modules for each cell in that cell. As an example if you will use pandas in questions 1 and 2 and 14, please make sure to include `import pandas as pd` in ALL these  cells.**"
   ]
  },
  {
   "cell_type": "markdown",
   "metadata": {},
   "source": [
    "## Question 1\n",
    " - Please run\n",
    "      * `import pandas as pd` to import pandas\n",
    "      * set its display precision at 2 digits by running `pd.options.display.precision = 2`\n",
    "      \n",
    " - Please read the file from the following link and create a `DataFrame` called `df_patients`. \n",
    "\n",
    "     PATIENT_INFO_LINK =\n",
    "   'https://www.dropbox.com/scl/fi/z8363hhljjm7dcby7ai10/patient_info.csv?rlkey=jvl086b3m79mbuoyu84j5nqho&st=0snhkq6r&raw=1'\n",
    "\n",
    " - **Hint:** If you pay attention to the above link, part of the link says **`patient_info.csv`**. This signals us that this is a `csv` file and we need to use `pd.read_csv(above link)` function to read it. \n",
    " - This `DataFrame` contains information about patients selected from different parts of the United States admitted to a hospital network."
   ]
  },
  {
   "cell_type": "code",
   "execution_count": 95,
   "metadata": {},
   "outputs": [],
   "source": [
    "# solution"
   ]
  },
  {
   "cell_type": "markdown",
   "metadata": {
    "id": "pn7BtKIvYnd2"
   },
   "source": [
    "## Question 2\n",
    "\n",
    "Use `info` to check the data-types. What is the type of `DATETIME`? \n"
   ]
  },
  {
   "cell_type": "code",
   "execution_count": 95,
   "metadata": {},
   "outputs": [],
   "source": [
    "# solution"
   ]
  },
  {
   "cell_type": "markdown",
   "metadata": {
    "id": "pn7BtKIvYnd2"
   },
   "source": [
    "## Question 3\n",
    "\n",
    "What is the average age of these patients? Use `f-string` to print the answer with ony 2 digits after the decimal point.  \n"
   ]
  },
  {
   "cell_type": "code",
   "execution_count": 95,
   "metadata": {},
   "outputs": [],
   "source": [
    "# solution"
   ]
  },
  {
   "cell_type": "markdown",
   "metadata": {
    "id": "pn7BtKIvYnd2"
   },
   "source": [
    "## Question 4\n",
    "\n",
    "What is the weight of the lightest patient? Use `f-string` to print the answer with ony 2 digits after the decimal point.  \n"
   ]
  },
  {
   "cell_type": "code",
   "execution_count": 95,
   "metadata": {},
   "outputs": [],
   "source": [
    "# solution"
   ]
  },
  {
   "cell_type": "markdown",
   "metadata": {
    "id": "pn7BtKIvYnd2"
   },
   "source": [
    "## Question 5\n",
    "\n",
    "What is the height of the tallest patient? Use `f-string` to print the answer with ony 2 digits after the decimal point.  \n"
   ]
  },
  {
   "cell_type": "code",
   "execution_count": 95,
   "metadata": {},
   "outputs": [],
   "source": [
    "# solution"
   ]
  },
  {
   "cell_type": "markdown",
   "metadata": {
    "id": "pn7BtKIvYnd2"
   },
   "source": [
    "## Question 6\n",
    "\n",
    "What is the range of the `Charges`? Hint: you need to use both `max` and `min` functions. Use `f-string` to print the answer with ony 2 digits after the decimal point.\n"
   ]
  },
  {
   "cell_type": "code",
   "execution_count": 95,
   "metadata": {},
   "outputs": [],
   "source": [
    "# solution"
   ]
  },
  {
   "cell_type": "markdown",
   "metadata": {
    "id": "pn7BtKIvYnd2"
   },
   "source": [
    "## Question 7\n",
    "\n",
    "How old are the youngest and oldest patients? Use `f-string` to print the answers.\n"
   ]
  },
  {
   "cell_type": "code",
   "execution_count": 95,
   "metadata": {},
   "outputs": [],
   "source": [
    "# solution"
   ]
  },
  {
   "cell_type": "markdown",
   "metadata": {},
   "source": [
    "## Question 8\n",
    "\n",
    "How many of these patients are smoker? Hint: please use `value_counts` on the appropriate column."
   ]
  },
  {
   "cell_type": "code",
   "execution_count": 95,
   "metadata": {},
   "outputs": [],
   "source": [
    "# solution"
   ]
  },
  {
   "cell_type": "markdown",
   "metadata": {},
   "source": [
    "## Question 9\n",
    "\n",
    "How many of these patients are smoker? Hint: please use `boolean indexing` and `sum` function on the appropriate column."
   ]
  },
  {
   "cell_type": "code",
   "execution_count": 95,
   "metadata": {},
   "outputs": [],
   "source": [
    "# solution"
   ]
  },
  {
   "cell_type": "markdown",
   "metadata": {},
   "source": [
    "## Question 10\n",
    "\n",
    "What fraction of these patients are smoker? Hint: please use `boolean indexing` and `mul` and `mean` functions to answer the question. Please note that `.mul(100)` multiplies a column by `100`. Try `mul(100).mean()` on appropriate column."
   ]
  },
  {
   "cell_type": "code",
   "execution_count": 95,
   "metadata": {},
   "outputs": [],
   "source": [
    "# solution"
   ]
  },
  {
   "cell_type": "markdown",
   "metadata": {},
   "source": [
    "## Question 11\n",
    "\n",
    "What is the average age of the smoking patients? \n",
    "\n",
    "There are several ways of answering this question. I will guide you in several different ways.\n",
    "\n",
    "**Method 1:**\n",
    "\n",
    "Using `boolean indexing` create a new dataframe with only smoking patients. Then call `mean` function on this dataframe's appropriate column. \n",
    "\n",
    "Please use **Method 1** in this question"
   ]
  },
  {
   "cell_type": "code",
   "execution_count": 95,
   "metadata": {},
   "outputs": [],
   "source": [
    "# solution"
   ]
  },
  {
   "cell_type": "markdown",
   "metadata": {},
   "source": [
    "## Question 12\n",
    "\n",
    "What is the average age of the smoking patients? \n",
    "\n",
    "Here is Method 2:\n",
    "\n",
    "**Method 2:**\n",
    "\n",
    "*Method 1* has the problem of creating a new dataframe that could be time consuming and memory intensive if your original dataset is a big dataset. So another way of answering this question is by using `groupby` and calling `groupby` on the original dataframe. Please watch the appropriate posted videos for this part first. \n",
    "\n",
    "Please use **Method 2** in this question."
   ]
  },
  {
   "cell_type": "code",
   "execution_count": null,
   "metadata": {},
   "outputs": [],
   "source": [
    "# solution"
   ]
  },
  {
   "cell_type": "markdown",
   "metadata": {},
   "source": [
    "## Question 13\n",
    "\n",
    "Using `boolean indexing`, `mul`, and `mean` functions, determine the fraction of female patients.\n"
   ]
  },
  {
   "cell_type": "code",
   "execution_count": 98,
   "metadata": {},
   "outputs": [],
   "source": [
    "# solution"
   ]
  },
  {
   "cell_type": "markdown",
   "metadata": {},
   "source": [
    "## Question 14\n",
    "\n",
    "What fraction of the patients is pregnant? \n"
   ]
  },
  {
   "cell_type": "code",
   "execution_count": 98,
   "metadata": {},
   "outputs": [],
   "source": [
    "# solution"
   ]
  },
  {
   "cell_type": "markdown",
   "metadata": {},
   "source": [
    "## Question 15\n",
    "\n",
    "Which region of the united states has the most diabetic patients?\n",
    "\n",
    "**Strong Hint:** You can first use `boolean indexing` to create another daframe that contains only diabetic patients and then use count values to answer this question. It would be great if you also try to use `idxmax` function."
   ]
  },
  {
   "cell_type": "code",
   "execution_count": null,
   "metadata": {},
   "outputs": [],
   "source": [
    "# solution"
   ]
  },
  {
   "cell_type": "markdown",
   "metadata": {},
   "source": [
    "## Question 16\n",
    "\n",
    "Answer the previous question using `groupby`.\n"
   ]
  },
  {
   "cell_type": "code",
   "execution_count": 99,
   "metadata": {},
   "outputs": [],
   "source": [
    "# solution"
   ]
  },
  {
   "cell_type": "markdown",
   "metadata": {},
   "source": [
    "## Question 17\n",
    "\n",
    "There are four csv files in Canvas under the following names:\n",
    " - `restaurants.csv`\n",
    " - `items.csv`\n",
    " - `orders.csv`\n",
    " - `census.csv`\n",
    "Please download them on your computer. We will work with these files next week."
   ]
  }
 ],
 "metadata": {
  "colab": {
   "collapsed_sections": [],
   "name": "Updated Week 3 Homework_6Feb.ipynb",
   "provenance": []
  },
  "kernelspec": {
   "display_name": "Python 3 (ipykernel)",
   "language": "python",
   "name": "python3"
  },
  "language_info": {
   "codemirror_mode": {
    "name": "ipython",
    "version": 3
   },
   "file_extension": ".py",
   "mimetype": "text/x-python",
   "name": "python",
   "nbconvert_exporter": "python",
   "pygments_lexer": "ipython3",
   "version": "3.12.4"
  }
 },
 "nbformat": 4,
 "nbformat_minor": 4
}
