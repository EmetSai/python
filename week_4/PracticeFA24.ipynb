{
 "cells": [
  {
   "cell_type": "markdown",
   "id": "059324f0-22d7-46f0-947b-97dd4c7550fa",
   "metadata": {
    "id": "cKDuOTQB8ryN",
    "tags": []
   },
   "source": [
    "## Submission guidelines:\n",
    "**Once you are done, **run** all the cells and save your file as: `YourFirstName_YourLastName_practice_filename.ipynb`.**\n",
    "\n",
    "As an example if your professor takes the test his file name would be: `Naser_Nikandish_practice_PracticeFA24.ipynb`\n",
    "\n",
    "You will upload this file using the file upload question in the Canvas Assessment. \n",
    "\n"
   ]
  },
  {
   "cell_type": "markdown",
   "id": "516ee501-7d04-401e-a91a-14c2b89b808d",
   "metadata": {
    "id": "pn7BtKIvYnd2",
    "tags": []
   },
   "source": [
    "## Question 1\n",
    "\n",
    "In the code cell below, declare a variable named my_name and assign it the value of your name as a string. Then, print the variable.\n"
   ]
  },
  {
   "cell_type": "code",
   "execution_count": null,
   "id": "bd7c003b-0045-4fa3-acf9-7e73e852a0a9",
   "metadata": {},
   "outputs": [],
   "source": [
    "# Your code here\n"
   ]
  },
  {
   "cell_type": "markdown",
   "id": "89cb5355-0f74-4ce9-a5e2-429b018870bf",
   "metadata": {},
   "source": [
    "## Question 2\n",
    "\n",
    "Write a function named add_numbers that takes two parameters and returns their sum. Then, call the function with the numbers 5 and 3, and print the result."
   ]
  },
  {
   "cell_type": "code",
   "execution_count": null,
   "id": "0005dcf9-91a3-4e08-ae37-a68fd947308b",
   "metadata": {},
   "outputs": [],
   "source": [
    "# Your code here\n"
   ]
  },
  {
   "cell_type": "markdown",
   "id": "06914128-e36b-4fdc-b7d8-ab53ada501b7",
   "metadata": {},
   "source": [
    "## Question 3\n",
    "Define a function named square_route that calculates the square route of a given number. Then call the function with number 4. It should return 16."
   ]
  },
  {
   "cell_type": "code",
   "execution_count": null,
   "id": "99d03bb3-d578-4501-8474-246f43d680d2",
   "metadata": {},
   "outputs": [],
   "source": [
    "# Your code here\n"
   ]
  },
  {
   "cell_type": "markdown",
   "id": "8d12ecd5-6afd-4a11-8b70-4107d244ad93",
   "metadata": {},
   "source": [
    "## End of Practice Test."
   ]
  }
 ],
 "metadata": {
  "kernelspec": {
   "display_name": "Python 3 (ipykernel)",
   "language": "python",
   "name": "python3"
  },
  "language_info": {
   "codemirror_mode": {
    "name": "ipython",
    "version": 3
   },
   "file_extension": ".py",
   "mimetype": "text/x-python",
   "name": "python",
   "nbconvert_exporter": "python",
   "pygments_lexer": "ipython3",
   "version": "3.12.4"
  }
 },
 "nbformat": 4,
 "nbformat_minor": 5
}
