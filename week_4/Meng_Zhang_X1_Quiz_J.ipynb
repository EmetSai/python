{
 "cells": [
  {
   "cell_type": "markdown",
   "id": "929a2a21-b65c-4413-b8bf-37fd44b541e3",
   "metadata": {
    "id": "cuYPG-FC8ryF"
   },
   "source": [
    "# Quiz\n",
    "\n",
    "This Quiz covers topics until the end of `functions`. You are not allowed to use `pandas` for this quiz. You cannot use ANY library other than `math`, `statistics`, `random`."
   ]
  },
  {
   "cell_type": "markdown",
   "id": "354ab14b-c1c9-4a24-a9cf-37053ef00206",
   "metadata": {
    "id": "cKDuOTQB8ryN",
    "tags": []
   },
   "source": [
    "## Submission guidelines:\n",
    "**Once you are done, **run** all the cells and save your file as: `YourFirstName_YourLastName_SectionNumber_filename.ipynb`.**\n",
    "\n",
    "**If you submit under any other name/format, your submission will not be graded!**\n",
    "\n",
    "**As an example**, if you professor is taking this quiz, his submission will be named \n",
    "\n",
    "**`Naser_Nikandish_x1_Quiz_J.ipynb`**"
   ]
  },
  {
   "cell_type": "markdown",
   "id": "f550babe-3ae0-4f17-b030-defdaa04ae17",
   "metadata": {},
   "source": [
    "# Question 1\n",
    "\n",
    "Using list comprehension, generate a list of the first 20 positive integers that are multiples of 4, and name the list `multiples_of_4`"
   ]
  },
  {
   "cell_type": "code",
   "execution_count": 315,
   "id": "e6dc5fd3-c336-445b-803f-d4db569dca15",
   "metadata": {},
   "outputs": [
    {
     "name": "stdout",
     "output_type": "stream",
     "text": [
      "[4, 8, 12, 16, 20]\n"
     ]
    }
   ],
   "source": [
    "# Solution\n",
    "multiples_of_4 = [num for num in range(1, 21) if num % 4 == 0]\n",
    "print(multiples_of_4)"
   ]
  },
  {
   "cell_type": "markdown",
   "id": "5c10e981-d896-4cc0-a3cf-10d2150d3ca1",
   "metadata": {},
   "source": [
    "# Question 2\n",
    "\n",
    "Write a function named calculate_bmi that takes two arguments: `weight` (in kg) and `height` (in meters). The function should return the Body Mass Index (BMI) based on the formula `weight / (height ** 2)`. Set the default `height` to `1.75`."
   ]
  },
  {
   "cell_type": "code",
   "execution_count": 318,
   "id": "64b4a040-3153-45b5-aca1-2ca2db4123e4",
   "metadata": {},
   "outputs": [],
   "source": [
    "# Solution\n",
    "def calculate_bmi(weight, height = 1.75):\n",
    "    \"\"\"\n",
    "    Takes weight(in kg) and height(in meters)\n",
    "    Return Body Mass Index(BMI)\n",
    "    \"\"\"\n",
    "    BMI = weight/(height ** 2)\n",
    "    return BMI\n",
    "\n",
    "#calculate_bmi(50,1.6)"
   ]
  },
  {
   "cell_type": "markdown",
   "id": "497badbb-8801-4265-984b-02c6b6a0508c",
   "metadata": {
    "id": "pn7BtKIvYnd2"
   },
   "source": [
    "# Question 3\n",
    "\n",
    "Assume `dict_1 = {'Alice': 85, 'Bob': 72, 'Charlie': 91}`. Create a new dictionary using dictionary comprehension where the keys are in uppercase and the values remain the same. Display the result using an `f-string`.\n",
    "\n"
   ]
  },
  {
   "cell_type": "code",
   "execution_count": 321,
   "id": "0dca40f9-d660-498a-b7e0-d0be75ed7586",
   "metadata": {
    "tags": []
   },
   "outputs": [
    {
     "name": "stdout",
     "output_type": "stream",
     "text": [
      "The new dictionary is {'ALICE': 85, 'BOB': 72, 'CHARLIE': 91}\n"
     ]
    }
   ],
   "source": [
    "# Answer\n",
    "dict_1 = {'Alice': 85, 'Bob': 72, 'Charlie': 91}\n",
    "dict_2 = {k.upper():v for k, v in dict_1.items()}\n",
    "print(f'The new dictionary is {dict_2}')"
   ]
  },
  {
   "cell_type": "markdown",
   "id": "63017bf9-02e4-46e2-8908-bf7ab732c987",
   "metadata": {
    "id": "pn7BtKIvYnd2"
   },
   "source": [
    "# Question 4\n",
    "\n",
    "Given the dictionary of the largest public companies by market cap:\n",
    "\n",
    "`largest_market_cap = \n",
    "{'1999': 'Apple', '2000':'Microsoft', '2001':'General Electric', '2002':'General Electric', '2003':'Microsoft', '2004':'Microsoft', '2005':'Exxon', '2006':'Exxon', '2007':'Exxon', '2008':'Exxon', '2009':'PetroChina', '2010':'Exxon', '2011':'Exxon', '2012':'Apple', '2013':'Apple', '2014':'Apple', '2015':'Apple', '2016':'Apple', '2017':'Apple', '2018':'Apple', '2019':'Microsoft','2020':'Saudi Aramco','2021':'Apple','2022':'Saudi Aramco'}`\n",
    "\n",
    "Write a piece of code that displays a list of unique companies from the above dictionary. Use an `f-string` within a print statement to present the results."
   ]
  },
  {
   "cell_type": "code",
   "execution_count": 324,
   "id": "82d2012d-7737-4d77-b799-3375a67c030a",
   "metadata": {
    "tags": []
   },
   "outputs": [
    {
     "name": "stdout",
     "output_type": "stream",
     "text": [
      "List of unique companies: ['Saudi Aramco', 'PetroChina', 'Apple', 'Exxon', 'General Electric', 'Microsoft']\n"
     ]
    }
   ],
   "source": [
    "# Answer\n",
    "largest_market_cap = {'1999': 'Apple', '2000':'Microsoft', \n",
    "                      '2001':'General Electric', '2002':'General Electric', \n",
    "                      '2003':'Microsoft', '2004':'Microsoft', \n",
    "                      '2005':'Exxon', '2006':'Exxon', '2007':'Exxon', \n",
    "                      '2008':'Exxon', '2009':'PetroChina', '2010':'Exxon', \n",
    "                      '2011':'Exxon', '2012':'Apple', '2013':'Apple', \n",
    "                      '2014':'Apple', '2015':'Apple', '2016':'Apple', \n",
    "                      '2017':'Apple', '2018':'Apple', '2019':'Microsoft',\n",
    "                      '2020':'Saudi Aramco','2021':'Apple','2022':'Saudi Aramco'}\n",
    "uni_comp = list(set(largest_market_cap.values()))\n",
    "print(f'List of unique companies: {uni_comp}')"
   ]
  },
  {
   "cell_type": "markdown",
   "id": "fa049238-9f08-42a3-a5e5-e58960138c4a",
   "metadata": {
    "tags": []
   },
   "source": [
    "# Question 5\n",
    "\n",
    " - Utilize the `random` module to produce 1_000 continuous random numbers ranging from 65 to 115 (don't worry about the end points), and store them in `arr_demand`. You can use `append` or list comprehension. **Hint: Consider the random.uniform() function.**\n",
    " - Determine and display the average of the numbers in `arr_demand` using an `f-string`. **Hint: You can use statistics module (statistics.fmean() function) or use sum/len to calculate average**\n",
    " - Construct a list named `arr_demand_le_100` with numbers from `arr_demand` that are less than or equal to 100 using list comprehension. Show the count of numbers in `arr_demand_le_100` using an `f-string`.\n",
    " - Count and report the number of random numbers in `arr_demand` that are precisely equal to 100, using an `f-string`.\n",
    " - Display the smallest number in `arr_demand` with an `f-string`.\n",
    "\n",
    "**Note: If you like, you can use `numpy` for this problem; but you don't have to!**\n"
   ]
  },
  {
   "cell_type": "code",
   "execution_count": 327,
   "id": "c7345c38-cee6-4e7d-92c6-688a500b3838",
   "metadata": {},
   "outputs": [
    {
     "name": "stdout",
     "output_type": "stream",
     "text": [
      "The average of the numbers is 90.3514739297361\n",
      "The count of numbers that are less than or equal to 100 is 689\n",
      "The number of random numbers that are precisely equal to 100 is 0\n",
      "The smallest number is 65.02291008157955\n"
     ]
    }
   ],
   "source": [
    "# Solution\n",
    "import random\n",
    "import statistics\n",
    "arr_demand = [random.uniform(65,115) for num in range(1000)]\n",
    "\n",
    "arr_avg = statistics.fmean(arr_demand)\n",
    "print(f'The average of the numbers is {arr_avg}')\n",
    "\n",
    "arr_demand_le_100 = [num for num in arr_demand if num <= 100]\n",
    "le_100_count = len(arr_demand_le_100)\n",
    "print(f'The count of numbers that are less than or equal to 100 is {le_100_count}')\n",
    "\n",
    "#arr_demand.count(100)\n",
    "print(f'The number of random numbers that are precisely equal to 100 is {arr_demand.count(100)}')\n",
    "\n",
    "print(f'The smallest number is {min(arr_demand)}')"
   ]
  },
  {
   "cell_type": "markdown",
   "id": "2ea44949-41fe-4a18-ba8c-0bec9e29ddae",
   "metadata": {},
   "source": [
    "# Question 6\n",
    "Suppose you have a dictionary representing the names of 10 BARM students and their respective grades in four different subjects:\n",
    "\n",
    "barm_grades = {\n",
    "\n",
    "    'Carly': [73.33, 81.95, 83.81, 99.24],\n",
    "    \n",
    "    'Ziyao': [79.90, 77.80, 91.34, 77.43],\n",
    "    \n",
    "    'Shishan': [80.28, 98.58, 99.85, 91.53],\n",
    "    \n",
    "    'Jack': [86.60, 91.99, 99.16, 79.80],\n",
    "    \n",
    "    'Carter': [88.29, 72.80, 73.30, 82.25],\n",
    "    \n",
    "    'Chen': [74.11, 94.78, 83.56, 72.85],\n",
    "    \n",
    "    'Rongbo': [82.16, 90.35, 73.12, 75.09],\n",
    "    \n",
    "    'Zibo': [92.30, 99.68, 86.09, 97.00],\n",
    "    \n",
    "    'Haoran': [97.74, 74.34, 70.06, 76.60],\n",
    "    \n",
    "    'Annabel': [94.92, 77.00, 93.52, 99.13]\n",
    "    \n",
    "}\n",
    "\n",
    "\n",
    "Write a Python function named `student_status` which takes in a dictionary (similar to the one provided) and a `student` name. The function should return a dictionary containing the `highest`, `lowest`, and `average` grade for the specified student. If the `student` name isn't found in the dictionary, the function should return `student does not exist`.\n",
    "\n",
    "\n",
    "`For your convenience I have copied the above dictionary in the below cell`\n"
   ]
  },
  {
   "cell_type": "code",
   "execution_count": 330,
   "id": "e37c507c-c552-4252-94ab-477c84d40efb",
   "metadata": {},
   "outputs": [
    {
     "data": {
      "text/plain": [
       "(99.24, 73.33, 84.5825)"
      ]
     },
     "execution_count": 330,
     "metadata": {},
     "output_type": "execute_result"
    }
   ],
   "source": [
    "# Solution\n",
    "barm_grades = {\n",
    "    'Carly': [73.33, 81.95, 83.81, 99.24],\n",
    "    'Ziyao': [79.90, 77.80, 91.34, 77.43],\n",
    "    'Shishan': [80.28, 98.58, 99.85, 91.53],\n",
    "    'Jack': [86.60, 91.99, 99.16, 79.80],\n",
    "    'Carter': [88.29, 72.80, 73.30, 82.25],\n",
    "    'Chen': [74.11, 94.78, 83.56, 72.85],\n",
    "    'Rongbo': [82.16, 90.35, 73.12, 75.09],\n",
    "    'Zibo': [92.30, 99.68, 86.09, 97.00],\n",
    "    'Haoran': [97.74, 74.34, 70.06, 76.60],\n",
    "    'Annabel': [94.92, 77.00, 93.52, 99.13]\n",
    "}\n",
    "\n",
    "def student_status(grade_dict,stu_name):\n",
    "    \"\"\"\n",
    "    Takes in a dictionary and a student name\n",
    "    Return highest, lowest, and average\n",
    "    If student name isn't found, return 'student does not exist'\n",
    "    \"\"\"\n",
    "    import statistics\n",
    "    if stu_name not in grade_dict:\n",
    "        return 'student does not exist'\n",
    "    else:\n",
    "        highest = max(grade_dict[stu_name])\n",
    "        lowest = min(grade_dict[stu_name])\n",
    "        avg = statistics.fmean(grade_dict[stu_name])\n",
    "        return (highest,lowest,avg)\n",
    "\n",
    "student_status(barm_grades, 'Carly')"
   ]
  },
  {
   "cell_type": "markdown",
   "id": "799271c7-7631-4117-b790-9016c1571341",
   "metadata": {
    "tags": []
   },
   "source": [
    "# Question 7\n",
    "\n",
    "Consider the following containing partial covid data. What kind of data structure is `covid_data`? You can answer this question with one line of code. Make sure to use proper `f-string`.\n",
    "\n",
    "`\n",
    "covid_data = [\n",
    " {'country': 'USA', 'confirmed': 108622505, 'deaths': 1176310, 'recovered': 106391032, 'active': 1055163},\n",
    " {'country': 'India','confirmed': 44998603, 'deaths': 531930,  'recovered': 44466109,  'active': 564},\n",
    " {'country': 'France','confirmed': 40138560,'deaths': 167642,  'recovered': 39970918, 'active': 869},\n",
    " {'country': 'Germany', 'confirmed': 38486260, 'deaths': 175989,'recovered': 38240600,'active': 69671},\n",
    " {'country': 'Brazil', 'confirmed': 37789040, 'deaths': 705313, 'recovered': 36249161, 'active': 834566},\n",
    " {'country': 'S. Korea', 'confirmed': 34571873, 'deaths': 35934,'recovered': 34535939},\n",
    " {'country': 'Japan', 'confirmed': 33803572,  'deaths': 74694, 'recovered': 4456839, 'active': 83},\n",
    " {'country': 'Italy', 'confirmed': 26043870, 'deaths': 191586, 'recovered': 25698988,'active': 153296}\n",
    "]\n",
    "`\n",
    "\n",
    "I have copied this dictionary in the below cell for your convenience."
   ]
  },
  {
   "cell_type": "code",
   "execution_count": 333,
   "id": "c3db9280-db9e-4157-968a-e82846796f61",
   "metadata": {},
   "outputs": [
    {
     "name": "stdout",
     "output_type": "stream",
     "text": [
      "covid_data is a <class 'list'>\n"
     ]
    }
   ],
   "source": [
    "# Solution\n",
    "\n",
    "covid_data = [\n",
    " {'country': 'USA', 'confirmed': 108622505, 'deaths': 1176310, 'recovered': 106391032, 'active': 1055163},\n",
    " {'country': 'India','confirmed': 44998603, 'deaths': 531930,  'recovered': 44466109,  'active': 564},\n",
    " {'country': 'France','confirmed': 40138560,'deaths': 167642,  'recovered': 39970918, 'active': 869},\n",
    " {'country': 'Germany', 'confirmed': 38486260, 'deaths': 175989,'recovered': 38240600,'active': 69671},\n",
    " {'country': 'Brazil', 'confirmed': 37789040, 'deaths': 705313, 'recovered': 36249161, 'active': 834566},\n",
    " {'country': 'S. Korea', 'confirmed': 34571873, 'deaths': 35934,'recovered': 34535939},\n",
    " {'country': 'Japan', 'confirmed': 33803572,  'deaths': 74694, 'recovered': 4456839, 'active': 83},\n",
    " {'country': 'Italy', 'confirmed': 26043870, 'deaths': 191586, 'recovered': 25698988,'active': 153296}\n",
    "]\n",
    "\n",
    "print(f'covid_data is a {type(covid_data)}')"
   ]
  },
  {
   "cell_type": "markdown",
   "id": "157448f9-cec7-40fb-b72c-1d357582ff41",
   "metadata": {
    "tags": []
   },
   "source": [
    "# Question 8\n",
    "\n",
    "Given a dataset with partial COVID-19 information, for each of these dictionaries, compute the ratio of `deaths` to `confirmed` cases for the listed countries. You can use dictionary key of `ratio`. Then, determine and display the average of these ratios using an appropriately formatted `f-string`.\n",
    "\n",
    "`\n",
    "covid_data = [\n",
    " {'country': 'USA', 'confirmed': 108622505, 'deaths': 1176310, 'recovered': 106391032, 'active': 1055163},\n",
    " {'country': 'India','confirmed': 44998603, 'deaths': 531930,  'recovered': 44466109,  'active': 564},\n",
    " {'country': 'France','confirmed': 40138560,'deaths': 167642,  'recovered': 39970918, 'active': 869},\n",
    " {'country': 'Germany', 'confirmed': 38486260, 'deaths': 175989,'recovered': 38240600,'active': 69671},\n",
    " {'country': 'Brazil', 'confirmed': 37789040, 'deaths': 705313, 'recovered': 36249161, 'active': 834566},\n",
    " {'country': 'S. Korea', 'confirmed': 34571873, 'deaths': 35934,'recovered': 34535939},\n",
    " {'country': 'Japan', 'confirmed': 33803572,  'deaths': 74694, 'recovered': 4456839, 'active': 83},\n",
    " {'country': 'Italy', 'confirmed': 26043870, 'deaths': 191586, 'recovered': 25698988,'active': 153296}\n",
    "]\n",
    "`\n",
    "\n",
    "I have copied this dictionary in the below cell for your convenience."
   ]
  },
  {
   "cell_type": "code",
   "execution_count": 336,
   "id": "3503e15a-a10e-4ea1-8f8b-1f424095c83b",
   "metadata": {},
   "outputs": [
    {
     "name": "stdout",
     "output_type": "stream",
     "text": [
      "The average of ratios is 0.0075836930252905325\n"
     ]
    }
   ],
   "source": [
    "# Solution\n",
    "import statistics\n",
    "covid_data = [\n",
    " {'country': 'USA', 'confirmed': 108622505, 'deaths': 1176310, 'recovered': 106391032, 'active': 1055163},\n",
    " {'country': 'India','confirmed': 44998603, 'deaths': 531930,  'recovered': 44466109,  'active': 564},\n",
    " {'country': 'France','confirmed': 40138560,'deaths': 167642,  'recovered': 39970918, 'active': 869},\n",
    " {'country': 'Germany', 'confirmed': 38486260, 'deaths': 175989,'recovered': 38240600,'active': 69671},\n",
    " {'country': 'Brazil', 'confirmed': 37789040, 'deaths': 705313, 'recovered': 36249161, 'active': 834566},\n",
    " {'country': 'S. Korea', 'confirmed': 34571873, 'deaths': 35934,'recovered': 34535939},\n",
    " {'country': 'Japan', 'confirmed': 33803572,  'deaths': 74694, 'recovered': 4456839, 'active': 83},\n",
    " {'country': 'Italy', 'confirmed': 26043870, 'deaths': 191586, 'recovered': 25698988,'active': 153296}\n",
    "]\n",
    "\n",
    "deaths = [covid_data[i].get('deaths') for i in range(len(covid_data))]\n",
    "confirmed = [covid_data[i].get('confirmed') for i in range(len(covid_data))]\n",
    "ratio = [deaths[i]/confirmed[i] for i in range(len(deaths))]\n",
    "ratio_avg = statistics.fmean(ratio)\n",
    "print(f'The average of ratios is {ratio_avg}')"
   ]
  },
  {
   "cell_type": "markdown",
   "id": "1b9471c7-8c26-4766-a684-40de92714235",
   "metadata": {
    "tags": []
   },
   "source": [
    "# Question 9\n",
    "\n",
    "**True/False:** In Python, all functions (except lambda functions) return `None`; unless you determine the return value using the `return` statement."
   ]
  },
  {
   "cell_type": "markdown",
   "id": "94312f7f-75e7-48be-aa2f-7a2c0202b75b",
   "metadata": {},
   "source": [
    "# Solution\n",
    "## True\n"
   ]
  },
  {
   "cell_type": "markdown",
   "id": "21f03676-cbd7-4449-854f-ee16e2896ddd",
   "metadata": {
    "tags": []
   },
   "source": [
    "# Question 10\n",
    "\n",
    "A group of students recently took their final exams, and their scores are recorded below. We need to sort these students by their exam scores in ascending order, so that the highest-scoring student appears last.\n",
    "\n",
    "For example:\n",
    "\n",
    "If the input list is `[(\"James\", 85), (\"Jackson\", 72), (\"Anna\", 91), (\"Betty\", 88)]`, the output should be `[(\"Jackson\", 72), (\"James\", 85),  (\"Betty\", 88), (\"Anna\", 91)]`.\n",
    "\n",
    "I have copied the names and grades in the below cell for your convenience. Please feel free to use a lambda or a define a function.\n"
   ]
  },
  {
   "cell_type": "code",
   "execution_count": 341,
   "id": "04fa234f-956b-46b0-bfbe-e99eb27efea4",
   "metadata": {},
   "outputs": [
    {
     "data": {
      "text/plain": [
       "[('Jackson', 72), ('James', 85), ('Betty', 88), ('Anna', 91)]"
      ]
     },
     "execution_count": 341,
     "metadata": {},
     "output_type": "execute_result"
    }
   ],
   "source": [
    "# Solution\n",
    "grades = [(\"James\", 85), (\"Jackson\", 72), (\"Anna\", 91), (\"Betty\", 88)]\n",
    "grades = sorted(grades, key = lambda k: k[1])\n",
    "grades"
   ]
  },
  {
   "cell_type": "code",
   "execution_count": null,
   "id": "87fd8c04-a7e9-4ee9-bcb0-bb55b6daef6d",
   "metadata": {},
   "outputs": [],
   "source": []
  },
  {
   "cell_type": "code",
   "execution_count": null,
   "id": "584866a9-7a32-43cf-a14d-ef98703d2b14",
   "metadata": {},
   "outputs": [],
   "source": []
  },
  {
   "cell_type": "code",
   "execution_count": null,
   "id": "ecbe84ec-5ca5-4f10-9996-92d6906cb4e6",
   "metadata": {},
   "outputs": [],
   "source": []
  },
  {
   "cell_type": "code",
   "execution_count": null,
   "id": "a1612120-fb48-4a48-9359-66feb5bbdc5c",
   "metadata": {},
   "outputs": [],
   "source": []
  }
 ],
 "metadata": {
  "kernelspec": {
   "display_name": "Python 3 (ipykernel)",
   "language": "python",
   "name": "python3"
  },
  "language_info": {
   "codemirror_mode": {
    "name": "ipython",
    "version": 3
   },
   "file_extension": ".py",
   "mimetype": "text/x-python",
   "name": "python",
   "nbconvert_exporter": "python",
   "pygments_lexer": "ipython3",
   "version": "3.12.4"
  }
 },
 "nbformat": 4,
 "nbformat_minor": 5
}
