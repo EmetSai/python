{
 "cells": [
  {
   "cell_type": "markdown",
   "metadata": {
    "id": "cuYPG-FC8ryF"
   },
   "source": [
    "# Week 5 Homework\n",
    "\n",
    "This homework provides an opportunity for you to practice the most important topics we discussed in week 4. It will also prepare you for week 5 of this course."
   ]
  },
  {
   "cell_type": "markdown",
   "metadata": {
    "id": "cKDuOTQB8ryN",
    "jp-MarkdownHeadingCollapsed": true,
    "tags": []
   },
   "source": [
    "## Submission guidelines:\n",
    "**`Please display all your output using the print() function`**\n",
    "\n",
    "**Once you are done, remove all the output (`Right click on screen --> Clear All Outputs`), save your file as: `YourFirstName_YourLastName_Week_5_SectionNumber.ipynb`.**\n",
    "\n",
    "\n",
    "## **Please import all the needed libraries/modules for each cell in that cell. As an example if you will use pandas in questions 1 and 2 and 14, please make sure to include `import pandas as pd` in ALL these  cells.**"
   ]
  },
  {
   "cell_type": "markdown",
   "metadata": {},
   "source": [
    "## Question 1\n",
    " - Please run\n",
    "      * `import pandas as pd` to import pandas\n",
    "      * set its display precision at 2 digits by running `pd.options.display.precision = 2`\n",
    "      \n",
    " - Please read the file from the following link and create a `DataFrame` called `df_patients`. \n",
    "\n",
    "     PATIENT_INFO_LINK =\n",
    "   'https://www.dropbox.com/scl/fi/z8363hhljjm7dcby7ai10/patient_info.csv?rlkey=jvl086b3m79mbuoyu84j5nqho&st=0snhkq6r&raw=1'\n",
    "\n",
    " - **Hint:** If you pay attention to the above link, part of the link says **`patient_info.csv`**. This signals us that this is a `csv` file and we need to use `pd.read_csv(above link)` function to read it. \n",
    " - This `DataFrame` contains information about patients selected from different parts of the United States admitted to a hospital network."
   ]
  },
  {
   "cell_type": "code",
   "execution_count": 11,
   "metadata": {},
   "outputs": [
    {
     "data": {
      "text/html": [
       "<div>\n",
       "<style scoped>\n",
       "    .dataframe tbody tr th:only-of-type {\n",
       "        vertical-align: middle;\n",
       "    }\n",
       "\n",
       "    .dataframe tbody tr th {\n",
       "        vertical-align: top;\n",
       "    }\n",
       "\n",
       "    .dataframe thead th {\n",
       "        text-align: right;\n",
       "    }\n",
       "</style>\n",
       "<table border=\"1\" class=\"dataframe\">\n",
       "  <thead>\n",
       "    <tr style=\"text-align: right;\">\n",
       "      <th></th>\n",
       "      <th>DATETIME</th>\n",
       "      <th>AGE</th>\n",
       "      <th>SEX</th>\n",
       "      <th>CHILDREN</th>\n",
       "      <th>SMOKER</th>\n",
       "      <th>WEIGHT_KILOGRAM</th>\n",
       "      <th>HEIGHT_METERS</th>\n",
       "      <th>UNITED_STATES_REGION</th>\n",
       "      <th>PREGNANT</th>\n",
       "      <th>DIABETIC</th>\n",
       "      <th>CHARGES</th>\n",
       "    </tr>\n",
       "  </thead>\n",
       "  <tbody>\n",
       "    <tr>\n",
       "      <th>0</th>\n",
       "      <td>7/18/22 23:06</td>\n",
       "      <td>19</td>\n",
       "      <td>female</td>\n",
       "      <td>0</td>\n",
       "      <td>yes</td>\n",
       "      <td>56.6</td>\n",
       "      <td>2.16</td>\n",
       "      <td>southwest</td>\n",
       "      <td>yes</td>\n",
       "      <td>no</td>\n",
       "      <td>16884.92</td>\n",
       "    </tr>\n",
       "    <tr>\n",
       "      <th>1</th>\n",
       "      <td>9/30/22 18:58</td>\n",
       "      <td>18</td>\n",
       "      <td>male</td>\n",
       "      <td>1</td>\n",
       "      <td>no</td>\n",
       "      <td>70.2</td>\n",
       "      <td>1.93</td>\n",
       "      <td>southeast</td>\n",
       "      <td>no</td>\n",
       "      <td>yes</td>\n",
       "      <td>1725.55</td>\n",
       "    </tr>\n",
       "    <tr>\n",
       "      <th>2</th>\n",
       "      <td>6/1/22 19:01</td>\n",
       "      <td>28</td>\n",
       "      <td>male</td>\n",
       "      <td>3</td>\n",
       "      <td>no</td>\n",
       "      <td>52.1</td>\n",
       "      <td>1.95</td>\n",
       "      <td>southeast</td>\n",
       "      <td>no</td>\n",
       "      <td>yes</td>\n",
       "      <td>4449.46</td>\n",
       "    </tr>\n",
       "    <tr>\n",
       "      <th>3</th>\n",
       "      <td>4/16/22 17:40</td>\n",
       "      <td>33</td>\n",
       "      <td>male</td>\n",
       "      <td>0</td>\n",
       "      <td>no</td>\n",
       "      <td>81.0</td>\n",
       "      <td>1.65</td>\n",
       "      <td>northwest</td>\n",
       "      <td>no</td>\n",
       "      <td>yes</td>\n",
       "      <td>21984.47</td>\n",
       "    </tr>\n",
       "    <tr>\n",
       "      <th>4</th>\n",
       "      <td>1/8/22 10:28</td>\n",
       "      <td>32</td>\n",
       "      <td>male</td>\n",
       "      <td>0</td>\n",
       "      <td>no</td>\n",
       "      <td>87.2</td>\n",
       "      <td>1.85</td>\n",
       "      <td>northwest</td>\n",
       "      <td>no</td>\n",
       "      <td>no</td>\n",
       "      <td>3866.86</td>\n",
       "    </tr>\n",
       "    <tr>\n",
       "      <th>...</th>\n",
       "      <td>...</td>\n",
       "      <td>...</td>\n",
       "      <td>...</td>\n",
       "      <td>...</td>\n",
       "      <td>...</td>\n",
       "      <td>...</td>\n",
       "      <td>...</td>\n",
       "      <td>...</td>\n",
       "      <td>...</td>\n",
       "      <td>...</td>\n",
       "      <td>...</td>\n",
       "    </tr>\n",
       "    <tr>\n",
       "      <th>1333</th>\n",
       "      <td>6/17/22 22:53</td>\n",
       "      <td>50</td>\n",
       "      <td>male</td>\n",
       "      <td>3</td>\n",
       "      <td>no</td>\n",
       "      <td>66.0</td>\n",
       "      <td>1.46</td>\n",
       "      <td>northwest</td>\n",
       "      <td>no</td>\n",
       "      <td>yes</td>\n",
       "      <td>10600.55</td>\n",
       "    </tr>\n",
       "    <tr>\n",
       "      <th>1334</th>\n",
       "      <td>3/22/22 20:14</td>\n",
       "      <td>18</td>\n",
       "      <td>female</td>\n",
       "      <td>0</td>\n",
       "      <td>no</td>\n",
       "      <td>77.3</td>\n",
       "      <td>1.67</td>\n",
       "      <td>northeast</td>\n",
       "      <td>no</td>\n",
       "      <td>yes</td>\n",
       "      <td>2205.98</td>\n",
       "    </tr>\n",
       "    <tr>\n",
       "      <th>1335</th>\n",
       "      <td>12/16/22 5:22</td>\n",
       "      <td>18</td>\n",
       "      <td>female</td>\n",
       "      <td>0</td>\n",
       "      <td>no</td>\n",
       "      <td>104.1</td>\n",
       "      <td>1.50</td>\n",
       "      <td>southeast</td>\n",
       "      <td>no</td>\n",
       "      <td>no</td>\n",
       "      <td>1629.83</td>\n",
       "    </tr>\n",
       "    <tr>\n",
       "      <th>1336</th>\n",
       "      <td>9/10/22 11:45</td>\n",
       "      <td>21</td>\n",
       "      <td>female</td>\n",
       "      <td>0</td>\n",
       "      <td>no</td>\n",
       "      <td>80.9</td>\n",
       "      <td>2.06</td>\n",
       "      <td>southwest</td>\n",
       "      <td>no</td>\n",
       "      <td>yes</td>\n",
       "      <td>2007.95</td>\n",
       "    </tr>\n",
       "    <tr>\n",
       "      <th>1337</th>\n",
       "      <td>3/5/22 7:22</td>\n",
       "      <td>61</td>\n",
       "      <td>female</td>\n",
       "      <td>0</td>\n",
       "      <td>yes</td>\n",
       "      <td>79.1</td>\n",
       "      <td>1.51</td>\n",
       "      <td>northwest</td>\n",
       "      <td>no</td>\n",
       "      <td>yes</td>\n",
       "      <td>29141.36</td>\n",
       "    </tr>\n",
       "  </tbody>\n",
       "</table>\n",
       "<p>1338 rows × 11 columns</p>\n",
       "</div>"
      ],
      "text/plain": [
       "           DATETIME  AGE     SEX  CHILDREN SMOKER  WEIGHT_KILOGRAM  \\\n",
       "0     7/18/22 23:06   19  female         0    yes             56.6   \n",
       "1     9/30/22 18:58   18    male         1     no             70.2   \n",
       "2      6/1/22 19:01   28    male         3     no             52.1   \n",
       "3     4/16/22 17:40   33    male         0     no             81.0   \n",
       "4      1/8/22 10:28   32    male         0     no             87.2   \n",
       "...             ...  ...     ...       ...    ...              ...   \n",
       "1333  6/17/22 22:53   50    male         3     no             66.0   \n",
       "1334  3/22/22 20:14   18  female         0     no             77.3   \n",
       "1335  12/16/22 5:22   18  female         0     no            104.1   \n",
       "1336  9/10/22 11:45   21  female         0     no             80.9   \n",
       "1337    3/5/22 7:22   61  female         0    yes             79.1   \n",
       "\n",
       "      HEIGHT_METERS UNITED_STATES_REGION PREGNANT DIABETIC   CHARGES  \n",
       "0              2.16            southwest      yes       no  16884.92  \n",
       "1              1.93            southeast       no      yes   1725.55  \n",
       "2              1.95            southeast       no      yes   4449.46  \n",
       "3              1.65            northwest       no      yes  21984.47  \n",
       "4              1.85            northwest       no       no   3866.86  \n",
       "...             ...                  ...      ...      ...       ...  \n",
       "1333           1.46            northwest       no      yes  10600.55  \n",
       "1334           1.67            northeast       no      yes   2205.98  \n",
       "1335           1.50            southeast       no       no   1629.83  \n",
       "1336           2.06            southwest       no      yes   2007.95  \n",
       "1337           1.51            northwest       no      yes  29141.36  \n",
       "\n",
       "[1338 rows x 11 columns]"
      ]
     },
     "execution_count": 11,
     "metadata": {},
     "output_type": "execute_result"
    }
   ],
   "source": [
    "# solution\n",
    "import pandas as pd\n",
    "pd.options.display.precision = 2\n",
    "PATIENT_INFO_LINK = 'https://www.dropbox.com/scl/fi/z8363hhljjm7dcby7ai10/patient_info.csv?rlkey=jvl086b3m79mbuoyu84j5nqho&st=0snhkq6r&raw=1'\n",
    "patient_info = pd.read_csv(PATIENT_INFO_LINK)\n",
    "df_patients = pd.DataFrame(patient_info)\n",
    "df_patients"
   ]
  },
  {
   "cell_type": "markdown",
   "metadata": {
    "id": "pn7BtKIvYnd2"
   },
   "source": [
    "## Question 2\n",
    "\n",
    "Use `info` to check the data-types. What is the type of `DATETIME`? \n"
   ]
  },
  {
   "cell_type": "code",
   "execution_count": 13,
   "metadata": {},
   "outputs": [
    {
     "name": "stdout",
     "output_type": "stream",
     "text": [
      "<class 'pandas.core.frame.DataFrame'>\n",
      "RangeIndex: 1338 entries, 0 to 1337\n",
      "Data columns (total 11 columns):\n",
      " #   Column                Non-Null Count  Dtype  \n",
      "---  ------                --------------  -----  \n",
      " 0   DATETIME              1338 non-null   object \n",
      " 1   AGE                   1338 non-null   int64  \n",
      " 2   SEX                   1338 non-null   object \n",
      " 3   CHILDREN              1338 non-null   int64  \n",
      " 4   SMOKER                1338 non-null   object \n",
      " 5   WEIGHT_KILOGRAM       1338 non-null   float64\n",
      " 6   HEIGHT_METERS         1338 non-null   float64\n",
      " 7   UNITED_STATES_REGION  1338 non-null   object \n",
      " 8   PREGNANT              1338 non-null   object \n",
      " 9   DIABETIC              1338 non-null   object \n",
      " 10  CHARGES               1338 non-null   float64\n",
      "dtypes: float64(3), int64(2), object(6)\n",
      "memory usage: 115.1+ KB\n",
      "\n",
      "DATETIME is an object\n"
     ]
    }
   ],
   "source": [
    "# solution\n",
    "import pandas as pd\n",
    "\n",
    "df_patients.info()\n",
    "print(f'\\nDATETIME is an {df_patients['DATETIME'].dtypes}')"
   ]
  },
  {
   "cell_type": "markdown",
   "metadata": {
    "id": "pn7BtKIvYnd2"
   },
   "source": [
    "## Question 3\n",
    "\n",
    "What is the average age of these patients? Use `f-string` to print the answer with ony 2 digits after the decimal point.  \n"
   ]
  },
  {
   "cell_type": "code",
   "execution_count": 15,
   "metadata": {},
   "outputs": [
    {
     "name": "stdout",
     "output_type": "stream",
     "text": [
      "The average age of these patients is: 39.21\n"
     ]
    }
   ],
   "source": [
    "# solution\n",
    "import pandas as pd\n",
    "\n",
    "print(f'The average age of these patients is: {df_patients['AGE'].mean():.2f}')"
   ]
  },
  {
   "cell_type": "markdown",
   "metadata": {
    "id": "pn7BtKIvYnd2"
   },
   "source": [
    "## Question 4\n",
    "\n",
    "What is the weight of the lightest patient? Use `f-string` to print the answer with ony 2 digits after the decimal point.  \n"
   ]
  },
  {
   "cell_type": "code",
   "execution_count": 20,
   "metadata": {},
   "outputs": [
    {
     "name": "stdout",
     "output_type": "stream",
     "text": [
      "The weight of the lightest patient is: 50.10 kilograms.\n"
     ]
    }
   ],
   "source": [
    "# solution\n",
    "import pandas as pd\n",
    "\n",
    "print(f'The weight of the lightest patient is: {df_patients['WEIGHT_KILOGRAM'].min():.2f} kilograms.')"
   ]
  },
  {
   "cell_type": "markdown",
   "metadata": {
    "id": "pn7BtKIvYnd2"
   },
   "source": [
    "## Question 5\n",
    "\n",
    "What is the height of the tallest patient? Use `f-string` to print the answer with ony 2 digits after the decimal point.  \n"
   ]
  },
  {
   "cell_type": "code",
   "execution_count": 23,
   "metadata": {},
   "outputs": [
    {
     "name": "stdout",
     "output_type": "stream",
     "text": [
      "The height of the tallest patient is: 2.80 meters.\n"
     ]
    }
   ],
   "source": [
    "# solution\n",
    "import pandas as pd\n",
    "\n",
    "print(f'The height of the tallest patient is: {df_patients['HEIGHT_METERS'].max():.2f} meters.')"
   ]
  },
  {
   "cell_type": "markdown",
   "metadata": {
    "id": "pn7BtKIvYnd2"
   },
   "source": [
    "## Question 6\n",
    "\n",
    "What is the range of the `Charges`? Hint: you need to use both `max` and `min` functions. Use `f-string` to print the answer with ony 2 digits after the decimal point.\n"
   ]
  },
  {
   "cell_type": "code",
   "execution_count": 26,
   "metadata": {},
   "outputs": [
    {
     "name": "stdout",
     "output_type": "stream",
     "text": [
      "The range of the Charges is [1121.87, 63770.43].\n"
     ]
    }
   ],
   "source": [
    "# solution\n",
    "import pandas as pd\n",
    "\n",
    "max_charge = df_patients['CHARGES'].max()\n",
    "min_charge = df_patients['CHARGES'].min()\n",
    "print(f'The range of the Charges is [{min_charge:.2f}, {max_charge:.2f}].')"
   ]
  },
  {
   "cell_type": "markdown",
   "metadata": {
    "id": "pn7BtKIvYnd2"
   },
   "source": [
    "## Question 7\n",
    "\n",
    "How old are the youngest and oldest patients? Use `f-string` to print the answers.\n"
   ]
  },
  {
   "cell_type": "code",
   "execution_count": 29,
   "metadata": {},
   "outputs": [
    {
     "name": "stdout",
     "output_type": "stream",
     "text": [
      "The youngest patient is 18 years old.\n",
      "The oldest patient is 64 years old.\n"
     ]
    }
   ],
   "source": [
    "# solution\n",
    "import pandas as pd\n",
    "\n",
    "youngest = df_patients['AGE'].min()\n",
    "oldest = df_patients['AGE'].max()\n",
    "print(f'The youngest patient is {youngest} years old.\\nThe oldest patient is {oldest} years old.')"
   ]
  },
  {
   "cell_type": "markdown",
   "metadata": {},
   "source": [
    "## Question 8\n",
    "\n",
    "How many of these patients are smoker? Hint: please use `value_counts` on the appropriate column."
   ]
  },
  {
   "cell_type": "code",
   "execution_count": 32,
   "metadata": {},
   "outputs": [
    {
     "name": "stdout",
     "output_type": "stream",
     "text": [
      "274 of these patients are smoker.\n"
     ]
    }
   ],
   "source": [
    "# solution\n",
    "import pandas as pd\n",
    "\n",
    "print(f'{df_patients['SMOKER'].value_counts()['yes']} of these patients are smoker.')"
   ]
  },
  {
   "cell_type": "markdown",
   "metadata": {},
   "source": [
    "## Question 9\n",
    "\n",
    "How many of these patients are smoker? Hint: please use `boolean indexing` and `sum` function on the appropriate column."
   ]
  },
  {
   "cell_type": "code",
   "execution_count": 35,
   "metadata": {},
   "outputs": [
    {
     "name": "stdout",
     "output_type": "stream",
     "text": [
      "274 of these patients are smoker.\n"
     ]
    }
   ],
   "source": [
    "# solution\n",
    "import pandas as pd\n",
    "\n",
    "print(f'{(df_patients['SMOKER'] == 'yes').sum()} of these patients are smoker.')"
   ]
  },
  {
   "cell_type": "markdown",
   "metadata": {},
   "source": [
    "## Question 10\n",
    "\n",
    "What fraction of these patients are smoker? Hint: please use `boolean indexing` and `mul` and `mean` functions to answer the question. Please note that `.mul(100)` multiplies a column by `100`. Try `mul(100).mean()` on appropriate column."
   ]
  },
  {
   "cell_type": "code",
   "execution_count": 38,
   "metadata": {},
   "outputs": [
    {
     "name": "stdout",
     "output_type": "stream",
     "text": [
      "20.48% of these patients are smoker.\n"
     ]
    }
   ],
   "source": [
    "# solution\n",
    "import pandas as pd\n",
    "\n",
    "print(f'{(df_patients['SMOKER'] == 'yes').mul(100).mean():.2f}% of these patients are smoker.')"
   ]
  },
  {
   "cell_type": "markdown",
   "metadata": {},
   "source": [
    "## Question 11\n",
    "\n",
    "What is the average age of the smoking patients? \n",
    "\n",
    "There are several ways of answering this question. I will guide you in several different ways.\n",
    "\n",
    "**Method 1:**\n",
    "\n",
    "Using `boolean indexing` create a new dataframe with only smoking patients. Then call `mean` function on this dataframe's appropriate column. \n",
    "\n",
    "Please use **Method 1** in this question"
   ]
  },
  {
   "cell_type": "code",
   "execution_count": 41,
   "metadata": {},
   "outputs": [
    {
     "name": "stdout",
     "output_type": "stream",
     "text": [
      "The average age of the smoking patients is: 38.51\n"
     ]
    }
   ],
   "source": [
    "# solution\n",
    "import pandas as pd\n",
    "\n",
    "df_smoker = df_patients[df_patients['SMOKER']=='yes']\n",
    "avg_smoker_age = df_smoker['AGE'].mean()\n",
    "print(f'The average age of the smoking patients is: {avg_smoker_age:.2f}')"
   ]
  },
  {
   "cell_type": "markdown",
   "metadata": {},
   "source": [
    "## Question 12\n",
    "\n",
    "What is the average age of the smoking patients? \n",
    "\n",
    "Here is Method 2:\n",
    "\n",
    "**Method 2:**\n",
    "\n",
    "*Method 1* has the problem of creating a new dataframe that could be time consuming and memory intensive if your original dataset is a big dataset. So another way of answering this question is by using `groupby` and calling `groupby` on the original dataframe. Please watch the appropriate posted videos for this part first. \n",
    "\n",
    "Please use **Method 2** in this question."
   ]
  },
  {
   "cell_type": "code",
   "execution_count": 44,
   "metadata": {},
   "outputs": [
    {
     "name": "stdout",
     "output_type": "stream",
     "text": [
      "The average age of the smoking patients is: 38.51\n"
     ]
    }
   ],
   "source": [
    "# solution\n",
    "import pandas as pd\n",
    "\n",
    "avg_smoker_age2 = df_patients.groupby(by='SMOKER').get_group(('yes')).AGE.mean()\n",
    "print(f'The average age of the smoking patients is: {avg_smoker_age2:.2f}')"
   ]
  },
  {
   "cell_type": "markdown",
   "metadata": {},
   "source": [
    "## Question 13\n",
    "\n",
    "Using `boolean indexing`, `mul`, and `mean` functions, determine the fraction of female patients.\n"
   ]
  },
  {
   "cell_type": "code",
   "execution_count": 33,
   "metadata": {},
   "outputs": [
    {
     "name": "stdout",
     "output_type": "stream",
     "text": [
      "49.48% of patients are female.\n"
     ]
    }
   ],
   "source": [
    "# solution\n",
    "import pandas as pd\n",
    "\n",
    "print(f'{(df_patients['SEX'] == 'female').mul(100).mean():.2f}% of patients are female.')"
   ]
  },
  {
   "cell_type": "markdown",
   "metadata": {},
   "source": [
    "## Question 14\n",
    "\n",
    "What fraction of the patients is pregnant? \n"
   ]
  },
  {
   "cell_type": "code",
   "execution_count": 35,
   "metadata": {},
   "outputs": [
    {
     "name": "stdout",
     "output_type": "stream",
     "text": [
      "10.61% of patients are pregnant.\n"
     ]
    }
   ],
   "source": [
    "# solution\n",
    "import pandas as pd\n",
    "\n",
    "print(f'{(df_patients['PREGNANT'] == 'yes').mul(100).mean():.2f}% of patients are pregnant.')\n"
   ]
  },
  {
   "cell_type": "markdown",
   "metadata": {},
   "source": [
    "## Question 15\n",
    "\n",
    "Which region of the united states has the most diabetic patients?\n",
    "\n",
    "**Strong Hint:** You can first use `boolean indexing` to create another daframe that contains only diabetic patients and then use count values to answer this question. It would be great if you also try to use `idxmax` function."
   ]
  },
  {
   "cell_type": "code",
   "execution_count": 37,
   "metadata": {},
   "outputs": [
    {
     "name": "stdout",
     "output_type": "stream",
     "text": [
      "southeast has the most diabetic patients.\n"
     ]
    }
   ],
   "source": [
    "# solution\n",
    "import pandas as pd\n",
    "\n",
    "df_diabetic = df_patients[df_patients['DIABETIC'] == 'yes']\n",
    "df_d_region = df_diabetic['UNITED_STATES_REGION'].value_counts()\n",
    "#print(df_d_region)\n",
    "print(f'{df_d_region.idxmax()} has the most diabetic patients.')"
   ]
  },
  {
   "cell_type": "markdown",
   "metadata": {},
   "source": [
    "## Question 16\n",
    "\n",
    "Answer the previous question using `groupby`.\n"
   ]
  },
  {
   "cell_type": "code",
   "execution_count": 39,
   "metadata": {},
   "outputs": [
    {
     "name": "stdout",
     "output_type": "stream",
     "text": [
      "southeast has the most diabetic patients.\n"
     ]
    }
   ],
   "source": [
    "# solution\n",
    "import pandas as pd\n",
    "\n",
    "df_diabetic = df_patients[df_patients['DIABETIC'] == 'yes']\n",
    "df_d_region2 = df_patients.groupby(by='UNITED_STATES_REGION').size()\n",
    "print(f'{df_d_region2.idxmax()} has the most diabetic patients.')"
   ]
  },
  {
   "cell_type": "markdown",
   "metadata": {},
   "source": [
    "## Question 17\n",
    "\n",
    "There are four csv files in Canvas under the following names:\n",
    " - `restaurants.csv`\n",
    " - `items.csv`\n",
    " - `orders.csv`\n",
    " - `census.csv`\n",
    "Please download them on your computer. We will work with these files next week."
   ]
  }
 ],
 "metadata": {
  "colab": {
   "collapsed_sections": [],
   "name": "Updated Week 3 Homework_6Feb.ipynb",
   "provenance": []
  },
  "kernelspec": {
   "display_name": "Python 3 (ipykernel)",
   "language": "python",
   "name": "python3"
  },
  "language_info": {
   "codemirror_mode": {
    "name": "ipython",
    "version": 3
   },
   "file_extension": ".py",
   "mimetype": "text/x-python",
   "name": "python",
   "nbconvert_exporter": "python",
   "pygments_lexer": "ipython3",
   "version": "3.12.4"
  }
 },
 "nbformat": 4,
 "nbformat_minor": 4
}
