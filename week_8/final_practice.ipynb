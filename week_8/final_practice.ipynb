{
 "cells": [
  {
   "cell_type": "markdown",
   "id": "146ba49d-9f3c-445e-992d-142dcdf4eb8e",
   "metadata": {},
   "source": [
    "# A set of practice problems\n",
    "## Note 1: These questions are for your practice and are not a 100% representitive of topics we have covered in the class.\n",
    "## Note 2: If you want to practice merging dataframes, please refer to the practice problems I have posted under week 7."
   ]
  },
  {
   "cell_type": "markdown",
   "id": "0131a5a0-e260-4b25-975f-be8d30b15b6e",
   "metadata": {},
   "source": [
    "# Consider the following dictionaries"
   ]
  },
  {
   "cell_type": "code",
   "execution_count": null,
   "id": "4c34e72a-fe4e-4635-88db-1d0651d62945",
   "metadata": {
    "tags": []
   },
   "outputs": [],
   "source": [
    "import pandas as pd\n",
    "import matplotlib.pyplot as plt\n",
    "import seaborn as sns\n",
    "import missingno as msno\n",
    "import pingouin as pg\n",
    "\n",
    "sales_data = {\n",
    "    'Order_ID': [101, 102, 103, 104, 105],\n",
    "    'Product': ['Laptop', 'Mouse', 'Keyboard', 'Monitor', 'Tablet'],\n",
    "    'Category': ['Electronics', 'Accessories', 'Accessories', 'Electronics', 'Electronics'],\n",
    "    'Quantity': [1, 2, 1, 3, 1],\n",
    "    'Order_Date': ['2023-01-15', '2023-02-20', '2023-03-10', '2023-04-18', '2023-05-05'],\n",
    "    'Price': [1000, 25, 45, 200, 500]\n",
    "}\n",
    "\n",
    "customer_data = {\n",
    "    'Customer_ID': [1, 2, 3, 4, 5],\n",
    "    'Name': ['Alice', 'Bob', 'Charlie', 'David', 'Eve'],\n",
    "    'Country': ['US', 'Canada', 'US', 'UK', None],\n",
    "    'Age': [25, 34, None, 29, 22],\n",
    "    'Loyalty_Score': [4.5, None, 3.8, 4.0, 4.7],\n",
    "}\n",
    "\n",
    "shipment_data = {\n",
    "    'Order_ID': [101, 102, 106, 107, 108],\n",
    "    'Shipment_Date': ['2023-01-17', '2023-02-22', '2023-06-15', '2023-07-20', '2023-08-25'],\n",
    "    'Shipping_Cost': [15.5, 12.0, 18.0, 22.5, 10.0],\n",
    "    'Carrier': ['FedEx', 'UPS', 'DHL', 'FedEx', 'UPS']\n",
    "}\n"
   ]
  },
  {
   "cell_type": "markdown",
   "id": "3ba9ba7c-3aeb-439a-a8f6-a840c4a0d332",
   "metadata": {},
   "source": [
    "### Create a DataFrame `df_sales` from the `sales_data` dictionary. Display the first three rows."
   ]
  },
  {
   "cell_type": "code",
   "execution_count": null,
   "id": "1d56bf19-8e8b-4a3b-bd85-b465fbccaa53",
   "metadata": {
    "tags": []
   },
   "outputs": [],
   "source": [
    "df_sales = pd.DataFrame(sales_data)\n",
    "df_sales.head(3)"
   ]
  },
  {
   "cell_type": "markdown",
   "id": "865d51a7-ed40-4e2f-8ac4-532a27e5115c",
   "metadata": {},
   "source": [
    "### Display the summary information of the `df_sales` DataFrame."
   ]
  },
  {
   "cell_type": "code",
   "execution_count": null,
   "id": "073137c7-7b0e-4259-8b32-038f75ea222c",
   "metadata": {
    "tags": []
   },
   "outputs": [],
   "source": [
    "df_sales.info()"
   ]
  },
  {
   "cell_type": "markdown",
   "id": "1c5f80fd-66da-4bb1-a781-6a736cf39462",
   "metadata": {},
   "source": [
    "### Use the `describe` method to display statistical summary information for the numerical columns in `df_sales`."
   ]
  },
  {
   "cell_type": "code",
   "execution_count": null,
   "id": "7a25afff-888f-4ee2-9399-4805a148a795",
   "metadata": {
    "tags": []
   },
   "outputs": [],
   "source": [
    "df_sales.describe()"
   ]
  },
  {
   "cell_type": "markdown",
   "id": "c5f37489-7d64-479d-8719-8ac57986f299",
   "metadata": {},
   "source": [
    "### Convert the `Order_Date` column in `df_sales` to a pandas datetime format. Verify the updated data type."
   ]
  },
  {
   "cell_type": "code",
   "execution_count": null,
   "id": "36a342d5-16e6-47e0-aeda-b6f49c541658",
   "metadata": {
    "tags": []
   },
   "outputs": [],
   "source": [
    "df_sales['Order_Date'] = pd.to_datetime(df_sales['Order_Date'])\n",
    "df_sales.dtypes"
   ]
  },
  {
   "cell_type": "markdown",
   "id": "86e7ee1b-c3b7-4fb5-aa6c-c180ccd5fe8b",
   "metadata": {},
   "source": [
    "### Rename the column `Price` in `df_sales` to `Unit_Price`."
   ]
  },
  {
   "cell_type": "code",
   "execution_count": null,
   "id": "855ce464-5de7-4ec1-8779-185eb51d0b7a",
   "metadata": {
    "tags": []
   },
   "outputs": [],
   "source": [
    "df_sales.rename(columns={'Price': 'Unit_Price'}, inplace=True)\n",
    "df_sales"
   ]
  },
  {
   "cell_type": "markdown",
   "id": "40d5dfab-623d-495f-abbb-4fd93b7c16b1",
   "metadata": {},
   "source": [
    "### Transpose the `df_sales` DataFrame and display the result."
   ]
  },
  {
   "cell_type": "code",
   "execution_count": null,
   "id": "c4eae96d-6e03-4e74-a66d-0176e45b8823",
   "metadata": {
    "tags": []
   },
   "outputs": [],
   "source": [
    "df_sales.T"
   ]
  },
  {
   "cell_type": "markdown",
   "id": "ba5ecc36-7660-4578-81f3-0be9825f99dd",
   "metadata": {},
   "source": [
    "### Find the number of unique values in the `Category` column of `df_sales`."
   ]
  },
  {
   "cell_type": "code",
   "execution_count": null,
   "id": "ba5f0683-b9e1-451c-904d-64c52714f648",
   "metadata": {
    "tags": []
   },
   "outputs": [],
   "source": [
    "df_sales['Category'].nunique()"
   ]
  },
  {
   "cell_type": "markdown",
   "id": "271f456b-8b0e-4f9d-80e2-d52c31460f22",
   "metadata": {},
   "source": [
    "### Count the frequency of each product in the `Product` column of `df_sales`."
   ]
  },
  {
   "cell_type": "code",
   "execution_count": null,
   "id": "e785d799-2d98-49b3-9f1f-f9cfe368e1c2",
   "metadata": {
    "tags": []
   },
   "outputs": [],
   "source": [
    "df_sales['Product'].value_counts()"
   ]
  },
  {
   "cell_type": "markdown",
   "id": "248ec706-ea6e-4dba-8174-3062b37c9b75",
   "metadata": {},
   "source": [
    "### Group the `df_sales` DataFrame by `Category` and calculate the total `Quantity` for each category."
   ]
  },
  {
   "cell_type": "code",
   "execution_count": null,
   "id": "d1bb7cda-542f-4d63-8469-c8749cbffbf4",
   "metadata": {
    "tags": []
   },
   "outputs": [],
   "source": [
    "df_sales.groupby('Category')['Quantity'].sum()"
   ]
  },
  {
   "cell_type": "markdown",
   "id": "06827588-9099-4de4-abd5-7c13fa1024b7",
   "metadata": {},
   "source": [
    "### Create a pivot table to calculate the average `Price` for each `Category` and `Product`."
   ]
  },
  {
   "cell_type": "code",
   "execution_count": null,
   "id": "2fabe748-c850-43e0-bf66-f3f2a0af28c3",
   "metadata": {
    "tags": []
   },
   "outputs": [],
   "source": [
    "df_sales.pivot_table(values='Unit_Price', \n",
    "                     index='Category', \n",
    "                     columns='Product', \n",
    "                     aggfunc='mean')"
   ]
  },
  {
   "cell_type": "markdown",
   "id": "e9edb792-9a03-4595-abbf-3cc49aa7ab13",
   "metadata": {},
   "source": [
    "### Filter rows in `df_sales` where the `Quantity` is greater than 1."
   ]
  },
  {
   "cell_type": "code",
   "execution_count": null,
   "id": "80118982-dc58-4d00-a440-d815c2a4baf5",
   "metadata": {
    "tags": []
   },
   "outputs": [],
   "source": [
    "df_sales[df_sales['Quantity'] > 1]"
   ]
  },
  {
   "cell_type": "markdown",
   "id": "7fdef37f-188e-4f7b-af08-d0ebf1fbf098",
   "metadata": {},
   "source": [
    "### Create a bar plot showing total `Price` for each `Category`."
   ]
  },
  {
   "cell_type": "code",
   "execution_count": null,
   "id": "510acbbc-7eab-4cbb-9005-29a6747eb839",
   "metadata": {
    "tags": []
   },
   "outputs": [],
   "source": [
    "df_sales.groupby('Category')['Unit_Price'].sum().plot(kind='bar')"
   ]
  },
  {
   "cell_type": "markdown",
   "id": "ccb1991e-5e7f-41cd-bc1e-7459fe0cd64b",
   "metadata": {},
   "source": [
    "### Use the `plot` function in pandas to create a line plot showing `Quantity` over `Order_Date`."
   ]
  },
  {
   "cell_type": "code",
   "execution_count": null,
   "id": "ac603296-953b-40b7-bc79-ac0286e9546c",
   "metadata": {
    "tags": []
   },
   "outputs": [],
   "source": [
    "df_sales.set_index('Order_Date')['Quantity'].plot(kind='line')"
   ]
  },
  {
   "cell_type": "markdown",
   "id": "3f35e0e2-6464-4237-a4ee-ac78b80a1e5b",
   "metadata": {},
   "source": [
    "### Use seaborn to create a scatter plot showing the relationship between `Price` and `Quantity` in `df_sales`."
   ]
  },
  {
   "cell_type": "code",
   "execution_count": null,
   "id": "1d92ae4a-28b5-49f0-9ae0-8eebb19770f4",
   "metadata": {
    "tags": []
   },
   "outputs": [],
   "source": [
    "sns.scatterplot(x='Unit_Price', y='Quantity', data=df_sales)"
   ]
  },
  {
   "cell_type": "markdown",
   "id": "3f598b84-959a-40f6-bafd-2536751322c3",
   "metadata": {},
   "source": [
    "### Create dummy variables for the `Category` column in `df_sales`."
   ]
  },
  {
   "cell_type": "code",
   "execution_count": null,
   "id": "fd07dcaf-eb52-49ee-b5e7-b898417a2a41",
   "metadata": {
    "tags": []
   },
   "outputs": [],
   "source": [
    "pd.get_dummies(df_sales, columns=['Category'])"
   ]
  },
  {
   "cell_type": "markdown",
   "id": "b2ee005d-09dc-4c47-b3d2-f86f1bc6428a",
   "metadata": {},
   "source": [
    "### Merge `df_sales` and `shipment_data` on the `Order_ID` column and display the resulting DataFrame."
   ]
  },
  {
   "cell_type": "code",
   "execution_count": null,
   "id": "ed87aed1-7fac-4e02-ac41-cbdaf5f83c40",
   "metadata": {
    "tags": []
   },
   "outputs": [],
   "source": [
    "df_shipment = pd.DataFrame(shipment_data)\n",
    "df_sales.merge(df_shipment, \n",
    "               on = 'Order_ID',\n",
    "               how = 'left',\n",
    "               validate='1:1')\n",
    "# Note that in this special dataset, each sales has a unique shipment date\n",
    "# that's why we have 1:1. In practice this could be more complicated\n"
   ]
  },
  {
   "cell_type": "markdown",
   "id": "33bbbace-2762-4195-84ca-b63abb1698e7",
   "metadata": {},
   "source": [
    "### Concatenate `df_sales` and `customer_data` along the rows axis and display the resulting DataFrame. Explore the resulting dataframe and explain whether this is a reasonable concatenation."
   ]
  },
  {
   "cell_type": "code",
   "execution_count": null,
   "id": "34e43189-4d53-4c9c-b182-0645284bb092",
   "metadata": {
    "tags": []
   },
   "outputs": [],
   "source": [
    "df_customer = pd.DataFrame(customer_data)\n",
    "pd.concat([df_sales, df_customer])"
   ]
  },
  {
   "cell_type": "markdown",
   "id": "285c840d-719b-449a-bbbd-238b94a7a84b",
   "metadata": {},
   "source": [
    "### Filter rows in `df_sales` using a query to select orders with `Price` greater than 100 and `Category` as 'Electronics'."
   ]
  },
  {
   "cell_type": "code",
   "execution_count": null,
   "id": "f62c2c93-3032-411c-9c76-a086370886e4",
   "metadata": {
    "tags": []
   },
   "outputs": [],
   "source": [
    "df_sales.query('Unit_Price > 100 and Category == \"Electronics\"')"
   ]
  },
  {
   "cell_type": "markdown",
   "id": "35cea8c4-61b7-418a-892f-fc4505f2e143",
   "metadata": {},
   "source": [
    "### Identify columns with missing values in the `customer_data` DataFrame."
   ]
  },
  {
   "cell_type": "code",
   "execution_count": null,
   "id": "3f3fd676-4a68-4c50-93cf-73e5a7d948a1",
   "metadata": {
    "tags": []
   },
   "outputs": [],
   "source": [
    "#df_customer[df_customer.isna().sum().reset_index()[0].ge(1)]\n",
    "# note that my above solution is confusing at first. It is a big\n",
    "# difficult to understand it first. I put it\n",
    "# here to push you to run it step by step to see how it works\n",
    "# do the following if you want to understand it.\n",
    "# run the following step by step to see the output of each step\n",
    "  #df_customer.isna().sum()\n",
    "  #df_customer.isna().sum().reset_index()\n",
    "  #df_customer.isna().sum().reset_index()[0]\n",
    "  # df_customer.isna().sum().reset_index()[0].ge(1)\n",
    "\n",
    "# an easier (sort of) solution would be the following\n",
    "temp = df_customer.isna().sum()\n",
    "temp[temp.ge(1)].index.to_list()"
   ]
  },
  {
   "cell_type": "markdown",
   "id": "52f9c02e-7ac2-4701-9313-8480ac091a37",
   "metadata": {},
   "source": [
    "### Fill missing values in the `Age` column of `customer_data` with the mean age."
   ]
  },
  {
   "cell_type": "code",
   "execution_count": null,
   "id": "760962ef-a748-4679-926b-3445c37783b2",
   "metadata": {
    "tags": []
   },
   "outputs": [],
   "source": [
    "df_customer['Age'].fillna(df_customer['Age'].mean(), inplace=True)\n",
    "df_customer"
   ]
  },
  {
   "cell_type": "markdown",
   "id": "be5b4cfd-ead4-455a-90ff-2f83f8baae95",
   "metadata": {},
   "source": [
    "### Drop rows in `customer_data` where the `Country` column has missing values."
   ]
  },
  {
   "cell_type": "code",
   "execution_count": null,
   "id": "819a0f22-9fd9-4acb-9d82-c9e2e6b85cf2",
   "metadata": {
    "tags": []
   },
   "outputs": [],
   "source": [
    "df_customer.dropna(subset=['Country'], inplace=True)\n",
    "df_customer"
   ]
  },
  {
   "cell_type": "markdown",
   "id": "873cba7a-31a8-4fd6-8552-6d2aafe06bf3",
   "metadata": {},
   "source": [
    "### Sort the `df_sales` DataFrame by the `Price` column in ascending order."
   ]
  },
  {
   "cell_type": "code",
   "execution_count": null,
   "id": "e475e32e-e1d5-4104-a536-30c0097f69f6",
   "metadata": {
    "tags": []
   },
   "outputs": [],
   "source": [
    "df_sales.sort_values(by='Unit_Price', ascending=True)"
   ]
  },
  {
   "cell_type": "markdown",
   "id": "09e01cf7-a48e-4f91-8038-c06bc3f66113",
   "metadata": {},
   "source": [
    "### Drop duplicate rows in `df_sales` based on the `Product` column."
   ]
  },
  {
   "cell_type": "code",
   "execution_count": null,
   "id": "145c1716-fe94-4002-ac33-df00c9264fc3",
   "metadata": {
    "tags": []
   },
   "outputs": [],
   "source": [
    "df_sales.drop_duplicates(subset=['Product'])"
   ]
  },
  {
   "cell_type": "markdown",
   "id": "2c1f2230-af2f-4fb4-b666-dd1746cb51f2",
   "metadata": {},
   "source": [
    "### Sort the `customer_data` DataFrame by the `Loyalty_Score` column in descending order."
   ]
  },
  {
   "cell_type": "code",
   "execution_count": null,
   "id": "8184b0c6-e877-4ae4-b245-a2ab2c3d0525",
   "metadata": {
    "tags": []
   },
   "outputs": [],
   "source": [
    "df_customer.sort_values(by='Loyalty_Score', ascending=False)"
   ]
  },
  {
   "cell_type": "markdown",
   "id": "97787870-c1fa-4723-b146-95eb97b1d153",
   "metadata": {},
   "source": [
    "### Calculate the total `Price` in the `df_sales` DataFrame."
   ]
  },
  {
   "cell_type": "code",
   "execution_count": null,
   "id": "44eabe1c-b6d6-4519-8b09-1fa67d4a40e9",
   "metadata": {
    "tags": []
   },
   "outputs": [],
   "source": [
    "df_sales['Unit_Price'].sum()"
   ]
  },
  {
   "cell_type": "markdown",
   "id": "840997d1-f9a4-43d2-881d-8d16634706c8",
   "metadata": {},
   "source": [
    "### Compute the average `Age` in `customer_data`."
   ]
  },
  {
   "cell_type": "code",
   "execution_count": null,
   "id": "85037a26-fb2e-46fe-97e7-ff854bead72c",
   "metadata": {
    "tags": []
   },
   "outputs": [],
   "source": [
    "df_customer['Age'].mean()"
   ]
  },
  {
   "cell_type": "markdown",
   "id": "bd8a7a10-a7be-4cdb-9a4e-229c15f1c86c",
   "metadata": {},
   "source": [
    "### Calculate the standard deviation of the `Shipping_Cost` column in `shipment_data`."
   ]
  },
  {
   "cell_type": "code",
   "execution_count": null,
   "id": "e104bffb-1d75-4b33-ab34-778f46e25c1c",
   "metadata": {
    "tags": []
   },
   "outputs": [],
   "source": [
    "round(df_shipment['Shipping_Cost'].std(), 2)"
   ]
  },
  {
   "cell_type": "markdown",
   "id": "93119734-ecf5-49ad-8ad3-e7e72733db76",
   "metadata": {},
   "source": [
    "### Add a new column `Total_Cost` to `df_sales` as the product of `Price` and `Quantity`."
   ]
  },
  {
   "cell_type": "code",
   "execution_count": null,
   "id": "1109d0be-5346-4bd7-b208-24b602b5c562",
   "metadata": {
    "tags": []
   },
   "outputs": [],
   "source": [
    "df_sales['Total_Cost'] = df_sales['Unit_Price'] * df_sales['Quantity']\n",
    "df_sales"
   ]
  },
  {
   "cell_type": "markdown",
   "id": "97d030bf-998b-4405-bfd0-28ed15fd9600",
   "metadata": {},
   "source": [
    "### Use the `duplicated` method to check for duplicate rows in `shipment_data`."
   ]
  },
  {
   "cell_type": "code",
   "execution_count": null,
   "id": "8d7ddd38-5f1f-48a8-aeb6-48c0d842cfdf",
   "metadata": {
    "tags": []
   },
   "outputs": [],
   "source": [
    "df_shipment.duplicated()"
   ]
  },
  {
   "cell_type": "markdown",
   "id": "21e8a4c1-1bc5-4279-aa78-44b2af04b020",
   "metadata": {},
   "source": [
    "### Drop rows from `shipment_data` that are duplicates based on the `Order_ID` column."
   ]
  },
  {
   "cell_type": "code",
   "execution_count": null,
   "id": "03ab6a78-6348-4924-ac73-7f1f81a5c19f",
   "metadata": {
    "tags": []
   },
   "outputs": [],
   "source": [
    "df_shipment.drop_duplicates(subset=['Order_ID'], inplace=True)\n",
    "df_shipment"
   ]
  },
  {
   "cell_type": "markdown",
   "id": "19c8acc0-1c56-4fb5-a04b-46f71acf04d2",
   "metadata": {},
   "source": [
    "### Create a new DataFrame `df_orders` containing only the rows from `df_sales` with an `Order_Date` after '2023-03-01'."
   ]
  },
  {
   "cell_type": "code",
   "execution_count": null,
   "id": "3713db1e-08ab-4aca-8130-669415a815f5",
   "metadata": {
    "tags": []
   },
   "outputs": [],
   "source": [
    "df_orders = df_sales[df_sales['Order_Date'] > '2023-03-01']\n",
    "df_orders"
   ]
  },
  {
   "cell_type": "markdown",
   "id": "2434c198-0b9a-497b-9f67-7539bc442236",
   "metadata": {},
   "source": [
    "### Plot a histogram of the `Age` column in `customer_data` using matplotlib."
   ]
  },
  {
   "cell_type": "code",
   "execution_count": null,
   "id": "681997ec-a8af-493c-a63f-fd8349fd1370",
   "metadata": {
    "tags": []
   },
   "outputs": [],
   "source": [
    "df_customer['Age'].plot(kind='hist')\n",
    "# note that histogram is very simplistic because you have a small dataset\n"
   ]
  },
  {
   "cell_type": "markdown",
   "id": "4aefb5ca-f563-475c-bf09-8962162207e6",
   "metadata": {},
   "source": [
    "### Create a box plot using seaborn to visualize the distribution of `Price` in `df_sales` grouped by `Category`."
   ]
  },
  {
   "cell_type": "code",
   "execution_count": null,
   "id": "6061b2b1-29b8-438a-95da-6cb08174fade",
   "metadata": {
    "tags": []
   },
   "outputs": [],
   "source": [
    "sns.boxplot(x='Category', y='Unit_Price', data=df_sales)"
   ]
  },
  {
   "cell_type": "markdown",
   "id": "4e6b0e40-ef42-41cc-ade2-db76dcad07d9",
   "metadata": {},
   "source": [
    "### Use the `query` method to select rows from `df_sales` where the `Order_Date` is in January 2023."
   ]
  },
  {
   "cell_type": "code",
   "execution_count": null,
   "id": "08f199a7-8908-43bd-b5e1-63024682826b",
   "metadata": {
    "tags": []
   },
   "outputs": [],
   "source": [
    "df_sales.query('Order_Date.dt.month == 1 and Order_Date.dt.year == 2023')"
   ]
  },
  {
   "cell_type": "markdown",
   "id": "656662a1-7466-4cb4-842e-3c46544506b4",
   "metadata": {},
   "source": [
    "### Calculate the sum of `Shipping_Cost` grouped by `Carrier` in `shipment_data`."
   ]
  },
  {
   "cell_type": "code",
   "execution_count": null,
   "id": "6ee34add-698a-4d4b-a034-cc20949f6ffa",
   "metadata": {
    "tags": []
   },
   "outputs": [],
   "source": [
    "df_shipment.groupby('Carrier')['Shipping_Cost'].sum()"
   ]
  },
  {
   "cell_type": "markdown",
   "id": "b587cfa4-fd52-4fc7-b13c-d6f0a1b14c54",
   "metadata": {},
   "source": [
    "### Merge `df_sales` and `shipment_data` on the `Order_ID` column and calculate the total `Shipping_Cost` for each `Category`."
   ]
  },
  {
   "cell_type": "code",
   "execution_count": null,
   "id": "d35b623d-0982-4115-ad66-d699a696e7ee",
   "metadata": {
    "tags": []
   },
   "outputs": [],
   "source": [
    "merged = pd.merge(df_sales, df_shipment, \n",
    "                  on='Order_ID',\n",
    "                  how = 'inner',\n",
    "                 validate='1:1')\n",
    "\n",
    "merged.groupby('Category')['Shipping_Cost'].sum()"
   ]
  },
  {
   "cell_type": "markdown",
   "id": "276d9c63-b952-4199-b100-fdbc10aa740e",
   "metadata": {},
   "source": [
    "### Perform a linear regression using `pingouin` to predict `Price` based on `Quantity` in `df_sales`. Interpret the results"
   ]
  },
  {
   "cell_type": "code",
   "execution_count": null,
   "id": "7409a646-55b7-4303-97a7-5b3b920c83e6",
   "metadata": {
    "tags": []
   },
   "outputs": [],
   "source": [
    "import pingouin as pg\n",
    "pg.linear_regression(df_sales['Quantity'], df_sales['Unit_Price'])"
   ]
  },
  {
   "cell_type": "markdown",
   "id": "45f27955-cb03-4923-a8ef-921da178121e",
   "metadata": {},
   "source": [
    "### Use query to select rows in df_sales where Order_Date is between '2023-01-01' and '2023-04-01', and Price is in the top 10% of all prices."
   ]
  },
  {
   "cell_type": "code",
   "execution_count": null,
   "id": "70b9f63a-71e3-484d-90f5-b11a16780915",
   "metadata": {
    "tags": []
   },
   "outputs": [],
   "source": [
    "df_sales['Order_Date'] = pd.to_datetime(df_sales['Order_Date'])\n",
    "\n",
    "top_10_percent_price = df_sales['Unit_Price'].quantile(0.9)\n",
    "result = df_sales.query(\"Order_Date >= '2023-01-01' and Order_Date <= '2023-04-01' and Unit_Price >= @top_10_percent_price\")\n",
    "\n",
    "display(result)\n"
   ]
  },
  {
   "cell_type": "markdown",
   "id": "142a5c07-7c2c-466d-a941-58a65f837cf8",
   "metadata": {},
   "source": [
    "# Identify outliers in the Shipping_Cost column of shipment_data using the IQR method."
   ]
  },
  {
   "cell_type": "code",
   "execution_count": null,
   "id": "0a2c21cd-3c07-485d-a4af-de411b98aedd",
   "metadata": {
    "tags": []
   },
   "outputs": [],
   "source": [
    "Q1 = df_shipment['Shipping_Cost'].quantile(0.25)\n",
    "Q3 = df_shipment['Shipping_Cost'].quantile(0.75)\n",
    "IQR = Q3 - Q1\n",
    "outliers = df_shipment[(df_shipment['Shipping_Cost'] < (Q1 - 1.5 * IQR)) | (df_shipment['Shipping_Cost'] > (Q3 + 1.5 * IQR))]\n",
    "\n"
   ]
  },
  {
   "cell_type": "code",
   "execution_count": null,
   "id": "a2897fe2-b9e4-4a81-b14f-22594e2b7f01",
   "metadata": {},
   "outputs": [],
   "source": []
  }
 ],
 "metadata": {
  "kernelspec": {
   "display_name": "Python 3 (ipykernel)",
   "language": "python",
   "name": "python3"
  },
  "language_info": {
   "codemirror_mode": {
    "name": "ipython",
    "version": 3
   },
   "file_extension": ".py",
   "mimetype": "text/x-python",
   "name": "python",
   "nbconvert_exporter": "python",
   "pygments_lexer": "ipython3",
   "version": "3.12.4"
  }
 },
 "nbformat": 4,
 "nbformat_minor": 5
}
