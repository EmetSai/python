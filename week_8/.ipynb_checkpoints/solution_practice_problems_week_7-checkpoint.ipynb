{
 "cells": [
  {
   "cell_type": "code",
   "execution_count": 1,
   "id": "74d16f4b-b433-4996-9ebf-0dac6b37d106",
   "metadata": {
    "tags": []
   },
   "outputs": [],
   "source": [
    "import numpy as np\n",
    "import pandas as pd\n",
    "import matplotlib.pyplot as plt\n",
    "import seaborn as sns\n",
    "import missingno as msno"
   ]
  },
  {
   "cell_type": "code",
   "execution_count": 3,
   "id": "b90b211d-92f2-4925-9fc7-95acbf1cc1b4",
   "metadata": {},
   "outputs": [],
   "source": [
    "df_schools = pd.read_excel('https://www.dropbox.com/scl/fi/27d9nvrhznhuzxk7iw1ue/schools_full_list.xlsx?rlkey=zekgxdwpqzdyl8n8u2r2fli8v&st=55ztfdsj&raw=1')\n",
    "\n",
    "df_students = pd.read_excel('https://www.dropbox.com/scl/fi/jfvgl9pvd3hpikdmq9k16/students_full_list.xlsx?rlkey=d1t1rmakwb77t43rxndwdb594&st=2m8th8rd&raw=1')\n",
    "\n",
    "df_students_interview = pd.read_excel('https://www.dropbox.com/scl/fi/xim7i3emz6us8srypej03/students_interview.xlsx?rlkey=i17iggzishi5ao0vkxttsregv&st=gz3oop16&raw=1')"
   ]
  },
  {
   "cell_type": "code",
   "execution_count": 4,
   "id": "01753c2d-4a48-473e-93a9-24131ab7e736",
   "metadata": {
    "tags": []
   },
   "outputs": [
    {
     "data": {
      "text/html": [
       "<div>\n",
       "<style scoped>\n",
       "    .dataframe tbody tr th:only-of-type {\n",
       "        vertical-align: middle;\n",
       "    }\n",
       "\n",
       "    .dataframe tbody tr th {\n",
       "        vertical-align: top;\n",
       "    }\n",
       "\n",
       "    .dataframe thead th {\n",
       "        text-align: right;\n",
       "    }\n",
       "</style>\n",
       "<table border=\"1\" class=\"dataframe\">\n",
       "  <thead>\n",
       "    <tr style=\"text-align: right;\">\n",
       "      <th></th>\n",
       "      <th>grad_school</th>\n",
       "      <th>school_city</th>\n",
       "      <th>school_state</th>\n",
       "    </tr>\n",
       "  </thead>\n",
       "  <tbody>\n",
       "    <tr>\n",
       "      <th>0</th>\n",
       "      <td>The George Washngton University</td>\n",
       "      <td>DC</td>\n",
       "      <td>DC</td>\n",
       "    </tr>\n",
       "    <tr>\n",
       "      <th>1</th>\n",
       "      <td>Georgetown University</td>\n",
       "      <td>DC</td>\n",
       "      <td>DC</td>\n",
       "    </tr>\n",
       "    <tr>\n",
       "      <th>2</th>\n",
       "      <td>Howard University</td>\n",
       "      <td>DC</td>\n",
       "      <td>DC</td>\n",
       "    </tr>\n",
       "    <tr>\n",
       "      <th>3</th>\n",
       "      <td>American University</td>\n",
       "      <td>DC</td>\n",
       "      <td>DC</td>\n",
       "    </tr>\n",
       "    <tr>\n",
       "      <th>4</th>\n",
       "      <td>Johns Hopkins University</td>\n",
       "      <td>Baltimore</td>\n",
       "      <td>MD</td>\n",
       "    </tr>\n",
       "    <tr>\n",
       "      <th>5</th>\n",
       "      <td>The Catholic University of America</td>\n",
       "      <td>DC</td>\n",
       "      <td>DC</td>\n",
       "    </tr>\n",
       "    <tr>\n",
       "      <th>6</th>\n",
       "      <td>Gallaudet University</td>\n",
       "      <td>DC</td>\n",
       "      <td>DC</td>\n",
       "    </tr>\n",
       "    <tr>\n",
       "      <th>7</th>\n",
       "      <td>University of the District of Columbia</td>\n",
       "      <td>DC</td>\n",
       "      <td>DC</td>\n",
       "    </tr>\n",
       "    <tr>\n",
       "      <th>8</th>\n",
       "      <td>Trinity Washington University</td>\n",
       "      <td>DC</td>\n",
       "      <td>DC</td>\n",
       "    </tr>\n",
       "    <tr>\n",
       "      <th>9</th>\n",
       "      <td>George Mason University</td>\n",
       "      <td>Fairfax</td>\n",
       "      <td>VA</td>\n",
       "    </tr>\n",
       "    <tr>\n",
       "      <th>10</th>\n",
       "      <td>Bowie State University</td>\n",
       "      <td>Bowie</td>\n",
       "      <td>MD</td>\n",
       "    </tr>\n",
       "    <tr>\n",
       "      <th>11</th>\n",
       "      <td>Strayer University</td>\n",
       "      <td>DC</td>\n",
       "      <td>DC</td>\n",
       "    </tr>\n",
       "    <tr>\n",
       "      <th>12</th>\n",
       "      <td>Marymount University</td>\n",
       "      <td>Arlington</td>\n",
       "      <td>VA</td>\n",
       "    </tr>\n",
       "    <tr>\n",
       "      <th>13</th>\n",
       "      <td>Washington Adventist University</td>\n",
       "      <td>Takoma Park</td>\n",
       "      <td>MD</td>\n",
       "    </tr>\n",
       "    <tr>\n",
       "      <th>14</th>\n",
       "      <td>Capitol Technology University</td>\n",
       "      <td>Laurel</td>\n",
       "      <td>MD</td>\n",
       "    </tr>\n",
       "    <tr>\n",
       "      <th>15</th>\n",
       "      <td>University of Management and Technology</td>\n",
       "      <td>Arlington</td>\n",
       "      <td>VA</td>\n",
       "    </tr>\n",
       "    <tr>\n",
       "      <th>16</th>\n",
       "      <td>Stratford University</td>\n",
       "      <td>Idylwood</td>\n",
       "      <td>VA</td>\n",
       "    </tr>\n",
       "    <tr>\n",
       "      <th>17</th>\n",
       "      <td>Career Technical Institute</td>\n",
       "      <td>DC</td>\n",
       "      <td>DC</td>\n",
       "    </tr>\n",
       "    <tr>\n",
       "      <th>18</th>\n",
       "      <td>University of Virginia</td>\n",
       "      <td>Charlottesville</td>\n",
       "      <td>VA</td>\n",
       "    </tr>\n",
       "    <tr>\n",
       "      <th>19</th>\n",
       "      <td>Virginia Tech</td>\n",
       "      <td>Blacksburg</td>\n",
       "      <td>VA</td>\n",
       "    </tr>\n",
       "    <tr>\n",
       "      <th>20</th>\n",
       "      <td>University of Maryland</td>\n",
       "      <td>College Park</td>\n",
       "      <td>MD</td>\n",
       "    </tr>\n",
       "  </tbody>\n",
       "</table>\n",
       "</div>"
      ],
      "text/plain": [
       "                                grad_school      school_city school_state\n",
       "0           The George Washngton University               DC           DC\n",
       "1                     Georgetown University               DC           DC\n",
       "2                         Howard University               DC           DC\n",
       "3                       American University               DC           DC\n",
       "4                  Johns Hopkins University        Baltimore           MD\n",
       "5        The Catholic University of America               DC           DC\n",
       "6                      Gallaudet University               DC           DC\n",
       "7    University of the District of Columbia               DC           DC\n",
       "8             Trinity Washington University               DC           DC\n",
       "9                   George Mason University          Fairfax           VA\n",
       "10                   Bowie State University            Bowie           MD\n",
       "11                       Strayer University               DC           DC\n",
       "12                     Marymount University        Arlington           VA\n",
       "13          Washington Adventist University      Takoma Park           MD\n",
       "14            Capitol Technology University           Laurel           MD\n",
       "15  University of Management and Technology        Arlington           VA\n",
       "16                     Stratford University         Idylwood           VA\n",
       "17               Career Technical Institute               DC           DC\n",
       "18                   University of Virginia  Charlottesville           VA\n",
       "19                            Virginia Tech       Blacksburg           VA\n",
       "20                   University of Maryland     College Park           MD"
      ]
     },
     "execution_count": 4,
     "metadata": {},
     "output_type": "execute_result"
    }
   ],
   "source": [
    "# Q 1\n",
    "df_schools\n",
    "# looks like dataframe contains information of several schools in DMV (DC, Maryland, Virginia) area\n",
    "df_schools"
   ]
  },
  {
   "cell_type": "code",
   "execution_count": 6,
   "id": "dd05b0b0-7249-4fab-97dc-3664d2b4a8b3",
   "metadata": {
    "tags": []
   },
   "outputs": [
    {
     "data": {
      "text/html": [
       "<div>\n",
       "<style scoped>\n",
       "    .dataframe tbody tr th:only-of-type {\n",
       "        vertical-align: middle;\n",
       "    }\n",
       "\n",
       "    .dataframe tbody tr th {\n",
       "        vertical-align: top;\n",
       "    }\n",
       "\n",
       "    .dataframe thead th {\n",
       "        text-align: right;\n",
       "    }\n",
       "</style>\n",
       "<table border=\"1\" class=\"dataframe\">\n",
       "  <thead>\n",
       "    <tr style=\"text-align: right;\">\n",
       "      <th></th>\n",
       "      <th>student_name</th>\n",
       "      <th>no_of_interviews</th>\n",
       "      <th>sex</th>\n",
       "      <th>age</th>\n",
       "    </tr>\n",
       "  </thead>\n",
       "  <tbody>\n",
       "    <tr>\n",
       "      <th>0</th>\n",
       "      <td>Ezra</td>\n",
       "      <td>2</td>\n",
       "      <td>M</td>\n",
       "      <td>23</td>\n",
       "    </tr>\n",
       "    <tr>\n",
       "      <th>1</th>\n",
       "      <td>Milo</td>\n",
       "      <td>1</td>\n",
       "      <td>M</td>\n",
       "      <td>56</td>\n",
       "    </tr>\n",
       "    <tr>\n",
       "      <th>2</th>\n",
       "      <td>Sally</td>\n",
       "      <td>4</td>\n",
       "      <td>F</td>\n",
       "      <td>21</td>\n",
       "    </tr>\n",
       "    <tr>\n",
       "      <th>3</th>\n",
       "      <td>James</td>\n",
       "      <td>35</td>\n",
       "      <td>M</td>\n",
       "      <td>22</td>\n",
       "    </tr>\n",
       "    <tr>\n",
       "      <th>4</th>\n",
       "      <td>Kylie</td>\n",
       "      <td>20</td>\n",
       "      <td>F</td>\n",
       "      <td>22</td>\n",
       "    </tr>\n",
       "    <tr>\n",
       "      <th>5</th>\n",
       "      <td>Emma</td>\n",
       "      <td>28</td>\n",
       "      <td>F</td>\n",
       "      <td>23</td>\n",
       "    </tr>\n",
       "    <tr>\n",
       "      <th>6</th>\n",
       "      <td>Owen</td>\n",
       "      <td>18</td>\n",
       "      <td>M</td>\n",
       "      <td>21</td>\n",
       "    </tr>\n",
       "    <tr>\n",
       "      <th>7</th>\n",
       "      <td>Roy</td>\n",
       "      <td>14</td>\n",
       "      <td>M</td>\n",
       "      <td>24</td>\n",
       "    </tr>\n",
       "    <tr>\n",
       "      <th>8</th>\n",
       "      <td>Jay</td>\n",
       "      <td>2</td>\n",
       "      <td>M</td>\n",
       "      <td>25</td>\n",
       "    </tr>\n",
       "    <tr>\n",
       "      <th>9</th>\n",
       "      <td>Nova</td>\n",
       "      <td>25</td>\n",
       "      <td>F</td>\n",
       "      <td>22</td>\n",
       "    </tr>\n",
       "    <tr>\n",
       "      <th>10</th>\n",
       "      <td>Rex</td>\n",
       "      <td>15</td>\n",
       "      <td>M</td>\n",
       "      <td>23</td>\n",
       "    </tr>\n",
       "    <tr>\n",
       "      <th>11</th>\n",
       "      <td>Demi</td>\n",
       "      <td>1</td>\n",
       "      <td>F</td>\n",
       "      <td>21</td>\n",
       "    </tr>\n",
       "    <tr>\n",
       "      <th>12</th>\n",
       "      <td>Zev</td>\n",
       "      <td>9</td>\n",
       "      <td>M</td>\n",
       "      <td>20</td>\n",
       "    </tr>\n",
       "    <tr>\n",
       "      <th>13</th>\n",
       "      <td>Zion</td>\n",
       "      <td>3</td>\n",
       "      <td>M</td>\n",
       "      <td>23</td>\n",
       "    </tr>\n",
       "    <tr>\n",
       "      <th>14</th>\n",
       "      <td>Sofia</td>\n",
       "      <td>5</td>\n",
       "      <td>F</td>\n",
       "      <td>22</td>\n",
       "    </tr>\n",
       "  </tbody>\n",
       "</table>\n",
       "</div>"
      ],
      "text/plain": [
       "   student_name  no_of_interviews sex  age\n",
       "0          Ezra                 2   M   23\n",
       "1          Milo                 1   M   56\n",
       "2         Sally                 4   F   21\n",
       "3         James                35   M   22\n",
       "4         Kylie                20   F   22\n",
       "5          Emma                28   F   23\n",
       "6          Owen                18   M   21\n",
       "7           Roy                14   M   24\n",
       "8           Jay                 2   M   25\n",
       "9          Nova                25   F   22\n",
       "10          Rex                15   M   23\n",
       "11         Demi                 1   F   21\n",
       "12          Zev                 9   M   20\n",
       "13         Zion                 3   M   23\n",
       "14        Sofia                 5   F   22"
      ]
     },
     "execution_count": 6,
     "metadata": {},
     "output_type": "execute_result"
    }
   ],
   "source": [
    "df_students\n",
    "# basic information of several students"
   ]
  },
  {
   "cell_type": "code",
   "execution_count": 9,
   "id": "39dcaaba-95dc-46c8-bce4-15ad04360a6d",
   "metadata": {
    "tags": []
   },
   "outputs": [
    {
     "data": {
      "text/html": [
       "<div>\n",
       "<style scoped>\n",
       "    .dataframe tbody tr th:only-of-type {\n",
       "        vertical-align: middle;\n",
       "    }\n",
       "\n",
       "    .dataframe tbody tr th {\n",
       "        vertical-align: top;\n",
       "    }\n",
       "\n",
       "    .dataframe thead th {\n",
       "        text-align: right;\n",
       "    }\n",
       "</style>\n",
       "<table border=\"1\" class=\"dataframe\">\n",
       "  <thead>\n",
       "    <tr style=\"text-align: right;\">\n",
       "      <th></th>\n",
       "      <th>student_name</th>\n",
       "      <th>student_home_city</th>\n",
       "      <th>student_home_state</th>\n",
       "      <th>interview_preparation_hrs</th>\n",
       "      <th>grad_school</th>\n",
       "    </tr>\n",
       "  </thead>\n",
       "  <tbody>\n",
       "    <tr>\n",
       "      <th>0</th>\n",
       "      <td>Ezra</td>\n",
       "      <td>DC</td>\n",
       "      <td>DC</td>\n",
       "      <td>110</td>\n",
       "      <td>American University</td>\n",
       "    </tr>\n",
       "    <tr>\n",
       "      <th>1</th>\n",
       "      <td>Milo</td>\n",
       "      <td>Arlington</td>\n",
       "      <td>VA</td>\n",
       "      <td>3</td>\n",
       "      <td>Johns Hopkins University</td>\n",
       "    </tr>\n",
       "    <tr>\n",
       "      <th>2</th>\n",
       "      <td>Sally</td>\n",
       "      <td>DC</td>\n",
       "      <td>DC</td>\n",
       "      <td>85</td>\n",
       "      <td>Georgetown University</td>\n",
       "    </tr>\n",
       "    <tr>\n",
       "      <th>3</th>\n",
       "      <td>James</td>\n",
       "      <td>Alexandria</td>\n",
       "      <td>VA</td>\n",
       "      <td>140</td>\n",
       "      <td>Johns Hopkins University</td>\n",
       "    </tr>\n",
       "    <tr>\n",
       "      <th>4</th>\n",
       "      <td>Kylie</td>\n",
       "      <td>Charlottesville</td>\n",
       "      <td>VA</td>\n",
       "      <td>220</td>\n",
       "      <td>University of Virginia</td>\n",
       "    </tr>\n",
       "    <tr>\n",
       "      <th>5</th>\n",
       "      <td>Emma</td>\n",
       "      <td>DC</td>\n",
       "      <td>DC</td>\n",
       "      <td>74</td>\n",
       "      <td>Johns Hopkins University</td>\n",
       "    </tr>\n",
       "    <tr>\n",
       "      <th>6</th>\n",
       "      <td>Levi</td>\n",
       "      <td>Blacksburg</td>\n",
       "      <td>VA</td>\n",
       "      <td>21</td>\n",
       "      <td>Virginia Tech</td>\n",
       "    </tr>\n",
       "    <tr>\n",
       "      <th>7</th>\n",
       "      <td>Owen</td>\n",
       "      <td>Arlington</td>\n",
       "      <td>VA</td>\n",
       "      <td>280</td>\n",
       "      <td>George Mason University</td>\n",
       "    </tr>\n",
       "    <tr>\n",
       "      <th>8</th>\n",
       "      <td>Asa</td>\n",
       "      <td>Rockville</td>\n",
       "      <td>MD</td>\n",
       "      <td>10</td>\n",
       "      <td>Howard University</td>\n",
       "    </tr>\n",
       "    <tr>\n",
       "      <th>9</th>\n",
       "      <td>Roy</td>\n",
       "      <td>Baltimore</td>\n",
       "      <td>MD</td>\n",
       "      <td>350</td>\n",
       "      <td>University of Maryland</td>\n",
       "    </tr>\n",
       "  </tbody>\n",
       "</table>\n",
       "</div>"
      ],
      "text/plain": [
       "  student_name student_home_city student_home_state  \\\n",
       "0         Ezra                DC                 DC   \n",
       "1         Milo         Arlington                 VA   \n",
       "2        Sally                DC                 DC   \n",
       "3        James        Alexandria                 VA   \n",
       "4        Kylie   Charlottesville                 VA   \n",
       "5         Emma                DC                 DC   \n",
       "6         Levi        Blacksburg                 VA   \n",
       "7         Owen         Arlington                 VA   \n",
       "8          Asa         Rockville                 MD   \n",
       "9          Roy         Baltimore                 MD   \n",
       "\n",
       "   interview_preparation_hrs               grad_school  \n",
       "0                        110       American University  \n",
       "1                          3  Johns Hopkins University  \n",
       "2                         85     Georgetown University  \n",
       "3                        140  Johns Hopkins University  \n",
       "4                        220    University of Virginia  \n",
       "5                         74  Johns Hopkins University  \n",
       "6                         21             Virginia Tech  \n",
       "7                        280   George Mason University  \n",
       "8                         10         Howard University  \n",
       "9                        350    University of Maryland  "
      ]
     },
     "execution_count": 9,
     "metadata": {},
     "output_type": "execute_result"
    }
   ],
   "source": [
    "df_students_interview\n",
    "# information of students their grad school and amount of time they spent on interview preparation"
   ]
  },
  {
   "cell_type": "code",
   "execution_count": 14,
   "id": "d9042b34-9c0c-493e-ba05-05bfc49bd924",
   "metadata": {
    "tags": []
   },
   "outputs": [
    {
     "data": {
      "text/plain": [
       "5"
      ]
     },
     "execution_count": 14,
     "metadata": {},
     "output_type": "execute_result"
    }
   ],
   "source": [
    "# Q 2: How many schools are located in state of MD?\n",
    "df_schools[df_schools.school_state.eq('MD')].grad_school.nunique()"
   ]
  },
  {
   "cell_type": "code",
   "execution_count": 17,
   "id": "9330566b-0c5c-493d-9ec6-e7ac6c3423dd",
   "metadata": {
    "tags": []
   },
   "outputs": [
    {
     "data": {
      "text/plain": [
       "True"
      ]
     },
     "execution_count": 17,
     "metadata": {},
     "output_type": "execute_result"
    }
   ],
   "source": [
    "# Q3: Is it accurate to assume that there are more schools in state of VA than MD in the given\n",
    "# dataset? Answer this question in just one line of code.\n",
    "\n",
    "df_schools[df_schools.school_state.eq('VA')].shape[0] > df_schools[df_schools.school_state.eq('MD')].shape[0]"
   ]
  },
  {
   "cell_type": "code",
   "execution_count": 23,
   "id": "128e7820-2582-449b-b8e5-6bd21f61055d",
   "metadata": {
    "tags": []
   },
   "outputs": [
    {
     "data": {
      "text/plain": [
       "24.53"
      ]
     },
     "execution_count": 23,
     "metadata": {},
     "output_type": "execute_result"
    }
   ],
   "source": [
    "# Q 4: What is the average age of the students\n",
    "df_students.age.mean().round(2)"
   ]
  },
  {
   "cell_type": "code",
   "execution_count": 25,
   "id": "28c88172-ab16-4282-9361-6b741644d224",
   "metadata": {
    "tags": []
   },
   "outputs": [
    {
     "data": {
      "text/plain": [
       "60.0"
      ]
     },
     "execution_count": 25,
     "metadata": {},
     "output_type": "execute_result"
    }
   ],
   "source": [
    "# Q 5: What fraction of students are Male?\n",
    "df_students.sex.eq('M').mul(100).mean()"
   ]
  },
  {
   "cell_type": "code",
   "execution_count": 27,
   "id": "9991dd88-53fc-4339-8b5a-df70672201c5",
   "metadata": {
    "tags": []
   },
   "outputs": [
    {
     "data": {
      "text/plain": [
       "350"
      ]
     },
     "execution_count": 27,
     "metadata": {},
     "output_type": "execute_result"
    }
   ],
   "source": [
    "# Q6 What is the maximum number of interviews reported by a student?\n",
    "df_students_interview.interview_preparation_hrs.max()"
   ]
  },
  {
   "cell_type": "code",
   "execution_count": 30,
   "id": "a8d0c046-a5df-48e7-83a2-282df947246c",
   "metadata": {
    "tags": []
   },
   "outputs": [
    {
     "data": {
      "text/plain": [
       "30.0"
      ]
     },
     "execution_count": 30,
     "metadata": {},
     "output_type": "execute_result"
    }
   ],
   "source": [
    "# Q7 What fraction of students have declared DC as their home state?\n",
    "\n",
    "df_students_interview.student_home_state.eq('DC').mul(100).mean()"
   ]
  },
  {
   "cell_type": "code",
   "execution_count": 36,
   "id": "37b45542-3777-4667-acc7-fe889eb000bd",
   "metadata": {
    "tags": []
   },
   "outputs": [
    {
     "data": {
      "text/plain": [
       "interview_preparation_hrs    34.25\n",
       "Name: 25%, dtype: float64"
      ]
     },
     "execution_count": 36,
     "metadata": {},
     "output_type": "execute_result"
    }
   ],
   "source": [
    "# Q8: What is the 25th percentile of the interview preparation hrs?\n",
    "\n",
    "df_students_interview.describe().loc['25%']\n",
    "\n",
    "# OR\n",
    "# percentile_25 = df_students_interview['interview_preparation_hrs'].quantile(0.25)\n"
   ]
  },
  {
   "cell_type": "code",
   "execution_count": 40,
   "id": "aeea2ca6-a867-48a2-bb7d-6afb4a257cf1",
   "metadata": {
    "tags": []
   },
   "outputs": [
    {
     "data": {
      "text/plain": [
       "<Axes: >"
      ]
     },
     "execution_count": 40,
     "metadata": {},
     "output_type": "execute_result"
    },
    {
     "data": {
      "image/png": "[encoded data removed]",
      "text/plain": [
       "<Figure size 640x480 with 1 Axes>"
      ]
     },
     "metadata": {},
     "output_type": "display_data"
    }
   ],
   "source": [
    "# Q9 Plot a proper plot describing interview preparation hours (best plot here is boxplot or histogram)\n",
    "\n",
    "df_students_interview.interview_preparation_hrs.plot.box()"
   ]
  },
  {
   "cell_type": "code",
   "execution_count": 42,
   "id": "f42e4521-534d-4b1e-a61d-d52190d3989c",
   "metadata": {
    "tags": []
   },
   "outputs": [
    {
     "data": {
      "text/plain": [
       "8"
      ]
     },
     "execution_count": 42,
     "metadata": {},
     "output_type": "execute_result"
    }
   ],
   "source": [
    "# Q10 How many different types of grad schools are represented in df students interview?\n",
    "df_students_interview.grad_school.nunique()"
   ]
  },
  {
   "cell_type": "code",
   "execution_count": 44,
   "id": "fafd3947-1425-483f-adb6-be22b5e3a9ef",
   "metadata": {
    "tags": []
   },
   "outputs": [
    {
     "data": {
      "text/plain": [
       "129.3"
      ]
     },
     "execution_count": 44,
     "metadata": {},
     "output_type": "execute_result"
    }
   ],
   "source": [
    "# Q11 What is the average number of interview preparation hours?\n",
    "\n",
    "df_students_interview.interview_preparation_hrs.mean()"
   ]
  },
  {
   "cell_type": "code",
   "execution_count": 54,
   "id": "c6398426-81d4-4fe9-a896-3ae20b93aceb",
   "metadata": {
    "tags": []
   },
   "outputs": [
    {
     "name": "stdout",
     "output_type": "stream",
     "text": [
      "4.5\n"
     ]
    }
   ],
   "source": [
    "# Q12 What is the average age difference between Male and Female students? One line of code using groupby.\n",
    "\n",
    "mean_age_by_sex = df_students.groupby('sex')['age'].mean()\n",
    "age_difference = mean_age_by_sex['M'] - mean_age_by_sex['F']\n",
    "print(age_difference)\n",
    "\n"
   ]
  },
  {
   "cell_type": "code",
   "execution_count": 53,
   "id": "108fc987-8aee-4699-9b9e-6952224e650e",
   "metadata": {
    "tags": []
   },
   "outputs": [
    {
     "data": {
      "text/plain": [
       "4.5"
      ]
     },
     "execution_count": 53,
     "metadata": {},
     "output_type": "execute_result"
    }
   ],
   "source": [
    "# Q 12: in just one line\n",
    "df_students.groupby(by = ['sex']).age.mean().M - df_students.groupby(by = ['sex']).age.mean().F"
   ]
  },
  {
   "cell_type": "code",
   "execution_count": 84,
   "id": "03d8f850-ff18-436c-98b7-46a0ca9e6607",
   "metadata": {
    "tags": []
   },
   "outputs": [
    {
     "data": {
      "text/plain": [
       "4.5"
      ]
     },
     "execution_count": 84,
     "metadata": {},
     "output_type": "execute_result"
    }
   ],
   "source": [
    "# Q 12 more advanced solution\n",
    "# ignore it if it stresses you out! \n",
    "average_age_difference = df_students.groupby('sex')['age'].mean().diff().iloc[-1]\n",
    "average_age_difference"
   ]
  },
  {
   "cell_type": "code",
   "execution_count": 58,
   "id": "334ab0dd-1277-4973-abf2-6c73cf9bfa15",
   "metadata": {
    "tags": []
   },
   "outputs": [
    {
     "data": {
      "text/plain": [
       "<Axes: xlabel='student_home_state'>"
      ]
     },
     "execution_count": 58,
     "metadata": {},
     "output_type": "execute_result"
    },
    {
     "data": {
      "image/png": "[encoded data removed]",
      "text/plain": [
       "<Figure size 640x480 with 1 Axes>"
      ]
     },
     "metadata": {},
     "output_type": "display_data"
    }
   ],
   "source": [
    "# Q 13 Write one line of code that visualizes student home state frequencies. Hint: use bar plot.\n",
    "\n",
    "# using pandas\n",
    "df_students_interview.student_home_state.value_counts().plot.bar()"
   ]
  },
  {
   "cell_type": "code",
   "execution_count": 67,
   "id": "ff560ddd-ab3c-49bc-b165-5499bd5d0b76",
   "metadata": {
    "tags": []
   },
   "outputs": [
    {
     "data": {
      "text/plain": [
       "<Axes: xlabel='student_home_state', ylabel='count'>"
      ]
     },
     "execution_count": 67,
     "metadata": {},
     "output_type": "execute_result"
    },
    {
     "data": {
      "image/png": "[encoded data removed]",
      "text/plain": [
       "<Figure size 640x480 with 1 Axes>"
      ]
     },
     "metadata": {},
     "output_type": "display_data"
    }
   ],
   "source": [
    "# Q 13 using sns\n",
    "sns.countplot(data = df_students_interview, x = 'student_home_state')\n"
   ]
  },
  {
   "cell_type": "code",
   "execution_count": 63,
   "id": "aa274a1d-8a9f-49af-ac2f-9a5f6ea9193f",
   "metadata": {
    "tags": []
   },
   "outputs": [
    {
     "data": {
      "text/plain": [
       "<BarContainer object of 3 artists>"
      ]
     },
     "execution_count": 63,
     "metadata": {},
     "output_type": "execute_result"
    },
    {
     "data": {
      "image/png": "[encoded data removed]",
      "text/plain": [
       "<Figure size 640x480 with 1 Axes>"
      ]
     },
     "metadata": {},
     "output_type": "display_data"
    }
   ],
   "source": [
    "# Q 13 using matplotlib.pyplot\n",
    "plt.bar(df_students_interview.student_home_state.value_counts().index, df_students_interview.student_home_state.value_counts())"
   ]
  },
  {
   "cell_type": "code",
   "execution_count": 69,
   "id": "6a50e9c3-69c0-4caa-8898-6e143b620b4a",
   "metadata": {
    "tags": []
   },
   "outputs": [
    {
     "data": {
      "text/plain": [
       "62.5"
      ]
     },
     "execution_count": 69,
     "metadata": {},
     "output_type": "execute_result"
    }
   ],
   "source": [
    "# Q 14: What fraction of students who spent time for interview preparation are Male? \n",
    "# Hint: You have information needed for solving this problem in two differnet dataframes; so you\n",
    "# must merge them first. we need to focus on those students with positive interview prep\n",
    "# hours. Then we need to find their sex.\n",
    "\n",
    "df_1 = df_students_interview.merge(df_students,\n",
    "                           on ='student_name',\n",
    "                           how = 'inner',\n",
    "                            indicator=True,\n",
    "                           validate='1:1')\n",
    "# we focus on those students with positive interview prep hours \n",
    "# for thos estudents we need to find their sex\n",
    "# this happens with merging two dataframes\n",
    "# how to find percentage of male in df_1?\n",
    "df_1.sex.eq('M').mul(100).mean()"
   ]
  },
  {
   "cell_type": "code",
   "execution_count": 70,
   "id": "6f9b5a23-105e-4c6d-9ae1-4d994e22785e",
   "metadata": {
    "tags": []
   },
   "outputs": [
    {
     "data": {
      "text/plain": [
       "35"
      ]
     },
     "execution_count": 70,
     "metadata": {},
     "output_type": "execute_result"
    }
   ],
   "source": [
    "# Q 15 What is the maximum number of interviews for students who have spent some time\n",
    "# preparing for the interview?\n",
    "df_2 = df_students_interview.merge(df_students, \n",
    "                            on='student_name',\n",
    "                            how='inner', \n",
    "                            indicator=True)\n",
    "df_1.no_of_interviews.max()"
   ]
  },
  {
   "cell_type": "code",
   "execution_count": 71,
   "id": "b9df699d-dc44-4ba3-b3db-d437fe0614b9",
   "metadata": {
    "tags": []
   },
   "outputs": [
    {
     "data": {
      "text/plain": [
       "26.5"
      ]
     },
     "execution_count": 71,
     "metadata": {},
     "output_type": "execute_result"
    }
   ],
   "source": [
    "# Q 16 What is the average age of students who spent some time on job interview preparation?\n",
    "\n",
    "df_1 = df_students_interview.merge(df_students, on = 'student_name', how = 'inner', validate = '1:1')\n",
    "df_1.age.mean()"
   ]
  },
  {
   "cell_type": "code",
   "execution_count": 76,
   "id": "146d1471-104f-45bc-b492-3b1f87e47b5a",
   "metadata": {
    "tags": []
   },
   "outputs": [
    {
     "data": {
      "text/html": [
       "<div>\n",
       "<style scoped>\n",
       "    .dataframe tbody tr th:only-of-type {\n",
       "        vertical-align: middle;\n",
       "    }\n",
       "\n",
       "    .dataframe tbody tr th {\n",
       "        vertical-align: top;\n",
       "    }\n",
       "\n",
       "    .dataframe thead th {\n",
       "        text-align: right;\n",
       "    }\n",
       "</style>\n",
       "<table border=\"1\" class=\"dataframe\">\n",
       "  <thead>\n",
       "    <tr style=\"text-align: right;\">\n",
       "      <th></th>\n",
       "      <th>interview_preparation_hrs</th>\n",
       "      <th>no_of_interviews</th>\n",
       "    </tr>\n",
       "  </thead>\n",
       "  <tbody>\n",
       "    <tr>\n",
       "      <th>interview_preparation_hrs</th>\n",
       "      <td>1.000000</td>\n",
       "      <td>0.408708</td>\n",
       "    </tr>\n",
       "    <tr>\n",
       "      <th>no_of_interviews</th>\n",
       "      <td>0.408708</td>\n",
       "      <td>1.000000</td>\n",
       "    </tr>\n",
       "  </tbody>\n",
       "</table>\n",
       "</div>"
      ],
      "text/plain": [
       "                           interview_preparation_hrs  no_of_interviews\n",
       "interview_preparation_hrs                   1.000000          0.408708\n",
       "no_of_interviews                            0.408708          1.000000"
      ]
     },
     "execution_count": 76,
     "metadata": {},
     "output_type": "execute_result"
    }
   ],
   "source": [
    "# Q 17 Is there any correlation between the number of interviews and the amount of time spent\n",
    "# preparing for interviews?\n",
    "import seaborn as sns\n",
    "df_2 = df_students_interview.merge(df_students,\n",
    "                            on = 'student_name',\n",
    "                            how = 'outer')\n",
    "df_3 = df_2[['interview_preparation_hrs', 'no_of_interviews']]\n",
    "# correlation matrix\n",
    "df_4 = df_3.fillna(0).corr()\n",
    "df_4"
   ]
  },
  {
   "cell_type": "code",
   "execution_count": 77,
   "id": "78c9d5f9-6dda-48e8-b470-81c0e9855b05",
   "metadata": {
    "tags": []
   },
   "outputs": [
    {
     "data": {
      "text/plain": [
       "<Axes: >"
      ]
     },
     "execution_count": 77,
     "metadata": {},
     "output_type": "execute_result"
    },
    {
     "data": {
      "image/png": "[encoded data removed]",
      "text/plain": [
       "<Figure size 640x480 with 2 Axes>"
      ]
     },
     "metadata": {},
     "output_type": "display_data"
    }
   ],
   "source": [
    "sns.heatmap(df_4, annot = True)"
   ]
  },
  {
   "cell_type": "code",
   "execution_count": 79,
   "id": "cbfdac2c-c55a-44f0-8c01-a0de11f0a57a",
   "metadata": {
    "tags": []
   },
   "outputs": [
    {
     "data": {
      "text/plain": [
       "22.17"
      ]
     },
     "execution_count": 79,
     "metadata": {},
     "output_type": "execute_result"
    }
   ],
   "source": [
    "# Q 18 What is the average age of students who spent at least 80 hours on interview preparation?\n",
    "df_5 = df_students_interview.merge(df_students,\n",
    "                           on = 'student_name',\n",
    "                           how = 'inner')\n",
    "\n",
    "df_5[df_5.interview_preparation_hrs.ge(80)].age.mean().round(2)"
   ]
  },
  {
   "cell_type": "code",
   "execution_count": 80,
   "id": "e0e322c1-9cbb-4957-8985-d5997bb287b6",
   "metadata": {
    "tags": []
   },
   "outputs": [
    {
     "data": {
      "text/plain": [
       "16.67"
      ]
     },
     "execution_count": 80,
     "metadata": {},
     "output_type": "execute_result"
    }
   ],
   "source": [
    "# Q 19 What fraction of students who have received at least 15 interviews live in DC?\n",
    "df_6 = df_students[df_students.no_of_interviews.ge(15)]\n",
    "df_6.merge(df_students_interview[['student_name', 'student_home_city']],\n",
    "          on = 'student_name',\n",
    "          how = 'left').student_home_city.eq('DC').mul(100).mean().round(2)"
   ]
  },
  {
   "cell_type": "code",
   "execution_count": null,
   "id": "4039f71d-6487-44b5-ba73-b4b2fc53f987",
   "metadata": {},
   "outputs": [],
   "source": [
    "# Q 20 What fraction of female students’ schools are located in the state of Maryland?"
   ]
  },
  {
   "cell_type": "code",
   "execution_count": 90,
   "id": "75bfdcc1-40c3-4cde-a9de-d88b446f8e2f",
   "metadata": {
    "tags": []
   },
   "outputs": [
    {
     "data": {
      "text/plain": [
       "0.167"
      ]
     },
     "execution_count": 90,
     "metadata": {},
     "output_type": "execute_result"
    }
   ],
   "source": [
    "df_F=df_students[df_students.sex.eq('F')]\n",
    "df_temp=df_students_interview.merge(df_schools, on='grad_school',\n",
    "                            how='left')\n",
    "df_F.merge(df_temp, on='student_name',how='left').school_state.eq('MD').mean().round(3)"
   ]
  },
  {
   "cell_type": "code",
   "execution_count": null,
   "id": "e4df36a9-90f9-41ef-abe5-885b3cad2225",
   "metadata": {},
   "outputs": [],
   "source": []
  }
 ],
 "metadata": {
  "kernelspec": {
   "display_name": "Python 3 (ipykernel)",
   "language": "python",
   "name": "python3"
  },
  "language_info": {
   "codemirror_mode": {
    "name": "ipython",
    "version": 3
   },
   "file_extension": ".py",
   "mimetype": "text/x-python",
   "name": "python",
   "nbconvert_exporter": "python",
   "pygments_lexer": "ipython3",
   "version": "3.12.4"
  }
 },
 "nbformat": 4,
 "nbformat_minor": 5
}
