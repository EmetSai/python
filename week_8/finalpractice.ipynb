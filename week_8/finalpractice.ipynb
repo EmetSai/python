{
 "cells": [
  {
   "cell_type": "code",
   "execution_count": 1,
   "id": "f2c58d72-3af9-4570-b39f-031ab3807830",
   "metadata": {},
   "outputs": [],
   "source": [
    "import pandas as pd\n",
    "import matplotlib.pyplot as plt\n",
    "import seaborn as sns\n",
    "import missingno as msno\n",
    "import pingouin as pg\n",
    "\n",
    "sales_data = {\n",
    "    'Order_ID': [101, 102, 103, 104, 105],\n",
    "    'Product': ['Laptop', 'Mouse', 'Keyboard', 'Monitor', 'Tablet'],\n",
    "    'Category': ['Electronics', 'Accessories', 'Accessories', 'Electronics', 'Electronics'],\n",
    "    'Quantity': [1, 2, 1, 3, 1],\n",
    "    'Order_Date': ['2023-01-15', '2023-02-20', '2023-03-10', '2023-04-18', '2023-05-05'],\n",
    "    'Price': [1000, 25, 45, 200, 500]\n",
    "}\n",
    "\n",
    "customer_data = {\n",
    "    'Customer_ID': [1, 2, 3, 4, 5],\n",
    "    'Name': ['Alice', 'Bob', 'Charlie', 'David', 'Eve'],\n",
    "    'Country': ['US', 'Canada', 'US', 'UK', None],\n",
    "    'Age': [25, 34, None, 29, 22],\n",
    "    'Loyalty_Score': [4.5, None, 3.8, 4.0, 4.7],\n",
    "}\n",
    "\n",
    "shipment_data = {\n",
    "    'Order_ID': [101, 102, 106, 107, 108],\n",
    "    'Shipment_Date': ['2023-01-17', '2023-02-22', '2023-06-15', '2023-07-20', '2023-08-25'],\n",
    "    'Shipping_Cost': [15.5, 12.0, 18.0, 22.5, 10.0],\n",
    "    'Carrier': ['FedEx', 'UPS', 'DHL', 'FedEx', 'UPS']\n",
    "}\n"
   ]
  },
  {
   "cell_type": "code",
   "execution_count": 5,
   "id": "b79d749d-d04b-4ba8-af96-284f3644461a",
   "metadata": {},
   "outputs": [
    {
     "data": {
      "text/html": [
       "<div>\n",
       "<style scoped>\n",
       "    .dataframe tbody tr th:only-of-type {\n",
       "        vertical-align: middle;\n",
       "    }\n",
       "\n",
       "    .dataframe tbody tr th {\n",
       "        vertical-align: top;\n",
       "    }\n",
       "\n",
       "    .dataframe thead th {\n",
       "        text-align: right;\n",
       "    }\n",
       "</style>\n",
       "<table border=\"1\" class=\"dataframe\">\n",
       "  <thead>\n",
       "    <tr style=\"text-align: right;\">\n",
       "      <th></th>\n",
       "      <th>Order_ID</th>\n",
       "      <th>Product</th>\n",
       "      <th>Category</th>\n",
       "      <th>Quantity</th>\n",
       "      <th>Order_Date</th>\n",
       "      <th>Price</th>\n",
       "    </tr>\n",
       "  </thead>\n",
       "  <tbody>\n",
       "    <tr>\n",
       "      <th>0</th>\n",
       "      <td>101</td>\n",
       "      <td>Laptop</td>\n",
       "      <td>Electronics</td>\n",
       "      <td>1</td>\n",
       "      <td>2023-01-15</td>\n",
       "      <td>1000</td>\n",
       "    </tr>\n",
       "    <tr>\n",
       "      <th>1</th>\n",
       "      <td>102</td>\n",
       "      <td>Mouse</td>\n",
       "      <td>Accessories</td>\n",
       "      <td>2</td>\n",
       "      <td>2023-02-20</td>\n",
       "      <td>25</td>\n",
       "    </tr>\n",
       "    <tr>\n",
       "      <th>2</th>\n",
       "      <td>103</td>\n",
       "      <td>Keyboard</td>\n",
       "      <td>Accessories</td>\n",
       "      <td>1</td>\n",
       "      <td>2023-03-10</td>\n",
       "      <td>45</td>\n",
       "    </tr>\n",
       "  </tbody>\n",
       "</table>\n",
       "</div>"
      ],
      "text/plain": [
       "   Order_ID   Product     Category  Quantity  Order_Date  Price\n",
       "0       101    Laptop  Electronics         1  2023-01-15   1000\n",
       "1       102     Mouse  Accessories         2  2023-02-20     25\n",
       "2       103  Keyboard  Accessories         1  2023-03-10     45"
      ]
     },
     "metadata": {},
     "output_type": "display_data"
    }
   ],
   "source": [
    "df_sales = pd.DataFrame(sales_data)\n",
    "display(df_sales.head(3))"
   ]
  },
  {
   "cell_type": "code",
   "execution_count": 7,
   "id": "5b1b4869-3ff7-41ad-ae83-7b5dcf436056",
   "metadata": {},
   "outputs": [
    {
     "name": "stdout",
     "output_type": "stream",
     "text": [
      "<class 'pandas.core.frame.DataFrame'>\n",
      "RangeIndex: 5 entries, 0 to 4\n",
      "Data columns (total 6 columns):\n",
      " #   Column      Non-Null Count  Dtype \n",
      "---  ------      --------------  ----- \n",
      " 0   Order_ID    5 non-null      int64 \n",
      " 1   Product     5 non-null      object\n",
      " 2   Category    5 non-null      object\n",
      " 3   Quantity    5 non-null      int64 \n",
      " 4   Order_Date  5 non-null      object\n",
      " 5   Price       5 non-null      int64 \n",
      "dtypes: int64(3), object(3)\n",
      "memory usage: 372.0+ bytes\n"
     ]
    }
   ],
   "source": [
    "df_sales.info()"
   ]
  },
  {
   "cell_type": "code",
   "execution_count": 9,
   "id": "7406ade6-0961-4819-a5dd-192e90908bef",
   "metadata": {},
   "outputs": [
    {
     "data": {
      "text/html": [
       "<div>\n",
       "<style scoped>\n",
       "    .dataframe tbody tr th:only-of-type {\n",
       "        vertical-align: middle;\n",
       "    }\n",
       "\n",
       "    .dataframe tbody tr th {\n",
       "        vertical-align: top;\n",
       "    }\n",
       "\n",
       "    .dataframe thead th {\n",
       "        text-align: right;\n",
       "    }\n",
       "</style>\n",
       "<table border=\"1\" class=\"dataframe\">\n",
       "  <thead>\n",
       "    <tr style=\"text-align: right;\">\n",
       "      <th></th>\n",
       "      <th>Order_ID</th>\n",
       "      <th>Quantity</th>\n",
       "      <th>Price</th>\n",
       "    </tr>\n",
       "  </thead>\n",
       "  <tbody>\n",
       "    <tr>\n",
       "      <th>count</th>\n",
       "      <td>5.000000</td>\n",
       "      <td>5.000000</td>\n",
       "      <td>5.000000</td>\n",
       "    </tr>\n",
       "    <tr>\n",
       "      <th>mean</th>\n",
       "      <td>103.000000</td>\n",
       "      <td>1.600000</td>\n",
       "      <td>354.000000</td>\n",
       "    </tr>\n",
       "    <tr>\n",
       "      <th>std</th>\n",
       "      <td>1.581139</td>\n",
       "      <td>0.894427</td>\n",
       "      <td>408.065558</td>\n",
       "    </tr>\n",
       "    <tr>\n",
       "      <th>min</th>\n",
       "      <td>101.000000</td>\n",
       "      <td>1.000000</td>\n",
       "      <td>25.000000</td>\n",
       "    </tr>\n",
       "    <tr>\n",
       "      <th>25%</th>\n",
       "      <td>102.000000</td>\n",
       "      <td>1.000000</td>\n",
       "      <td>45.000000</td>\n",
       "    </tr>\n",
       "    <tr>\n",
       "      <th>50%</th>\n",
       "      <td>103.000000</td>\n",
       "      <td>1.000000</td>\n",
       "      <td>200.000000</td>\n",
       "    </tr>\n",
       "    <tr>\n",
       "      <th>75%</th>\n",
       "      <td>104.000000</td>\n",
       "      <td>2.000000</td>\n",
       "      <td>500.000000</td>\n",
       "    </tr>\n",
       "    <tr>\n",
       "      <th>max</th>\n",
       "      <td>105.000000</td>\n",
       "      <td>3.000000</td>\n",
       "      <td>1000.000000</td>\n",
       "    </tr>\n",
       "  </tbody>\n",
       "</table>\n",
       "</div>"
      ],
      "text/plain": [
       "         Order_ID  Quantity        Price\n",
       "count    5.000000  5.000000     5.000000\n",
       "mean   103.000000  1.600000   354.000000\n",
       "std      1.581139  0.894427   408.065558\n",
       "min    101.000000  1.000000    25.000000\n",
       "25%    102.000000  1.000000    45.000000\n",
       "50%    103.000000  1.000000   200.000000\n",
       "75%    104.000000  2.000000   500.000000\n",
       "max    105.000000  3.000000  1000.000000"
      ]
     },
     "execution_count": 9,
     "metadata": {},
     "output_type": "execute_result"
    }
   ],
   "source": [
    "df_sales.describe()"
   ]
  },
  {
   "cell_type": "code",
   "execution_count": 15,
   "id": "379cef24-b64a-4f59-863b-ca14e1a847c1",
   "metadata": {},
   "outputs": [
    {
     "name": "stdout",
     "output_type": "stream",
     "text": [
      "<class 'pandas.core.frame.DataFrame'>\n",
      "RangeIndex: 5 entries, 0 to 4\n",
      "Data columns (total 6 columns):\n",
      " #   Column      Non-Null Count  Dtype         \n",
      "---  ------      --------------  -----         \n",
      " 0   Order_ID    5 non-null      int64         \n",
      " 1   Product     5 non-null      object        \n",
      " 2   Category    5 non-null      object        \n",
      " 3   Quantity    5 non-null      int64         \n",
      " 4   Order_Date  5 non-null      datetime64[ns]\n",
      " 5   Price       5 non-null      int64         \n",
      "dtypes: datetime64[ns](1), int64(3), object(2)\n",
      "memory usage: 372.0+ bytes\n"
     ]
    }
   ],
   "source": [
    "df_sales['Order_Date'] = pd.to_datetime(df_sales['Order_Date'])\n",
    "df_sales.info()"
   ]
  },
  {
   "cell_type": "code",
   "execution_count": 19,
   "id": "dff14589-2feb-452d-ae0a-4ec832a17419",
   "metadata": {},
   "outputs": [
    {
     "name": "stdout",
     "output_type": "stream",
     "text": [
      "<class 'pandas.core.frame.DataFrame'>\n",
      "RangeIndex: 5 entries, 0 to 4\n",
      "Data columns (total 6 columns):\n",
      " #   Column      Non-Null Count  Dtype         \n",
      "---  ------      --------------  -----         \n",
      " 0   Order_ID    5 non-null      int64         \n",
      " 1   Product     5 non-null      object        \n",
      " 2   Category    5 non-null      object        \n",
      " 3   Quantity    5 non-null      int64         \n",
      " 4   Order_Date  5 non-null      datetime64[ns]\n",
      " 5   Unit_price  5 non-null      int64         \n",
      "dtypes: datetime64[ns](1), int64(3), object(2)\n",
      "memory usage: 372.0+ bytes\n"
     ]
    }
   ],
   "source": [
    "df_sales.rename(columns={'Price': 'Unit_price'}, inplace=True)\n",
    "df_sales.info()"
   ]
  },
  {
   "cell_type": "code",
   "execution_count": 21,
   "id": "32a01bae-77da-4300-8a2c-f9fa5948b119",
   "metadata": {},
   "outputs": [
    {
     "data": {
      "text/html": [
       "<div>\n",
       "<style scoped>\n",
       "    .dataframe tbody tr th:only-of-type {\n",
       "        vertical-align: middle;\n",
       "    }\n",
       "\n",
       "    .dataframe tbody tr th {\n",
       "        vertical-align: top;\n",
       "    }\n",
       "\n",
       "    .dataframe thead th {\n",
       "        text-align: right;\n",
       "    }\n",
       "</style>\n",
       "<table border=\"1\" class=\"dataframe\">\n",
       "  <thead>\n",
       "    <tr style=\"text-align: right;\">\n",
       "      <th></th>\n",
       "      <th>0</th>\n",
       "      <th>1</th>\n",
       "      <th>2</th>\n",
       "      <th>3</th>\n",
       "      <th>4</th>\n",
       "    </tr>\n",
       "  </thead>\n",
       "  <tbody>\n",
       "    <tr>\n",
       "      <th>Order_ID</th>\n",
       "      <td>101</td>\n",
       "      <td>102</td>\n",
       "      <td>103</td>\n",
       "      <td>104</td>\n",
       "      <td>105</td>\n",
       "    </tr>\n",
       "    <tr>\n",
       "      <th>Product</th>\n",
       "      <td>Laptop</td>\n",
       "      <td>Mouse</td>\n",
       "      <td>Keyboard</td>\n",
       "      <td>Monitor</td>\n",
       "      <td>Tablet</td>\n",
       "    </tr>\n",
       "    <tr>\n",
       "      <th>Category</th>\n",
       "      <td>Electronics</td>\n",
       "      <td>Accessories</td>\n",
       "      <td>Accessories</td>\n",
       "      <td>Electronics</td>\n",
       "      <td>Electronics</td>\n",
       "    </tr>\n",
       "    <tr>\n",
       "      <th>Quantity</th>\n",
       "      <td>1</td>\n",
       "      <td>2</td>\n",
       "      <td>1</td>\n",
       "      <td>3</td>\n",
       "      <td>1</td>\n",
       "    </tr>\n",
       "    <tr>\n",
       "      <th>Order_Date</th>\n",
       "      <td>2023-01-15 00:00:00</td>\n",
       "      <td>2023-02-20 00:00:00</td>\n",
       "      <td>2023-03-10 00:00:00</td>\n",
       "      <td>2023-04-18 00:00:00</td>\n",
       "      <td>2023-05-05 00:00:00</td>\n",
       "    </tr>\n",
       "    <tr>\n",
       "      <th>Unit_price</th>\n",
       "      <td>1000</td>\n",
       "      <td>25</td>\n",
       "      <td>45</td>\n",
       "      <td>200</td>\n",
       "      <td>500</td>\n",
       "    </tr>\n",
       "  </tbody>\n",
       "</table>\n",
       "</div>"
      ],
      "text/plain": [
       "                              0                    1                    2  \\\n",
       "Order_ID                    101                  102                  103   \n",
       "Product                  Laptop                Mouse             Keyboard   \n",
       "Category            Electronics          Accessories          Accessories   \n",
       "Quantity                      1                    2                    1   \n",
       "Order_Date  2023-01-15 00:00:00  2023-02-20 00:00:00  2023-03-10 00:00:00   \n",
       "Unit_price                 1000                   25                   45   \n",
       "\n",
       "                              3                    4  \n",
       "Order_ID                    104                  105  \n",
       "Product                 Monitor               Tablet  \n",
       "Category            Electronics          Electronics  \n",
       "Quantity                      3                    1  \n",
       "Order_Date  2023-04-18 00:00:00  2023-05-05 00:00:00  \n",
       "Unit_price                  200                  500  "
      ]
     },
     "execution_count": 21,
     "metadata": {},
     "output_type": "execute_result"
    }
   ],
   "source": [
    "df_sales_transpose = df_sales.transpose()\n",
    "df_sales_transpose"
   ]
  },
  {
   "cell_type": "code",
   "execution_count": 29,
   "id": "d11a7c8f-163e-4284-b3b4-303ccb5d9e95",
   "metadata": {},
   "outputs": [
    {
     "data": {
      "text/plain": [
       "2"
      ]
     },
     "execution_count": 29,
     "metadata": {},
     "output_type": "execute_result"
    }
   ],
   "source": [
    "df_sales['Category'].nunique()"
   ]
  },
  {
   "cell_type": "code",
   "execution_count": 35,
   "id": "ff7fc25b-9189-4f60-a122-0941e64d2a0c",
   "metadata": {},
   "outputs": [
    {
     "data": {
      "text/plain": [
       "Product\n",
       "Laptop      1\n",
       "Mouse       1\n",
       "Keyboard    1\n",
       "Monitor     1\n",
       "Tablet      1\n",
       "Name: count, dtype: int64"
      ]
     },
     "execution_count": 35,
     "metadata": {},
     "output_type": "execute_result"
    }
   ],
   "source": [
    "df_sales['Product'].value_counts()"
   ]
  },
  {
   "cell_type": "code",
   "execution_count": 37,
   "id": "757ec6db-9ab7-4c22-b55d-b728e0f214a2",
   "metadata": {},
   "outputs": [
    {
     "data": {
      "text/plain": [
       "Category\n",
       "Accessories    3\n",
       "Electronics    5\n",
       "Name: Quantity, dtype: int64"
      ]
     },
     "execution_count": 37,
     "metadata": {},
     "output_type": "execute_result"
    }
   ],
   "source": [
    "df_sales.groupby(['Category'])['Quantity'].sum()"
   ]
  },
  {
   "cell_type": "code",
   "execution_count": 43,
   "id": "b2cdf84f-f2ee-42b1-9377-ec86e4dd7fae",
   "metadata": {},
   "outputs": [
    {
     "data": {
      "text/html": [
       "<div>\n",
       "<style scoped>\n",
       "    .dataframe tbody tr th:only-of-type {\n",
       "        vertical-align: middle;\n",
       "    }\n",
       "\n",
       "    .dataframe tbody tr th {\n",
       "        vertical-align: top;\n",
       "    }\n",
       "\n",
       "    .dataframe thead th {\n",
       "        text-align: right;\n",
       "    }\n",
       "</style>\n",
       "<table border=\"1\" class=\"dataframe\">\n",
       "  <thead>\n",
       "    <tr style=\"text-align: right;\">\n",
       "      <th>Product</th>\n",
       "      <th>Keyboard</th>\n",
       "      <th>Laptop</th>\n",
       "      <th>Monitor</th>\n",
       "      <th>Mouse</th>\n",
       "      <th>Tablet</th>\n",
       "    </tr>\n",
       "    <tr>\n",
       "      <th>Category</th>\n",
       "      <th></th>\n",
       "      <th></th>\n",
       "      <th></th>\n",
       "      <th></th>\n",
       "      <th></th>\n",
       "    </tr>\n",
       "  </thead>\n",
       "  <tbody>\n",
       "    <tr>\n",
       "      <th>Accessories</th>\n",
       "      <td>45.0</td>\n",
       "      <td>NaN</td>\n",
       "      <td>NaN</td>\n",
       "      <td>25.0</td>\n",
       "      <td>NaN</td>\n",
       "    </tr>\n",
       "    <tr>\n",
       "      <th>Electronics</th>\n",
       "      <td>NaN</td>\n",
       "      <td>1000.0</td>\n",
       "      <td>200.0</td>\n",
       "      <td>NaN</td>\n",
       "      <td>500.0</td>\n",
       "    </tr>\n",
       "  </tbody>\n",
       "</table>\n",
       "</div>"
      ],
      "text/plain": [
       "Product      Keyboard  Laptop  Monitor  Mouse  Tablet\n",
       "Category                                             \n",
       "Accessories      45.0     NaN      NaN   25.0     NaN\n",
       "Electronics       NaN  1000.0    200.0    NaN   500.0"
      ]
     },
     "execution_count": 43,
     "metadata": {},
     "output_type": "execute_result"
    }
   ],
   "source": [
    "df_sales.pivot_table(values = 'Unit_price',\n",
    "                    index = 'Category',\n",
    "                    columns='Product',\n",
    "                    aggfunc='mean')"
   ]
  },
  {
   "cell_type": "code",
   "execution_count": 45,
   "id": "b85e9643-2bf9-479f-94f6-1308c8f9e7c1",
   "metadata": {},
   "outputs": [
    {
     "data": {
      "text/html": [
       "<div>\n",
       "<style scoped>\n",
       "    .dataframe tbody tr th:only-of-type {\n",
       "        vertical-align: middle;\n",
       "    }\n",
       "\n",
       "    .dataframe tbody tr th {\n",
       "        vertical-align: top;\n",
       "    }\n",
       "\n",
       "    .dataframe thead th {\n",
       "        text-align: right;\n",
       "    }\n",
       "</style>\n",
       "<table border=\"1\" class=\"dataframe\">\n",
       "  <thead>\n",
       "    <tr style=\"text-align: right;\">\n",
       "      <th></th>\n",
       "      <th>Order_ID</th>\n",
       "      <th>Product</th>\n",
       "      <th>Category</th>\n",
       "      <th>Quantity</th>\n",
       "      <th>Order_Date</th>\n",
       "      <th>Unit_price</th>\n",
       "    </tr>\n",
       "  </thead>\n",
       "  <tbody>\n",
       "    <tr>\n",
       "      <th>1</th>\n",
       "      <td>102</td>\n",
       "      <td>Mouse</td>\n",
       "      <td>Accessories</td>\n",
       "      <td>2</td>\n",
       "      <td>2023-02-20</td>\n",
       "      <td>25</td>\n",
       "    </tr>\n",
       "    <tr>\n",
       "      <th>3</th>\n",
       "      <td>104</td>\n",
       "      <td>Monitor</td>\n",
       "      <td>Electronics</td>\n",
       "      <td>3</td>\n",
       "      <td>2023-04-18</td>\n",
       "      <td>200</td>\n",
       "    </tr>\n",
       "  </tbody>\n",
       "</table>\n",
       "</div>"
      ],
      "text/plain": [
       "   Order_ID  Product     Category  Quantity Order_Date  Unit_price\n",
       "1       102    Mouse  Accessories         2 2023-02-20          25\n",
       "3       104  Monitor  Electronics         3 2023-04-18         200"
      ]
     },
     "execution_count": 45,
     "metadata": {},
     "output_type": "execute_result"
    }
   ],
   "source": [
    "df_sales[df_sales['Quantity']>1]"
   ]
  },
  {
   "cell_type": "code",
   "execution_count": 51,
   "id": "168597d4-ca07-465f-88ee-6f6a841e3f51",
   "metadata": {},
   "outputs": [
    {
     "data": {
      "text/plain": [
       "<Axes: xlabel='Category'>"
      ]
     },
     "execution_count": 51,
     "metadata": {},
     "output_type": "execute_result"
    },
    {
     "data": {
      "image/png": "[encoded data removed]",
      "text/plain": [
       "<Figure size 640x480 with 1 Axes>"
      ]
     },
     "metadata": {},
     "output_type": "display_data"
    }
   ],
   "source": [
    "df_sales.groupby('Category')['Unit_price'].sum().plot(kind = 'bar')"
   ]
  },
  {
   "cell_type": "code",
   "execution_count": 55,
   "id": "c83d78e3-109c-4bfc-903c-caa5fc54cc90",
   "metadata": {},
   "outputs": [
    {
     "data": {
      "text/plain": [
       "<Axes: xlabel='Order_Date'>"
      ]
     },
     "execution_count": 55,
     "metadata": {},
     "output_type": "execute_result"
    },
    {
     "data": {
      "image/png": "[encoded data removed]",
      "text/plain": [
       "<Figure size 640x480 with 1 Axes>"
      ]
     },
     "metadata": {},
     "output_type": "display_data"
    }
   ],
   "source": [
    "df_sales.set_index('Order_Date')['Quantity'].plot(kind = 'line')"
   ]
  },
  {
   "cell_type": "code",
   "execution_count": 61,
   "id": "24df71bc-22b1-4374-8b4a-6233fe832a21",
   "metadata": {},
   "outputs": [
    {
     "data": {
      "text/plain": [
       "<Axes: xlabel='Unit_price', ylabel='Quantity'>"
      ]
     },
     "execution_count": 61,
     "metadata": {},
     "output_type": "execute_result"
    },
    {
     "data": {
      "image/png": "[encoded data removed]",
      "text/plain": [
       "<Figure size 640x480 with 1 Axes>"
      ]
     },
     "metadata": {},
     "output_type": "display_data"
    }
   ],
   "source": [
    "sns.scatterplot(df_sales,x='Unit_price',y='Quantity')"
   ]
  },
  {
   "cell_type": "code",
   "execution_count": 71,
   "id": "1c5ff0b3-8a37-4025-9775-25fb934222c0",
   "metadata": {},
   "outputs": [
    {
     "data": {
      "text/html": [
       "<div>\n",
       "<style scoped>\n",
       "    .dataframe tbody tr th:only-of-type {\n",
       "        vertical-align: middle;\n",
       "    }\n",
       "\n",
       "    .dataframe tbody tr th {\n",
       "        vertical-align: top;\n",
       "    }\n",
       "\n",
       "    .dataframe thead th {\n",
       "        text-align: right;\n",
       "    }\n",
       "</style>\n",
       "<table border=\"1\" class=\"dataframe\">\n",
       "  <thead>\n",
       "    <tr style=\"text-align: right;\">\n",
       "      <th></th>\n",
       "      <th>Order_ID</th>\n",
       "      <th>Product</th>\n",
       "      <th>Quantity</th>\n",
       "      <th>Order_Date</th>\n",
       "      <th>Unit_price</th>\n",
       "      <th>Category_Accessories</th>\n",
       "      <th>Category_Electronics</th>\n",
       "    </tr>\n",
       "  </thead>\n",
       "  <tbody>\n",
       "    <tr>\n",
       "      <th>0</th>\n",
       "      <td>101</td>\n",
       "      <td>Laptop</td>\n",
       "      <td>1</td>\n",
       "      <td>2023-01-15</td>\n",
       "      <td>1000</td>\n",
       "      <td>False</td>\n",
       "      <td>True</td>\n",
       "    </tr>\n",
       "    <tr>\n",
       "      <th>1</th>\n",
       "      <td>102</td>\n",
       "      <td>Mouse</td>\n",
       "      <td>2</td>\n",
       "      <td>2023-02-20</td>\n",
       "      <td>25</td>\n",
       "      <td>True</td>\n",
       "      <td>False</td>\n",
       "    </tr>\n",
       "    <tr>\n",
       "      <th>2</th>\n",
       "      <td>103</td>\n",
       "      <td>Keyboard</td>\n",
       "      <td>1</td>\n",
       "      <td>2023-03-10</td>\n",
       "      <td>45</td>\n",
       "      <td>True</td>\n",
       "      <td>False</td>\n",
       "    </tr>\n",
       "    <tr>\n",
       "      <th>3</th>\n",
       "      <td>104</td>\n",
       "      <td>Monitor</td>\n",
       "      <td>3</td>\n",
       "      <td>2023-04-18</td>\n",
       "      <td>200</td>\n",
       "      <td>False</td>\n",
       "      <td>True</td>\n",
       "    </tr>\n",
       "    <tr>\n",
       "      <th>4</th>\n",
       "      <td>105</td>\n",
       "      <td>Tablet</td>\n",
       "      <td>1</td>\n",
       "      <td>2023-05-05</td>\n",
       "      <td>500</td>\n",
       "      <td>False</td>\n",
       "      <td>True</td>\n",
       "    </tr>\n",
       "  </tbody>\n",
       "</table>\n",
       "</div>"
      ],
      "text/plain": [
       "   Order_ID   Product  Quantity Order_Date  Unit_price  Category_Accessories  \\\n",
       "0       101    Laptop         1 2023-01-15        1000                 False   \n",
       "1       102     Mouse         2 2023-02-20          25                  True   \n",
       "2       103  Keyboard         1 2023-03-10          45                  True   \n",
       "3       104   Monitor         3 2023-04-18         200                 False   \n",
       "4       105    Tablet         1 2023-05-05         500                 False   \n",
       "\n",
       "   Category_Electronics  \n",
       "0                  True  \n",
       "1                 False  \n",
       "2                 False  \n",
       "3                  True  \n",
       "4                  True  "
      ]
     },
     "execution_count": 71,
     "metadata": {},
     "output_type": "execute_result"
    }
   ],
   "source": [
    "pd.get_dummies(df_sales, columns=['Category'])"
   ]
  },
  {
   "cell_type": "code",
   "execution_count": 83,
   "id": "256ce654-a0f3-40fb-92b3-d703d329cd5c",
   "metadata": {},
   "outputs": [
    {
     "data": {
      "text/html": [
       "<div>\n",
       "<style scoped>\n",
       "    .dataframe tbody tr th:only-of-type {\n",
       "        vertical-align: middle;\n",
       "    }\n",
       "\n",
       "    .dataframe tbody tr th {\n",
       "        vertical-align: top;\n",
       "    }\n",
       "\n",
       "    .dataframe thead th {\n",
       "        text-align: right;\n",
       "    }\n",
       "</style>\n",
       "<table border=\"1\" class=\"dataframe\">\n",
       "  <thead>\n",
       "    <tr style=\"text-align: right;\">\n",
       "      <th></th>\n",
       "      <th>Order_ID</th>\n",
       "      <th>Product</th>\n",
       "      <th>Category</th>\n",
       "      <th>Quantity</th>\n",
       "      <th>Order_Date</th>\n",
       "      <th>Unit_price</th>\n",
       "      <th>Shipment_Date</th>\n",
       "      <th>Shipping_Cost</th>\n",
       "      <th>Carrier</th>\n",
       "    </tr>\n",
       "  </thead>\n",
       "  <tbody>\n",
       "    <tr>\n",
       "      <th>0</th>\n",
       "      <td>101</td>\n",
       "      <td>Laptop</td>\n",
       "      <td>Electronics</td>\n",
       "      <td>1</td>\n",
       "      <td>2023-01-15</td>\n",
       "      <td>1000</td>\n",
       "      <td>2023-01-17</td>\n",
       "      <td>15.5</td>\n",
       "      <td>FedEx</td>\n",
       "    </tr>\n",
       "    <tr>\n",
       "      <th>1</th>\n",
       "      <td>102</td>\n",
       "      <td>Mouse</td>\n",
       "      <td>Accessories</td>\n",
       "      <td>2</td>\n",
       "      <td>2023-02-20</td>\n",
       "      <td>25</td>\n",
       "      <td>2023-02-22</td>\n",
       "      <td>12.0</td>\n",
       "      <td>UPS</td>\n",
       "    </tr>\n",
       "    <tr>\n",
       "      <th>2</th>\n",
       "      <td>103</td>\n",
       "      <td>Keyboard</td>\n",
       "      <td>Accessories</td>\n",
       "      <td>1</td>\n",
       "      <td>2023-03-10</td>\n",
       "      <td>45</td>\n",
       "      <td>NaN</td>\n",
       "      <td>NaN</td>\n",
       "      <td>NaN</td>\n",
       "    </tr>\n",
       "    <tr>\n",
       "      <th>3</th>\n",
       "      <td>104</td>\n",
       "      <td>Monitor</td>\n",
       "      <td>Electronics</td>\n",
       "      <td>3</td>\n",
       "      <td>2023-04-18</td>\n",
       "      <td>200</td>\n",
       "      <td>NaN</td>\n",
       "      <td>NaN</td>\n",
       "      <td>NaN</td>\n",
       "    </tr>\n",
       "    <tr>\n",
       "      <th>4</th>\n",
       "      <td>105</td>\n",
       "      <td>Tablet</td>\n",
       "      <td>Electronics</td>\n",
       "      <td>1</td>\n",
       "      <td>2023-05-05</td>\n",
       "      <td>500</td>\n",
       "      <td>NaN</td>\n",
       "      <td>NaN</td>\n",
       "      <td>NaN</td>\n",
       "    </tr>\n",
       "  </tbody>\n",
       "</table>\n",
       "</div>"
      ],
      "text/plain": [
       "   Order_ID   Product     Category  Quantity Order_Date  Unit_price  \\\n",
       "0       101    Laptop  Electronics         1 2023-01-15        1000   \n",
       "1       102     Mouse  Accessories         2 2023-02-20          25   \n",
       "2       103  Keyboard  Accessories         1 2023-03-10          45   \n",
       "3       104   Monitor  Electronics         3 2023-04-18         200   \n",
       "4       105    Tablet  Electronics         1 2023-05-05         500   \n",
       "\n",
       "  Shipment_Date  Shipping_Cost Carrier  \n",
       "0    2023-01-17           15.5   FedEx  \n",
       "1    2023-02-22           12.0     UPS  \n",
       "2           NaN            NaN     NaN  \n",
       "3           NaN            NaN     NaN  \n",
       "4           NaN            NaN     NaN  "
      ]
     },
     "execution_count": 83,
     "metadata": {},
     "output_type": "execute_result"
    }
   ],
   "source": [
    "df_shipment = pd.DataFrame(shipment_data)\n",
    "pd.merge(left = df_sales, right = df_shipment, how = 'left', on = 'Order_ID', validate= '1:1')"
   ]
  },
  {
   "cell_type": "code",
   "execution_count": 87,
   "id": "1b3df556-0533-4336-9b6e-1fea0bc78c66",
   "metadata": {},
   "outputs": [
    {
     "data": {
      "text/html": [
       "<div>\n",
       "<style scoped>\n",
       "    .dataframe tbody tr th:only-of-type {\n",
       "        vertical-align: middle;\n",
       "    }\n",
       "\n",
       "    .dataframe tbody tr th {\n",
       "        vertical-align: top;\n",
       "    }\n",
       "\n",
       "    .dataframe thead th {\n",
       "        text-align: right;\n",
       "    }\n",
       "</style>\n",
       "<table border=\"1\" class=\"dataframe\">\n",
       "  <thead>\n",
       "    <tr style=\"text-align: right;\">\n",
       "      <th></th>\n",
       "      <th>Order_ID</th>\n",
       "      <th>Product</th>\n",
       "      <th>Category</th>\n",
       "      <th>Quantity</th>\n",
       "      <th>Order_Date</th>\n",
       "      <th>Unit_price</th>\n",
       "      <th>Customer_ID</th>\n",
       "      <th>Name</th>\n",
       "      <th>Country</th>\n",
       "      <th>Age</th>\n",
       "      <th>Loyalty_Score</th>\n",
       "    </tr>\n",
       "  </thead>\n",
       "  <tbody>\n",
       "    <tr>\n",
       "      <th>0</th>\n",
       "      <td>101.0</td>\n",
       "      <td>Laptop</td>\n",
       "      <td>Electronics</td>\n",
       "      <td>1.0</td>\n",
       "      <td>2023-01-15</td>\n",
       "      <td>1000.0</td>\n",
       "      <td>NaN</td>\n",
       "      <td>NaN</td>\n",
       "      <td>NaN</td>\n",
       "      <td>NaN</td>\n",
       "      <td>NaN</td>\n",
       "    </tr>\n",
       "    <tr>\n",
       "      <th>1</th>\n",
       "      <td>102.0</td>\n",
       "      <td>Mouse</td>\n",
       "      <td>Accessories</td>\n",
       "      <td>2.0</td>\n",
       "      <td>2023-02-20</td>\n",
       "      <td>25.0</td>\n",
       "      <td>NaN</td>\n",
       "      <td>NaN</td>\n",
       "      <td>NaN</td>\n",
       "      <td>NaN</td>\n",
       "      <td>NaN</td>\n",
       "    </tr>\n",
       "    <tr>\n",
       "      <th>2</th>\n",
       "      <td>103.0</td>\n",
       "      <td>Keyboard</td>\n",
       "      <td>Accessories</td>\n",
       "      <td>1.0</td>\n",
       "      <td>2023-03-10</td>\n",
       "      <td>45.0</td>\n",
       "      <td>NaN</td>\n",
       "      <td>NaN</td>\n",
       "      <td>NaN</td>\n",
       "      <td>NaN</td>\n",
       "      <td>NaN</td>\n",
       "    </tr>\n",
       "    <tr>\n",
       "      <th>3</th>\n",
       "      <td>104.0</td>\n",
       "      <td>Monitor</td>\n",
       "      <td>Electronics</td>\n",
       "      <td>3.0</td>\n",
       "      <td>2023-04-18</td>\n",
       "      <td>200.0</td>\n",
       "      <td>NaN</td>\n",
       "      <td>NaN</td>\n",
       "      <td>NaN</td>\n",
       "      <td>NaN</td>\n",
       "      <td>NaN</td>\n",
       "    </tr>\n",
       "    <tr>\n",
       "      <th>4</th>\n",
       "      <td>105.0</td>\n",
       "      <td>Tablet</td>\n",
       "      <td>Electronics</td>\n",
       "      <td>1.0</td>\n",
       "      <td>2023-05-05</td>\n",
       "      <td>500.0</td>\n",
       "      <td>NaN</td>\n",
       "      <td>NaN</td>\n",
       "      <td>NaN</td>\n",
       "      <td>NaN</td>\n",
       "      <td>NaN</td>\n",
       "    </tr>\n",
       "    <tr>\n",
       "      <th>0</th>\n",
       "      <td>NaN</td>\n",
       "      <td>NaN</td>\n",
       "      <td>NaN</td>\n",
       "      <td>NaN</td>\n",
       "      <td>NaT</td>\n",
       "      <td>NaN</td>\n",
       "      <td>1.0</td>\n",
       "      <td>Alice</td>\n",
       "      <td>US</td>\n",
       "      <td>25.0</td>\n",
       "      <td>4.5</td>\n",
       "    </tr>\n",
       "    <tr>\n",
       "      <th>1</th>\n",
       "      <td>NaN</td>\n",
       "      <td>NaN</td>\n",
       "      <td>NaN</td>\n",
       "      <td>NaN</td>\n",
       "      <td>NaT</td>\n",
       "      <td>NaN</td>\n",
       "      <td>2.0</td>\n",
       "      <td>Bob</td>\n",
       "      <td>Canada</td>\n",
       "      <td>34.0</td>\n",
       "      <td>NaN</td>\n",
       "    </tr>\n",
       "    <tr>\n",
       "      <th>2</th>\n",
       "      <td>NaN</td>\n",
       "      <td>NaN</td>\n",
       "      <td>NaN</td>\n",
       "      <td>NaN</td>\n",
       "      <td>NaT</td>\n",
       "      <td>NaN</td>\n",
       "      <td>3.0</td>\n",
       "      <td>Charlie</td>\n",
       "      <td>US</td>\n",
       "      <td>NaN</td>\n",
       "      <td>3.8</td>\n",
       "    </tr>\n",
       "    <tr>\n",
       "      <th>3</th>\n",
       "      <td>NaN</td>\n",
       "      <td>NaN</td>\n",
       "      <td>NaN</td>\n",
       "      <td>NaN</td>\n",
       "      <td>NaT</td>\n",
       "      <td>NaN</td>\n",
       "      <td>4.0</td>\n",
       "      <td>David</td>\n",
       "      <td>UK</td>\n",
       "      <td>29.0</td>\n",
       "      <td>4.0</td>\n",
       "    </tr>\n",
       "    <tr>\n",
       "      <th>4</th>\n",
       "      <td>NaN</td>\n",
       "      <td>NaN</td>\n",
       "      <td>NaN</td>\n",
       "      <td>NaN</td>\n",
       "      <td>NaT</td>\n",
       "      <td>NaN</td>\n",
       "      <td>5.0</td>\n",
       "      <td>Eve</td>\n",
       "      <td>None</td>\n",
       "      <td>22.0</td>\n",
       "      <td>4.7</td>\n",
       "    </tr>\n",
       "  </tbody>\n",
       "</table>\n",
       "</div>"
      ],
      "text/plain": [
       "   Order_ID   Product     Category  Quantity Order_Date  Unit_price  \\\n",
       "0     101.0    Laptop  Electronics       1.0 2023-01-15      1000.0   \n",
       "1     102.0     Mouse  Accessories       2.0 2023-02-20        25.0   \n",
       "2     103.0  Keyboard  Accessories       1.0 2023-03-10        45.0   \n",
       "3     104.0   Monitor  Electronics       3.0 2023-04-18       200.0   \n",
       "4     105.0    Tablet  Electronics       1.0 2023-05-05       500.0   \n",
       "0       NaN       NaN          NaN       NaN        NaT         NaN   \n",
       "1       NaN       NaN          NaN       NaN        NaT         NaN   \n",
       "2       NaN       NaN          NaN       NaN        NaT         NaN   \n",
       "3       NaN       NaN          NaN       NaN        NaT         NaN   \n",
       "4       NaN       NaN          NaN       NaN        NaT         NaN   \n",
       "\n",
       "   Customer_ID     Name Country   Age  Loyalty_Score  \n",
       "0          NaN      NaN     NaN   NaN            NaN  \n",
       "1          NaN      NaN     NaN   NaN            NaN  \n",
       "2          NaN      NaN     NaN   NaN            NaN  \n",
       "3          NaN      NaN     NaN   NaN            NaN  \n",
       "4          NaN      NaN     NaN   NaN            NaN  \n",
       "0          1.0    Alice      US  25.0            4.5  \n",
       "1          2.0      Bob  Canada  34.0            NaN  \n",
       "2          3.0  Charlie      US   NaN            3.8  \n",
       "3          4.0    David      UK  29.0            4.0  \n",
       "4          5.0      Eve    None  22.0            4.7  "
      ]
     },
     "execution_count": 87,
     "metadata": {},
     "output_type": "execute_result"
    }
   ],
   "source": [
    "df_customer = pd.DataFrame(customer_data)\n",
    "pd.concat([df_sales, df_customer])"
   ]
  },
  {
   "cell_type": "code",
   "execution_count": 103,
   "id": "8495d5bd-5910-41d5-b2de-d8d933543b0f",
   "metadata": {},
   "outputs": [
    {
     "data": {
      "text/html": [
       "<div>\n",
       "<style scoped>\n",
       "    .dataframe tbody tr th:only-of-type {\n",
       "        vertical-align: middle;\n",
       "    }\n",
       "\n",
       "    .dataframe tbody tr th {\n",
       "        vertical-align: top;\n",
       "    }\n",
       "\n",
       "    .dataframe thead th {\n",
       "        text-align: right;\n",
       "    }\n",
       "</style>\n",
       "<table border=\"1\" class=\"dataframe\">\n",
       "  <thead>\n",
       "    <tr style=\"text-align: right;\">\n",
       "      <th></th>\n",
       "      <th>Order_ID</th>\n",
       "      <th>Product</th>\n",
       "      <th>Category</th>\n",
       "      <th>Quantity</th>\n",
       "      <th>Order_Date</th>\n",
       "      <th>Unit_price</th>\n",
       "    </tr>\n",
       "  </thead>\n",
       "  <tbody>\n",
       "    <tr>\n",
       "      <th>0</th>\n",
       "      <td>101</td>\n",
       "      <td>Laptop</td>\n",
       "      <td>Electronics</td>\n",
       "      <td>1</td>\n",
       "      <td>2023-01-15</td>\n",
       "      <td>1000</td>\n",
       "    </tr>\n",
       "    <tr>\n",
       "      <th>3</th>\n",
       "      <td>104</td>\n",
       "      <td>Monitor</td>\n",
       "      <td>Electronics</td>\n",
       "      <td>3</td>\n",
       "      <td>2023-04-18</td>\n",
       "      <td>200</td>\n",
       "    </tr>\n",
       "    <tr>\n",
       "      <th>4</th>\n",
       "      <td>105</td>\n",
       "      <td>Tablet</td>\n",
       "      <td>Electronics</td>\n",
       "      <td>1</td>\n",
       "      <td>2023-05-05</td>\n",
       "      <td>500</td>\n",
       "    </tr>\n",
       "  </tbody>\n",
       "</table>\n",
       "</div>"
      ],
      "text/plain": [
       "   Order_ID  Product     Category  Quantity Order_Date  Unit_price\n",
       "0       101   Laptop  Electronics         1 2023-01-15        1000\n",
       "3       104  Monitor  Electronics         3 2023-04-18         200\n",
       "4       105   Tablet  Electronics         1 2023-05-05         500"
      ]
     },
     "execution_count": 103,
     "metadata": {},
     "output_type": "execute_result"
    }
   ],
   "source": [
    "df_sales.query('Unit_price > 100 and Category == \"Electronics\"')"
   ]
  },
  {
   "cell_type": "code",
   "execution_count": 107,
   "id": "92010c7f-a675-424e-b224-aebab62e7294",
   "metadata": {},
   "outputs": [
    {
     "data": {
      "text/plain": [
       "['Country', 'Age', 'Loyalty_Score']"
      ]
     },
     "execution_count": 107,
     "metadata": {},
     "output_type": "execute_result"
    }
   ],
   "source": [
    "temp = df_customer.isna().sum()\n",
    "temp[temp.ge(1)].index.to_list()"
   ]
  },
  {
   "cell_type": "code",
   "execution_count": 113,
   "id": "e100f257-0b86-41f2-82e2-2b485b28d389",
   "metadata": {},
   "outputs": [
    {
     "name": "stderr",
     "output_type": "stream",
     "text": [
      "C:\\Users\\mengn\\AppData\\Local\\Temp\\ipykernel_5620\\3447310471.py:1: FutureWarning: A value is trying to be set on a copy of a DataFrame or Series through chained assignment using an inplace method.\n",
      "The behavior will change in pandas 3.0. This inplace method will never work because the intermediate object on which we are setting values always behaves as a copy.\n",
      "\n",
      "For example, when doing 'df[col].method(value, inplace=True)', try using 'df.method({col: value}, inplace=True)' or df[col] = df[col].method(value) instead, to perform the operation inplace on the original object.\n",
      "\n",
      "\n",
      "  df_customer['Age'].fillna(df_customer['Age'].mean(), inplace=True)\n"
     ]
    },
    {
     "data": {
      "text/html": [
       "<div>\n",
       "<style scoped>\n",
       "    .dataframe tbody tr th:only-of-type {\n",
       "        vertical-align: middle;\n",
       "    }\n",
       "\n",
       "    .dataframe tbody tr th {\n",
       "        vertical-align: top;\n",
       "    }\n",
       "\n",
       "    .dataframe thead th {\n",
       "        text-align: right;\n",
       "    }\n",
       "</style>\n",
       "<table border=\"1\" class=\"dataframe\">\n",
       "  <thead>\n",
       "    <tr style=\"text-align: right;\">\n",
       "      <th></th>\n",
       "      <th>Customer_ID</th>\n",
       "      <th>Name</th>\n",
       "      <th>Country</th>\n",
       "      <th>Age</th>\n",
       "      <th>Loyalty_Score</th>\n",
       "    </tr>\n",
       "  </thead>\n",
       "  <tbody>\n",
       "    <tr>\n",
       "      <th>0</th>\n",
       "      <td>1</td>\n",
       "      <td>Alice</td>\n",
       "      <td>US</td>\n",
       "      <td>25.0</td>\n",
       "      <td>4.5</td>\n",
       "    </tr>\n",
       "    <tr>\n",
       "      <th>1</th>\n",
       "      <td>2</td>\n",
       "      <td>Bob</td>\n",
       "      <td>Canada</td>\n",
       "      <td>34.0</td>\n",
       "      <td>NaN</td>\n",
       "    </tr>\n",
       "    <tr>\n",
       "      <th>2</th>\n",
       "      <td>3</td>\n",
       "      <td>Charlie</td>\n",
       "      <td>US</td>\n",
       "      <td>27.5</td>\n",
       "      <td>3.8</td>\n",
       "    </tr>\n",
       "    <tr>\n",
       "      <th>3</th>\n",
       "      <td>4</td>\n",
       "      <td>David</td>\n",
       "      <td>UK</td>\n",
       "      <td>29.0</td>\n",
       "      <td>4.0</td>\n",
       "    </tr>\n",
       "    <tr>\n",
       "      <th>4</th>\n",
       "      <td>5</td>\n",
       "      <td>Eve</td>\n",
       "      <td>None</td>\n",
       "      <td>22.0</td>\n",
       "      <td>4.7</td>\n",
       "    </tr>\n",
       "  </tbody>\n",
       "</table>\n",
       "</div>"
      ],
      "text/plain": [
       "   Customer_ID     Name Country   Age  Loyalty_Score\n",
       "0            1    Alice      US  25.0            4.5\n",
       "1            2      Bob  Canada  34.0            NaN\n",
       "2            3  Charlie      US  27.5            3.8\n",
       "3            4    David      UK  29.0            4.0\n",
       "4            5      Eve    None  22.0            4.7"
      ]
     },
     "execution_count": 113,
     "metadata": {},
     "output_type": "execute_result"
    }
   ],
   "source": [
    "df_customer['Age'].fillna(df_customer['Age'].mean(), inplace=True)\n",
    "df_customer"
   ]
  },
  {
   "cell_type": "code",
   "execution_count": 119,
   "id": "a5e7a2a6-9e45-45b5-afd8-552ea16d7edf",
   "metadata": {},
   "outputs": [
    {
     "data": {
      "text/html": [
       "<div>\n",
       "<style scoped>\n",
       "    .dataframe tbody tr th:only-of-type {\n",
       "        vertical-align: middle;\n",
       "    }\n",
       "\n",
       "    .dataframe tbody tr th {\n",
       "        vertical-align: top;\n",
       "    }\n",
       "\n",
       "    .dataframe thead th {\n",
       "        text-align: right;\n",
       "    }\n",
       "</style>\n",
       "<table border=\"1\" class=\"dataframe\">\n",
       "  <thead>\n",
       "    <tr style=\"text-align: right;\">\n",
       "      <th></th>\n",
       "      <th>Customer_ID</th>\n",
       "      <th>Name</th>\n",
       "      <th>Country</th>\n",
       "      <th>Age</th>\n",
       "      <th>Loyalty_Score</th>\n",
       "    </tr>\n",
       "  </thead>\n",
       "  <tbody>\n",
       "    <tr>\n",
       "      <th>0</th>\n",
       "      <td>1</td>\n",
       "      <td>Alice</td>\n",
       "      <td>US</td>\n",
       "      <td>25.0</td>\n",
       "      <td>4.5</td>\n",
       "    </tr>\n",
       "    <tr>\n",
       "      <th>1</th>\n",
       "      <td>2</td>\n",
       "      <td>Bob</td>\n",
       "      <td>Canada</td>\n",
       "      <td>34.0</td>\n",
       "      <td>NaN</td>\n",
       "    </tr>\n",
       "    <tr>\n",
       "      <th>2</th>\n",
       "      <td>3</td>\n",
       "      <td>Charlie</td>\n",
       "      <td>US</td>\n",
       "      <td>27.5</td>\n",
       "      <td>3.8</td>\n",
       "    </tr>\n",
       "    <tr>\n",
       "      <th>3</th>\n",
       "      <td>4</td>\n",
       "      <td>David</td>\n",
       "      <td>UK</td>\n",
       "      <td>29.0</td>\n",
       "      <td>4.0</td>\n",
       "    </tr>\n",
       "  </tbody>\n",
       "</table>\n",
       "</div>"
      ],
      "text/plain": [
       "   Customer_ID     Name Country   Age  Loyalty_Score\n",
       "0            1    Alice      US  25.0            4.5\n",
       "1            2      Bob  Canada  34.0            NaN\n",
       "2            3  Charlie      US  27.5            3.8\n",
       "3            4    David      UK  29.0            4.0"
      ]
     },
     "execution_count": 119,
     "metadata": {},
     "output_type": "execute_result"
    }
   ],
   "source": [
    "df_customer.dropna(subset='Country', inplace=True)\n",
    "df_customer"
   ]
  },
  {
   "cell_type": "code",
   "execution_count": 121,
   "id": "28b88ffd-530c-4cfa-b2e8-8456855f36d2",
   "metadata": {},
   "outputs": [
    {
     "data": {
      "text/html": [
       "<div>\n",
       "<style scoped>\n",
       "    .dataframe tbody tr th:only-of-type {\n",
       "        vertical-align: middle;\n",
       "    }\n",
       "\n",
       "    .dataframe tbody tr th {\n",
       "        vertical-align: top;\n",
       "    }\n",
       "\n",
       "    .dataframe thead th {\n",
       "        text-align: right;\n",
       "    }\n",
       "</style>\n",
       "<table border=\"1\" class=\"dataframe\">\n",
       "  <thead>\n",
       "    <tr style=\"text-align: right;\">\n",
       "      <th></th>\n",
       "      <th>Order_ID</th>\n",
       "      <th>Product</th>\n",
       "      <th>Category</th>\n",
       "      <th>Quantity</th>\n",
       "      <th>Order_Date</th>\n",
       "      <th>Unit_price</th>\n",
       "    </tr>\n",
       "  </thead>\n",
       "  <tbody>\n",
       "    <tr>\n",
       "      <th>1</th>\n",
       "      <td>102</td>\n",
       "      <td>Mouse</td>\n",
       "      <td>Accessories</td>\n",
       "      <td>2</td>\n",
       "      <td>2023-02-20</td>\n",
       "      <td>25</td>\n",
       "    </tr>\n",
       "    <tr>\n",
       "      <th>2</th>\n",
       "      <td>103</td>\n",
       "      <td>Keyboard</td>\n",
       "      <td>Accessories</td>\n",
       "      <td>1</td>\n",
       "      <td>2023-03-10</td>\n",
       "      <td>45</td>\n",
       "    </tr>\n",
       "    <tr>\n",
       "      <th>3</th>\n",
       "      <td>104</td>\n",
       "      <td>Monitor</td>\n",
       "      <td>Electronics</td>\n",
       "      <td>3</td>\n",
       "      <td>2023-04-18</td>\n",
       "      <td>200</td>\n",
       "    </tr>\n",
       "    <tr>\n",
       "      <th>4</th>\n",
       "      <td>105</td>\n",
       "      <td>Tablet</td>\n",
       "      <td>Electronics</td>\n",
       "      <td>1</td>\n",
       "      <td>2023-05-05</td>\n",
       "      <td>500</td>\n",
       "    </tr>\n",
       "    <tr>\n",
       "      <th>0</th>\n",
       "      <td>101</td>\n",
       "      <td>Laptop</td>\n",
       "      <td>Electronics</td>\n",
       "      <td>1</td>\n",
       "      <td>2023-01-15</td>\n",
       "      <td>1000</td>\n",
       "    </tr>\n",
       "  </tbody>\n",
       "</table>\n",
       "</div>"
      ],
      "text/plain": [
       "   Order_ID   Product     Category  Quantity Order_Date  Unit_price\n",
       "1       102     Mouse  Accessories         2 2023-02-20          25\n",
       "2       103  Keyboard  Accessories         1 2023-03-10          45\n",
       "3       104   Monitor  Electronics         3 2023-04-18         200\n",
       "4       105    Tablet  Electronics         1 2023-05-05         500\n",
       "0       101    Laptop  Electronics         1 2023-01-15        1000"
      ]
     },
     "execution_count": 121,
     "metadata": {},
     "output_type": "execute_result"
    }
   ],
   "source": [
    "df_sales.sort_values('Unit_price')"
   ]
  },
  {
   "cell_type": "code",
   "execution_count": 124,
   "id": "c744bf96-b99a-4da7-ab8e-8c55fb2e9fc0",
   "metadata": {},
   "outputs": [
    {
     "data": {
      "text/html": [
       "<div>\n",
       "<style scoped>\n",
       "    .dataframe tbody tr th:only-of-type {\n",
       "        vertical-align: middle;\n",
       "    }\n",
       "\n",
       "    .dataframe tbody tr th {\n",
       "        vertical-align: top;\n",
       "    }\n",
       "\n",
       "    .dataframe thead th {\n",
       "        text-align: right;\n",
       "    }\n",
       "</style>\n",
       "<table border=\"1\" class=\"dataframe\">\n",
       "  <thead>\n",
       "    <tr style=\"text-align: right;\">\n",
       "      <th></th>\n",
       "      <th>Order_ID</th>\n",
       "      <th>Product</th>\n",
       "      <th>Category</th>\n",
       "      <th>Quantity</th>\n",
       "      <th>Order_Date</th>\n",
       "      <th>Unit_price</th>\n",
       "    </tr>\n",
       "  </thead>\n",
       "  <tbody>\n",
       "    <tr>\n",
       "      <th>0</th>\n",
       "      <td>101</td>\n",
       "      <td>Laptop</td>\n",
       "      <td>Electronics</td>\n",
       "      <td>1</td>\n",
       "      <td>2023-01-15</td>\n",
       "      <td>1000</td>\n",
       "    </tr>\n",
       "    <tr>\n",
       "      <th>1</th>\n",
       "      <td>102</td>\n",
       "      <td>Mouse</td>\n",
       "      <td>Accessories</td>\n",
       "      <td>2</td>\n",
       "      <td>2023-02-20</td>\n",
       "      <td>25</td>\n",
       "    </tr>\n",
       "    <tr>\n",
       "      <th>2</th>\n",
       "      <td>103</td>\n",
       "      <td>Keyboard</td>\n",
       "      <td>Accessories</td>\n",
       "      <td>1</td>\n",
       "      <td>2023-03-10</td>\n",
       "      <td>45</td>\n",
       "    </tr>\n",
       "    <tr>\n",
       "      <th>3</th>\n",
       "      <td>104</td>\n",
       "      <td>Monitor</td>\n",
       "      <td>Electronics</td>\n",
       "      <td>3</td>\n",
       "      <td>2023-04-18</td>\n",
       "      <td>200</td>\n",
       "    </tr>\n",
       "    <tr>\n",
       "      <th>4</th>\n",
       "      <td>105</td>\n",
       "      <td>Tablet</td>\n",
       "      <td>Electronics</td>\n",
       "      <td>1</td>\n",
       "      <td>2023-05-05</td>\n",
       "      <td>500</td>\n",
       "    </tr>\n",
       "  </tbody>\n",
       "</table>\n",
       "</div>"
      ],
      "text/plain": [
       "   Order_ID   Product     Category  Quantity Order_Date  Unit_price\n",
       "0       101    Laptop  Electronics         1 2023-01-15        1000\n",
       "1       102     Mouse  Accessories         2 2023-02-20          25\n",
       "2       103  Keyboard  Accessories         1 2023-03-10          45\n",
       "3       104   Monitor  Electronics         3 2023-04-18         200\n",
       "4       105    Tablet  Electronics         1 2023-05-05         500"
      ]
     },
     "execution_count": 124,
     "metadata": {},
     "output_type": "execute_result"
    }
   ],
   "source": [
    "df_sales\n"
   ]
  },
  {
   "cell_type": "code",
   "execution_count": 128,
   "id": "a0937c71-1789-4056-84e6-59eb1f9eb737",
   "metadata": {},
   "outputs": [
    {
     "data": {
      "text/html": [
       "<div>\n",
       "<style scoped>\n",
       "    .dataframe tbody tr th:only-of-type {\n",
       "        vertical-align: middle;\n",
       "    }\n",
       "\n",
       "    .dataframe tbody tr th {\n",
       "        vertical-align: top;\n",
       "    }\n",
       "\n",
       "    .dataframe thead th {\n",
       "        text-align: right;\n",
       "    }\n",
       "</style>\n",
       "<table border=\"1\" class=\"dataframe\">\n",
       "  <thead>\n",
       "    <tr style=\"text-align: right;\">\n",
       "      <th></th>\n",
       "      <th>Order_ID</th>\n",
       "      <th>Product</th>\n",
       "      <th>Category</th>\n",
       "      <th>Quantity</th>\n",
       "      <th>Order_Date</th>\n",
       "      <th>Unit_price</th>\n",
       "    </tr>\n",
       "  </thead>\n",
       "  <tbody>\n",
       "    <tr>\n",
       "      <th>0</th>\n",
       "      <td>101</td>\n",
       "      <td>Laptop</td>\n",
       "      <td>Electronics</td>\n",
       "      <td>1</td>\n",
       "      <td>2023-01-15</td>\n",
       "      <td>1000</td>\n",
       "    </tr>\n",
       "    <tr>\n",
       "      <th>1</th>\n",
       "      <td>102</td>\n",
       "      <td>Mouse</td>\n",
       "      <td>Accessories</td>\n",
       "      <td>2</td>\n",
       "      <td>2023-02-20</td>\n",
       "      <td>25</td>\n",
       "    </tr>\n",
       "    <tr>\n",
       "      <th>2</th>\n",
       "      <td>103</td>\n",
       "      <td>Keyboard</td>\n",
       "      <td>Accessories</td>\n",
       "      <td>1</td>\n",
       "      <td>2023-03-10</td>\n",
       "      <td>45</td>\n",
       "    </tr>\n",
       "    <tr>\n",
       "      <th>3</th>\n",
       "      <td>104</td>\n",
       "      <td>Monitor</td>\n",
       "      <td>Electronics</td>\n",
       "      <td>3</td>\n",
       "      <td>2023-04-18</td>\n",
       "      <td>200</td>\n",
       "    </tr>\n",
       "    <tr>\n",
       "      <th>4</th>\n",
       "      <td>105</td>\n",
       "      <td>Tablet</td>\n",
       "      <td>Electronics</td>\n",
       "      <td>1</td>\n",
       "      <td>2023-05-05</td>\n",
       "      <td>500</td>\n",
       "    </tr>\n",
       "  </tbody>\n",
       "</table>\n",
       "</div>"
      ],
      "text/plain": [
       "   Order_ID   Product     Category  Quantity Order_Date  Unit_price\n",
       "0       101    Laptop  Electronics         1 2023-01-15        1000\n",
       "1       102     Mouse  Accessories         2 2023-02-20          25\n",
       "2       103  Keyboard  Accessories         1 2023-03-10          45\n",
       "3       104   Monitor  Electronics         3 2023-04-18         200\n",
       "4       105    Tablet  Electronics         1 2023-05-05         500"
      ]
     },
     "execution_count": 128,
     "metadata": {},
     "output_type": "execute_result"
    }
   ],
   "source": [
    "df_sales.drop_duplicates(['Product'])\n",
    "df_sales"
   ]
  },
  {
   "cell_type": "code",
   "execution_count": 130,
   "id": "31687cf8-2d82-4923-85f2-2bc310fe34b7",
   "metadata": {},
   "outputs": [
    {
     "data": {
      "text/html": [
       "<div>\n",
       "<style scoped>\n",
       "    .dataframe tbody tr th:only-of-type {\n",
       "        vertical-align: middle;\n",
       "    }\n",
       "\n",
       "    .dataframe tbody tr th {\n",
       "        vertical-align: top;\n",
       "    }\n",
       "\n",
       "    .dataframe thead th {\n",
       "        text-align: right;\n",
       "    }\n",
       "</style>\n",
       "<table border=\"1\" class=\"dataframe\">\n",
       "  <thead>\n",
       "    <tr style=\"text-align: right;\">\n",
       "      <th></th>\n",
       "      <th>Customer_ID</th>\n",
       "      <th>Name</th>\n",
       "      <th>Country</th>\n",
       "      <th>Age</th>\n",
       "      <th>Loyalty_Score</th>\n",
       "    </tr>\n",
       "  </thead>\n",
       "  <tbody>\n",
       "    <tr>\n",
       "      <th>0</th>\n",
       "      <td>1</td>\n",
       "      <td>Alice</td>\n",
       "      <td>US</td>\n",
       "      <td>25.0</td>\n",
       "      <td>4.5</td>\n",
       "    </tr>\n",
       "    <tr>\n",
       "      <th>3</th>\n",
       "      <td>4</td>\n",
       "      <td>David</td>\n",
       "      <td>UK</td>\n",
       "      <td>29.0</td>\n",
       "      <td>4.0</td>\n",
       "    </tr>\n",
       "    <tr>\n",
       "      <th>2</th>\n",
       "      <td>3</td>\n",
       "      <td>Charlie</td>\n",
       "      <td>US</td>\n",
       "      <td>27.5</td>\n",
       "      <td>3.8</td>\n",
       "    </tr>\n",
       "    <tr>\n",
       "      <th>1</th>\n",
       "      <td>2</td>\n",
       "      <td>Bob</td>\n",
       "      <td>Canada</td>\n",
       "      <td>34.0</td>\n",
       "      <td>NaN</td>\n",
       "    </tr>\n",
       "  </tbody>\n",
       "</table>\n",
       "</div>"
      ],
      "text/plain": [
       "   Customer_ID     Name Country   Age  Loyalty_Score\n",
       "0            1    Alice      US  25.0            4.5\n",
       "3            4    David      UK  29.0            4.0\n",
       "2            3  Charlie      US  27.5            3.8\n",
       "1            2      Bob  Canada  34.0            NaN"
      ]
     },
     "execution_count": 130,
     "metadata": {},
     "output_type": "execute_result"
    }
   ],
   "source": [
    "df_customer.sort_values('Loyalty_Score', ascending=False)"
   ]
  },
  {
   "cell_type": "code",
   "execution_count": 134,
   "id": "7d3efb2b-6003-4d1c-bb27-398490a849dc",
   "metadata": {},
   "outputs": [
    {
     "data": {
      "text/plain": [
       "1770"
      ]
     },
     "execution_count": 134,
     "metadata": {},
     "output_type": "execute_result"
    }
   ],
   "source": [
    "df_sales['Unit_price'].sum()"
   ]
  },
  {
   "cell_type": "code",
   "execution_count": 136,
   "id": "551fd228-05f3-4dab-8576-82a92863e8fe",
   "metadata": {},
   "outputs": [
    {
     "data": {
      "text/plain": [
       "28.875"
      ]
     },
     "execution_count": 136,
     "metadata": {},
     "output_type": "execute_result"
    }
   ],
   "source": [
    "df_customer['Age'].mean()"
   ]
  },
  {
   "cell_type": "code",
   "execution_count": 142,
   "id": "3ca18969-a640-4536-8be1-e2efd48ad9ec",
   "metadata": {},
   "outputs": [
    {
     "data": {
      "text/plain": [
       "4.942165517260627"
      ]
     },
     "execution_count": 142,
     "metadata": {},
     "output_type": "execute_result"
    }
   ],
   "source": [
    "df_shipment['Shipping_Cost'].std()"
   ]
  },
  {
   "cell_type": "code",
   "execution_count": 146,
   "id": "57bf5ed8-b340-46b7-bcfb-a40223cb1554",
   "metadata": {},
   "outputs": [],
   "source": [
    "df_sales['Total_Cost'] = df_sales['Unit_price']*df_sales['Quantity']"
   ]
  },
  {
   "cell_type": "code",
   "execution_count": 148,
   "id": "ad29f508-b765-439b-9e85-4f0d55a3a866",
   "metadata": {},
   "outputs": [
    {
     "data": {
      "text/html": [
       "<div>\n",
       "<style scoped>\n",
       "    .dataframe tbody tr th:only-of-type {\n",
       "        vertical-align: middle;\n",
       "    }\n",
       "\n",
       "    .dataframe tbody tr th {\n",
       "        vertical-align: top;\n",
       "    }\n",
       "\n",
       "    .dataframe thead th {\n",
       "        text-align: right;\n",
       "    }\n",
       "</style>\n",
       "<table border=\"1\" class=\"dataframe\">\n",
       "  <thead>\n",
       "    <tr style=\"text-align: right;\">\n",
       "      <th></th>\n",
       "      <th>Order_ID</th>\n",
       "      <th>Product</th>\n",
       "      <th>Category</th>\n",
       "      <th>Quantity</th>\n",
       "      <th>Order_Date</th>\n",
       "      <th>Unit_price</th>\n",
       "      <th>Total_Cost</th>\n",
       "    </tr>\n",
       "  </thead>\n",
       "  <tbody>\n",
       "    <tr>\n",
       "      <th>0</th>\n",
       "      <td>101</td>\n",
       "      <td>Laptop</td>\n",
       "      <td>Electronics</td>\n",
       "      <td>1</td>\n",
       "      <td>2023-01-15</td>\n",
       "      <td>1000</td>\n",
       "      <td>1000</td>\n",
       "    </tr>\n",
       "    <tr>\n",
       "      <th>1</th>\n",
       "      <td>102</td>\n",
       "      <td>Mouse</td>\n",
       "      <td>Accessories</td>\n",
       "      <td>2</td>\n",
       "      <td>2023-02-20</td>\n",
       "      <td>25</td>\n",
       "      <td>50</td>\n",
       "    </tr>\n",
       "    <tr>\n",
       "      <th>2</th>\n",
       "      <td>103</td>\n",
       "      <td>Keyboard</td>\n",
       "      <td>Accessories</td>\n",
       "      <td>1</td>\n",
       "      <td>2023-03-10</td>\n",
       "      <td>45</td>\n",
       "      <td>45</td>\n",
       "    </tr>\n",
       "    <tr>\n",
       "      <th>3</th>\n",
       "      <td>104</td>\n",
       "      <td>Monitor</td>\n",
       "      <td>Electronics</td>\n",
       "      <td>3</td>\n",
       "      <td>2023-04-18</td>\n",
       "      <td>200</td>\n",
       "      <td>600</td>\n",
       "    </tr>\n",
       "    <tr>\n",
       "      <th>4</th>\n",
       "      <td>105</td>\n",
       "      <td>Tablet</td>\n",
       "      <td>Electronics</td>\n",
       "      <td>1</td>\n",
       "      <td>2023-05-05</td>\n",
       "      <td>500</td>\n",
       "      <td>500</td>\n",
       "    </tr>\n",
       "  </tbody>\n",
       "</table>\n",
       "</div>"
      ],
      "text/plain": [
       "   Order_ID   Product     Category  Quantity Order_Date  Unit_price  \\\n",
       "0       101    Laptop  Electronics         1 2023-01-15        1000   \n",
       "1       102     Mouse  Accessories         2 2023-02-20          25   \n",
       "2       103  Keyboard  Accessories         1 2023-03-10          45   \n",
       "3       104   Monitor  Electronics         3 2023-04-18         200   \n",
       "4       105    Tablet  Electronics         1 2023-05-05         500   \n",
       "\n",
       "   Total_Cost  \n",
       "0        1000  \n",
       "1          50  \n",
       "2          45  \n",
       "3         600  \n",
       "4         500  "
      ]
     },
     "execution_count": 148,
     "metadata": {},
     "output_type": "execute_result"
    }
   ],
   "source": [
    "df_sales"
   ]
  },
  {
   "cell_type": "code",
   "execution_count": 152,
   "id": "b6789219-9b99-4409-b56c-dbf766b97700",
   "metadata": {},
   "outputs": [
    {
     "data": {
      "text/plain": [
       "0    False\n",
       "1    False\n",
       "2    False\n",
       "3    False\n",
       "4    False\n",
       "dtype: bool"
      ]
     },
     "execution_count": 152,
     "metadata": {},
     "output_type": "execute_result"
    }
   ],
   "source": [
    "df_shipment.duplicated()"
   ]
  },
  {
   "cell_type": "code",
   "execution_count": 158,
   "id": "242f503c-6b70-42ef-b381-ede8f99aa649",
   "metadata": {},
   "outputs": [
    {
     "data": {
      "text/html": [
       "<div>\n",
       "<style scoped>\n",
       "    .dataframe tbody tr th:only-of-type {\n",
       "        vertical-align: middle;\n",
       "    }\n",
       "\n",
       "    .dataframe tbody tr th {\n",
       "        vertical-align: top;\n",
       "    }\n",
       "\n",
       "    .dataframe thead th {\n",
       "        text-align: right;\n",
       "    }\n",
       "</style>\n",
       "<table border=\"1\" class=\"dataframe\">\n",
       "  <thead>\n",
       "    <tr style=\"text-align: right;\">\n",
       "      <th></th>\n",
       "      <th>Order_ID</th>\n",
       "      <th>Shipment_Date</th>\n",
       "      <th>Shipping_Cost</th>\n",
       "      <th>Carrier</th>\n",
       "    </tr>\n",
       "  </thead>\n",
       "  <tbody>\n",
       "    <tr>\n",
       "      <th>0</th>\n",
       "      <td>101</td>\n",
       "      <td>2023-01-17</td>\n",
       "      <td>15.5</td>\n",
       "      <td>FedEx</td>\n",
       "    </tr>\n",
       "    <tr>\n",
       "      <th>1</th>\n",
       "      <td>102</td>\n",
       "      <td>2023-02-22</td>\n",
       "      <td>12.0</td>\n",
       "      <td>UPS</td>\n",
       "    </tr>\n",
       "    <tr>\n",
       "      <th>2</th>\n",
       "      <td>106</td>\n",
       "      <td>2023-06-15</td>\n",
       "      <td>18.0</td>\n",
       "      <td>DHL</td>\n",
       "    </tr>\n",
       "    <tr>\n",
       "      <th>3</th>\n",
       "      <td>107</td>\n",
       "      <td>2023-07-20</td>\n",
       "      <td>22.5</td>\n",
       "      <td>FedEx</td>\n",
       "    </tr>\n",
       "    <tr>\n",
       "      <th>4</th>\n",
       "      <td>108</td>\n",
       "      <td>2023-08-25</td>\n",
       "      <td>10.0</td>\n",
       "      <td>UPS</td>\n",
       "    </tr>\n",
       "  </tbody>\n",
       "</table>\n",
       "</div>"
      ],
      "text/plain": [
       "   Order_ID Shipment_Date  Shipping_Cost Carrier\n",
       "0       101    2023-01-17           15.5   FedEx\n",
       "1       102    2023-02-22           12.0     UPS\n",
       "2       106    2023-06-15           18.0     DHL\n",
       "3       107    2023-07-20           22.5   FedEx\n",
       "4       108    2023-08-25           10.0     UPS"
      ]
     },
     "execution_count": 158,
     "metadata": {},
     "output_type": "execute_result"
    }
   ],
   "source": [
    "df_shipment.drop_duplicates('Order_ID',inplace=True)\n",
    "df_shipment"
   ]
  },
  {
   "cell_type": "code",
   "execution_count": 160,
   "id": "8662c009-2de8-493b-bfd5-cf444a93829f",
   "metadata": {},
   "outputs": [],
   "source": [
    "df_orders = df_sales[df_sales['Order_Date']>'2023-03-01']"
   ]
  },
  {
   "cell_type": "code",
   "execution_count": 162,
   "id": "162fb8a0-ff03-4c73-adbf-5d0e77ae6a2d",
   "metadata": {},
   "outputs": [
    {
     "data": {
      "text/html": [
       "<div>\n",
       "<style scoped>\n",
       "    .dataframe tbody tr th:only-of-type {\n",
       "        vertical-align: middle;\n",
       "    }\n",
       "\n",
       "    .dataframe tbody tr th {\n",
       "        vertical-align: top;\n",
       "    }\n",
       "\n",
       "    .dataframe thead th {\n",
       "        text-align: right;\n",
       "    }\n",
       "</style>\n",
       "<table border=\"1\" class=\"dataframe\">\n",
       "  <thead>\n",
       "    <tr style=\"text-align: right;\">\n",
       "      <th></th>\n",
       "      <th>Order_ID</th>\n",
       "      <th>Product</th>\n",
       "      <th>Category</th>\n",
       "      <th>Quantity</th>\n",
       "      <th>Order_Date</th>\n",
       "      <th>Unit_price</th>\n",
       "      <th>Total_Cost</th>\n",
       "    </tr>\n",
       "  </thead>\n",
       "  <tbody>\n",
       "    <tr>\n",
       "      <th>2</th>\n",
       "      <td>103</td>\n",
       "      <td>Keyboard</td>\n",
       "      <td>Accessories</td>\n",
       "      <td>1</td>\n",
       "      <td>2023-03-10</td>\n",
       "      <td>45</td>\n",
       "      <td>45</td>\n",
       "    </tr>\n",
       "    <tr>\n",
       "      <th>3</th>\n",
       "      <td>104</td>\n",
       "      <td>Monitor</td>\n",
       "      <td>Electronics</td>\n",
       "      <td>3</td>\n",
       "      <td>2023-04-18</td>\n",
       "      <td>200</td>\n",
       "      <td>600</td>\n",
       "    </tr>\n",
       "    <tr>\n",
       "      <th>4</th>\n",
       "      <td>105</td>\n",
       "      <td>Tablet</td>\n",
       "      <td>Electronics</td>\n",
       "      <td>1</td>\n",
       "      <td>2023-05-05</td>\n",
       "      <td>500</td>\n",
       "      <td>500</td>\n",
       "    </tr>\n",
       "  </tbody>\n",
       "</table>\n",
       "</div>"
      ],
      "text/plain": [
       "   Order_ID   Product     Category  Quantity Order_Date  Unit_price  \\\n",
       "2       103  Keyboard  Accessories         1 2023-03-10          45   \n",
       "3       104   Monitor  Electronics         3 2023-04-18         200   \n",
       "4       105    Tablet  Electronics         1 2023-05-05         500   \n",
       "\n",
       "   Total_Cost  \n",
       "2          45  \n",
       "3         600  \n",
       "4         500  "
      ]
     },
     "execution_count": 162,
     "metadata": {},
     "output_type": "execute_result"
    }
   ],
   "source": [
    "df_orders"
   ]
  },
  {
   "cell_type": "code",
   "execution_count": 164,
   "id": "c4a023b1-0e0e-40f7-ae49-2ee5cae736df",
   "metadata": {},
   "outputs": [
    {
     "data": {
      "text/plain": [
       "<Axes: ylabel='Frequency'>"
      ]
     },
     "execution_count": 164,
     "metadata": {},
     "output_type": "execute_result"
    },
    {
     "data": {
      "image/png": "[encoded data removed]",
      "text/plain": [
       "<Figure size 640x480 with 1 Axes>"
      ]
     },
     "metadata": {},
     "output_type": "display_data"
    }
   ],
   "source": [
    "df_customer['Age'].plot(kind = 'hist')"
   ]
  },
  {
   "cell_type": "code",
   "execution_count": 172,
   "id": "0fadca5a-6bd4-4543-99a9-cb86dd741ae2",
   "metadata": {},
   "outputs": [
    {
     "data": {
      "text/plain": [
       "<Axes: xlabel='Category', ylabel='Unit_price'>"
      ]
     },
     "execution_count": 172,
     "metadata": {},
     "output_type": "execute_result"
    },
    {
     "data": {
      "image/png": "[encoded data removed]",
      "text/plain": [
       "<Figure size 640x480 with 1 Axes>"
      ]
     },
     "metadata": {},
     "output_type": "display_data"
    }
   ],
   "source": [
    "sns.boxplot(df_sales, y='Unit_price', x='Category')"
   ]
  },
  {
   "cell_type": "code",
   "execution_count": 180,
   "id": "fa2af8d5-8d58-41d4-a4df-4f1aac988b15",
   "metadata": {},
   "outputs": [
    {
     "data": {
      "text/html": [
       "<div>\n",
       "<style scoped>\n",
       "    .dataframe tbody tr th:only-of-type {\n",
       "        vertical-align: middle;\n",
       "    }\n",
       "\n",
       "    .dataframe tbody tr th {\n",
       "        vertical-align: top;\n",
       "    }\n",
       "\n",
       "    .dataframe thead th {\n",
       "        text-align: right;\n",
       "    }\n",
       "</style>\n",
       "<table border=\"1\" class=\"dataframe\">\n",
       "  <thead>\n",
       "    <tr style=\"text-align: right;\">\n",
       "      <th></th>\n",
       "      <th>Order_ID</th>\n",
       "      <th>Product</th>\n",
       "      <th>Category</th>\n",
       "      <th>Quantity</th>\n",
       "      <th>Order_Date</th>\n",
       "      <th>Unit_price</th>\n",
       "      <th>Total_Cost</th>\n",
       "    </tr>\n",
       "  </thead>\n",
       "  <tbody>\n",
       "    <tr>\n",
       "      <th>0</th>\n",
       "      <td>101</td>\n",
       "      <td>Laptop</td>\n",
       "      <td>Electronics</td>\n",
       "      <td>1</td>\n",
       "      <td>2023-01-15</td>\n",
       "      <td>1000</td>\n",
       "      <td>1000</td>\n",
       "    </tr>\n",
       "  </tbody>\n",
       "</table>\n",
       "</div>"
      ],
      "text/plain": [
       "   Order_ID Product     Category  Quantity Order_Date  Unit_price  Total_Cost\n",
       "0       101  Laptop  Electronics         1 2023-01-15        1000        1000"
      ]
     },
     "execution_count": 180,
     "metadata": {},
     "output_type": "execute_result"
    }
   ],
   "source": [
    "df_sales.query('Order_Date.dt.month == 1 and Order_Date.dt.year == 2023')"
   ]
  },
  {
   "cell_type": "code",
   "execution_count": 182,
   "id": "4ea7b71e-b298-4bf3-a69c-2ae249838653",
   "metadata": {},
   "outputs": [
    {
     "data": {
      "text/plain": [
       "Carrier\n",
       "DHL      18.0\n",
       "FedEx    38.0\n",
       "UPS      22.0\n",
       "Name: Shipping_Cost, dtype: float64"
      ]
     },
     "execution_count": 182,
     "metadata": {},
     "output_type": "execute_result"
    }
   ],
   "source": [
    "df_shipment.groupby('Carrier')['Shipping_Cost'].sum()"
   ]
  },
  {
   "cell_type": "code",
   "execution_count": 190,
   "id": "74483f8d-af16-480d-a794-05cd3d6a6751",
   "metadata": {},
   "outputs": [],
   "source": [
    "df_new = pd.merge(left = df_sales, right=df_shipment, how='inner', on = 'Order_ID', validate='1:1')"
   ]
  },
  {
   "cell_type": "code",
   "execution_count": 192,
   "id": "e5db0b24-31a7-49dd-a850-26beced7e44b",
   "metadata": {},
   "outputs": [
    {
     "data": {
      "text/plain": [
       "Category\n",
       "Accessories    12.0\n",
       "Electronics    15.5\n",
       "Name: Shipping_Cost, dtype: float64"
      ]
     },
     "execution_count": 192,
     "metadata": {},
     "output_type": "execute_result"
    }
   ],
   "source": [
    "df_new.groupby('Category')['Shipping_Cost'].sum()"
   ]
  },
  {
   "cell_type": "code",
   "execution_count": 198,
   "id": "69f8e1b4-a260-46a4-bc53-e1ec455dc793",
   "metadata": {},
   "outputs": [
    {
     "data": {
      "text/html": [
       "<div>\n",
       "<style scoped>\n",
       "    .dataframe tbody tr th:only-of-type {\n",
       "        vertical-align: middle;\n",
       "    }\n",
       "\n",
       "    .dataframe tbody tr th {\n",
       "        vertical-align: top;\n",
       "    }\n",
       "\n",
       "    .dataframe thead th {\n",
       "        text-align: right;\n",
       "    }\n",
       "</style>\n",
       "<table border=\"1\" class=\"dataframe\">\n",
       "  <thead>\n",
       "    <tr style=\"text-align: right;\">\n",
       "      <th></th>\n",
       "      <th>names</th>\n",
       "      <th>coef</th>\n",
       "      <th>se</th>\n",
       "      <th>T</th>\n",
       "      <th>pval</th>\n",
       "      <th>r2</th>\n",
       "      <th>adj_r2</th>\n",
       "      <th>CI[2.5%]</th>\n",
       "      <th>CI[97.5%]</th>\n",
       "    </tr>\n",
       "  </thead>\n",
       "  <tbody>\n",
       "    <tr>\n",
       "      <th>0</th>\n",
       "      <td>Intercept</td>\n",
       "      <td>1.938550</td>\n",
       "      <td>0.578965</td>\n",
       "      <td>3.348305</td>\n",
       "      <td>0.044114</td>\n",
       "      <td>0.190375</td>\n",
       "      <td>-0.079501</td>\n",
       "      <td>0.096026</td>\n",
       "      <td>3.781074</td>\n",
       "    </tr>\n",
       "    <tr>\n",
       "      <th>1</th>\n",
       "      <td>Unit_price</td>\n",
       "      <td>-0.000956</td>\n",
       "      <td>0.001139</td>\n",
       "      <td>-0.839891</td>\n",
       "      <td>0.462629</td>\n",
       "      <td>0.190375</td>\n",
       "      <td>-0.079501</td>\n",
       "      <td>-0.004580</td>\n",
       "      <td>0.002667</td>\n",
       "    </tr>\n",
       "  </tbody>\n",
       "</table>\n",
       "</div>"
      ],
      "text/plain": [
       "        names      coef        se         T      pval        r2    adj_r2  \\\n",
       "0   Intercept  1.938550  0.578965  3.348305  0.044114  0.190375 -0.079501   \n",
       "1  Unit_price -0.000956  0.001139 -0.839891  0.462629  0.190375 -0.079501   \n",
       "\n",
       "   CI[2.5%]  CI[97.5%]  \n",
       "0  0.096026   3.781074  \n",
       "1 -0.004580   0.002667  "
      ]
     },
     "execution_count": 198,
     "metadata": {},
     "output_type": "execute_result"
    }
   ],
   "source": [
    "pg.linear_regression(df_sales['Unit_price'],df_sales['Quantity'])"
   ]
  },
  {
   "cell_type": "code",
   "execution_count": 200,
   "id": "b93c59f7-94fa-440e-9af5-6b1584b6f506",
   "metadata": {},
   "outputs": [
    {
     "data": {
      "text/html": [
       "<div>\n",
       "<style scoped>\n",
       "    .dataframe tbody tr th:only-of-type {\n",
       "        vertical-align: middle;\n",
       "    }\n",
       "\n",
       "    .dataframe tbody tr th {\n",
       "        vertical-align: top;\n",
       "    }\n",
       "\n",
       "    .dataframe thead th {\n",
       "        text-align: right;\n",
       "    }\n",
       "</style>\n",
       "<table border=\"1\" class=\"dataframe\">\n",
       "  <thead>\n",
       "    <tr style=\"text-align: right;\">\n",
       "      <th></th>\n",
       "      <th>Order_ID</th>\n",
       "      <th>Product</th>\n",
       "      <th>Category</th>\n",
       "      <th>Quantity</th>\n",
       "      <th>Order_Date</th>\n",
       "      <th>Unit_price</th>\n",
       "      <th>Total_Cost</th>\n",
       "    </tr>\n",
       "  </thead>\n",
       "  <tbody>\n",
       "    <tr>\n",
       "      <th>0</th>\n",
       "      <td>101</td>\n",
       "      <td>Laptop</td>\n",
       "      <td>Electronics</td>\n",
       "      <td>1</td>\n",
       "      <td>2023-01-15</td>\n",
       "      <td>1000</td>\n",
       "      <td>1000</td>\n",
       "    </tr>\n",
       "  </tbody>\n",
       "</table>\n",
       "</div>"
      ],
      "text/plain": [
       "   Order_ID Product     Category  Quantity Order_Date  Unit_price  Total_Cost\n",
       "0       101  Laptop  Electronics         1 2023-01-15        1000        1000"
      ]
     },
     "execution_count": 200,
     "metadata": {},
     "output_type": "execute_result"
    }
   ],
   "source": [
    "top_10_price = df_sales['Unit_price'].quantile(0.9)\n",
    "df_sales.query('Order_Date >= \"2023-01-01\" and Order_Date <= \"2023-04-01\" and Unit_price >= @top_10_price')"
   ]
  },
  {
   "cell_type": "code",
   "execution_count": 202,
   "id": "4c6acc76-429e-40d4-8cbf-f05a7927e0d2",
   "metadata": {},
   "outputs": [],
   "source": [
    "df_schools = pd.read_excel('https://www.dropbox.com/scl/fi/27d9nvrhznhuzxk7iw1ue/schools_full_list.xlsx?rlkey=zekgxdwpqzdyl8n8u2r2fli8v&st=55ztfdsj&raw=1')\n",
    "\n",
    "df_students = pd.read_excel('https://www.dropbox.com/scl/fi/jfvgl9pvd3hpikdmq9k16/students_full_list.xlsx?rlkey=d1t1rmakwb77t43rxndwdb594&st=2m8th8rd&raw=1')\n",
    "\n",
    "df_students_interview = pd.read_excel('https://www.dropbox.com/scl/fi/xim7i3emz6us8srypej03/students_interview.xlsx?rlkey=i17iggzishi5ao0vkxttsregv&st=gz3oop16&raw=1')"
   ]
  },
  {
   "cell_type": "code",
   "execution_count": 204,
   "id": "cbcd0904-6fa5-4cb0-b677-be17ac70894a",
   "metadata": {},
   "outputs": [
    {
     "data": {
      "text/html": [
       "<div>\n",
       "<style scoped>\n",
       "    .dataframe tbody tr th:only-of-type {\n",
       "        vertical-align: middle;\n",
       "    }\n",
       "\n",
       "    .dataframe tbody tr th {\n",
       "        vertical-align: top;\n",
       "    }\n",
       "\n",
       "    .dataframe thead th {\n",
       "        text-align: right;\n",
       "    }\n",
       "</style>\n",
       "<table border=\"1\" class=\"dataframe\">\n",
       "  <thead>\n",
       "    <tr style=\"text-align: right;\">\n",
       "      <th></th>\n",
       "      <th>grad_school</th>\n",
       "      <th>school_city</th>\n",
       "      <th>school_state</th>\n",
       "    </tr>\n",
       "  </thead>\n",
       "  <tbody>\n",
       "    <tr>\n",
       "      <th>0</th>\n",
       "      <td>The George Washngton University</td>\n",
       "      <td>DC</td>\n",
       "      <td>DC</td>\n",
       "    </tr>\n",
       "    <tr>\n",
       "      <th>1</th>\n",
       "      <td>Georgetown University</td>\n",
       "      <td>DC</td>\n",
       "      <td>DC</td>\n",
       "    </tr>\n",
       "    <tr>\n",
       "      <th>2</th>\n",
       "      <td>Howard University</td>\n",
       "      <td>DC</td>\n",
       "      <td>DC</td>\n",
       "    </tr>\n",
       "    <tr>\n",
       "      <th>3</th>\n",
       "      <td>American University</td>\n",
       "      <td>DC</td>\n",
       "      <td>DC</td>\n",
       "    </tr>\n",
       "    <tr>\n",
       "      <th>4</th>\n",
       "      <td>Johns Hopkins University</td>\n",
       "      <td>Baltimore</td>\n",
       "      <td>MD</td>\n",
       "    </tr>\n",
       "    <tr>\n",
       "      <th>5</th>\n",
       "      <td>The Catholic University of America</td>\n",
       "      <td>DC</td>\n",
       "      <td>DC</td>\n",
       "    </tr>\n",
       "    <tr>\n",
       "      <th>6</th>\n",
       "      <td>Gallaudet University</td>\n",
       "      <td>DC</td>\n",
       "      <td>DC</td>\n",
       "    </tr>\n",
       "    <tr>\n",
       "      <th>7</th>\n",
       "      <td>University of the District of Columbia</td>\n",
       "      <td>DC</td>\n",
       "      <td>DC</td>\n",
       "    </tr>\n",
       "    <tr>\n",
       "      <th>8</th>\n",
       "      <td>Trinity Washington University</td>\n",
       "      <td>DC</td>\n",
       "      <td>DC</td>\n",
       "    </tr>\n",
       "    <tr>\n",
       "      <th>9</th>\n",
       "      <td>George Mason University</td>\n",
       "      <td>Fairfax</td>\n",
       "      <td>VA</td>\n",
       "    </tr>\n",
       "    <tr>\n",
       "      <th>10</th>\n",
       "      <td>Bowie State University</td>\n",
       "      <td>Bowie</td>\n",
       "      <td>MD</td>\n",
       "    </tr>\n",
       "    <tr>\n",
       "      <th>11</th>\n",
       "      <td>Strayer University</td>\n",
       "      <td>DC</td>\n",
       "      <td>DC</td>\n",
       "    </tr>\n",
       "    <tr>\n",
       "      <th>12</th>\n",
       "      <td>Marymount University</td>\n",
       "      <td>Arlington</td>\n",
       "      <td>VA</td>\n",
       "    </tr>\n",
       "    <tr>\n",
       "      <th>13</th>\n",
       "      <td>Washington Adventist University</td>\n",
       "      <td>Takoma Park</td>\n",
       "      <td>MD</td>\n",
       "    </tr>\n",
       "    <tr>\n",
       "      <th>14</th>\n",
       "      <td>Capitol Technology University</td>\n",
       "      <td>Laurel</td>\n",
       "      <td>MD</td>\n",
       "    </tr>\n",
       "    <tr>\n",
       "      <th>15</th>\n",
       "      <td>University of Management and Technology</td>\n",
       "      <td>Arlington</td>\n",
       "      <td>VA</td>\n",
       "    </tr>\n",
       "    <tr>\n",
       "      <th>16</th>\n",
       "      <td>Stratford University</td>\n",
       "      <td>Idylwood</td>\n",
       "      <td>VA</td>\n",
       "    </tr>\n",
       "    <tr>\n",
       "      <th>17</th>\n",
       "      <td>Career Technical Institute</td>\n",
       "      <td>DC</td>\n",
       "      <td>DC</td>\n",
       "    </tr>\n",
       "    <tr>\n",
       "      <th>18</th>\n",
       "      <td>University of Virginia</td>\n",
       "      <td>Charlottesville</td>\n",
       "      <td>VA</td>\n",
       "    </tr>\n",
       "    <tr>\n",
       "      <th>19</th>\n",
       "      <td>Virginia Tech</td>\n",
       "      <td>Blacksburg</td>\n",
       "      <td>VA</td>\n",
       "    </tr>\n",
       "    <tr>\n",
       "      <th>20</th>\n",
       "      <td>University of Maryland</td>\n",
       "      <td>College Park</td>\n",
       "      <td>MD</td>\n",
       "    </tr>\n",
       "  </tbody>\n",
       "</table>\n",
       "</div>"
      ],
      "text/plain": [
       "                                grad_school      school_city school_state\n",
       "0           The George Washngton University               DC           DC\n",
       "1                     Georgetown University               DC           DC\n",
       "2                         Howard University               DC           DC\n",
       "3                       American University               DC           DC\n",
       "4                  Johns Hopkins University        Baltimore           MD\n",
       "5        The Catholic University of America               DC           DC\n",
       "6                      Gallaudet University               DC           DC\n",
       "7    University of the District of Columbia               DC           DC\n",
       "8             Trinity Washington University               DC           DC\n",
       "9                   George Mason University          Fairfax           VA\n",
       "10                   Bowie State University            Bowie           MD\n",
       "11                       Strayer University               DC           DC\n",
       "12                     Marymount University        Arlington           VA\n",
       "13          Washington Adventist University      Takoma Park           MD\n",
       "14            Capitol Technology University           Laurel           MD\n",
       "15  University of Management and Technology        Arlington           VA\n",
       "16                     Stratford University         Idylwood           VA\n",
       "17               Career Technical Institute               DC           DC\n",
       "18                   University of Virginia  Charlottesville           VA\n",
       "19                            Virginia Tech       Blacksburg           VA\n",
       "20                   University of Maryland     College Park           MD"
      ]
     },
     "execution_count": 204,
     "metadata": {},
     "output_type": "execute_result"
    }
   ],
   "source": [
    "df_schools"
   ]
  },
  {
   "cell_type": "code",
   "execution_count": 210,
   "id": "5faf1625-5357-4706-99b9-f8f695bea3ff",
   "metadata": {},
   "outputs": [
    {
     "data": {
      "text/plain": [
       "5"
      ]
     },
     "execution_count": 210,
     "metadata": {},
     "output_type": "execute_result"
    }
   ],
   "source": [
    "#2\n",
    "len(df_schools[df_schools['school_state']=='MD'])"
   ]
  },
  {
   "cell_type": "code",
   "execution_count": 212,
   "id": "2043dbfa-18d3-49b9-971f-cc6e798131fb",
   "metadata": {},
   "outputs": [
    {
     "data": {
      "text/plain": [
       "True"
      ]
     },
     "execution_count": 212,
     "metadata": {},
     "output_type": "execute_result"
    }
   ],
   "source": [
    "bool(len(df_schools[df_schools['school_state']=='VA'])>len(df_schools[df_schools['school_state']=='MD']))"
   ]
  },
  {
   "cell_type": "code",
   "execution_count": 214,
   "id": "87e21169-764d-4be6-b7fb-517fdb11c9c8",
   "metadata": {},
   "outputs": [
    {
     "data": {
      "text/html": [
       "<div>\n",
       "<style scoped>\n",
       "    .dataframe tbody tr th:only-of-type {\n",
       "        vertical-align: middle;\n",
       "    }\n",
       "\n",
       "    .dataframe tbody tr th {\n",
       "        vertical-align: top;\n",
       "    }\n",
       "\n",
       "    .dataframe thead th {\n",
       "        text-align: right;\n",
       "    }\n",
       "</style>\n",
       "<table border=\"1\" class=\"dataframe\">\n",
       "  <thead>\n",
       "    <tr style=\"text-align: right;\">\n",
       "      <th></th>\n",
       "      <th>student_name</th>\n",
       "      <th>no_of_interviews</th>\n",
       "      <th>sex</th>\n",
       "      <th>age</th>\n",
       "    </tr>\n",
       "  </thead>\n",
       "  <tbody>\n",
       "    <tr>\n",
       "      <th>0</th>\n",
       "      <td>Ezra</td>\n",
       "      <td>2</td>\n",
       "      <td>M</td>\n",
       "      <td>23</td>\n",
       "    </tr>\n",
       "    <tr>\n",
       "      <th>1</th>\n",
       "      <td>Milo</td>\n",
       "      <td>1</td>\n",
       "      <td>M</td>\n",
       "      <td>56</td>\n",
       "    </tr>\n",
       "    <tr>\n",
       "      <th>2</th>\n",
       "      <td>Sally</td>\n",
       "      <td>4</td>\n",
       "      <td>F</td>\n",
       "      <td>21</td>\n",
       "    </tr>\n",
       "    <tr>\n",
       "      <th>3</th>\n",
       "      <td>James</td>\n",
       "      <td>35</td>\n",
       "      <td>M</td>\n",
       "      <td>22</td>\n",
       "    </tr>\n",
       "    <tr>\n",
       "      <th>4</th>\n",
       "      <td>Kylie</td>\n",
       "      <td>20</td>\n",
       "      <td>F</td>\n",
       "      <td>22</td>\n",
       "    </tr>\n",
       "    <tr>\n",
       "      <th>5</th>\n",
       "      <td>Emma</td>\n",
       "      <td>28</td>\n",
       "      <td>F</td>\n",
       "      <td>23</td>\n",
       "    </tr>\n",
       "    <tr>\n",
       "      <th>6</th>\n",
       "      <td>Owen</td>\n",
       "      <td>18</td>\n",
       "      <td>M</td>\n",
       "      <td>21</td>\n",
       "    </tr>\n",
       "    <tr>\n",
       "      <th>7</th>\n",
       "      <td>Roy</td>\n",
       "      <td>14</td>\n",
       "      <td>M</td>\n",
       "      <td>24</td>\n",
       "    </tr>\n",
       "    <tr>\n",
       "      <th>8</th>\n",
       "      <td>Jay</td>\n",
       "      <td>2</td>\n",
       "      <td>M</td>\n",
       "      <td>25</td>\n",
       "    </tr>\n",
       "    <tr>\n",
       "      <th>9</th>\n",
       "      <td>Nova</td>\n",
       "      <td>25</td>\n",
       "      <td>F</td>\n",
       "      <td>22</td>\n",
       "    </tr>\n",
       "    <tr>\n",
       "      <th>10</th>\n",
       "      <td>Rex</td>\n",
       "      <td>15</td>\n",
       "      <td>M</td>\n",
       "      <td>23</td>\n",
       "    </tr>\n",
       "    <tr>\n",
       "      <th>11</th>\n",
       "      <td>Demi</td>\n",
       "      <td>1</td>\n",
       "      <td>F</td>\n",
       "      <td>21</td>\n",
       "    </tr>\n",
       "    <tr>\n",
       "      <th>12</th>\n",
       "      <td>Zev</td>\n",
       "      <td>9</td>\n",
       "      <td>M</td>\n",
       "      <td>20</td>\n",
       "    </tr>\n",
       "    <tr>\n",
       "      <th>13</th>\n",
       "      <td>Zion</td>\n",
       "      <td>3</td>\n",
       "      <td>M</td>\n",
       "      <td>23</td>\n",
       "    </tr>\n",
       "    <tr>\n",
       "      <th>14</th>\n",
       "      <td>Sofia</td>\n",
       "      <td>5</td>\n",
       "      <td>F</td>\n",
       "      <td>22</td>\n",
       "    </tr>\n",
       "  </tbody>\n",
       "</table>\n",
       "</div>"
      ],
      "text/plain": [
       "   student_name  no_of_interviews sex  age\n",
       "0          Ezra                 2   M   23\n",
       "1          Milo                 1   M   56\n",
       "2         Sally                 4   F   21\n",
       "3         James                35   M   22\n",
       "4         Kylie                20   F   22\n",
       "5          Emma                28   F   23\n",
       "6          Owen                18   M   21\n",
       "7           Roy                14   M   24\n",
       "8           Jay                 2   M   25\n",
       "9          Nova                25   F   22\n",
       "10          Rex                15   M   23\n",
       "11         Demi                 1   F   21\n",
       "12          Zev                 9   M   20\n",
       "13         Zion                 3   M   23\n",
       "14        Sofia                 5   F   22"
      ]
     },
     "execution_count": 214,
     "metadata": {},
     "output_type": "execute_result"
    }
   ],
   "source": [
    "df_students"
   ]
  },
  {
   "cell_type": "code",
   "execution_count": 220,
   "id": "0fc1eab6-4913-4eaa-aa49-b7372ba01110",
   "metadata": {},
   "outputs": [
    {
     "data": {
      "text/plain": [
       "60.0"
      ]
     },
     "execution_count": 220,
     "metadata": {},
     "output_type": "execute_result"
    }
   ],
   "source": [
    "df_students['sex'].eq('M').mul(100).mean()"
   ]
  },
  {
   "cell_type": "code",
   "execution_count": 222,
   "id": "28ffacb8-286f-49fc-bf6c-2c9f35ab7e2a",
   "metadata": {},
   "outputs": [
    {
     "data": {
      "text/html": [
       "<div>\n",
       "<style scoped>\n",
       "    .dataframe tbody tr th:only-of-type {\n",
       "        vertical-align: middle;\n",
       "    }\n",
       "\n",
       "    .dataframe tbody tr th {\n",
       "        vertical-align: top;\n",
       "    }\n",
       "\n",
       "    .dataframe thead th {\n",
       "        text-align: right;\n",
       "    }\n",
       "</style>\n",
       "<table border=\"1\" class=\"dataframe\">\n",
       "  <thead>\n",
       "    <tr style=\"text-align: right;\">\n",
       "      <th></th>\n",
       "      <th>student_name</th>\n",
       "      <th>student_home_city</th>\n",
       "      <th>student_home_state</th>\n",
       "      <th>interview_preparation_hrs</th>\n",
       "      <th>grad_school</th>\n",
       "    </tr>\n",
       "  </thead>\n",
       "  <tbody>\n",
       "    <tr>\n",
       "      <th>0</th>\n",
       "      <td>Ezra</td>\n",
       "      <td>DC</td>\n",
       "      <td>DC</td>\n",
       "      <td>110</td>\n",
       "      <td>American University</td>\n",
       "    </tr>\n",
       "    <tr>\n",
       "      <th>1</th>\n",
       "      <td>Milo</td>\n",
       "      <td>Arlington</td>\n",
       "      <td>VA</td>\n",
       "      <td>3</td>\n",
       "      <td>Johns Hopkins University</td>\n",
       "    </tr>\n",
       "    <tr>\n",
       "      <th>2</th>\n",
       "      <td>Sally</td>\n",
       "      <td>DC</td>\n",
       "      <td>DC</td>\n",
       "      <td>85</td>\n",
       "      <td>Georgetown University</td>\n",
       "    </tr>\n",
       "    <tr>\n",
       "      <th>3</th>\n",
       "      <td>James</td>\n",
       "      <td>Alexandria</td>\n",
       "      <td>VA</td>\n",
       "      <td>140</td>\n",
       "      <td>Johns Hopkins University</td>\n",
       "    </tr>\n",
       "    <tr>\n",
       "      <th>4</th>\n",
       "      <td>Kylie</td>\n",
       "      <td>Charlottesville</td>\n",
       "      <td>VA</td>\n",
       "      <td>220</td>\n",
       "      <td>University of Virginia</td>\n",
       "    </tr>\n",
       "    <tr>\n",
       "      <th>5</th>\n",
       "      <td>Emma</td>\n",
       "      <td>DC</td>\n",
       "      <td>DC</td>\n",
       "      <td>74</td>\n",
       "      <td>Johns Hopkins University</td>\n",
       "    </tr>\n",
       "    <tr>\n",
       "      <th>6</th>\n",
       "      <td>Levi</td>\n",
       "      <td>Blacksburg</td>\n",
       "      <td>VA</td>\n",
       "      <td>21</td>\n",
       "      <td>Virginia Tech</td>\n",
       "    </tr>\n",
       "    <tr>\n",
       "      <th>7</th>\n",
       "      <td>Owen</td>\n",
       "      <td>Arlington</td>\n",
       "      <td>VA</td>\n",
       "      <td>280</td>\n",
       "      <td>George Mason University</td>\n",
       "    </tr>\n",
       "    <tr>\n",
       "      <th>8</th>\n",
       "      <td>Asa</td>\n",
       "      <td>Rockville</td>\n",
       "      <td>MD</td>\n",
       "      <td>10</td>\n",
       "      <td>Howard University</td>\n",
       "    </tr>\n",
       "    <tr>\n",
       "      <th>9</th>\n",
       "      <td>Roy</td>\n",
       "      <td>Baltimore</td>\n",
       "      <td>MD</td>\n",
       "      <td>350</td>\n",
       "      <td>University of Maryland</td>\n",
       "    </tr>\n",
       "  </tbody>\n",
       "</table>\n",
       "</div>"
      ],
      "text/plain": [
       "  student_name student_home_city student_home_state  \\\n",
       "0         Ezra                DC                 DC   \n",
       "1         Milo         Arlington                 VA   \n",
       "2        Sally                DC                 DC   \n",
       "3        James        Alexandria                 VA   \n",
       "4        Kylie   Charlottesville                 VA   \n",
       "5         Emma                DC                 DC   \n",
       "6         Levi        Blacksburg                 VA   \n",
       "7         Owen         Arlington                 VA   \n",
       "8          Asa         Rockville                 MD   \n",
       "9          Roy         Baltimore                 MD   \n",
       "\n",
       "   interview_preparation_hrs               grad_school  \n",
       "0                        110       American University  \n",
       "1                          3  Johns Hopkins University  \n",
       "2                         85     Georgetown University  \n",
       "3                        140  Johns Hopkins University  \n",
       "4                        220    University of Virginia  \n",
       "5                         74  Johns Hopkins University  \n",
       "6                         21             Virginia Tech  \n",
       "7                        280   George Mason University  \n",
       "8                         10         Howard University  \n",
       "9                        350    University of Maryland  "
      ]
     },
     "execution_count": 222,
     "metadata": {},
     "output_type": "execute_result"
    }
   ],
   "source": [
    "df_students_interview"
   ]
  },
  {
   "cell_type": "code",
   "execution_count": 224,
   "id": "5b61d491-229e-4e39-a381-7fcf52846a8a",
   "metadata": {},
   "outputs": [
    {
     "data": {
      "text/plain": [
       "35"
      ]
     },
     "execution_count": 224,
     "metadata": {},
     "output_type": "execute_result"
    }
   ],
   "source": [
    "max(df_students['no_of_interviews'])"
   ]
  },
  {
   "cell_type": "code",
   "execution_count": 230,
   "id": "77aee4c4-8ea5-44b1-9598-3bc13eb45b2a",
   "metadata": {},
   "outputs": [
    {
     "data": {
      "text/plain": [
       "30.0"
      ]
     },
     "execution_count": 230,
     "metadata": {},
     "output_type": "execute_result"
    }
   ],
   "source": [
    "df_students_interview['student_home_city'].eq('DC').mul(100).mean()"
   ]
  },
  {
   "cell_type": "code",
   "execution_count": 232,
   "id": "016c4ef2-0267-4190-8440-41cf15043f84",
   "metadata": {},
   "outputs": [
    {
     "data": {
      "text/plain": [
       "34.25"
      ]
     },
     "execution_count": 232,
     "metadata": {},
     "output_type": "execute_result"
    }
   ],
   "source": [
    "df_students_interview['interview_preparation_hrs'].quantile(0.25)"
   ]
  },
  {
   "cell_type": "code",
   "execution_count": 234,
   "id": "b2e928e4-6bb3-452f-8390-59d7c72f8b5f",
   "metadata": {},
   "outputs": [
    {
     "data": {
      "text/plain": [
       "<Axes: >"
      ]
     },
     "execution_count": 234,
     "metadata": {},
     "output_type": "execute_result"
    },
    {
     "data": {
      "image/png": "[encoded data removed]",
      "text/plain": [
       "<Figure size 640x480 with 1 Axes>"
      ]
     },
     "metadata": {},
     "output_type": "display_data"
    }
   ],
   "source": [
    "df_students_interview['interview_preparation_hrs'].plot(kind='box')"
   ]
  },
  {
   "cell_type": "code",
   "execution_count": 238,
   "id": "532bea55-81e3-47ec-b694-c9e1aaaee97b",
   "metadata": {},
   "outputs": [
    {
     "data": {
      "text/plain": [
       "<Axes: xlabel='student_home_state'>"
      ]
     },
     "execution_count": 238,
     "metadata": {},
     "output_type": "execute_result"
    },
    {
     "data": {
      "image/png": "[encoded data removed]",
      "text/plain": [
       "<Figure size 640x480 with 1 Axes>"
      ]
     },
     "metadata": {},
     "output_type": "display_data"
    }
   ],
   "source": [
    "df_students_interview['student_home_state'].value_counts().plot(kind='bar')"
   ]
  },
  {
   "cell_type": "code",
   "execution_count": 244,
   "id": "e822f9e7-3918-42cc-a3d3-ea7d517da688",
   "metadata": {},
   "outputs": [],
   "source": [
    "merged= pd.merge(left=df_students,right=df_students_interview,how = 'inner', on = 'student_name', validate='1:1', indicator=True)"
   ]
  },
  {
   "cell_type": "code",
   "execution_count": 246,
   "id": "3d6b1528-af37-4a94-b9c8-233cde783edd",
   "metadata": {},
   "outputs": [
    {
     "data": {
      "text/html": [
       "<div>\n",
       "<style scoped>\n",
       "    .dataframe tbody tr th:only-of-type {\n",
       "        vertical-align: middle;\n",
       "    }\n",
       "\n",
       "    .dataframe tbody tr th {\n",
       "        vertical-align: top;\n",
       "    }\n",
       "\n",
       "    .dataframe thead th {\n",
       "        text-align: right;\n",
       "    }\n",
       "</style>\n",
       "<table border=\"1\" class=\"dataframe\">\n",
       "  <thead>\n",
       "    <tr style=\"text-align: right;\">\n",
       "      <th></th>\n",
       "      <th>student_name</th>\n",
       "      <th>no_of_interviews</th>\n",
       "      <th>sex</th>\n",
       "      <th>age</th>\n",
       "      <th>student_home_city</th>\n",
       "      <th>student_home_state</th>\n",
       "      <th>interview_preparation_hrs</th>\n",
       "      <th>grad_school</th>\n",
       "      <th>_merge</th>\n",
       "    </tr>\n",
       "  </thead>\n",
       "  <tbody>\n",
       "    <tr>\n",
       "      <th>0</th>\n",
       "      <td>Ezra</td>\n",
       "      <td>2</td>\n",
       "      <td>M</td>\n",
       "      <td>23</td>\n",
       "      <td>DC</td>\n",
       "      <td>DC</td>\n",
       "      <td>110</td>\n",
       "      <td>American University</td>\n",
       "      <td>both</td>\n",
       "    </tr>\n",
       "    <tr>\n",
       "      <th>1</th>\n",
       "      <td>Milo</td>\n",
       "      <td>1</td>\n",
       "      <td>M</td>\n",
       "      <td>56</td>\n",
       "      <td>Arlington</td>\n",
       "      <td>VA</td>\n",
       "      <td>3</td>\n",
       "      <td>Johns Hopkins University</td>\n",
       "      <td>both</td>\n",
       "    </tr>\n",
       "    <tr>\n",
       "      <th>2</th>\n",
       "      <td>Sally</td>\n",
       "      <td>4</td>\n",
       "      <td>F</td>\n",
       "      <td>21</td>\n",
       "      <td>DC</td>\n",
       "      <td>DC</td>\n",
       "      <td>85</td>\n",
       "      <td>Georgetown University</td>\n",
       "      <td>both</td>\n",
       "    </tr>\n",
       "    <tr>\n",
       "      <th>3</th>\n",
       "      <td>James</td>\n",
       "      <td>35</td>\n",
       "      <td>M</td>\n",
       "      <td>22</td>\n",
       "      <td>Alexandria</td>\n",
       "      <td>VA</td>\n",
       "      <td>140</td>\n",
       "      <td>Johns Hopkins University</td>\n",
       "      <td>both</td>\n",
       "    </tr>\n",
       "    <tr>\n",
       "      <th>4</th>\n",
       "      <td>Kylie</td>\n",
       "      <td>20</td>\n",
       "      <td>F</td>\n",
       "      <td>22</td>\n",
       "      <td>Charlottesville</td>\n",
       "      <td>VA</td>\n",
       "      <td>220</td>\n",
       "      <td>University of Virginia</td>\n",
       "      <td>both</td>\n",
       "    </tr>\n",
       "    <tr>\n",
       "      <th>5</th>\n",
       "      <td>Emma</td>\n",
       "      <td>28</td>\n",
       "      <td>F</td>\n",
       "      <td>23</td>\n",
       "      <td>DC</td>\n",
       "      <td>DC</td>\n",
       "      <td>74</td>\n",
       "      <td>Johns Hopkins University</td>\n",
       "      <td>both</td>\n",
       "    </tr>\n",
       "    <tr>\n",
       "      <th>6</th>\n",
       "      <td>Owen</td>\n",
       "      <td>18</td>\n",
       "      <td>M</td>\n",
       "      <td>21</td>\n",
       "      <td>Arlington</td>\n",
       "      <td>VA</td>\n",
       "      <td>280</td>\n",
       "      <td>George Mason University</td>\n",
       "      <td>both</td>\n",
       "    </tr>\n",
       "    <tr>\n",
       "      <th>7</th>\n",
       "      <td>Roy</td>\n",
       "      <td>14</td>\n",
       "      <td>M</td>\n",
       "      <td>24</td>\n",
       "      <td>Baltimore</td>\n",
       "      <td>MD</td>\n",
       "      <td>350</td>\n",
       "      <td>University of Maryland</td>\n",
       "      <td>both</td>\n",
       "    </tr>\n",
       "  </tbody>\n",
       "</table>\n",
       "</div>"
      ],
      "text/plain": [
       "  student_name  no_of_interviews sex  age student_home_city  \\\n",
       "0         Ezra                 2   M   23                DC   \n",
       "1         Milo                 1   M   56         Arlington   \n",
       "2        Sally                 4   F   21                DC   \n",
       "3        James                35   M   22        Alexandria   \n",
       "4        Kylie                20   F   22   Charlottesville   \n",
       "5         Emma                28   F   23                DC   \n",
       "6         Owen                18   M   21         Arlington   \n",
       "7          Roy                14   M   24         Baltimore   \n",
       "\n",
       "  student_home_state  interview_preparation_hrs               grad_school  \\\n",
       "0                 DC                        110       American University   \n",
       "1                 VA                          3  Johns Hopkins University   \n",
       "2                 DC                         85     Georgetown University   \n",
       "3                 VA                        140  Johns Hopkins University   \n",
       "4                 VA                        220    University of Virginia   \n",
       "5                 DC                         74  Johns Hopkins University   \n",
       "6                 VA                        280   George Mason University   \n",
       "7                 MD                        350    University of Maryland   \n",
       "\n",
       "  _merge  \n",
       "0   both  \n",
       "1   both  \n",
       "2   both  \n",
       "3   both  \n",
       "4   both  \n",
       "5   both  \n",
       "6   both  \n",
       "7   both  "
      ]
     },
     "execution_count": 246,
     "metadata": {},
     "output_type": "execute_result"
    }
   ],
   "source": [
    "merged"
   ]
  },
  {
   "cell_type": "code",
   "execution_count": 250,
   "id": "75127530-4a21-4ed1-85fa-11ac06e8a8ec",
   "metadata": {},
   "outputs": [
    {
     "data": {
      "text/plain": [
       "62.5"
      ]
     },
     "execution_count": 250,
     "metadata": {},
     "output_type": "execute_result"
    }
   ],
   "source": [
    "merged['sex'].eq('M').mul(100).mean()"
   ]
  },
  {
   "cell_type": "code",
   "execution_count": 258,
   "id": "51158bb4-fbab-4063-b0b5-84130e7e507d",
   "metadata": {},
   "outputs": [],
   "source": [
    "m_corr = merged[['no_of_interviews','interview_preparation_hrs']].fillna(0).corr()"
   ]
  },
  {
   "cell_type": "code",
   "execution_count": 260,
   "id": "4cf618e4-3843-4f90-85d7-54af2649d0d7",
   "metadata": {},
   "outputs": [
    {
     "data": {
      "text/plain": [
       "<Axes: >"
      ]
     },
     "execution_count": 260,
     "metadata": {},
     "output_type": "execute_result"
    },
    {
     "data": {
      "image/png": "[encoded data removed]",
      "text/plain": [
       "<Figure size 640x480 with 2 Axes>"
      ]
     },
     "metadata": {},
     "output_type": "display_data"
    }
   ],
   "source": [
    "sns.heatmap(m_corr, annot=True)"
   ]
  },
  {
   "cell_type": "code",
   "execution_count": 266,
   "id": "f1c8d218-db91-4d43-bb38-8b3e1c4ef0a9",
   "metadata": {},
   "outputs": [
    {
     "data": {
      "text/plain": [
       "22.166666666666668"
      ]
     },
     "execution_count": 266,
     "metadata": {},
     "output_type": "execute_result"
    }
   ],
   "source": [
    "merged[merged['interview_preparation_hrs']>=80].age.mean()"
   ]
  },
  {
   "cell_type": "code",
   "execution_count": null,
   "id": "360a1d5e-901f-4f2d-a1f8-7cc6791f032c",
   "metadata": {},
   "outputs": [],
   "source": []
  }
 ],
 "metadata": {
  "kernelspec": {
   "display_name": "Python 3 (ipykernel)",
   "language": "python",
   "name": "python3"
  },
  "language_info": {
   "codemirror_mode": {
    "name": "ipython",
    "version": 3
   },
   "file_extension": ".py",
   "mimetype": "text/x-python",
   "name": "python",
   "nbconvert_exporter": "python",
   "pygments_lexer": "ipython3",
   "version": "3.12.4"
  }
 },
 "nbformat": 4,
 "nbformat_minor": 5
}
