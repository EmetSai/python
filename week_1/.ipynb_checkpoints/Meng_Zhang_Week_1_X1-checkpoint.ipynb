{
 "cells": [
  {
   "cell_type": "markdown",
   "metadata": {
    "id": "cuYPG-FC8ryF"
   },
   "source": [
    "# Week 1 Homework\n",
    "\n",
    "This homework will provide an opportunity for you to practice the most important topics we discussed in week 1. It will also prepare you for week 2 of this course. "
   ]
  },
  {
   "cell_type": "markdown",
   "metadata": {
    "id": "cKDuOTQB8ryN",
    "jp-MarkdownHeadingCollapsed": true,
    "tags": []
   },
   "source": [
    "## Submission guidelines:\n",
    "**`Please display all your output using the print() function`**\n",
    "\n",
    "**Once you are done, remove all the output (`Right click on screen --> Clear All Outputs`), save your file as: `YourFirstName_YourLastName_Week_1_SectionNumber.ipynb`.**\n",
    "\n",
    "**If you submit under any other name/format, your submission will not be graded!**\n",
    "\n",
    "**We have on-line office hours on Monday night over zoom 8-9 pm; please feel free to join and ask your questions. You are better off trying all the questions before the office hours**\n"
   ]
  },
  {
   "cell_type": "markdown",
   "metadata": {},
   "source": [
    "## Problem 1\n",
    "\n",
    "Please read the above `Submission guidelines` section. Write a snippet that does the following in this particular order:\n",
    "\n",
    " - defines a variable called `my_name`\n",
    " - uses formatted string to display the following message\n",
    "\n",
    "`'I, your full name, fully read and understood the Submission guidelines'`.\n",
    "\n",
    "**Note :** Not using `f-string` will result to grade of `0`.\n"
   ]
  },
  {
   "cell_type": "code",
   "execution_count": null,
   "metadata": {},
   "outputs": [],
   "source": [
    "## answer to the above question\n",
    "my_name = 'Meng Zhang'\n",
    "print(f'I, {my_name}, fully read and understood the Submission guidelines')\n"
   ]
  },
  {
   "cell_type": "markdown",
   "metadata": {
    "id": "b08SV-fz8ryR"
   },
   "source": [
    "## Problem 2\n",
    "**Calculation of `feels-like` or `Wind chill`:** Given the temperature $T$ (in degree Fahrenheit) and the wind speed $v$ (in miles per hour), the National Weather Service defines the effective temperature (the wind chill) to be:\n",
    "\n",
    "$$\n",
    "w = 35.74+0.6215T+(0.4275T-35.75)v^{0.16}\n",
    "$$\n",
    "\n",
    "This is commonly known as **feels-like** temperature.\n",
    "\n",
    "Write a snippet that defines two floats $T$ and $v$, calculates and writes out the wind chill. *Note:* This formula is not valid if $T$ is larger than 50 in absolute value or if $v$ is larger than 120 or less than 3 (you may assume that the values you get are in that range)\n",
    "\n",
    "**You must use `f-string` with the output format such as `'for temperature of temp and wind speed of speed, feels-like temperature is w'`.**\n",
    "\n"
   ]
  },
  {
   "cell_type": "code",
   "execution_count": null,
   "metadata": {
    "id": "FIk3QSr18ryT"
   },
   "outputs": [],
   "source": [
    "## answer to the above question\n",
    "T = float(input('Insert the temperature (T is no larger than 50): '))\n",
    "v = float(input('Insert the wind speed (v is no larger than 120 and no less than 3): '))\n",
    "w = 35.74+0.6215*T+(0.4275*T-35.75)*(v**0.16)\n",
    "\n",
    "if (-50<=T<=50) and (3<=v<=120):\n",
    "    print(f'For temperature of {T} and wind speed of {v}, feels-like temperature is {w}')\n",
    "else:\n",
    "    print('Please re-enter the number')\n"
   ]
  },
  {
   "cell_type": "markdown",
   "metadata": {
    "id": "6eQwU0qe8ryW"
   },
   "source": [
    "## Problem 3\n",
    "\n",
    "Use `range()` and `print()` to display integer numbers between 0 and 10, including 10. You can use `range()` with one, two, or three arguments. \n",
    "\n"
   ]
  },
  {
   "cell_type": "code",
   "execution_count": null,
   "metadata": {
    "id": "gR3rJ9gL8ryW"
   },
   "outputs": [],
   "source": [
    "## answer to the above question\n",
    "for int in range(0,11):\n",
    "    print(int)\n"
   ]
  },
  {
   "cell_type": "markdown",
   "metadata": {
    "id": "3Ev0Eu0j8ryX"
   },
   "source": [
    "## Problem 4\n",
    "Use the `range` function with three arguments to print even numbers between 0 and 20 (excluding 20)"
   ]
  },
  {
   "cell_type": "code",
   "execution_count": null,
   "metadata": {
    "id": "MAIuUeQj8ryX"
   },
   "outputs": [],
   "source": [
    "## answer to the above question\n",
    "for even in range(0,20,2):\n",
    "    print(even)\n",
    "\n"
   ]
  },
  {
   "cell_type": "markdown",
   "metadata": {
    "id": "x7LQamgG8ryX"
   },
   "source": [
    "## Problem 5\n",
    "\n",
    "Use `if`, `for`, `range()` with three arguments, and `print()` to display the sequence of values `999 888 777 555 444 333 222 111` one value per line. **HINT: read these numbers carefully!**\n",
    "\n",
    "**Hint:** The 3rd argument of the `range()` function is its step size. The step size could be a positive or negative number!"
   ]
  },
  {
   "cell_type": "code",
   "execution_count": null,
   "metadata": {
    "id": "JM5jc3Fx8ryX"
   },
   "outputs": [],
   "source": [
    "## answer to the above question\n",
    "for num in range(999,110,-111):\n",
    "    if num !=666:\n",
    "        print(num)\n",
    "\n",
    "\n"
   ]
  },
  {
   "cell_type": "markdown",
   "metadata": {
    "id": "ZWTua3038ryX"
   },
   "source": [
    "## Problem 6\n",
    "\n",
    "Use `if`, `for`, `range()` with three arguments, and `print()` to display **`on one line`** the sequence of values `999 888 777 555 444 333 222 111`.\n",
    "\n",
    "**Hint:** `print()` function can take an `end` argument. Check your handouts for a few examples."
   ]
  },
  {
   "cell_type": "code",
   "execution_count": null,
   "metadata": {
    "id": "7FkjCk2s8ryY"
   },
   "outputs": [],
   "source": [
    "## answer to the above question\n",
    "for num in range(999,110,-111):\n",
    "    if num != 666:\n",
    "        print(num, end=' ')\n"
   ]
  },
  {
   "cell_type": "markdown",
   "metadata": {
    "id": "6VoJKuyS8ryY",
    "tags": []
   },
   "source": [
    "## Problem 7\n",
    "\n",
    "Use a `for` statement and `range()` to sum up numbers between 3 to 30 (both 3 and 30 excluded).\n"
   ]
  },
  {
   "cell_type": "code",
   "execution_count": null,
   "metadata": {
    "id": "_i2rvSNd8ryY"
   },
   "outputs": [],
   "source": [
    "## answer to the above question\n",
    "num=0\n",
    "for int in range(4,30):\n",
    "    num += int\n",
    "print(num)\n"
   ]
  },
  {
   "cell_type": "markdown",
   "metadata": {
    "jp-MarkdownHeadingCollapsed": true,
    "tags": []
   },
   "source": [
    "### Problem 7 Hint: Try the snippet of `sum(range(1,4))` before answering the above question"
   ]
  },
  {
   "cell_type": "markdown",
   "metadata": {
    "id": "gVxtoHWU8ryY"
   },
   "source": [
    "## Problem 8\n",
    "\n",
    "In this problem we will learn to combine boolean statements using `and`, and `or` operators. Define `i = 1`, `j = 3`, `k = 4`, and `m = 2` **in just one line of code**. Evaluate the outcome of the following statements:\n",
    "\n",
    " A- `(i >= 1) and (j < 4)`\n",
    " \n",
    " B- `(m <= 99) and (k < m)`\n",
    " \n",
    " C- `(k + m < j) or (3 - j >= k)`\n"
   ]
  },
  {
   "cell_type": "code",
   "execution_count": null,
   "metadata": {
    "id": "GccWrk5J8ryY"
   },
   "outputs": [],
   "source": [
    "## answer to the above question\n",
    "i,j,k,m = 1,3,4,2\n",
    "print(f'A- {(i >= 1) and (j < 4)}')\n",
    "print(f'B- {(m <= 99) and (k < m)}')\n",
    "print(f'C- {(k + m < j) or (3 - j >= k)}')\n"
   ]
  },
  {
   "cell_type": "markdown",
   "metadata": {
    "id": "dRE3bRLI8ryZ"
   },
   "source": [
    "## Problem 9\n",
    "\n",
    "Write a snippet that defines a variable as an integer, square it, and display the results. You need to use `f-string`  and the variable name for the display part. As an example, if your defined variable is 6, your code must display:\n",
    "\n",
    "`Square of 6 is 36`"
   ]
  },
  {
   "cell_type": "code",
   "execution_count": null,
   "metadata": {
    "id": "-sqKPoG78ryZ"
   },
   "outputs": [],
   "source": [
    "## answer to the above question\n",
    "num = int(input())\n",
    "print(f'Square of {num} is {num**2}')\n"
   ]
  },
  {
   "cell_type": "markdown",
   "metadata": {
    "id": "9B-oZnRR8ryZ"
   },
   "source": [
    "## Problem 10\n",
    "Use `for` loop and `augmented assignment (such as +=, -=, *=, **=, etc)` to calculates `25!` and display the results using `print()` function. Reminder: `25! = 25 * 24 * 23 * 22 * ... * 2 * 1`\n",
    "\n",
    "**hint:** outside a for loop define a variable called `res = 1`; then inside the for loop keep multiplying value of `res` by numbers `1, 2, 3, ...` until you get the desired result. Remember to display the results with the `print()` function.\n"
   ]
  },
  {
   "cell_type": "code",
   "execution_count": null,
   "metadata": {
    "id": "ydY0dEOI8ryZ"
   },
   "outputs": [],
   "source": [
    "## answer to the above question\n",
    "res = 1\n",
    "for num in range(1,26):\n",
    "    res *= num\n",
    "print(res)\n"
   ]
  },
  {
   "cell_type": "markdown",
   "metadata": {
    "id": "Ih4VE_v2pt1a"
   },
   "source": [
    "## Problem 11\n",
    "Write a snippet that will loop through the tuple items by using a `for` loop and print only odd numbers in the tuple. You need to use `for` and `if` statements.\n",
    "\n",
    "```\n",
    "tuple_1 = (4, 9, 45, 80, 23, 10, 17);\n",
    "\n",
    "```\n",
    "\n",
    "\n"
   ]
  },
  {
   "cell_type": "code",
   "execution_count": null,
   "metadata": {
    "id": "u4vElxJ3qPm7"
   },
   "outputs": [],
   "source": [
    "## answer to the above question\n",
    "tuple_1 = (4, 9, 45, 80, 23, 10, 17);\n",
    "for odd in tuple_1:\n",
    "    if odd%2==1:\n",
    "        print(odd)\n"
   ]
  },
  {
   "cell_type": "markdown",
   "metadata": {
    "id": "irQa93DFtL5s"
   },
   "source": [
    "## Problem 12\n",
    "Consider the following tuple:\n",
    "\n",
    "`music_tuple = (\"Blues\", \"Jazz\", \"Rhythm\", \"Rock and Roll\", \"Rock\", \"Country\", \"Dance\", \"Disco\")`\n",
    "\n",
    "\n",
    "Perform the following tasks in this order\n",
    "\n",
    "1. Find the length of the tuple `music_tuple`\n",
    "2. Access the element at index 3:\n",
    "3. Use slicing to obtain indices 3, 4 and 5:\n",
    "4. Display the first two elements of this tuple\n",
    "5. Define a variable called `music_list`. Use `list` function to assign list version of the above tuple to `music_list`"
   ]
  },
  {
   "cell_type": "code",
   "execution_count": null,
   "metadata": {
    "id": "lKUQp6cttpde"
   },
   "outputs": [],
   "source": [
    "## answer to the above question\n",
    "music_tuple = (\"Blues\", \"Jazz\", \"Rhythm\", \"Rock and Roll\", \"Rock\", \"Country\", \"Dance\", \"Disco\")\n",
    "\n",
    "print(f'The length of music_tuple is {len(music_tuple)}')\n",
    "print(music_tuple[3])\n",
    "print(music_tuple[3:6])\n",
    "print(music_tuple[:2])\n",
    "music_list = music_tuple[3],music_tuple[3:6],music_tuple[:2]\n",
    "print(list(music_list))"
   ]
  },
  {
   "cell_type": "markdown",
   "metadata": {
    "id": "YoNxdP5IvqzD"
   },
   "source": [
    "## Problem 13\n",
    "\n",
    "Write a snippet that **without using list comprehension** creates a list that its elements are the square of the elements from `list_1 = [3, 7, 1, 0, 10]`. Build an empty list first and then use `for` and `append`.\n"
   ]
  },
  {
   "cell_type": "code",
   "execution_count": null,
   "metadata": {
    "id": "ySxQISNKvuCZ"
   },
   "outputs": [],
   "source": [
    "## answer to the above question\n",
    "list_2 = []\n",
    "list_1 = [3, 7, 1, 0, 10]\n",
    "for val in list_1:\n",
    "    list_2.append(val**2)\n",
    "print(list_2)"
   ]
  },
  {
   "cell_type": "markdown",
   "metadata": {
    "id": "PPpDhj6cvMAx"
   },
   "source": [
    "## Problem 14\n",
    "\n",
    "Define `list_2 = [10, 20, 30, 40, 50, 60]`. Write a snippet that prints the following sequentially:\n",
    " - item at index number 1\n",
    " - item in the last index using a positive index\n",
    " - item in the last index using a negative index\n",
    " - length of `list_2`\n"
   ]
  },
  {
   "cell_type": "code",
   "execution_count": null,
   "metadata": {
    "id": "PI9Nh8suvZ6e"
   },
   "outputs": [],
   "source": [
    "## answer to the above question\n",
    "list_2 = [10, 20, 30, 40, 50, 60]\n",
    "print(list_2[1])\n",
    "print(list_2[len(list_2)-1])\n",
    "print(list_2[-1])\n",
    "print(len(list_2))"
   ]
  },
  {
   "cell_type": "markdown",
   "metadata": {
    "id": "_cGwqYAiveXm"
   },
   "source": [
    "## Problem 15\n",
    "\n",
    "Define `list_2 = [10, 20, 30, 40, 50, 60]`. try `print(list_2[len(list_2)])`. Why do you think you are getting an error?\n"
   ]
  },
  {
   "cell_type": "code",
   "execution_count": null,
   "metadata": {
    "id": "I4vxDzidvhrL",
    "tags": []
   },
   "outputs": [],
   "source": [
    "## answer to the above question\n",
    "list_2 = [10, 20, 30, 40, 50, 60]\n",
    "#print(list_2[len(list_2)])\n",
    "\n",
    "print('Im getting an error because len(list_2) is the length of the list, but the largest number of index number in a list is length-1.In this problem, len(list_2) = 6, list_2[6] is out of range.')"
   ]
  },
  {
   "cell_type": "markdown",
   "metadata": {
    "id": "_cGwqYAiveXm"
   },
   "source": [
    "## Problem 16\n",
    "\n",
    "Write a snippet that does the following:\n",
    " - Use list comprehension to create a list of integer numbers from 1 to 27.\n",
    " - Using `del` keyword and list slicing, delete a slice containing the first 7 elements. Then display the resulting list\n",
    " - Starting with the first element of the remaining list from the previous step, use `del` to delete every other element of the list. **Hint: `list` slicing just like `range` function can accept 3 arguments.**\n"
   ]
  },
  {
   "cell_type": "code",
   "execution_count": null,
   "metadata": {
    "id": "I4vxDzidvhrL"
   },
   "outputs": [],
   "source": [
    "## answer to the above question\n",
    "list_1 = []\n",
    "for int in range(1,28):\n",
    "    list_1.append(int)\n",
    "print(list_1)\n",
    "del list_1[0:7]\n",
    "print(list_1)\n",
    "del list_1[::]\n",
    "print(list_1)"
   ]
  },
  {
   "cell_type": "markdown",
   "metadata": {
    "id": "YoNxdP5IvqzD"
   },
   "source": [
    "## Problem 17\n",
    "\n",
    "Write a snippet that **using list comprehension** creates a list that its elements are the square of the elements from `list_1 = [3, 7, 1, 0, 10]`.\n"
   ]
  },
  {
   "cell_type": "code",
   "execution_count": null,
   "metadata": {
    "id": "ySxQISNKvuCZ"
   },
   "outputs": [],
   "source": [
    "## answer to the above question\n",
    "list_1 = [3, 7, 1, 0, 10]\n",
    "list_2 = [num ** 2 for num in list_1]\n",
    "print(list_2)"
   ]
  },
  {
   "cell_type": "markdown",
   "metadata": {
    "id": "nZHTO7Mc8ryZ"
   },
   "source": [
    "## Problem 18\n",
    "\n",
    "Use `f-string` to display the number `e = 2.71828` with 4 decimal points of precision.\n",
    "\n",
    "**Hint:** There is a similar example in your handouts."
   ]
  },
  {
   "cell_type": "code",
   "execution_count": null,
   "metadata": {
    "id": "hPSydKRm8ryZ"
   },
   "outputs": [],
   "source": [
    "## answer to the above question\n",
    "e = 2.71828\n",
    "print(f'{e:.4f}')\n"
   ]
  },
  {
   "cell_type": "markdown",
   "metadata": {
    "id": "A3vQb0VN8ryZ"
   },
   "source": [
    "## Problem 19\n",
    "At the beginning of year 2022 you invested $1000 in an investment account with an annual return of 7\\% over the long term. Use a `for` loop to calculate and display how much money you will have each year at the beginning of year 1 through 30. Use the following formula for determining these amounts:\n",
    "\n",
    "$$\n",
    "a = p(1+r)^n\n",
    "$$\n",
    "\n",
    "\n",
    "<table>\n",
    "<thead>\n",
    "  <tr>\n",
    "    <th>Parameter</th>\n",
    "    <th>Definition</th>\n",
    "  </tr>\n",
    "</thead>\n",
    "<tbody>\n",
    "  <tr>\n",
    "    <td>p</td>\n",
    "    <td>original amount (the principle of $1000)</td>\n",
    "  </tr>\n",
    "  <tr>\n",
    "    <td>r</td>\n",
    "    <td>annual rate of return</td>\n",
    "  </tr>\n",
    "  <tr>\n",
    "    <td>n</td>\n",
    "    <td>number of years</td>\n",
    "  </tr>\n",
    "  <tr>\n",
    "    <td>a</td>\n",
    "    <td>amount of money at the beginning of the nth year</td>\n",
    "  </tr>\n",
    "</tbody>\n",
    "</table>\n",
    "\n",
    "You will have 30 lines of output; line number 3, as an example, must be a `f-string` in the form of:\n",
    "\n",
    "`Total money after 3 years is 1225.043`\n",
    "\n",
    "**Reminder:** You must use an `f-string` to print the output lines."
   ]
  },
  {
   "cell_type": "code",
   "execution_count": null,
   "metadata": {
    "id": "BTe3IqBM8ryZ"
   },
   "outputs": [],
   "source": [
    "## answer to the above question\n",
    "p=1000\n",
    "r=0.07\n",
    "a=0\n",
    "for n in range(1,31):\n",
    "    a = p*(1+r)**n\n",
    "    print(f'Total money after {n} years is {a:.3f}')\n",
    "\n"
   ]
  },
  {
   "cell_type": "markdown",
   "metadata": {
    "id": "6VoJKuyS8ryY",
    "tags": []
   },
   "source": [
    "## Problem 20\n",
    "\n",
    "Use `list slicing` to reverse order of items in `list_1 = ['Simulation', 'Python', 'Statistics']`. Display the output of your snippet. The output of your snippet must be `list_2 = ['Statistics','Python','Simulation']`\n",
    "\n"
   ]
  },
  {
   "cell_type": "code",
   "execution_count": null,
   "metadata": {
    "id": "_i2rvSNd8ryY"
   },
   "outputs": [],
   "source": [
    "## answer to the above question\n",
    "list_1 = ['Simulation', 'Python', 'Statistics']\n",
    "print(f'list_2 = {list_1[::-1]}')\n"
   ]
  },
  {
   "cell_type": "markdown",
   "metadata": {
    "id": "tsnoKntm_ceB"
   },
   "source": [
    "## Problem 21\n",
    "\n",
    "CAGR stands for the Compound Annual Growth Rate. It is the measure of an investment's annual growth rate over time, with the effect of compounding taken into account. It is often used to measure and compare the past performance of investments or to project their expected future returns. According to Corporate Finance Institute, The CAGR can be calculated using `Ending Value/Beginning Value) ^ (1/No. of Periods) – 1`.\n",
    "\n",
    "```\n",
    "CAGR_rate = ([EV/BV] ^ 1/t - 1) * 100\n",
    "```\n",
    "Where, EV is the ending value, BV is the beginning value, and t is the time in years.\n",
    "\n",
    "To calculate CAGR Rate, we will need the initial investment value, final value, and the time of investment in years. Please write a code that calculates CAGR Rate with the following values:\n",
    "\n",
    "```\n",
    "init_val= 10000\n",
    "end_val= 12000\n",
    "t=5\n",
    "```\n",
    "\n",
    "You must display the output in the following format using `f-string`:\n",
    "\n",
    "`Compound Annual Growth Rate (CAGR) is cagr_rate`"
   ]
  },
  {
   "cell_type": "code",
   "execution_count": null,
   "metadata": {
    "id": "jLro_dOB_Eo8"
   },
   "outputs": [],
   "source": [
    "## answer to the above question\n",
    "init_val= 10000\n",
    "end_val= 12000\n",
    "t=5\n",
    "cagr_rate = ((end_val/init_val)**(1/t)-1)*100\n",
    "print(f'Compound Annual Growth Rate (CAGR) is {cagr_rate}')\n"
   ]
  },
  {
   "cell_type": "markdown",
   "metadata": {},
   "source": [
    "## Problem 22\n",
    "Use `dictionary comprehension` to build the following dictionary:\n",
    "\n",
    "`dict_A = {0:0, 1:1, 2:4, 3:9, 4:16, 5:25, 6:36, 7:49, 8:64, 9:81, 10:100}`"
   ]
  },
  {
   "cell_type": "code",
   "execution_count": null,
   "metadata": {},
   "outputs": [],
   "source": [
    "## answer to the above question\n",
    "dict_A = {a:a**2 for a in range(0,11)}\n",
    "print(f'dict_A = {dict_A}')"
   ]
  },
  {
   "cell_type": "markdown",
   "metadata": {
    "id": "7thzpGCa8rya"
   },
   "source": [
    "## Problem 23\n",
    "\n",
    "The number $e$, also known as *Euler's number*, is an important mathematical constant approximately equal to 2.71828. (https://en.wikipedia.org/wiki/E_(mathematical_constant)). This number can be estimated using the following formula:\n",
    "\n",
    "$$\n",
    "e = \\sum_{n = 0} \\frac{1}{n!} = \\dfrac{1}{0!}+\\dfrac{1}{1!}+\\dfrac{1}{2!}+\\dfrac{1}{3!}+\\cdots\n",
    "$$\n",
    "\n",
    "Use the first 20 terms of this summation to approximate $e$.\n",
    "\n",
    "**Hint:** In order to calculate factorial of a number, you can use `math` module of python's standard library. Simply try\n",
    "\n",
    ">```python\n",
    ">import math\n",
    ">math.factorial(4)\n",
    ">```\n",
    "\n",
    "This will return 24"
   ]
  },
  {
   "cell_type": "code",
   "execution_count": null,
   "metadata": {
    "id": "hbI8DkjA8rya"
   },
   "outputs": [],
   "source": [
    "## answer to the above question\n",
    "import math\n",
    "#math.factorial(4)\n",
    "\n",
    "e = 0\n",
    "for term in range(0,20):\n",
    "    e += 1/math.factorial(term)\n",
    "print(e)\n"
   ]
  },
  {
   "cell_type": "markdown",
   "metadata": {
    "id": "cKDuOTQB8ryN",
    "tags": []
   },
   "source": [
    "## Reminder about Submission guidelines:\n",
    "\n",
    "**`Please display all your output using the print() function`**\n",
    "\n",
    "**Once you are done, remove all the output (`Right click on screen --> Clear All Outputs`), save your file as: `YourFirstName_YourLastName_Week_1_SectionNumber.ipynb`.**\n",
    "\n",
    "**If you submit under any other name/format, your submission will not be graded!**\n",
    "\n",
    "**We have on-line office hours on Monday night over zoom; please feel free to join and ask your questions. You are better off trying all the questions before the office hours**"
   ]
  },
  {
   "cell_type": "code",
   "execution_count": null,
   "metadata": {},
   "outputs": [],
   "source": []
  }
 ],
 "metadata": {
  "colab": {
   "collapsed_sections": [],
   "name": "2022Version.ipynb",
   "provenance": []
  },
  "kernelspec": {
   "display_name": "Python 3 (ipykernel)",
   "language": "python",
   "name": "python3"
  },
  "language_info": {
   "codemirror_mode": {
    "name": "ipython",
    "version": 3
   },
   "file_extension": ".py",
   "mimetype": "text/x-python",
   "name": "python",
   "nbconvert_exporter": "python",
   "pygments_lexer": "ipython3",
   "version": "3.12.4"
  }
 },
 "nbformat": 4,
 "nbformat_minor": 4
}
