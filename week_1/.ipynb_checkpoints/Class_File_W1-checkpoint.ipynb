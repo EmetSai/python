{
 "cells": [
  {
   "cell_type": "markdown",
   "id": "3955bb2c-4ede-4b4f-81aa-bef588c86412",
   "metadata": {},
   "source": [
    "# Week 1\n",
    "## python fundamentals\n",
    "Text: whatever text `highlight`\n",
    "\n",
    "formula: \n",
    "\n",
    "`$` $ y = x^2 $\n",
    "\n",
    "`$$ (put in middle)` $$ y = x^2 $$"
   ]
  },
  {
   "cell_type": "code",
   "execution_count": null,
   "id": "0883bbf0-3e87-44f4-be25-4a36907e668f",
   "metadata": {},
   "outputs": [],
   "source": []
  },
  {
   "cell_type": "markdown",
   "id": "307ca33b-3376-41f2-9b7c-4fff89c86b53",
   "metadata": {},
   "source": [
    "# python text type: `str`"
   ]
  },
  {
   "cell_type": "code",
   "execution_count": 30,
   "id": "229546e6-fc73-4040-a0f1-9cb6d8a380b4",
   "metadata": {},
   "outputs": [],
   "source": [
    "msg = 'BARM'"
   ]
  },
  {
   "cell_type": "code",
   "execution_count": 32,
   "id": "6ada855c-6fb5-4a74-bb72-1c8d619821c6",
   "metadata": {},
   "outputs": [
    {
     "data": {
      "text/plain": [
       "'BARM'"
      ]
     },
     "execution_count": 32,
     "metadata": {},
     "output_type": "execute_result"
    }
   ],
   "source": [
    "msg"
   ]
  },
  {
   "cell_type": "code",
   "execution_count": 34,
   "id": "178b5234-514b-40be-b569-95ac6cd25975",
   "metadata": {},
   "outputs": [
    {
     "name": "stdout",
     "output_type": "stream",
     "text": [
      "BARM\n"
     ]
    }
   ],
   "source": [
    "print(msg)"
   ]
  },
  {
   "cell_type": "code",
   "execution_count": 36,
   "id": "ed165531-cf72-440c-86fd-6a3879f0cda0",
   "metadata": {},
   "outputs": [
    {
     "name": "stdout",
     "output_type": "stream",
     "text": [
      "BARM is the best\n"
     ]
    }
   ],
   "source": [
    "print(msg, 'is the best')"
   ]
  },
  {
   "cell_type": "code",
   "execution_count": 38,
   "id": "df5d190a-b33f-4a56-abc7-9c10f464b3bb",
   "metadata": {},
   "outputs": [
    {
     "name": "stdout",
     "output_type": "stream",
     "text": [
      "BARM is the best 6\n"
     ]
    }
   ],
   "source": [
    "print(msg, 'is the best', 1+5)"
   ]
  },
  {
   "cell_type": "code",
   "execution_count": 40,
   "id": "6f3638da-be58-42e6-8bf9-a26197101468",
   "metadata": {},
   "outputs": [
    {
     "name": "stdout",
     "output_type": "stream",
     "text": [
      "BARM is the best 7 2+5\n"
     ]
    }
   ],
   "source": [
    "print(msg, 'is the best', 2+5, '2+5')"
   ]
  },
  {
   "cell_type": "code",
   "execution_count": 42,
   "id": "d913e8a7-6434-45b7-8e49-1969ca1ef255",
   "metadata": {},
   "outputs": [
    {
     "data": {
      "text/plain": [
       "1417240617936"
      ]
     },
     "execution_count": 42,
     "metadata": {},
     "output_type": "execute_result"
    }
   ],
   "source": [
    "id(msg)"
   ]
  },
  {
   "cell_type": "code",
   "execution_count": 44,
   "id": "050c8864-22aa-4b74-8208-7c5042a0cc26",
   "metadata": {},
   "outputs": [],
   "source": [
    "msg2 = 'is amazing'"
   ]
  },
  {
   "cell_type": "code",
   "execution_count": 46,
   "id": "83cb7d86-8699-4761-864d-aa3a8228ab39",
   "metadata": {},
   "outputs": [
    {
     "data": {
      "text/plain": [
       "1417217127472"
      ]
     },
     "execution_count": 46,
     "metadata": {},
     "output_type": "execute_result"
    }
   ],
   "source": [
    "id(msg2)"
   ]
  },
  {
   "cell_type": "code",
   "execution_count": 50,
   "id": "97d22a2b-5813-4668-b8bd-974a4a7d0f25",
   "metadata": {},
   "outputs": [
    {
     "data": {
      "text/plain": [
       "False"
      ]
     },
     "execution_count": 50,
     "metadata": {},
     "output_type": "execute_result"
    }
   ],
   "source": [
    "id(msg) == id(msg2)"
   ]
  },
  {
   "cell_type": "markdown",
   "id": "430c8458-5176-4cb4-a901-244af48679af",
   "metadata": {},
   "source": [
    "## joining (concatenation) of `str`"
   ]
  },
  {
   "cell_type": "code",
   "execution_count": 55,
   "id": "1fb40b9e-9df8-4eba-96d4-caa2d276f922",
   "metadata": {},
   "outputs": [
    {
     "data": {
      "text/plain": [
       "'BARM'"
      ]
     },
     "execution_count": 55,
     "metadata": {},
     "output_type": "execute_result"
    }
   ],
   "source": [
    "msg"
   ]
  },
  {
   "cell_type": "code",
   "execution_count": 58,
   "id": "0c509b1d-2c23-4a0b-abd8-f19d9c3ecd45",
   "metadata": {},
   "outputs": [
    {
     "data": {
      "text/plain": [
       "'BARMis amazing'"
      ]
     },
     "execution_count": 58,
     "metadata": {},
     "output_type": "execute_result"
    }
   ],
   "source": [
    "msg + msg2"
   ]
  },
  {
   "cell_type": "code",
   "execution_count": 60,
   "id": "1f9032db-24df-46e3-a456-6bf52b32ab3d",
   "metadata": {},
   "outputs": [
    {
     "data": {
      "text/plain": [
       "'BARM is amazing'"
      ]
     },
     "execution_count": 60,
     "metadata": {},
     "output_type": "execute_result"
    }
   ],
   "source": [
    "msg+' '+msg2"
   ]
  },
  {
   "cell_type": "code",
   "execution_count": 72,
   "id": "f6a9fdb7-a806-4421-a4ed-1c6548d0dd14",
   "metadata": {},
   "outputs": [
    {
     "data": {
      "text/plain": [
       "'BARMBARM'"
      ]
     },
     "execution_count": 72,
     "metadata": {},
     "output_type": "execute_result"
    }
   ],
   "source": [
    "#multiply string\n",
    "msg*2"
   ]
  },
  {
   "cell_type": "code",
   "execution_count": 64,
   "id": "11be7356-c356-4055-872f-892254277fc1",
   "metadata": {},
   "outputs": [
    {
     "data": {
      "text/plain": [
       "'BARM BARM '"
      ]
     },
     "execution_count": 64,
     "metadata": {},
     "output_type": "execute_result"
    }
   ],
   "source": [
    "(msg+' ')*2"
   ]
  },
  {
   "cell_type": "code",
   "execution_count": 70,
   "id": "4452a3f8-6a5b-4f2c-88e1-fb93cf0261ab",
   "metadata": {},
   "outputs": [
    {
     "name": "stdout",
     "output_type": "stream",
     "text": [
      "******************************\n",
      "\n",
      "%%%%%%%%%%%%%%%%%%%%%%%%%%%%%%%%%%%%%%%%\n"
     ]
    }
   ],
   "source": [
    "print('*' *30)\n",
    "print()\n",
    "print('%'*40)"
   ]
  },
  {
   "cell_type": "markdown",
   "id": "7820c913-ffed-40b5-9f2d-468ff79859a4",
   "metadata": {},
   "source": [
    "## `f-string` (formatted- string)\n",
    "`f-string` is an amazing way to show the results"
   ]
  },
  {
   "cell_type": "code",
   "execution_count": 82,
   "id": "eed8410f-31d8-4ca1-8397-41d6351908a4",
   "metadata": {},
   "outputs": [
    {
     "name": "stdout",
     "output_type": "stream",
     "text": [
      "this is 1+5\n"
     ]
    }
   ],
   "source": [
    "print(f'this is 1+5')"
   ]
  },
  {
   "cell_type": "code",
   "execution_count": 86,
   "id": "90d329ec-dda0-4f14-ad84-bb58bade7d6d",
   "metadata": {},
   "outputs": [
    {
     "name": "stdout",
     "output_type": "stream",
     "text": [
      "this is 6\n"
     ]
    }
   ],
   "source": [
    "# Using curly bracket: { }\n",
    "print(f'this is {1+5}')"
   ]
  },
  {
   "cell_type": "code",
   "execution_count": 88,
   "id": "430be2b6-2d62-422c-8ece-fde9b76f68ef",
   "metadata": {},
   "outputs": [
    {
     "name": "stdout",
     "output_type": "stream",
     "text": [
      "result of 2+5 is 7\n"
     ]
    }
   ],
   "source": [
    "print(f'result of 2+5 is {2+5}')"
   ]
  },
  {
   "cell_type": "markdown",
   "id": "92b4b90a-4129-4652-afbd-b0a4bfe84830",
   "metadata": {},
   "source": [
    "## a bit more on strings\n",
    "### `str` is a sequence and is iterable. Meaning:\n",
    "#### sequence: it is a bunch of things by each other\n",
    "#### iterable: you can iterate over its element"
   ]
  },
  {
   "cell_type": "code",
   "execution_count": 91,
   "id": "64e921f1-10cb-4100-a880-9c2ab8a04c66",
   "metadata": {},
   "outputs": [
    {
     "data": {
      "text/plain": [
       "'BARM'"
      ]
     },
     "execution_count": 91,
     "metadata": {},
     "output_type": "execute_result"
    }
   ],
   "source": [
    "# sequence\n",
    "# this is about str being a sequence\n",
    "msg"
   ]
  },
  {
   "cell_type": "code",
   "execution_count": null,
   "id": "c92a1cfa-50df-4aa0-a5d1-4c1e5dc93013",
   "metadata": {},
   "outputs": [],
   "source": [
    "# Using square bracket: [ ]\n",
    "# (Used for access)\n",
    "\n",
    "# we can access each element of a `str` using [ ]. \n",
    "# you need to put index of the item inside the [ ].\n",
    "# these indexed (indices) begin with 0"
   ]
  },
  {
   "cell_type": "code",
   "execution_count": 96,
   "id": "ec9e095c-198a-480c-bd99-851b7242b041",
   "metadata": {},
   "outputs": [
    {
     "data": {
      "text/plain": [
       "'B'"
      ]
     },
     "execution_count": 96,
     "metadata": {},
     "output_type": "execute_result"
    }
   ],
   "source": [
    "msg[0]"
   ]
  },
  {
   "cell_type": "code",
   "execution_count": 98,
   "id": "ccafa6d4-ff20-42ec-b349-71faa65bb79b",
   "metadata": {},
   "outputs": [
    {
     "data": {
      "text/plain": [
       "'R'"
      ]
     },
     "execution_count": 98,
     "metadata": {},
     "output_type": "execute_result"
    }
   ],
   "source": [
    "msg[2]"
   ]
  },
  {
   "cell_type": "markdown",
   "id": "3b992b8c-ffa0-4278-aaf9-c3a4a2297440",
   "metadata": {},
   "source": [
    "## index of a `str` goes from `0` to `len(str)-1` OR alternatively, it goes from `-len(str)` to `-1`"
   ]
  },
  {
   "cell_type": "code",
   "execution_count": 102,
   "id": "e205d594-ce89-416f-a25e-e3d480e00b20",
   "metadata": {},
   "outputs": [
    {
     "data": {
      "text/plain": [
       "4"
      ]
     },
     "execution_count": 102,
     "metadata": {},
     "output_type": "execute_result"
    }
   ],
   "source": [
    "len(msg)"
   ]
  },
  {
   "cell_type": "code",
   "execution_count": 105,
   "id": "ed364735-1511-4ef5-969c-b539a3a598e2",
   "metadata": {},
   "outputs": [
    {
     "data": {
      "text/plain": [
       "'is amazing'"
      ]
     },
     "execution_count": 105,
     "metadata": {},
     "output_type": "execute_result"
    }
   ],
   "source": [
    "msg2"
   ]
  },
  {
   "cell_type": "code",
   "execution_count": 107,
   "id": "fc489a37-ef38-4e74-a555-ef09ef703125",
   "metadata": {},
   "outputs": [
    {
     "data": {
      "text/plain": [
       "10"
      ]
     },
     "execution_count": 107,
     "metadata": {},
     "output_type": "execute_result"
    }
   ],
   "source": [
    "len(msg2)"
   ]
  },
  {
   "cell_type": "code",
   "execution_count": 109,
   "id": "32bba682-d948-45ad-a099-f9fbbea79236",
   "metadata": {},
   "outputs": [
    {
     "data": {
      "text/plain": [
       "'B'"
      ]
     },
     "execution_count": 109,
     "metadata": {},
     "output_type": "execute_result"
    }
   ],
   "source": [
    "msg[0]"
   ]
  },
  {
   "cell_type": "code",
   "execution_count": 113,
   "id": "84caacee-d998-4b1f-a2e4-642f9a9c602f",
   "metadata": {},
   "outputs": [
    {
     "data": {
      "text/plain": [
       "'M'"
      ]
     },
     "execution_count": 113,
     "metadata": {},
     "output_type": "execute_result"
    }
   ],
   "source": [
    "# the last letter\n",
    "msg[len(msg)-1]"
   ]
  },
  {
   "cell_type": "code",
   "execution_count": 117,
   "id": "8077895c-b2b8-46fb-87a6-5fc038ac3a62",
   "metadata": {},
   "outputs": [
    {
     "data": {
      "text/plain": [
       "'M'"
      ]
     },
     "execution_count": 117,
     "metadata": {},
     "output_type": "execute_result"
    }
   ],
   "source": [
    "msg[-1]"
   ]
  },
  {
   "cell_type": "code",
   "execution_count": 119,
   "id": "2ea43f9a-eafb-49d4-b171-42f0932ae41e",
   "metadata": {},
   "outputs": [
    {
     "data": {
      "text/plain": [
       "'R'"
      ]
     },
     "execution_count": 119,
     "metadata": {},
     "output_type": "execute_result"
    }
   ],
   "source": [
    "msg[-2]"
   ]
  },
  {
   "cell_type": "code",
   "execution_count": 121,
   "id": "d49e2ab8-9b1d-4652-891e-8dd667636518",
   "metadata": {},
   "outputs": [
    {
     "data": {
      "text/plain": [
       "'B'"
      ]
     },
     "execution_count": 121,
     "metadata": {},
     "output_type": "execute_result"
    }
   ],
   "source": [
    "msg[-4]"
   ]
  },
  {
   "cell_type": "markdown",
   "id": "0c992bb9-4582-4214-a141-41455204ebf7",
   "metadata": {},
   "source": [
    "## Slicing: accessing a part of a str"
   ]
  },
  {
   "cell_type": "code",
   "execution_count": 125,
   "id": "023f1f5d-bacd-479a-bce4-ddb5819d7501",
   "metadata": {},
   "outputs": [],
   "source": [
    "msg = 'BARM students are great!'"
   ]
  },
  {
   "cell_type": "code",
   "execution_count": 129,
   "id": "a2d17bc9-2b26-44bb-aae0-256c509c49a6",
   "metadata": {},
   "outputs": [
    {
     "data": {
      "text/plain": [
       "24"
      ]
     },
     "execution_count": 129,
     "metadata": {},
     "output_type": "execute_result"
    }
   ],
   "source": [
    "len(msg)"
   ]
  },
  {
   "cell_type": "code",
   "execution_count": 133,
   "id": "dfa15fa5-a594-49d0-a6a0-b97e00b2ef34",
   "metadata": {},
   "outputs": [
    {
     "data": {
      "text/plain": [
       "'BARM students are great'"
      ]
     },
     "execution_count": 133,
     "metadata": {},
     "output_type": "execute_result"
    }
   ],
   "source": [
    "# the second is exclusive\n",
    "msg[0:23]"
   ]
  },
  {
   "cell_type": "code",
   "execution_count": 135,
   "id": "47ec5bda-d87f-40c7-ba4f-a435431697b9",
   "metadata": {},
   "outputs": [
    {
     "data": {
      "text/plain": [
       "'BARM'"
      ]
     },
     "execution_count": 135,
     "metadata": {},
     "output_type": "execute_result"
    }
   ],
   "source": [
    "msg[0:4]"
   ]
  },
  {
   "cell_type": "code",
   "execution_count": 139,
   "id": "56643527-1f6c-4792-9877-3a13b0924f2d",
   "metadata": {},
   "outputs": [
    {
     "data": {
      "text/plain": [
       "'BARM'"
      ]
     },
     "execution_count": 139,
     "metadata": {},
     "output_type": "execute_result"
    }
   ],
   "source": [
    "# Ignore '0', goes from the first one\n",
    "msg[:4]"
   ]
  },
  {
   "cell_type": "code",
   "execution_count": 141,
   "id": "94e545c6-d6bc-4689-bb7f-365828c1a4cf",
   "metadata": {},
   "outputs": [
    {
     "data": {
      "text/plain": [
       "'BARM students are great'"
      ]
     },
     "execution_count": 141,
     "metadata": {},
     "output_type": "execute_result"
    }
   ],
   "source": [
    "msg[0:23]"
   ]
  },
  {
   "cell_type": "code",
   "execution_count": 143,
   "id": "301e75fc-5468-4578-810e-088e21716bfd",
   "metadata": {},
   "outputs": [
    {
     "data": {
      "text/plain": [
       "'BARM students are great!'"
      ]
     },
     "execution_count": 143,
     "metadata": {},
     "output_type": "execute_result"
    }
   ],
   "source": [
    "msg[0:24]"
   ]
  },
  {
   "cell_type": "code",
   "execution_count": 147,
   "id": "0eb5e551-410a-49f3-9d87-088b299a5314",
   "metadata": {},
   "outputs": [
    {
     "data": {
      "text/plain": [
       "'students are great!'"
      ]
     },
     "execution_count": 147,
     "metadata": {},
     "output_type": "execute_result"
    }
   ],
   "source": [
    "msg[5:24]"
   ]
  },
  {
   "cell_type": "code",
   "execution_count": 152,
   "id": "ae207ce4-cc97-48dd-83e9-db42c3fcc256",
   "metadata": {},
   "outputs": [
    {
     "data": {
      "text/plain": [
       "'students are great!'"
      ]
     },
     "execution_count": 152,
     "metadata": {},
     "output_type": "execute_result"
    }
   ],
   "source": [
    "msg[5:]"
   ]
  },
  {
   "cell_type": "code",
   "execution_count": 154,
   "id": "20e94495-173e-4b94-95e6-12bedf84e85f",
   "metadata": {},
   "outputs": [
    {
     "data": {
      "text/plain": [
       "'BARM students are great!'"
      ]
     },
     "execution_count": 154,
     "metadata": {},
     "output_type": "execute_result"
    }
   ],
   "source": [
    "msg[:]"
   ]
  },
  {
   "cell_type": "code",
   "execution_count": 156,
   "id": "f30f0dc1-f081-421f-a605-a8dec3da3943",
   "metadata": {},
   "outputs": [
    {
     "data": {
      "text/plain": [
       "'BARM students are great!'"
      ]
     },
     "execution_count": 156,
     "metadata": {},
     "output_type": "execute_result"
    }
   ],
   "source": [
    "msg"
   ]
  },
  {
   "cell_type": "code",
   "execution_count": 160,
   "id": "23bc4c5d-defe-45b8-b865-dfa972f39328",
   "metadata": {},
   "outputs": [
    {
     "data": {
      "text/plain": [
       "'BR tdnsaeget'"
      ]
     },
     "execution_count": 160,
     "metadata": {},
     "output_type": "execute_result"
    }
   ],
   "source": [
    "# do every two step\n",
    "msg[0:24:2]"
   ]
  },
  {
   "cell_type": "code",
   "execution_count": 164,
   "id": "cd20a90e-4762-49b6-8414-851aefb61ecd",
   "metadata": {},
   "outputs": [
    {
     "data": {
      "text/plain": [
       "'!taerg era stneduts MRAB'"
      ]
     },
     "execution_count": 164,
     "metadata": {},
     "output_type": "execute_result"
    }
   ],
   "source": [
    "# do backward\n",
    "msg[::-1]"
   ]
  },
  {
   "cell_type": "markdown",
   "id": "623a4569-6fe4-4793-a25c-80808da3d0da",
   "metadata": {},
   "source": [
    "## numerical types in python: `int`, `float`"
   ]
  },
  {
   "cell_type": "code",
   "execution_count": 213,
   "id": "ed2ccd39-4c43-47a8-b01b-fca391b6feba",
   "metadata": {},
   "outputs": [],
   "source": [
    "x = 10\n",
    "y = 3"
   ]
  },
  {
   "cell_type": "code",
   "execution_count": 195,
   "id": "19de4b58-c974-46ed-a538-87f90831a7c0",
   "metadata": {},
   "outputs": [
    {
     "data": {
      "text/plain": [
       "10"
      ]
     },
     "execution_count": 195,
     "metadata": {},
     "output_type": "execute_result"
    }
   ],
   "source": [
    "x"
   ]
  },
  {
   "cell_type": "code",
   "execution_count": 197,
   "id": "29971004-cf8e-44aa-9de1-418eb8a19555",
   "metadata": {},
   "outputs": [
    {
     "data": {
      "text/plain": [
       "3"
      ]
     },
     "execution_count": 197,
     "metadata": {},
     "output_type": "execute_result"
    }
   ],
   "source": [
    "y"
   ]
  },
  {
   "cell_type": "code",
   "execution_count": 199,
   "id": "50b835c9-3d09-45c2-839b-10d3f3b25543",
   "metadata": {},
   "outputs": [
    {
     "data": {
      "text/plain": [
       "str"
      ]
     },
     "execution_count": 199,
     "metadata": {},
     "output_type": "execute_result"
    }
   ],
   "source": [
    "type(msg)"
   ]
  },
  {
   "cell_type": "code",
   "execution_count": 201,
   "id": "764f0fce-2f82-4712-966c-5695311c1a23",
   "metadata": {},
   "outputs": [
    {
     "data": {
      "text/plain": [
       "int"
      ]
     },
     "execution_count": 201,
     "metadata": {},
     "output_type": "execute_result"
    }
   ],
   "source": [
    "type(x)"
   ]
  },
  {
   "cell_type": "markdown",
   "id": "4f3e8dc1-a670-46b1-951e-3801e1320c08",
   "metadata": {},
   "source": [
    "# add y to x and store it in x"
   ]
  },
  {
   "cell_type": "code",
   "execution_count": 217,
   "id": "1b4f1943-a88c-485e-8b1e-2a8cc45d1ac9",
   "metadata": {},
   "outputs": [],
   "source": [
    "x += y  # augmented operator"
   ]
  },
  {
   "cell_type": "code",
   "execution_count": 219,
   "id": "54c167d4-1672-49f2-8cbb-5248bae3b2d5",
   "metadata": {},
   "outputs": [
    {
     "data": {
      "text/plain": [
       "13"
      ]
     },
     "execution_count": 219,
     "metadata": {},
     "output_type": "execute_result"
    }
   ],
   "source": [
    "x"
   ]
  },
  {
   "cell_type": "code",
   "execution_count": 221,
   "id": "c32011d0-061f-4392-88cf-b3187473a061",
   "metadata": {},
   "outputs": [
    {
     "data": {
      "text/plain": [
       "33"
      ]
     },
     "execution_count": 221,
     "metadata": {},
     "output_type": "execute_result"
    }
   ],
   "source": [
    "x+=20\n",
    "x"
   ]
  },
  {
   "cell_type": "code",
   "execution_count": 223,
   "id": "463d46a5-fe2d-46c9-88b3-5c170f32fde9",
   "metadata": {},
   "outputs": [],
   "source": [
    "y-=5"
   ]
  },
  {
   "cell_type": "code",
   "execution_count": 225,
   "id": "d1d0b59f-739d-4866-ae29-0f4e2a4c1695",
   "metadata": {},
   "outputs": [
    {
     "data": {
      "text/plain": [
       "-2"
      ]
     },
     "execution_count": 225,
     "metadata": {},
     "output_type": "execute_result"
    }
   ],
   "source": [
    "y"
   ]
  },
  {
   "cell_type": "markdown",
   "id": "e8ece7c3-8a8b-41d4-a233-51819827f364",
   "metadata": {},
   "source": [
    "#### see difference"
   ]
  },
  {
   "cell_type": "code",
   "execution_count": 242,
   "id": "a94b9f08-e847-4a8d-b107-e89cfe2d1750",
   "metadata": {},
   "outputs": [
    {
     "data": {
      "text/plain": [
       "140718908062136"
      ]
     },
     "execution_count": 242,
     "metadata": {},
     "output_type": "execute_result"
    }
   ],
   "source": [
    "x=1\n",
    "id(x)"
   ]
  },
  {
   "cell_type": "code",
   "execution_count": null,
   "id": "54d9f466-34b5-47fe-b13b-ea613eb10080",
   "metadata": {},
   "outputs": [],
   "source": []
  },
  {
   "cell_type": "code",
   "execution_count": null,
   "id": "9eb9bf34-22ad-408d-8193-55c98f603cd6",
   "metadata": {},
   "outputs": [],
   "source": []
  },
  {
   "cell_type": "code",
   "execution_count": 258,
   "id": "1c9e7357-1a55-4d41-88cb-0a29b3ff72e1",
   "metadata": {},
   "outputs": [
    {
     "data": {
      "text/plain": [
       "float"
      ]
     },
     "execution_count": 258,
     "metadata": {},
     "output_type": "execute_result"
    }
   ],
   "source": [
    "x = 3.1415\n",
    "type(x)"
   ]
  },
  {
   "cell_type": "markdown",
   "id": "acff45fc-8e28-4b65-b3a0-009de088acbe",
   "metadata": {},
   "source": [
    "## repetition in python using for loop"
   ]
  },
  {
   "cell_type": "code",
   "execution_count": 261,
   "id": "595a9825-a680-4c3e-b8d2-a8cf1b98f053",
   "metadata": {},
   "outputs": [
    {
     "data": {
      "text/plain": [
       "'BARM students are great!'"
      ]
     },
     "execution_count": 261,
     "metadata": {},
     "output_type": "execute_result"
    }
   ],
   "source": [
    "msg"
   ]
  },
  {
   "cell_type": "code",
   "execution_count": 263,
   "id": "66f283e5-4b0d-4e97-9e82-e0a58be15874",
   "metadata": {},
   "outputs": [
    {
     "name": "stdout",
     "output_type": "stream",
     "text": [
      "B\n",
      "A\n",
      "R\n",
      "M\n",
      " \n",
      "s\n",
      "t\n",
      "u\n",
      "d\n",
      "e\n",
      "n\n",
      "t\n",
      "s\n",
      " \n",
      "a\n",
      "r\n",
      "e\n",
      " \n",
      "g\n",
      "r\n",
      "e\n",
      "a\n",
      "t\n",
      "!\n"
     ]
    }
   ],
   "source": [
    "# str is iterable\n",
    "\n",
    "for item in msg:\n",
    "    print(item)"
   ]
  },
  {
   "cell_type": "code",
   "execution_count": 265,
   "id": "bde4c9f1-0c66-4f03-9bc9-5eef695189f9",
   "metadata": {},
   "outputs": [
    {
     "name": "stdout",
     "output_type": "stream",
     "text": [
      "BB\n",
      "AA\n",
      "RR\n",
      "MM\n",
      "  \n",
      "ss\n",
      "tt\n",
      "uu\n",
      "dd\n",
      "ee\n",
      "nn\n",
      "tt\n",
      "ss\n",
      "  \n",
      "aa\n",
      "rr\n",
      "ee\n",
      "  \n",
      "gg\n",
      "rr\n",
      "ee\n",
      "aa\n",
      "tt\n",
      "!!\n"
     ]
    }
   ],
   "source": [
    "for char in msg:\n",
    "    print(char*2)"
   ]
  },
  {
   "cell_type": "code",
   "execution_count": 267,
   "id": "0dcbdf95-3d08-41ff-9080-1faae911d67a",
   "metadata": {},
   "outputs": [
    {
     "name": "stdout",
     "output_type": "stream",
     "text": [
      "BBB\n",
      "AAA\n",
      "RRR\n",
      "MMM\n",
      "   \n",
      "sss\n",
      "ttt\n",
      "uuu\n",
      "ddd\n",
      "eee\n",
      "nnn\n",
      "ttt\n",
      "sss\n",
      "   \n",
      "aaa\n",
      "rrr\n",
      "eee\n",
      "   \n",
      "ggg\n",
      "rrr\n",
      "eee\n",
      "aaa\n",
      "ttt\n",
      "!!!\n"
     ]
    }
   ],
   "source": [
    "for jkjk in msg:\n",
    "    print(jkjk*3)"
   ]
  },
  {
   "cell_type": "code",
   "execution_count": 271,
   "id": "f2dcc471-80d1-4c74-b114-8d3bf5987f79",
   "metadata": {},
   "outputs": [],
   "source": [
    "# item/char/jkjk, doesn't matter, it's a counter"
   ]
  },
  {
   "cell_type": "code",
   "execution_count": null,
   "id": "5169e44c-379f-4429-8341-3965fb33d8a5",
   "metadata": {},
   "outputs": [],
   "source": []
  },
  {
   "cell_type": "code",
   "execution_count": null,
   "id": "8ecec369-d458-4906-ab12-262b5108f3d3",
   "metadata": {},
   "outputs": [],
   "source": []
  },
  {
   "cell_type": "markdown",
   "id": "bd14d568-b823-408d-b8e7-ae2ea28612a6",
   "metadata": {},
   "source": [
    "# add condition using `if`"
   ]
  },
  {
   "cell_type": "code",
   "execution_count": 274,
   "id": "8e909f94-baef-4249-b0f5-6f906ef4aa2f",
   "metadata": {},
   "outputs": [
    {
     "name": "stdout",
     "output_type": "stream",
     "text": [
      "continue\n",
      "continue\n",
      "continue\n",
      "continue\n",
      "please let us go\n",
      "continue\n",
      "continue\n",
      "continue\n",
      "continue\n",
      "continue\n",
      "continue\n",
      "continue\n",
      "continue\n",
      "please let us go\n",
      "continue\n",
      "continue\n",
      "continue\n",
      "please let us go\n",
      "continue\n",
      "continue\n",
      "continue\n",
      "continue\n",
      "continue\n",
      "continue\n"
     ]
    }
   ],
   "source": [
    "for char in msg:\n",
    "    if char == ' ':\n",
    "        print('please let us go')\n",
    "    else:\n",
    "        print('continue')"
   ]
  },
  {
   "cell_type": "code",
   "execution_count": 282,
   "id": "90429668-efc9-470c-a9e2-b42524ba7f61",
   "metadata": {},
   "outputs": [
    {
     "name": "stdout",
     "output_type": "stream",
     "text": [
      "char is B: continue until 6\n",
      "char is A: continue until 6\n",
      "char is R: continue until 6\n",
      "char is M: continue until 6\n",
      "char is  : let us gooooo\n",
      "char is s: continue until 6\n",
      "char is t: continue until 6\n",
      "char is u: continue until 6\n",
      "char is d: continue until 6\n",
      "char is e: continue until 6\n",
      "char is n: continue until 6\n",
      "char is t: continue until 6\n",
      "char is s: continue until 6\n",
      "char is  : let us gooooo\n",
      "char is a: continue until 6\n",
      "char is r: continue until 6\n",
      "char is e: continue until 6\n",
      "char is  : let us gooooo\n",
      "char is g: continue until 6\n",
      "char is r: continue until 6\n",
      "char is e: continue until 6\n",
      "char is a: continue until 6\n",
      "char is t: continue until 6\n",
      "char is !: continue until 6\n"
     ]
    }
   ],
   "source": [
    "for char in msg:\n",
    "    if char == ' ':\n",
    "        print(f'char is {char}: let us gooooo')\n",
    "    else:\n",
    "        print(f'char is {char}: continue until 6')"
   ]
  },
  {
   "cell_type": "code",
   "execution_count": null,
   "id": "8a41f490-5496-41e8-a3da-9226e9aca8d7",
   "metadata": {},
   "outputs": [],
   "source": []
  }
 ],
 "metadata": {
  "kernelspec": {
   "display_name": "Python 3 (ipykernel)",
   "language": "python",
   "name": "python3"
  },
  "language_info": {
   "codemirror_mode": {
    "name": "ipython",
    "version": 3
   },
   "file_extension": ".py",
   "mimetype": "text/x-python",
   "name": "python",
   "nbconvert_exporter": "python",
   "pygments_lexer": "ipython3",
   "version": "3.12.4"
  }
 },
 "nbformat": 4,
 "nbformat_minor": 5
}
