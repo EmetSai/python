{
 "cells": [
  {
   "cell_type": "markdown",
   "id": "a1eefbb9-afcc-48fc-a938-d8a6974b2982",
   "metadata": {},
   "source": [
    "# X1_w2_Class_file"
   ]
  },
  {
   "cell_type": "markdown",
   "id": "75b9d17c-7687-4e1e-a218-9fe6e7de5d4d",
   "metadata": {},
   "source": [
    "### dont name variables `len`, `type`, `print`, `int`, `float`, `id`"
   ]
  },
  {
   "cell_type": "code",
   "execution_count": 12,
   "id": "962008e9-fb61-43af-b77c-b0fbddb96239",
   "metadata": {},
   "outputs": [
    {
     "data": {
      "text/plain": [
       "float"
      ]
     },
     "execution_count": 12,
     "metadata": {},
     "output_type": "execute_result"
    }
   ],
   "source": [
    "#type=10\n",
    "pi=3.1415\n",
    "type(pi)"
   ]
  },
  {
   "cell_type": "code",
   "execution_count": 14,
   "id": "3279bb2d-3db6-466e-a1da-f228dbf01e93",
   "metadata": {},
   "outputs": [
    {
     "name": "stdout",
     "output_type": "stream",
     "text": [
      "3.1415\n"
     ]
    }
   ],
   "source": [
    "print_2='test'\n",
    "print(pi)\n",
    "typr_2=10"
   ]
  },
  {
   "cell_type": "code",
   "execution_count": null,
   "id": "73b57328-4307-4aa8-8002-16f3806a38e6",
   "metadata": {},
   "outputs": [],
   "source": [
    "#see variables in memory\n",
    "%whos"
   ]
  },
  {
   "cell_type": "code",
   "execution_count": null,
   "id": "5cbb8eb8-d3de-4352-a04e-12c6b7181ea8",
   "metadata": {},
   "outputs": [],
   "source": [
    "# use del to delete variables in memory\n",
    "del type\n",
    "del print\n"
   ]
  },
  {
   "cell_type": "code",
   "execution_count": null,
   "id": "03ca5de4-6610-4396-8382-9c860c76b8fa",
   "metadata": {},
   "outputs": [],
   "source": [
    "%whos"
   ]
  },
  {
   "cell_type": "code",
   "execution_count": 16,
   "id": "a6a53f1f-18ad-4a90-82a4-a294bf0b604c",
   "metadata": {},
   "outputs": [],
   "source": [
    "x=0.27237"
   ]
  },
  {
   "cell_type": "code",
   "execution_count": 20,
   "id": "d71836d4-0666-4ef0-aa4d-f333b6a1f735",
   "metadata": {},
   "outputs": [
    {
     "name": "stdout",
     "output_type": "stream",
     "text": [
      "3.1415\n",
      "value of pi is 3.1415\n"
     ]
    }
   ],
   "source": [
    "print(f'{pi}')\n",
    "print(f'value of pi is {pi}')"
   ]
  },
  {
   "cell_type": "markdown",
   "id": "35e18f83-8d43-4072-b8ce-f9a8103514c3",
   "metadata": {},
   "source": [
    "####  pi:.2`f` means `float`\n"
   ]
  },
  {
   "cell_type": "code",
   "execution_count": 31,
   "id": "e32f347f-7ffb-4ee4-9fa7-89d5903cc4ce",
   "metadata": {},
   "outputs": [
    {
     "name": "stdout",
     "output_type": "stream",
     "text": [
      "value of pi is 3.14\n"
     ]
    }
   ],
   "source": [
    "print(f'value of pi is {pi:.2f}')"
   ]
  },
  {
   "cell_type": "code",
   "execution_count": 35,
   "id": "4dac4fe7-ec9b-46ee-87b1-9dcbcb89c47e",
   "metadata": {},
   "outputs": [
    {
     "data": {
      "text/plain": [
       "0.27237"
      ]
     },
     "execution_count": 35,
     "metadata": {},
     "output_type": "execute_result"
    }
   ],
   "source": [
    "x"
   ]
  },
  {
   "cell_type": "markdown",
   "id": "3919a41c-8344-4739-a878-7a8c4fcef088",
   "metadata": {},
   "source": [
    "### showing `percentage`"
   ]
  },
  {
   "cell_type": "code",
   "execution_count": 37,
   "id": "dd9df712-e110-495c-a79e-0ae1e4f9fdfa",
   "metadata": {},
   "outputs": [
    {
     "name": "stdout",
     "output_type": "stream",
     "text": [
      "value of x is 27.24%\n"
     ]
    }
   ],
   "source": [
    "print(f'value of x is {x:.2%}')"
   ]
  },
  {
   "cell_type": "code",
   "execution_count": 44,
   "id": "61b5b438-b20b-4d3a-a2b4-22fd89a55475",
   "metadata": {},
   "outputs": [
    {
     "data": {
      "text/plain": [
       "range(4, 11, 2)"
      ]
     },
     "execution_count": 44,
     "metadata": {},
     "output_type": "execute_result"
    }
   ],
   "source": [
    "#print even numbers between 4 and 11\n",
    "range(4,11,2)\n"
   ]
  },
  {
   "cell_type": "code",
   "execution_count": 54,
   "id": "1b0c4948-50be-40ac-aab3-5a954bfa4285",
   "metadata": {},
   "outputs": [
    {
     "data": {
      "text/plain": [
       "[4, 6, 8, 10]"
      ]
     },
     "execution_count": 54,
     "metadata": {},
     "output_type": "execute_result"
    }
   ],
   "source": [
    "# method1\n",
    "list(range(4,11,2))"
   ]
  },
  {
   "cell_type": "code",
   "execution_count": 48,
   "id": "068e8cf6-435b-40b3-8dde-90ed7cec8f74",
   "metadata": {},
   "outputs": [
    {
     "name": "stdout",
     "output_type": "stream",
     "text": [
      "4\n",
      "6\n",
      "8\n",
      "10\n"
     ]
    }
   ],
   "source": [
    "# method 2\n",
    "for i in range(4,11,2):\n",
    "    print(i)"
   ]
  },
  {
   "cell_type": "code",
   "execution_count": 50,
   "id": "9567ea66-24a8-42e0-9417-ae377b2acc51",
   "metadata": {},
   "outputs": [
    {
     "name": "stdout",
     "output_type": "stream",
     "text": [
      "4\n",
      "6\n",
      "8\n",
      "10\n"
     ]
    }
   ],
   "source": [
    "# method 3\n",
    "for ii in range(4,11):\n",
    "    if ii%2 == 0:\n",
    "        print(ii)"
   ]
  },
  {
   "cell_type": "markdown",
   "id": "6fd24151-bf23-4d0c-8594-ee0f85f447e4",
   "metadata": {},
   "source": [
    "#### `standard library`"
   ]
  },
  {
   "cell_type": "markdown",
   "id": "970ed00e-1dec-4fff-a090-b22aa9dea3ea",
   "metadata": {},
   "source": [
    "### python `stardard library` is a set of capbuilities you can import and use\n",
    "### using `TAB` to extend functions"
   ]
  },
  {
   "cell_type": "code",
   "execution_count": 61,
   "id": "68bc4f06-5a9c-4e3a-8376-a66a61036cf4",
   "metadata": {},
   "outputs": [
    {
     "data": {
      "text/plain": [
       "120"
      ]
     },
     "execution_count": 61,
     "metadata": {},
     "output_type": "execute_result"
    }
   ],
   "source": [
    "import math\n",
    "math.factorial(5)"
   ]
  },
  {
   "cell_type": "code",
   "execution_count": 63,
   "id": "8ddee58e-a225-4556-ad8b-f3b099881cbb",
   "metadata": {},
   "outputs": [
    {
     "data": {
      "text/plain": [
       "2.718281828459045"
      ]
     },
     "execution_count": 63,
     "metadata": {},
     "output_type": "execute_result"
    }
   ],
   "source": [
    "math.e"
   ]
  },
  {
   "cell_type": "code",
   "execution_count": 67,
   "id": "7d6d054c-97ad-41c8-a735-02db4deae443",
   "metadata": {},
   "outputs": [
    {
     "name": "stdout",
     "output_type": "stream",
     "text": [
      "2.718\n"
     ]
    }
   ],
   "source": [
    "print(f'{math.e:.3f}')"
   ]
  },
  {
   "cell_type": "code",
   "execution_count": 52,
   "id": "2cc152a5-0262-43cc-82d7-05b5aad9d4b9",
   "metadata": {},
   "outputs": [],
   "source": [
    "import random"
   ]
  },
  {
   "cell_type": "code",
   "execution_count": 54,
   "id": "366e57f6-2cb8-4c13-9665-2cb7eac53375",
   "metadata": {},
   "outputs": [
    {
     "data": {
      "text/plain": [
       "0.197588486383789"
      ]
     },
     "execution_count": 54,
     "metadata": {},
     "output_type": "execute_result"
    }
   ],
   "source": [
    "random.random()"
   ]
  },
  {
   "cell_type": "code",
   "execution_count": 56,
   "id": "c0189647-bb74-44d0-acaf-d114f6fe60e7",
   "metadata": {},
   "outputs": [
    {
     "name": "stdout",
     "output_type": "stream",
     "text": [
      "0.5694827243060456\n",
      "0.546690002605042\n",
      "0.1558224228782603\n",
      "0.03349476397872653\n",
      "0.1351808359982527\n",
      "0.033048655926306125\n"
     ]
    }
   ],
   "source": [
    "# generate 6 random numbers\n",
    "for _ in range(6):\n",
    "    print(random.random())"
   ]
  },
  {
   "cell_type": "markdown",
   "id": "962eefd6-800b-4285-b693-38805d6b355f",
   "metadata": {},
   "source": [
    "# collection data types\n",
    "## `list` : `list` is a collection of items inside `[]` seperated by a comma `,`.\n",
    "## It is  indexed and iterable"
   ]
  },
  {
   "cell_type": "code",
   "execution_count": 91,
   "id": "31372580-d810-46e2-af3c-19a85140d5f7",
   "metadata": {},
   "outputs": [],
   "source": [
    "list_1 = [2,3]"
   ]
  },
  {
   "cell_type": "code",
   "execution_count": 93,
   "id": "2cbb6050-c049-44d7-a378-8dc4e41e4f6b",
   "metadata": {},
   "outputs": [
    {
     "name": "stdout",
     "output_type": "stream",
     "text": [
      "Variable               Type        Data/Info\n",
      "--------------------------------------------\n",
      "dataframe_columns      function    <function dataframe_colum<...>ns at 0x0000028FF997DEE0>\n",
      "dataframe_hash         function    <function dataframe_hash at 0x0000028FF997F240>\n",
      "dtypes_str             function    <function dtypes_str at 0x0000028FF997F740>\n",
      "get_dataframes         function    <function get_dataframes at 0x0000028FF997E340>\n",
      "getpass                module      <module 'getpass' from 'D<...>aconda\\\\Lib\\\\getpass.py'>\n",
      "hashlib                module      <module 'hashlib' from 'D<...>aconda\\\\Lib\\\\hashlib.py'>\n",
      "i                      int         10\n",
      "ii                     int         10\n",
      "import_pandas_safely   function    <function import_pandas_s<...>ly at 0x0000028FF9125080>\n",
      "is_data_frame          function    <function is_data_frame at 0x0000028FF997EFC0>\n",
      "json                   module      <module 'json' from 'D:\\\\<...>\\Lib\\\\json\\\\__init__.py'>\n",
      "list_1                 list        n=2\n",
      "math                   module      <module 'math' (built-in)>\n",
      "pi                     float       3.1415\n",
      "print_2                str         test\n",
      "random                 module      <module 'random' from 'D:<...>naconda\\\\Lib\\\\random.py'>\n",
      "typr_2                 int         10\n",
      "x                      float       0.27237\n"
     ]
    }
   ],
   "source": [
    "%whos"
   ]
  },
  {
   "cell_type": "code",
   "execution_count": 17,
   "id": "2a27ddaa-005a-4dd6-a8cf-71c7946ca863",
   "metadata": {},
   "outputs": [],
   "source": [
    "temp = [10, 'Cassie', 'mandy', 3.14]"
   ]
  },
  {
   "cell_type": "code",
   "execution_count": 19,
   "id": "da9a6286-dbd0-43fc-8be5-75a4a2f647af",
   "metadata": {},
   "outputs": [
    {
     "data": {
      "text/plain": [
       "list"
      ]
     },
     "execution_count": 19,
     "metadata": {},
     "output_type": "execute_result"
    }
   ],
   "source": [
    "type(temp)"
   ]
  },
  {
   "cell_type": "code",
   "execution_count": 101,
   "id": "48a056ab-b14a-46d8-940b-11df0df9e5ea",
   "metadata": {},
   "outputs": [
    {
     "data": {
      "text/plain": [
       "10"
      ]
     },
     "execution_count": 101,
     "metadata": {},
     "output_type": "execute_result"
    }
   ],
   "source": [
    "temp[0]"
   ]
  },
  {
   "cell_type": "code",
   "execution_count": 103,
   "id": "2717ba0e-77cb-4a20-9ae0-8c34e5223329",
   "metadata": {},
   "outputs": [
    {
     "data": {
      "text/plain": [
       "3.14"
      ]
     },
     "execution_count": 103,
     "metadata": {},
     "output_type": "execute_result"
    }
   ],
   "source": [
    "temp[-1]"
   ]
  },
  {
   "cell_type": "code",
   "execution_count": 105,
   "id": "524ae9e4-687d-4997-853b-0fa238186ced",
   "metadata": {},
   "outputs": [
    {
     "data": {
      "text/plain": [
       "[10, 'Cassie', 'mandy']"
      ]
     },
     "execution_count": 105,
     "metadata": {},
     "output_type": "execute_result"
    }
   ],
   "source": [
    "temp[0:3]"
   ]
  },
  {
   "cell_type": "code",
   "execution_count": 5,
   "id": "f831bb68-9b4b-43ed-9ee5-091be7ac4787",
   "metadata": {},
   "outputs": [],
   "source": [
    "temp2 = [2, 9, 8, 6, 7]"
   ]
  },
  {
   "cell_type": "code",
   "execution_count": 11,
   "id": "6f97b735-46e5-4844-9518-1308fc08c6aa",
   "metadata": {},
   "outputs": [
    {
     "data": {
      "image/png": "[encoded data removed]",
      "text/plain": [
       "<Figure size 640x480 with 1 Axes>"
      ]
     },
     "metadata": {},
     "output_type": "display_data"
    }
   ],
   "source": [
    "import matplotlib.pyplot as plt\n",
    "plt.plot(temp2);"
   ]
  },
  {
   "cell_type": "code",
   "execution_count": null,
   "id": "c3982bd8-1201-4746-becc-68838673e600",
   "metadata": {},
   "outputs": [],
   "source": [
    "!pip install matplotlib"
   ]
  },
  {
   "cell_type": "code",
   "execution_count": 21,
   "id": "ca2d14ad-290c-4a7e-b78b-8981124bfb41",
   "metadata": {},
   "outputs": [
    {
     "data": {
      "text/plain": [
       "[10, 'Cassie', 'mandy', 3.14]"
      ]
     },
     "execution_count": 21,
     "metadata": {},
     "output_type": "execute_result"
    }
   ],
   "source": [
    "temp"
   ]
  },
  {
   "cell_type": "markdown",
   "id": "eb9bb3e6-9d79-4c21-9fca-98f187317b87",
   "metadata": {},
   "source": [
    "### list is mutable (you can change its members after its creation)"
   ]
  },
  {
   "cell_type": "code",
   "execution_count": 31,
   "id": "0c870ae8-5072-47bc-a83a-30e2836074b0",
   "metadata": {},
   "outputs": [],
   "source": [
    "temp[2] = 'tired'"
   ]
  },
  {
   "cell_type": "code",
   "execution_count": 33,
   "id": "59baaee1-a8aa-44a8-904f-f09f4c37a2ec",
   "metadata": {},
   "outputs": [
    {
     "data": {
      "text/plain": [
       "[10, 'Cassie', 'tired', 3.14]"
      ]
     },
     "execution_count": 33,
     "metadata": {},
     "output_type": "execute_result"
    }
   ],
   "source": [
    "temp"
   ]
  },
  {
   "cell_type": "code",
   "execution_count": 35,
   "id": "0d21416d-7b3a-48c6-adc3-309c3099715f",
   "metadata": {},
   "outputs": [],
   "source": [
    "temp[-1] = 'steve'"
   ]
  },
  {
   "cell_type": "code",
   "execution_count": 37,
   "id": "2360b230-8a4b-4138-97c4-e1cbe9ecda85",
   "metadata": {},
   "outputs": [
    {
     "data": {
      "text/plain": [
       "[10, 'Cassie', 'tired', 'steve']"
      ]
     },
     "execution_count": 37,
     "metadata": {},
     "output_type": "execute_result"
    }
   ],
   "source": [
    "temp"
   ]
  },
  {
   "cell_type": "markdown",
   "id": "ebfa47a9-e140-42b6-811e-00b9e0b21b0a",
   "metadata": {},
   "source": [
    "# list creation\n",
    "## method 1: using append:\n",
    "### start with an empty list `[]` and add members (usually inside a for loop) with `.append()`"
   ]
  },
  {
   "cell_type": "code",
   "execution_count": 48,
   "id": "a8c794a7-b0b7-4cf4-b554-70d0c56152e5",
   "metadata": {},
   "outputs": [
    {
     "name": "stdout",
     "output_type": "stream",
     "text": [
      "[3, 5, 7, 9]\n"
     ]
    }
   ],
   "source": [
    "# example: odd number between 2 and 10\n",
    "temp = []\n",
    "for item in range(2,10):\n",
    "    if item%2 != 0 :\n",
    "        temp.append(item)\n",
    "print(temp)"
   ]
  },
  {
   "cell_type": "code",
   "execution_count": 50,
   "id": "15eae213-0417-4c7d-84b3-b19fe06ea45a",
   "metadata": {},
   "outputs": [
    {
     "data": {
      "text/plain": [
       "[3, 5, 7, 9]"
      ]
     },
     "execution_count": 50,
     "metadata": {},
     "output_type": "execute_result"
    }
   ],
   "source": [
    "temp"
   ]
  },
  {
   "cell_type": "code",
   "execution_count": 98,
   "id": "94b4c615-b298-46f6-bbde-ce0456644de4",
   "metadata": {},
   "outputs": [
    {
     "name": "stdout",
     "output_type": "stream",
     "text": [
      "[0.9629235656549077, 0.881180615793316, 0.622145002516848]\n"
     ]
    }
   ],
   "source": [
    "# generate 10 random numbers and \n",
    "# in a list only keep the ones that are\n",
    "# about 0.5\n",
    "import random\n",
    "\n",
    "rand_num = []\n",
    "for item in range(10):\n",
    "    num = random.random()\n",
    "    if num > 0.5:\n",
    "        rand_num.append(num)\n",
    "print(rand_num)"
   ]
  },
  {
   "cell_type": "markdown",
   "id": "851dc0d4-0730-4d8c-a800-a0b7b3778367",
   "metadata": {},
   "source": [
    "# `In Exam`\n",
    "## Method 2: list comprehension."
   ]
  },
  {
   "cell_type": "code",
   "execution_count": 104,
   "id": "f8c54cba-5d8b-460b-a819-cb3f5633dd88",
   "metadata": {},
   "outputs": [
    {
     "name": "stdout",
     "output_type": "stream",
     "text": [
      "[3, 5, 7, 9]\n"
     ]
    }
   ],
   "source": [
    "# example: odd number between 2 and 10\n",
    "temp = []\n",
    "for item in range(2,10):\n",
    "    if item%2 != 0 :\n",
    "        temp.append(item)\n",
    "print(temp)"
   ]
  },
  {
   "cell_type": "code",
   "execution_count": 106,
   "id": "0c6cdc17-ad77-4d01-b8db-434ce7c05276",
   "metadata": {},
   "outputs": [
    {
     "data": {
      "text/plain": [
       "[3, 5, 7, 9]"
      ]
     },
     "execution_count": 106,
     "metadata": {},
     "output_type": "execute_result"
    }
   ],
   "source": [
    "# list comprehension\n",
    "temp2 = [item for item in range(2,10) \n",
    "         if item % 2 != 0]\n",
    "temp2"
   ]
  },
  {
   "cell_type": "code",
   "execution_count": 120,
   "id": "f82ce8ed-774d-4072-8d53-406ee58f6067",
   "metadata": {},
   "outputs": [
    {
     "data": {
      "text/plain": [
       "['Meng', 'Mandy']"
      ]
     },
     "execution_count": 120,
     "metadata": {},
     "output_type": "execute_result"
    }
   ],
   "source": [
    "# imagine you have list of students as \n",
    "students = ['Steve', 'Meng', 'Zhang', 'Mandy', 'Emma']\n",
    "# i want another list with name that begin with M\n",
    "stu_2 = [i for i in students\n",
    "        if i[0] == 'M']\n",
    "stu_2"
   ]
  },
  {
   "cell_type": "code",
   "execution_count": 122,
   "id": "ec39b417-c705-4378-af27-22dd254542eb",
   "metadata": {},
   "outputs": [
    {
     "data": {
      "text/plain": [
       "['Meng', 'Emma']"
      ]
     },
     "execution_count": 122,
     "metadata": {},
     "output_type": "execute_result"
    }
   ],
   "source": [
    "# i want a list where len of names are <= 4\n",
    "stu_3 = [i for i in students\n",
    "        if len(i) <= 4]\n",
    "stu_3"
   ]
  },
  {
   "cell_type": "code",
   "execution_count": 130,
   "id": "38b8c344-825f-49f7-a1c2-0eb5287125dd",
   "metadata": {},
   "outputs": [
    {
     "data": {
      "text/plain": [
       "3"
      ]
     },
     "execution_count": 130,
     "metadata": {},
     "output_type": "execute_result"
    }
   ],
   "source": [
    "temp = [2,3,3,5,6,5,5]\n",
    "# number of '5' in list\n",
    "temp.count(5)"
   ]
  },
  {
   "cell_type": "code",
   "execution_count": 132,
   "id": "81ecca91-ffad-41e7-8bf1-b3ab58c15793",
   "metadata": {},
   "outputs": [
    {
     "data": {
      "text/plain": [
       "1"
      ]
     },
     "execution_count": 132,
     "metadata": {},
     "output_type": "execute_result"
    }
   ],
   "source": [
    "# get the index of '3'\n",
    "temp.index(3)"
   ]
  },
  {
   "cell_type": "code",
   "execution_count": 136,
   "id": "9f12dfbe-d22f-4d3d-96fc-ec7472616121",
   "metadata": {},
   "outputs": [
    {
     "data": {
      "text/plain": [
       "3"
      ]
     },
     "execution_count": 136,
     "metadata": {},
     "output_type": "execute_result"
    }
   ],
   "source": [
    "# get the first index of '5'\n",
    "temp.index(5)"
   ]
  },
  {
   "cell_type": "code",
   "execution_count": 138,
   "id": "59d5071d-b218-4eb1-a7ed-781ffae29593",
   "metadata": {},
   "outputs": [
    {
     "data": {
      "text/plain": [
       "[5, 5, 6, 5, 3, 3, 2]"
      ]
     },
     "execution_count": 138,
     "metadata": {},
     "output_type": "execute_result"
    }
   ],
   "source": [
    "temp.reverse()\n",
    "temp"
   ]
  },
  {
   "cell_type": "code",
   "execution_count": 140,
   "id": "8c41da09-6fb0-4af2-8dfd-712b3615f1c6",
   "metadata": {},
   "outputs": [
    {
     "data": {
      "text/plain": [
       "[2, 3, 3, 5, 5, 5, 6]"
      ]
     },
     "execution_count": 140,
     "metadata": {},
     "output_type": "execute_result"
    }
   ],
   "source": [
    "# sort list\n",
    "temp.sort()\n",
    "temp"
   ]
  },
  {
   "cell_type": "markdown",
   "id": "89514616-0ce5-41a1-be86-153962d7b1b6",
   "metadata": {},
   "source": [
    "# Difference between `sort()` and `sorted()`"
   ]
  },
  {
   "cell_type": "code",
   "execution_count": 143,
   "id": "046f68c4-067b-4f37-a42a-3886c8c5aba1",
   "metadata": {},
   "outputs": [],
   "source": [
    "grades = [90,30,86,20,10,5,50]"
   ]
  },
  {
   "cell_type": "code",
   "execution_count": 145,
   "id": "5c909977-b14e-4490-a185-3033012121e1",
   "metadata": {},
   "outputs": [
    {
     "data": {
      "text/plain": [
       "[5, 10, 20, 30, 50, 86, 90]"
      ]
     },
     "execution_count": 145,
     "metadata": {},
     "output_type": "execute_result"
    }
   ],
   "source": [
    "# sorted is a python function just like len, id, print\n",
    "# sorted is NOT specific to list\n",
    "# sorted does NOT change the original list\n",
    "\n",
    "sorted(grades)"
   ]
  },
  {
   "cell_type": "code",
   "execution_count": 159,
   "id": "e832d5e8-8ed1-4e11-8e0b-13e84e6941ea",
   "metadata": {},
   "outputs": [
    {
     "data": {
      "text/plain": [
       "[90, 86, 50, 30, 20, 10, 5]"
      ]
     },
     "execution_count": 159,
     "metadata": {},
     "output_type": "execute_result"
    }
   ],
   "source": [
    "sorted(grades, reverse = True)"
   ]
  },
  {
   "cell_type": "code",
   "execution_count": 161,
   "id": "d9b0533a-71b7-4af8-922a-ed5ddb5a2a50",
   "metadata": {},
   "outputs": [
    {
     "data": {
      "text/plain": [
       "[5, 10, 20, 30, 50, 86, 90]"
      ]
     },
     "execution_count": 161,
     "metadata": {},
     "output_type": "execute_result"
    }
   ],
   "source": [
    "grades"
   ]
  },
  {
   "cell_type": "code",
   "execution_count": 163,
   "id": "ac0fa9f8-d6a6-48a9-8e00-9ec5443ba070",
   "metadata": {},
   "outputs": [
    {
     "data": {
      "text/plain": [
       "[5, 10, 20, 30, 50, 86, 90]"
      ]
     },
     "execution_count": 163,
     "metadata": {},
     "output_type": "execute_result"
    }
   ],
   "source": [
    "grades.sort()\n",
    "grades"
   ]
  },
  {
   "cell_type": "code",
   "execution_count": 167,
   "id": "12487c01-7e01-43a0-b2f2-2ef2d64e0daa",
   "metadata": {},
   "outputs": [
    {
     "data": {
      "text/plain": [
       "[90, 86, 50, 30, 20, 10, 5]"
      ]
     },
     "execution_count": 167,
     "metadata": {},
     "output_type": "execute_result"
    }
   ],
   "source": [
    "grades.sort(reverse=True)\n",
    "grades"
   ]
  },
  {
   "cell_type": "code",
   "execution_count": 169,
   "id": "e1e08028-1f72-408f-ac4a-0ac968cce352",
   "metadata": {},
   "outputs": [],
   "source": [
    "# top 3 grades\n",
    "grades = [80,60,9,95,100,20]"
   ]
  },
  {
   "cell_type": "code",
   "execution_count": 179,
   "id": "79ccb479-89a5-418f-92cb-8b263fb3ea62",
   "metadata": {},
   "outputs": [
    {
     "data": {
      "text/plain": [
       "[100, 95, 80, 60, 20, 9]"
      ]
     },
     "execution_count": 179,
     "metadata": {},
     "output_type": "execute_result"
    }
   ],
   "source": [
    "sorted_grade = sorted(grades, reverse = True)\n",
    "sorted_grade"
   ]
  },
  {
   "cell_type": "code",
   "execution_count": 181,
   "id": "ae8b3985-0e14-49cc-a89f-6b127ad99d0e",
   "metadata": {},
   "outputs": [
    {
     "data": {
      "text/plain": [
       "[100, 95, 80]"
      ]
     },
     "execution_count": 181,
     "metadata": {},
     "output_type": "execute_result"
    }
   ],
   "source": [
    "sorted_grade[:3]"
   ]
  },
  {
   "cell_type": "code",
   "execution_count": 183,
   "id": "b1d434af-078b-4eec-aee0-3f81ee2ee164",
   "metadata": {},
   "outputs": [
    {
     "data": {
      "text/plain": [
       "9"
      ]
     },
     "execution_count": 183,
     "metadata": {},
     "output_type": "execute_result"
    }
   ],
   "source": [
    "min(grades)"
   ]
  },
  {
   "cell_type": "code",
   "execution_count": 185,
   "id": "2aa4bd35-8d1e-4ed5-9b57-19c064d07d02",
   "metadata": {},
   "outputs": [
    {
     "data": {
      "text/plain": [
       "100"
      ]
     },
     "execution_count": 185,
     "metadata": {},
     "output_type": "execute_result"
    }
   ],
   "source": [
    "max(grades)"
   ]
  },
  {
   "cell_type": "code",
   "execution_count": 189,
   "id": "94a5e1b8-4f83-4548-b00e-dba035341491",
   "metadata": {},
   "outputs": [
    {
     "data": {
      "text/plain": [
       "60.666666666666664"
      ]
     },
     "execution_count": 189,
     "metadata": {},
     "output_type": "execute_result"
    }
   ],
   "source": [
    "# average of grades\n",
    "sum(grades)/len(grades)"
   ]
  },
  {
   "cell_type": "code",
   "execution_count": 191,
   "id": "5646ef10-e6b3-4bb7-9047-5628f1bb4943",
   "metadata": {},
   "outputs": [
    {
     "name": "stdout",
     "output_type": "stream",
     "text": [
      "[373.7777777777779, 0.4444444444444413, 2669.4444444444443, 1178.7777777777778, 1547.1111111111113, 1653.7777777777776]\n"
     ]
    }
   ],
   "source": [
    "# use list comprehension to find sample variance\n",
    "n = len(grades)\n",
    "avg = sum(grades) / n\n",
    "devs = [(grade - avg)**2 for grade in grades]\n",
    "print(devs)"
   ]
  },
  {
   "cell_type": "code",
   "execution_count": 193,
   "id": "cb497a07-2a2a-4a16-93f2-0aeeaf810530",
   "metadata": {},
   "outputs": [
    {
     "data": {
      "text/plain": [
       "1484.6666666666665"
      ]
     },
     "execution_count": 193,
     "metadata": {},
     "output_type": "execute_result"
    }
   ],
   "source": [
    "sum(devs)/(n-1)"
   ]
  },
  {
   "cell_type": "markdown",
   "id": "862c0c15-98fc-4588-9c87-34d6dc3236ab",
   "metadata": {},
   "source": [
    "# dictionary"
   ]
  },
  {
   "cell_type": "markdown",
   "id": "4856abb2-fcdf-46d2-a9aa-1f935d41e5fc",
   "metadata": {},
   "source": [
    "## dictionary is a  data type for storing `key: value` types.\n",
    "## It is mutable, it is iterable, and it is NOT indexed. \n",
    "## You cannot access it using 0-based indexes\n",
    "## You create dictionary inside `{}`"
   ]
  },
  {
   "cell_type": "code",
   "execution_count": 207,
   "id": "55bc57f7-d6a6-45b6-bc66-878eac87a75c",
   "metadata": {},
   "outputs": [
    {
     "data": {
      "text/plain": [
       "3"
      ]
     },
     "execution_count": 207,
     "metadata": {},
     "output_type": "execute_result"
    }
   ],
   "source": [
    "price = {'BTC': 72_000, 'AAPL': 230.4, 'TSLA': 261}\n",
    "len(price)"
   ]
  },
  {
   "cell_type": "code",
   "execution_count": 209,
   "id": "9a44938f-1fa8-4424-babb-b75ced99e4f6",
   "metadata": {},
   "outputs": [
    {
     "data": {
      "text/plain": [
       "dict"
      ]
     },
     "execution_count": 209,
     "metadata": {},
     "output_type": "execute_result"
    }
   ],
   "source": [
    "type(price)"
   ]
  },
  {
   "cell_type": "code",
   "execution_count": 211,
   "id": "2c61b56f-08a9-4a60-ac67-6307887d1a7c",
   "metadata": {},
   "outputs": [
    {
     "data": {
      "text/plain": [
       "72000"
      ]
     },
     "execution_count": 211,
     "metadata": {},
     "output_type": "execute_result"
    }
   ],
   "source": [
    "# access dict values\n",
    "price['BTC']"
   ]
  },
  {
   "cell_type": "code",
   "execution_count": 213,
   "id": "88dc8878-aa41-4986-8bc5-9b8d3ef49609",
   "metadata": {},
   "outputs": [
    {
     "data": {
      "text/plain": [
       "72000"
      ]
     },
     "execution_count": 213,
     "metadata": {},
     "output_type": "execute_result"
    }
   ],
   "source": [
    "price.get('BTC')"
   ]
  },
  {
   "cell_type": "code",
   "execution_count": 217,
   "id": "b42ee519-49ea-4d0e-8f41-09b689469d17",
   "metadata": {},
   "outputs": [
    {
     "data": {
      "text/plain": [
       "'there is no such thing'"
      ]
     },
     "execution_count": 217,
     "metadata": {},
     "output_type": "execute_result"
    }
   ],
   "source": [
    "# if there is no such key, show the message\n",
    "price.get('ABC', 'there is no such thing')"
   ]
  },
  {
   "cell_type": "code",
   "execution_count": 219,
   "id": "422597f5-534e-400c-8020-1a0b494913cd",
   "metadata": {},
   "outputs": [
    {
     "data": {
      "text/plain": [
       "72000"
      ]
     },
     "execution_count": 219,
     "metadata": {},
     "output_type": "execute_result"
    }
   ],
   "source": [
    "price.get('BTC',0)"
   ]
  },
  {
   "cell_type": "code",
   "execution_count": 223,
   "id": "fea9f4d3-f628-4244-bd83-dbad6e244405",
   "metadata": {},
   "outputs": [
    {
     "data": {
      "text/plain": [
       "{'BTC': 0.02, 'AAPL': 230.4, 'TSLA': 261}"
      ]
     },
     "execution_count": 223,
     "metadata": {},
     "output_type": "execute_result"
    }
   ],
   "source": [
    "# dict is mutable\n",
    "# BTC crashed, new price: 2 cents\n",
    "price['BTC'] = 0.02\n",
    "price"
   ]
  },
  {
   "cell_type": "code",
   "execution_count": 225,
   "id": "10ee564e-a884-4898-93e5-88d8795f14c5",
   "metadata": {},
   "outputs": [
    {
     "data": {
      "text/plain": [
       "{'BTC': 0.02, 'AAPL': 230.4, 'TSLA': 261}"
      ]
     },
     "execution_count": 225,
     "metadata": {},
     "output_type": "execute_result"
    }
   ],
   "source": [
    "# accessing keys and values using keys and value method\n",
    "price"
   ]
  },
  {
   "cell_type": "code",
   "execution_count": 227,
   "id": "370a825e-a47f-410e-aac7-9eb16abbae8b",
   "metadata": {},
   "outputs": [
    {
     "data": {
      "text/plain": [
       "dict_keys(['BTC', 'AAPL', 'TSLA'])"
      ]
     },
     "execution_count": 227,
     "metadata": {},
     "output_type": "execute_result"
    }
   ],
   "source": [
    "price.keys()"
   ]
  },
  {
   "cell_type": "code",
   "execution_count": 237,
   "id": "82279b81-dbec-4820-9a2d-b9f334cb2e4f",
   "metadata": {},
   "outputs": [
    {
     "name": "stdout",
     "output_type": "stream",
     "text": [
      "BTC\n",
      "AAPL\n",
      "TSLA\n"
     ]
    }
   ],
   "source": [
    "for key in price.keys():\n",
    "    print(key)"
   ]
  },
  {
   "cell_type": "code",
   "execution_count": 239,
   "id": "045fa072-dcee-4956-b216-fbb910fa8421",
   "metadata": {},
   "outputs": [
    {
     "data": {
      "text/plain": [
       "dict_values([0.02, 230.4, 261])"
      ]
     },
     "execution_count": 239,
     "metadata": {},
     "output_type": "execute_result"
    }
   ],
   "source": [
    "price.values()"
   ]
  },
  {
   "cell_type": "code",
   "execution_count": 241,
   "id": "06b1e5da-d239-4e83-aa3d-dafa42689191",
   "metadata": {},
   "outputs": [
    {
     "name": "stdout",
     "output_type": "stream",
     "text": [
      "0.02\n",
      "230.4\n",
      "261\n"
     ]
    }
   ],
   "source": [
    "for value in price.values():\n",
    "    print(value)"
   ]
  },
  {
   "cell_type": "markdown",
   "id": "6e116b66-5f0e-4a47-8bef-428e5b5116e1",
   "metadata": {},
   "source": [
    "# Sometimes we need to access (key, value) pairs.\n",
    "# This is done using `items()` method"
   ]
  },
  {
   "cell_type": "code",
   "execution_count": 247,
   "id": "6adcaf95-10fa-47a8-a6b9-62fb7920c476",
   "metadata": {},
   "outputs": [
    {
     "data": {
      "text/plain": [
       "dict_items([('BTC', 0.02), ('AAPL', 230.4), ('TSLA', 261)])"
      ]
     },
     "execution_count": 247,
     "metadata": {},
     "output_type": "execute_result"
    }
   ],
   "source": [
    "price.items()"
   ]
  },
  {
   "cell_type": "code",
   "execution_count": 251,
   "id": "924b331b-8f49-433a-b69c-a42db145c18f",
   "metadata": {},
   "outputs": [
    {
     "name": "stdout",
     "output_type": "stream",
     "text": [
      "('BTC', 0.02)\n",
      "('AAPL', 230.4)\n",
      "('TSLA', 261)\n"
     ]
    }
   ],
   "source": [
    "for item in price.items():\n",
    "    print(item)"
   ]
  },
  {
   "cell_type": "code",
   "execution_count": 255,
   "id": "cfacc5b1-cdec-4152-98fa-0307556e93eb",
   "metadata": {},
   "outputs": [
    {
     "name": "stdout",
     "output_type": "stream",
     "text": [
      "BTCBTCBTC\n",
      "0.002\n",
      "AAPLAAPLAAPL\n",
      "23.04\n",
      "TSLATSLATSLA\n",
      "26.1\n"
     ]
    }
   ],
   "source": [
    "for k,v in price.items():\n",
    "    print(k*3)\n",
    "    print(v/10)"
   ]
  },
  {
   "cell_type": "markdown",
   "id": "44c29288-2bba-4174-89d4-5a490eaaeef8",
   "metadata": {},
   "source": [
    "# `IN EXAM`\n",
    "# dictionary comprehension"
   ]
  },
  {
   "cell_type": "code",
   "execution_count": 260,
   "id": "b26c90ed-493d-4cd6-9c1f-9d095434041f",
   "metadata": {},
   "outputs": [],
   "source": [
    "price = {'BTC': 72000, 'AAPL' : 2000, 'GOOGLE': 250, 'MCSFT': 350}"
   ]
  },
  {
   "cell_type": "code",
   "execution_count": 262,
   "id": "2023fcf3-291a-4342-9688-ec6877a67ad6",
   "metadata": {},
   "outputs": [
    {
     "data": {
      "text/plain": [
       "{'GOOGLE': 250, 'MCSFT': 350}"
      ]
     },
     "execution_count": 262,
     "metadata": {},
     "output_type": "execute_result"
    }
   ],
   "source": [
    "# create a new dic with only companies with price less than 1500\n",
    "n_p = {k: v for k, v in price.items() if v < 1500}\n",
    "n_p"
   ]
  },
  {
   "cell_type": "code",
   "execution_count": 266,
   "id": "a29aaf14-350c-4e37-a7bf-48ff72f8ed76",
   "metadata": {},
   "outputs": [
    {
     "data": {
      "text/plain": [
       "{'BTC': 72010, 'AAPL': 2010, 'GOOGLE': 260, 'MCSFT': 360}"
      ]
     },
     "execution_count": 266,
     "metadata": {},
     "output_type": "execute_result"
    }
   ],
   "source": [
    "# build a new dictionary from price when you add 10 to values of the price dict\n",
    "n_p2 = {k: (v+10) for k, v in price.items()}\n",
    "n_p2"
   ]
  },
  {
   "cell_type": "code",
   "execution_count": 270,
   "id": "f44adefc-8f8b-438f-b11b-b35530353543",
   "metadata": {},
   "outputs": [],
   "source": [
    "dict_1 = {'cassie': 40, \n",
    "          'Sam': 35, \n",
    "          'Jam': 37,\n",
    "          'Steve': 31\n",
    "         }"
   ]
  },
  {
   "cell_type": "code",
   "execution_count": 272,
   "id": "a9d72977-0390-4491-a0d1-90d92ec23e1b",
   "metadata": {},
   "outputs": [
    {
     "ename": "TypeError",
     "evalue": "unhashable type: 'dict'",
     "output_type": "error",
     "traceback": [
      "\u001b[1;31m---------------------------------------------------------------------------\u001b[0m",
      "\u001b[1;31mTypeError\u001b[0m                                 Traceback (most recent call last)",
      "Cell \u001b[1;32mIn[272], line 4\u001b[0m\n\u001b[0;32m      1\u001b[0m \u001b[38;5;66;03m# Let's plot these\u001b[39;00m\n\u001b[0;32m      2\u001b[0m \u001b[38;5;28;01mimport\u001b[39;00m \u001b[38;5;21;01mmatplotlib\u001b[39;00m\u001b[38;5;21;01m.\u001b[39;00m\u001b[38;5;21;01mpyplot\u001b[39;00m \u001b[38;5;28;01mas\u001b[39;00m \u001b[38;5;21;01mplt\u001b[39;00m\n\u001b[1;32m----> 4\u001b[0m plt\u001b[38;5;241m.\u001b[39mplot(dict_1)\n",
      "File \u001b[1;32mD:\\Anaconda\\Lib\\site-packages\\matplotlib\\pyplot.py:3794\u001b[0m, in \u001b[0;36mplot\u001b[1;34m(scalex, scaley, data, *args, **kwargs)\u001b[0m\n\u001b[0;32m   3786\u001b[0m \u001b[38;5;129m@_copy_docstring_and_deprecators\u001b[39m(Axes\u001b[38;5;241m.\u001b[39mplot)\n\u001b[0;32m   3787\u001b[0m \u001b[38;5;28;01mdef\u001b[39;00m \u001b[38;5;21mplot\u001b[39m(\n\u001b[0;32m   3788\u001b[0m     \u001b[38;5;241m*\u001b[39margs: \u001b[38;5;28mfloat\u001b[39m \u001b[38;5;241m|\u001b[39m ArrayLike \u001b[38;5;241m|\u001b[39m \u001b[38;5;28mstr\u001b[39m,\n\u001b[1;32m   (...)\u001b[0m\n\u001b[0;32m   3792\u001b[0m     \u001b[38;5;241m*\u001b[39m\u001b[38;5;241m*\u001b[39mkwargs,\n\u001b[0;32m   3793\u001b[0m ) \u001b[38;5;241m-\u001b[39m\u001b[38;5;241m>\u001b[39m \u001b[38;5;28mlist\u001b[39m[Line2D]:\n\u001b[1;32m-> 3794\u001b[0m     \u001b[38;5;28;01mreturn\u001b[39;00m gca()\u001b[38;5;241m.\u001b[39mplot(\n\u001b[0;32m   3795\u001b[0m         \u001b[38;5;241m*\u001b[39margs,\n\u001b[0;32m   3796\u001b[0m         scalex\u001b[38;5;241m=\u001b[39mscalex,\n\u001b[0;32m   3797\u001b[0m         scaley\u001b[38;5;241m=\u001b[39mscaley,\n\u001b[0;32m   3798\u001b[0m         \u001b[38;5;241m*\u001b[39m\u001b[38;5;241m*\u001b[39m({\u001b[38;5;124m\"\u001b[39m\u001b[38;5;124mdata\u001b[39m\u001b[38;5;124m\"\u001b[39m: data} \u001b[38;5;28;01mif\u001b[39;00m data \u001b[38;5;129;01mis\u001b[39;00m \u001b[38;5;129;01mnot\u001b[39;00m \u001b[38;5;28;01mNone\u001b[39;00m \u001b[38;5;28;01melse\u001b[39;00m {}),\n\u001b[0;32m   3799\u001b[0m         \u001b[38;5;241m*\u001b[39m\u001b[38;5;241m*\u001b[39mkwargs,\n\u001b[0;32m   3800\u001b[0m     )\n",
      "File \u001b[1;32mD:\\Anaconda\\Lib\\site-packages\\matplotlib\\axes\\_axes.py:1779\u001b[0m, in \u001b[0;36mAxes.plot\u001b[1;34m(self, scalex, scaley, data, *args, **kwargs)\u001b[0m\n\u001b[0;32m   1536\u001b[0m \u001b[38;5;250m\u001b[39m\u001b[38;5;124;03m\"\"\"\u001b[39;00m\n\u001b[0;32m   1537\u001b[0m \u001b[38;5;124;03mPlot y versus x as lines and/or markers.\u001b[39;00m\n\u001b[0;32m   1538\u001b[0m \n\u001b[1;32m   (...)\u001b[0m\n\u001b[0;32m   1776\u001b[0m \u001b[38;5;124;03m(``'green'``) or hex strings (``'#008000'``).\u001b[39;00m\n\u001b[0;32m   1777\u001b[0m \u001b[38;5;124;03m\"\"\"\u001b[39;00m\n\u001b[0;32m   1778\u001b[0m kwargs \u001b[38;5;241m=\u001b[39m cbook\u001b[38;5;241m.\u001b[39mnormalize_kwargs(kwargs, mlines\u001b[38;5;241m.\u001b[39mLine2D)\n\u001b[1;32m-> 1779\u001b[0m lines \u001b[38;5;241m=\u001b[39m [\u001b[38;5;241m*\u001b[39m\u001b[38;5;28mself\u001b[39m\u001b[38;5;241m.\u001b[39m_get_lines(\u001b[38;5;28mself\u001b[39m, \u001b[38;5;241m*\u001b[39margs, data\u001b[38;5;241m=\u001b[39mdata, \u001b[38;5;241m*\u001b[39m\u001b[38;5;241m*\u001b[39mkwargs)]\n\u001b[0;32m   1780\u001b[0m \u001b[38;5;28;01mfor\u001b[39;00m line \u001b[38;5;129;01min\u001b[39;00m lines:\n\u001b[0;32m   1781\u001b[0m     \u001b[38;5;28mself\u001b[39m\u001b[38;5;241m.\u001b[39madd_line(line)\n",
      "File \u001b[1;32mD:\\Anaconda\\Lib\\site-packages\\matplotlib\\axes\\_base.py:296\u001b[0m, in \u001b[0;36m_process_plot_var_args.__call__\u001b[1;34m(self, axes, data, *args, **kwargs)\u001b[0m\n\u001b[0;32m    294\u001b[0m     this \u001b[38;5;241m+\u001b[39m\u001b[38;5;241m=\u001b[39m args[\u001b[38;5;241m0\u001b[39m],\n\u001b[0;32m    295\u001b[0m     args \u001b[38;5;241m=\u001b[39m args[\u001b[38;5;241m1\u001b[39m:]\n\u001b[1;32m--> 296\u001b[0m \u001b[38;5;28;01myield from\u001b[39;00m \u001b[38;5;28mself\u001b[39m\u001b[38;5;241m.\u001b[39m_plot_args(\n\u001b[0;32m    297\u001b[0m     axes, this, kwargs, ambiguous_fmt_datakey\u001b[38;5;241m=\u001b[39mambiguous_fmt_datakey)\n",
      "File \u001b[1;32mD:\\Anaconda\\Lib\\site-packages\\matplotlib\\axes\\_base.py:483\u001b[0m, in \u001b[0;36m_process_plot_var_args._plot_args\u001b[1;34m(self, axes, tup, kwargs, return_kwargs, ambiguous_fmt_datakey)\u001b[0m\n\u001b[0;32m    481\u001b[0m     axes\u001b[38;5;241m.\u001b[39mxaxis\u001b[38;5;241m.\u001b[39mupdate_units(x)\n\u001b[0;32m    482\u001b[0m \u001b[38;5;28;01mif\u001b[39;00m axes\u001b[38;5;241m.\u001b[39myaxis \u001b[38;5;129;01mis\u001b[39;00m \u001b[38;5;129;01mnot\u001b[39;00m \u001b[38;5;28;01mNone\u001b[39;00m:\n\u001b[1;32m--> 483\u001b[0m     axes\u001b[38;5;241m.\u001b[39myaxis\u001b[38;5;241m.\u001b[39mupdate_units(y)\n\u001b[0;32m    485\u001b[0m \u001b[38;5;28;01mif\u001b[39;00m x\u001b[38;5;241m.\u001b[39mshape[\u001b[38;5;241m0\u001b[39m] \u001b[38;5;241m!=\u001b[39m y\u001b[38;5;241m.\u001b[39mshape[\u001b[38;5;241m0\u001b[39m]:\n\u001b[0;32m    486\u001b[0m     \u001b[38;5;28;01mraise\u001b[39;00m \u001b[38;5;167;01mValueError\u001b[39;00m(\u001b[38;5;124mf\u001b[39m\u001b[38;5;124m\"\u001b[39m\u001b[38;5;124mx and y must have same first dimension, but \u001b[39m\u001b[38;5;124m\"\u001b[39m\n\u001b[0;32m    487\u001b[0m                      \u001b[38;5;124mf\u001b[39m\u001b[38;5;124m\"\u001b[39m\u001b[38;5;124mhave shapes \u001b[39m\u001b[38;5;132;01m{\u001b[39;00mx\u001b[38;5;241m.\u001b[39mshape\u001b[38;5;132;01m}\u001b[39;00m\u001b[38;5;124m and \u001b[39m\u001b[38;5;132;01m{\u001b[39;00my\u001b[38;5;241m.\u001b[39mshape\u001b[38;5;132;01m}\u001b[39;00m\u001b[38;5;124m\"\u001b[39m)\n",
      "File \u001b[1;32mD:\\Anaconda\\Lib\\site-packages\\matplotlib\\axis.py:1756\u001b[0m, in \u001b[0;36mAxis.update_units\u001b[1;34m(self, data)\u001b[0m\n\u001b[0;32m   1754\u001b[0m neednew \u001b[38;5;241m=\u001b[39m \u001b[38;5;28mself\u001b[39m\u001b[38;5;241m.\u001b[39mconverter \u001b[38;5;241m!=\u001b[39m converter\n\u001b[0;32m   1755\u001b[0m \u001b[38;5;28mself\u001b[39m\u001b[38;5;241m.\u001b[39mconverter \u001b[38;5;241m=\u001b[39m converter\n\u001b[1;32m-> 1756\u001b[0m default \u001b[38;5;241m=\u001b[39m \u001b[38;5;28mself\u001b[39m\u001b[38;5;241m.\u001b[39mconverter\u001b[38;5;241m.\u001b[39mdefault_units(data, \u001b[38;5;28mself\u001b[39m)\n\u001b[0;32m   1757\u001b[0m \u001b[38;5;28;01mif\u001b[39;00m default \u001b[38;5;129;01mis\u001b[39;00m \u001b[38;5;129;01mnot\u001b[39;00m \u001b[38;5;28;01mNone\u001b[39;00m \u001b[38;5;129;01mand\u001b[39;00m \u001b[38;5;28mself\u001b[39m\u001b[38;5;241m.\u001b[39munits \u001b[38;5;129;01mis\u001b[39;00m \u001b[38;5;28;01mNone\u001b[39;00m:\n\u001b[0;32m   1758\u001b[0m     \u001b[38;5;28mself\u001b[39m\u001b[38;5;241m.\u001b[39mset_units(default)\n",
      "File \u001b[1;32mD:\\Anaconda\\Lib\\site-packages\\matplotlib\\category.py:105\u001b[0m, in \u001b[0;36mStrCategoryConverter.default_units\u001b[1;34m(data, axis)\u001b[0m\n\u001b[0;32m    103\u001b[0m \u001b[38;5;66;03m# the conversion call stack is default_units -> axis_info -> convert\u001b[39;00m\n\u001b[0;32m    104\u001b[0m \u001b[38;5;28;01mif\u001b[39;00m axis\u001b[38;5;241m.\u001b[39munits \u001b[38;5;129;01mis\u001b[39;00m \u001b[38;5;28;01mNone\u001b[39;00m:\n\u001b[1;32m--> 105\u001b[0m     axis\u001b[38;5;241m.\u001b[39mset_units(UnitData(data))\n\u001b[0;32m    106\u001b[0m \u001b[38;5;28;01melse\u001b[39;00m:\n\u001b[0;32m    107\u001b[0m     axis\u001b[38;5;241m.\u001b[39munits\u001b[38;5;241m.\u001b[39mupdate(data)\n",
      "File \u001b[1;32mD:\\Anaconda\\Lib\\site-packages\\matplotlib\\category.py:181\u001b[0m, in \u001b[0;36mUnitData.__init__\u001b[1;34m(self, data)\u001b[0m\n\u001b[0;32m    179\u001b[0m \u001b[38;5;28mself\u001b[39m\u001b[38;5;241m.\u001b[39m_counter \u001b[38;5;241m=\u001b[39m itertools\u001b[38;5;241m.\u001b[39mcount()\n\u001b[0;32m    180\u001b[0m \u001b[38;5;28;01mif\u001b[39;00m data \u001b[38;5;129;01mis\u001b[39;00m \u001b[38;5;129;01mnot\u001b[39;00m \u001b[38;5;28;01mNone\u001b[39;00m:\n\u001b[1;32m--> 181\u001b[0m     \u001b[38;5;28mself\u001b[39m\u001b[38;5;241m.\u001b[39mupdate(data)\n",
      "File \u001b[1;32mD:\\Anaconda\\Lib\\site-packages\\matplotlib\\category.py:214\u001b[0m, in \u001b[0;36mUnitData.update\u001b[1;34m(self, data)\u001b[0m\n\u001b[0;32m    212\u001b[0m \u001b[38;5;66;03m# check if convertible to number:\u001b[39;00m\n\u001b[0;32m    213\u001b[0m convertible \u001b[38;5;241m=\u001b[39m \u001b[38;5;28;01mTrue\u001b[39;00m\n\u001b[1;32m--> 214\u001b[0m \u001b[38;5;28;01mfor\u001b[39;00m val \u001b[38;5;129;01min\u001b[39;00m OrderedDict\u001b[38;5;241m.\u001b[39mfromkeys(data):\n\u001b[0;32m    215\u001b[0m     \u001b[38;5;66;03m# OrderedDict just iterates over unique values in data.\u001b[39;00m\n\u001b[0;32m    216\u001b[0m     _api\u001b[38;5;241m.\u001b[39mcheck_isinstance((\u001b[38;5;28mstr\u001b[39m, \u001b[38;5;28mbytes\u001b[39m), value\u001b[38;5;241m=\u001b[39mval)\n\u001b[0;32m    217\u001b[0m     \u001b[38;5;28;01mif\u001b[39;00m convertible:\n\u001b[0;32m    218\u001b[0m         \u001b[38;5;66;03m# this will only be called so long as convertible is True.\u001b[39;00m\n",
      "\u001b[1;31mTypeError\u001b[0m: unhashable type: 'dict'"
     ]
    },
    {
     "data": {
      "image/png": "[encoded data removed]",
      "text/plain": [
       "<Figure size 640x480 with 1 Axes>"
      ]
     },
     "metadata": {},
     "output_type": "display_data"
    }
   ],
   "source": [
    "# Let's plot these\n",
    "import matplotlib.pyplot as plt\n",
    "\n",
    "plt.plot(dict_1)"
   ]
  },
  {
   "cell_type": "code",
   "execution_count": 276,
   "id": "6b0e18c3-5da1-4bda-a824-34706eb99b27",
   "metadata": {},
   "outputs": [
    {
     "data": {
      "image/png": "[encoded data removed]",
      "text/plain": [
       "<Figure size 640x480 with 1 Axes>"
      ]
     },
     "metadata": {},
     "output_type": "display_data"
    }
   ],
   "source": [
    "import matplotlib.pyplot as plt\n",
    "\n",
    "plt.plot(dict_1.keys(), dict_1.values());"
   ]
  },
  {
   "cell_type": "markdown",
   "id": "e27e169d-9ef6-457e-bb40-0d0e3a733880",
   "metadata": {},
   "source": [
    "# Things didn't cover, study:\n",
    "## - `tuple`\n",
    "## - `set`"
   ]
  },
  {
   "cell_type": "code",
   "execution_count": null,
   "id": "54c671de-bd10-49a9-9e23-05b69d724f30",
   "metadata": {},
   "outputs": [],
   "source": []
  }
 ],
 "metadata": {
  "kernelspec": {
   "display_name": "Python 3 (ipykernel)",
   "language": "python",
   "name": "python3"
  },
  "language_info": {
   "codemirror_mode": {
    "name": "ipython",
    "version": 3
   },
   "file_extension": ".py",
   "mimetype": "text/x-python",
   "name": "python",
   "nbconvert_exporter": "python",
   "pygments_lexer": "ipython3",
   "version": "3.12.4"
  }
 },
 "nbformat": 4,
 "nbformat_minor": 5
}
