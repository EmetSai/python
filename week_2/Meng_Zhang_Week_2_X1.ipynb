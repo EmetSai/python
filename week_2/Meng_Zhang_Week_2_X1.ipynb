{
 "cells": [
  {
   "cell_type": "markdown",
   "metadata": {
    "id": "cuYPG-FC8ryF"
   },
   "source": [
    "# Week 2 Homework\n",
    "\n",
    "This homework provides an opportunity for you to practice the most important topics we discussed in week 1 and 2. It will also prepare you for week 3 of this course."
   ]
  },
  {
   "cell_type": "markdown",
   "metadata": {
    "id": "cKDuOTQB8ryN",
    "jp-MarkdownHeadingCollapsed": true,
    "tags": []
   },
   "source": [
    "## Submission guidelines:\n",
    "\n",
    "\n",
    "**Once you are done, remove all the output (`Right click on screen --> Clear All Outputs`), save your file as: `YourFirstName_YourLastName_Week_2_SectionNumber.ipynb`.**\n",
    "\n",
    "**If you submit under any other name/format, your submission will not be graded!**\n"
   ]
  },
  {
   "cell_type": "markdown",
   "metadata": {},
   "source": [
    "# Question 1\n",
    "\n",
    "Use `range` and `list` functions to create a list of numbers between 1(inclusive) and 20(exclusive) and print the list using `print()` function."
   ]
  },
  {
   "cell_type": "code",
   "execution_count": null,
   "metadata": {},
   "outputs": [],
   "source": [
    "# Solution\n",
    "list_1=[]\n",
    "for a in range(1,20):\n",
    "    list_1.append(a)\n",
    "print(list_1)"
   ]
  },
  {
   "cell_type": "markdown",
   "metadata": {},
   "source": [
    "# Question 2\n",
    "\n",
    "Use a **list comprehension** to create a list of multiples of 6 between 0(inclusive) and 30(exclusive) and print the list using `print()` function. The ideal output is `[0, 6, 12, 18, 24]`"
   ]
  },
  {
   "cell_type": "code",
   "execution_count": null,
   "metadata": {},
   "outputs": [],
   "source": [
    "# Solution\n",
    "list_2={a for a in range(0,30) if a%6==0}\n",
    "print(list_2)\n"
   ]
  },
  {
   "cell_type": "markdown",
   "metadata": {},
   "source": [
    "# Question 3\n",
    "\n",
    "Use a **list comprehension** to create a list containing characters of `campus_city = 'Washington DC'` and print the list using `print()` function. The ideal output is `['W', 'a', 's', 'h', 'i', 'n', 'g', 't', 'o', 'n',' ' , 'D', 'C']`. "
   ]
  },
  {
   "cell_type": "code",
   "execution_count": null,
   "metadata": {},
   "outputs": [],
   "source": [
    "# Solution\n",
    "campus_city = 'Washington DC'\n",
    "list_3 = [a for a in campus_city]\n",
    "print(list_3)"
   ]
  },
  {
   "cell_type": "markdown",
   "metadata": {},
   "source": [
    "# Question 4\n",
    "\n",
    "Use a **list comprehension** to create a list containing lower-case characters of `course_name = 'Python for Data Analysis'` that are not `a`, `A`, `o`, `O`, `u`,`U`, `e`, `E`, `i`, `I`, or `' '` (space) and print the list using `print()` function. The ideal output is `['p', 'y', 't', 'h', 'n', 'f', 'r', 'd', 't', 'n', 'l', 'y', 's', 's']`. **Your code cannot be more than two lines**"
   ]
  },
  {
   "cell_type": "code",
   "execution_count": null,
   "metadata": {},
   "outputs": [],
   "source": [
    "# Solution\n",
    "course_name = 'Python for Data Analysis'\n",
    "print([a.lower() for a in course_name if a not in ['a','A','o','O','u','U','e','E','i','I',' ']])"
   ]
  },
  {
   "cell_type": "markdown",
   "metadata": {},
   "source": [
    "# Question 5: 2D list\n",
    "`Note`: This question will allow you to work with two-dimensional lists. These lists are important because they are the base of forming matrices in `numpy` and `pandas`. 2D lists are discussed in your handout (Python fundamentals parts B and C)\n",
    "\n",
    " - Please form a two dimensional list called `list_2D` where its first element is the list `[1, 2, 3, 4, 5]` and second element is the list `[50, 40, 30, 20, 10]`. Print the list using `f-string`.\n",
    " - Display the output of `list_2D[0]` using `f-string`\n",
    " - Display the 3rd element (index 2) of the second list using `f-string`. (try `list_2D[1][2]`)\n",
    " - Using `del` keyword, delete the 3rd element of the first list of `list_2D`. Use `f-string` to display the results.\n",
    "\n",
    "**NOTE: Remember to use `\\n` for going to the next line and `print()` for adding an empty line (for improved readability)**"
   ]
  },
  {
   "cell_type": "code",
   "execution_count": null,
   "metadata": {},
   "outputs": [],
   "source": [
    "# Solution\n",
    "list_2D=[[1,2,3,4,5], [50,40,30,20,10]]\n",
    "print(f'{list_2D}\\n')\n",
    "print(f'{list_2D[0]}\\n')\n",
    "print(f'{list_2D[1][2]}\\n')\n",
    "del list_2D[0][2]\n",
    "print(f'{list_2D}\\n')\n",
    "print()"
   ]
  },
  {
   "cell_type": "markdown",
   "metadata": {
    "tags": []
   },
   "source": [
    "# Question 6\n",
    "\n",
    "Define a function called `max_finder` that accepts two numbers and returns their maximum. Then call it with inputs 9 and 12 and print the results using `print()` function. Do NOT forget the `Docstring`!"
   ]
  },
  {
   "cell_type": "code",
   "execution_count": null,
   "metadata": {},
   "outputs": [],
   "source": [
    "# Solution\n",
    "def max_finder(num_1, num_2):\n",
    "    '''\n",
    "    Accepts two numbers and return their maximum\n",
    "    '''\n",
    "    max_num = max(num_1, num_2)\n",
    "    return max_num\n",
    "\n",
    "max_finder(9,12)\n",
    "    "
   ]
  },
  {
   "cell_type": "markdown",
   "metadata": {
    "id": "_cGwqYAiveXm"
   },
   "source": [
    "# Question 7\n",
    "Write a snippet that does the following\n",
    "- import random module using `import random`. \n",
    "- Creates an empty list, then inside a for loop, using `random.random()`, and `append` method create a list containing 10,000 uniform random numbers between 0 and 1. call this list `rnd_all`\n",
    "- define another list call `rnd_filtered` that contains only members of `rnd_all` that are bigger than 0.6. Hint: You can do this using list comprehensions. \n",
    "- find the ratio of `len(rnd_filtered)/len(rnd_all)` and print it using `f-string` as a `%`. \n"
   ]
  },
  {
   "cell_type": "code",
   "execution_count": 2,
   "metadata": {
    "id": "I4vxDzidvhrL"
   },
   "outputs": [
    {
     "name": "stdout",
     "output_type": "stream",
     "text": [
      " 40.49%\n"
     ]
    }
   ],
   "source": [
    "# Solution\n",
    "import random\n",
    "rnd_all=[]\n",
    "for num in range(10000):\n",
    "    a = random.random()\n",
    "    rnd_all.append(a)\n",
    "rnd_filtered=[num for num in rnd_all if num > 0.6]\n",
    "print(f'{len(rnd_filtered)/len(rnd_all) : .2%}')\n",
    "    "
   ]
  },
  {
   "cell_type": "markdown",
   "metadata": {
    "id": "_cGwqYAiveXm"
   },
   "source": [
    "# Question 8\n",
    "Given a list of words, generate a new list containing only those words which are `palindromes` (words such as `radar`, `level`, `civic`, `refer` that read the same forwards as they do backwards). Run your code on the following list and print the results using `print()` function\n",
    "\n",
    "`words = [\"radar\", \"python\", \"level\", \"world\", \"deified\", \"civic\", \"milo, \"madam\", \"BARM\"]`\n",
    "\n",
    "`Hint: use list comprehensions for building one list from another one. you need to use for, if, in, and list slicing notation`"
   ]
  },
  {
   "cell_type": "code",
   "execution_count": null,
   "metadata": {
    "id": "I4vxDzidvhrL"
   },
   "outputs": [],
   "source": [
    "# Solution\n",
    "words = [\"radar\", \"python\", \"level\", \"world\", \"deified\", \"civic\", \"milo\", \"madam\", \"BARM\"]\n",
    "words_filtered = [item for item in words if item == item[::-1]]\n",
    "print(words_filtered)\n"
   ]
  },
  {
   "cell_type": "markdown",
   "metadata": {},
   "source": [
    "# Question 9\n",
    "\n",
    "Define a **lambda function** that accepts a number and returns its square. Apply it to 4. The ideal output would be 16"
   ]
  },
  {
   "cell_type": "code",
   "execution_count": null,
   "metadata": {},
   "outputs": [],
   "source": [
    "# Solution\n",
    "(lambda x:x**2)(4)"
   ]
  },
  {
   "cell_type": "markdown",
   "metadata": {
    "id": "ow84V60tjMSE"
   },
   "source": [
    "# Question 10\n",
    "\n",
    "Write a function called `flipper` that accepts a boolean. If the input to the function is `True`, it returns `False`, if the input is `False`, it returns `True`.  Do NOT forget `Docstring`!\n"
   ]
  },
  {
   "cell_type": "code",
   "execution_count": 3,
   "metadata": {},
   "outputs": [
    {
     "name": "stdout",
     "output_type": "stream",
     "text": [
      "False\n",
      "True\n",
      "False\n"
     ]
    }
   ],
   "source": [
    "# Solution\n",
    "def flipper(a):\n",
    "    \"\"\"\n",
    "    When input True, return False, when input False, return True\n",
    "    \"\"\"\n",
    "    if a == True:\n",
    "        return False\n",
    "    elif a == False:\n",
    "        return True\n",
    "\n",
    "print(flipper(True))\n",
    "print(flipper(False))\n",
    "print(bool(0))\n"
   ]
  },
  {
   "cell_type": "code",
   "execution_count": 21,
   "metadata": {},
   "outputs": [
    {
     "data": {
      "text/plain": [
       "True"
      ]
     },
     "execution_count": 21,
     "metadata": {},
     "output_type": "execute_result"
    }
   ],
   "source": [
    "def flipper(a):\n",
    "    if bool(a)==0:\n",
    "        return True\n",
    "    else:\n",
    "        return False\n",
    "\n",
    "flipper(1==3)"
   ]
  },
  {
   "cell_type": "markdown",
   "metadata": {
    "id": "mxpCc27ejMSD"
   },
   "source": [
    "# Designed based on a real business problem\n",
    "\n",
    "**Must-read background knowledge:** \n",
    "\n",
    "Many companies nowadays publish their annual sustainability reports and reveal their environmental, social, and governance  (ESG) impact to stakeholders. Sometimes we need to analyze these reports and find the information we're interested in. \n",
    "\n",
    "This analysis can be used to `mine` the main focus of a company's efforts. What is it that the company cares the most about? Is it profits? Expansion? Using federal funds for sustainability purposes? Expanding market share because of their sustainability efforts? **Finding the company's main focus can be done by analyzing text in their reports.**\n",
    "\n",
    "Consider the financial investment company Blackrock as an example:\n",
    "\n",
    "Blackrock's website for your info: https://www.blackrock.com/us/individual\n",
    "\n",
    "Blackrock's TCFD (Task Force on Climate-related Financial Disclosures) report for your information: https://www.blackrock.com/corporate/literature/continuous-disclosure-and-important-information/tcfd-report-2021-blkinc.pdf\n",
    "\n",
    "The next cell gives you a part of the above TCFD report that I have formatted specifically for the sake of this question.\n",
    "\n",
    "**STOP: Please do NOT allow the long text to intimidate you! Working with this long text is no different than working with small ones, so relax, take a breath, and read the instructions carefully**\n"
   ]
  },
  {
   "cell_type": "code",
   "execution_count": null,
   "metadata": {},
   "outputs": [],
   "source": [
    "# Question context: company report\n",
    "partial_report = \"BlackRock is a publicly traded investment management firm \\\n",
    "that provides investment management and technology services to institutional and \\\n",
    "retail clients worldwide. The assets BlackRock manages – BlackRock’s \\\n",
    "AUM – belong to BlackRock’s clients who rely on us to act in their best\\\n",
    "interests. BlackRock clients range from pension funds serving nurses, \\\n",
    "teachers, and factory workers, to individuals planning to buy a home or \\\n",
    "pay for their children’s education. BlackRock invests its clients’ money in \\\n",
    "companies of all types and sizes, in every region of the world, helping \\\n",
    "those companies grow and operate. As BlackRock’s CEO, Larry Fink, has said: \\\n",
    "“There is no company whose business model won’t be profoundly affected by the \\\n",
    "transition to a net zero economy. This statement holds just as true for BlackRock \\\n",
    "as it does for any other company. As long-term investors, clients expect BlackRock \\\n",
    "to monitor and act on long-term risks and opportunities that affect their \\\n",
    "investments. Clients of all types are asking how to prepare their portfolios \\\n",
    "for the physical effects of climate change and the transition to a net zero \\\n",
    "economy. BlackRock is evolving its business strategy, governance, and \\\n",
    "risk-management processes to account for climate-related impacts to its \\\n",
    "business and clients. BlackRock is a leading publicly traded investment \\\n",
    "management firm with $9.46 trillion of assets under management(AUM). With \\\n",
    "approximately 18,000 employees in more than 30 countries Blackrock \\\n",
    "serve clients in over 100 countries across the globe. BlackRock provides \\\n",
    "a broad range of investment management and technology services to institutional \\\n",
    "and retail clients worldwide. BlackRock is a long-term investor on behalf of \\\n",
    "clients. As climate risks and opportunities are likely to impact long-term returns, \\\n",
    "BlackRock engages on climate risk with investee companies. This engagement stems \\\n",
    "from BlackRock’s conviction that companies that act early to anticipate \\\n",
    "climate-related risks. In 2020, BlackRock announced a commitment to making \\\n",
    "Sustainability Our Standard for Investing. Building upon the progress made \\\n",
    "in 2020, BlackRock announced a series of commitments in January 2021 \\\n",
    "focused on the global transition to net zero. The commitments focus on \\\n",
    "three themes: (i) measurement and transparency; (ii) investment management; \\\n",
    "and (iii) investment stewardship. In 2021, BlackRock joined the Net Zero \\\n",
    "Asset Managers initiative (“NZAM”) and the Glasgow Financial Alliance for \\\n",
    "Net Zero (“GFANZ”). GFANZ brings together financial sector net zero \\\n",
    "initiatives for the common goal of decarbonizing the economy. BlackRock \\\n",
    "has made significant progress towards its goals and commitments that \\\n",
    "were set forth earlier this year. In 2020, BlackRock achieved carbon neutrality in its \\\n",
    "operations6 by employing energy-efficiency strategies, achieving its 100% \\\n",
    "renewable electricity goal,7 and compensating for the emissions BlackRock \\\n",
    "could not otherwise eliminate by purchasing carbon credits.8 During 2021, \\\n",
    "BlackRock worked to advance its environmental sustainability strategy which \\\n",
    "is underpinned by setting science-aligned emissions reduction targets. \\\n",
    "To achieve these targets, BlackRock’s focus will continue to be on \\\n",
    "increasing energy efficiency, maintaining its 100% renewable electricity goal, \\\n",
    "and supporting the development of new technologies that can help reduce \\\n",
    "emissions such as sustainable aviation fuel (“SAF”). \\\n",
    "The primary means by which BlackRock incorporates climate-related risks \\\n",
    "and opportunities into investment processes are through ESG integration and \\\n",
    "investment stewardship. BlackRock portfolio managers are accountable \\\n",
    "for identifying material sustainability-related risks and \\\n",
    "opportunities – including climate-related considerations– in \\\n",
    "their portfolios. Investment teams develop views on the \\\n",
    "materiality of specific sustainability-related topics by considering \\\n",
    "BlackRock’s proprietary ESG research, as well as research from a variety \\\n",
    "of external sources. In addition, BlackRock has developed proprietary \\\n",
    "measurement tools to deepen portfolio manager understanding of material \\\n",
    "ESG risks including climate risks. In BlackRock’s index investments business, \\\n",
    "the firm works with index providers to expand and improve the universe of \\\n",
    "sustainable indexes, and our investment stewardship processes encourage the \\\n",
    "companies in which our clients are invested to manage and disclose material \\\n",
    "sustainability risks. Please refer to BlackRock’s SASB-aligned 2020 Sustainability \\\n",
    "Disclosure (Item FN-AC-410a.2) for additional information on ESG Integration at \\\n",
    "BlackRock. As an advancement to its existing ESG integration efforts, in \\\n",
    "2021, BlackRock established a framework to monitor exposures to issuers that may \\\n",
    "present significant climate risk in active portfolios. While many issuers are \\\n",
    "effectively preparing for the global transition towards a net zero \\\n",
    "economy, others that are not adequately preparing may present a risk to BlackRock’s \\\n",
    "clients’ portfolios, which BlackRock monitors closely. Conversely, \\\n",
    "companies that distinguish themselves in terms of their transition \\\n",
    "preparedness and governance may represent investment and/or alpha opportunities \\\n",
    "for BlackRock’s clients. In 2021, BIS released a commentary on its approach \\\n",
    "to natural capital, encouraging companies to disclose how their business models \\\n",
    "are consistent with the sustainable use and management of natural capital, \\\n",
    "including natural resources such as air, water, land, minerals, and forests. \\\n",
    "BIS also sought to understand how companies promote biodiversity and ecosystem \\\n",
    "health and the responsible use of energy, as well their impact on communities in \\\n",
    "which they operate. In 2021, BIS asked companies to articulate how their business \\\n",
    "model is aligned to a scenario in which global warming is limited to well below 2° C, \\\n",
    "consistent with a global aspiration to reach net zero emissions by 2050. BIS also \\\n",
    "encouraged companies to provide disclosure aligned with the TCFD, including \\\n",
    "Scope 1 and Scope 2 emissions. Companies in carbon-intensive industries were also \\\n",
    "encouraged disclose Scope 3 emissions. As the world transitions to a low carbon \\\n",
    "economy, sustainability-oriented data and climate-related insights are increasingly \\\n",
    "important to help uncover the catalysts that could drive asset values over the long-term. \\\n",
    "BlackRock manages active investment strategies across a range of asset classes including: \\\n",
    "(i) equities; (ii) fixed income; and (iii) multi-asset strategies. In 2021, BlackRock \\\n",
    "expanded its active investment lineup to incorporate a greater range of sustainable \\\n",
    "investment strategies. Sustainable ETFs remain one of the fastest growing \\\n",
    "segments within the ETF market. In 2021, iShares® launched 60 sustainable \\\n",
    "ETFs and index mutual funds (“IMFs”) across the US, Europe, Asia-Pacific, \\\n",
    "and Canada – well exceeding BlackRock’s goal of doubling sustainable \\\n",
    "ETF offerings to 150 in total for the year. As of September 30, 2021, \\\n",
    "iShares® had over 200 sustainable index offerings globally. \\\n",
    "The green and social bond market is steadily growing, helping raise \\\n",
    "funds for projects that have positive environmental or social impact. \\\n",
    "More than $3 trillion in sustainable bonds have been issued since these \\\n",
    "securities first emerged in 2007, according to research company Bloomberg NEF.19 \\\n",
    "BlackRock is heavily involved in and supportive of the green bond market. \\\n",
    "As of September 30, 2021, BlackRock managed over $36 billion, on behalf of clients, \\\n",
    "in green bonds across dedicated portfolios and as a component of broader fixed income mandates. \\\n",
    "These bonds support numerous renewables and low-carbon projects. \\\n",
    "BlackRock’s Head of Fixed Income ESG Investing sits on the Executive Committee \\\n",
    "of the Green Bond Principles and the firm is a partner of the Climate Bonds Initiative. \\\n",
    "A green bond is a fixed income instrument dedicated to new or existing projects deemed \\\n",
    "environmentally beneficial.20 Green bonds’ proceeds are ring-fenced on the issuer’s \\\n",
    "balance sheet to finance these green projects. Since green bonds trade like ordinary \\\n",
    "bonds and have secondary market liquidity, they serve as a valuable tool that \\\n",
    "enables investors to fund green projects without taking on the more limited liquidity \\\n",
    "or credit risk that comes with directly investing in infrastructure \\\n",
    "projects. Investors want to know that green bonds deliver their intended environmental \\\n",
    "benefits. They want to measure how their investments contribute to their environmental \\\n",
    "objectives and/or report the environmental benefits to their end-investors, plan \\\n",
    "participants, or customers. BlackRock has developed portfolio-level impact reporting \\\n",
    "for a green bond strategy – an illustrative example of which is shown in \\\n",
    "Exhibit S.4. The reporting includes carbon emissions avoided, renewable capacity \\\n",
    "installed, and energy savings attributable to green bond investments in the portfolio. \""
   ]
  },
  {
   "cell_type": "markdown",
   "metadata": {},
   "source": [
    "# Question 11\n",
    "\n",
    "Usually, the frequency of a keyword shows the importance of that keyword for the company. There are several text analysis packages for python; however, we will use straightforward `str methods` for fundamental text analysis in this question.\n",
    "\n",
    " - Define a list of environment-related keywords. `env_keywords = ['green', 'Green', 'sustainable', 'Sustainable', 'environment', 'Environment', 'renewables', 'Renewables', 'renewable', 'Renewable', 'climate', 'Climate']`\n",
    " - Use `f-string` to display the frequency of each of these keywords in the above text.\n",
    " - Use dictionary comprehension to store frequencies dictionary `env_freq_dict` with above `keywords` as `keys` and `frequencies` as `values`.\n",
    " - print the `env_freq_dict` using `print()` function\n",
    " \n",
    "Ideal output:\n",
    "\n",
    "```python\n",
    "Keyword \"sustainable\" is repeated 8 times.\n",
    "Keyword \"Sustainable\" is repeated 1 times.\n",
    "Keyword \"environment\" is repeated 6 times.\n",
    "Keyword \"Environment\" is repeated 0 times.\n",
    "Keyword \"renewables\" is repeated 1 times.\n",
    "Keyword \"Renewables\" is repeated 0 times.\n",
    "Keyword \"renewable\" is repeated 4 times.\n",
    "Keyword \"Renewable\" is repeated 0 times.\n",
    "Keyword \"climate\" is repeated 10 times.\n",
    "Keyword \"Climate\" is repeated 1 times.\n",
    "Keyword \"green\" is repeated 10 times.\n",
    "Keyword \"Green\" is repeated 2 times.\n",
    "{'sustainable': 8, 'Sustainable': 1, 'environment': 6, 'Environment': 0, 'renewables': 1, 'Renewables': 0, 'renewable': 4, 'Renewable': 0, 'climate': 10, 'Climate': 1, 'green': 10, 'Green': 2}\n",
    "```"
   ]
  },
  {
   "cell_type": "code",
   "execution_count": null,
   "metadata": {},
   "outputs": [],
   "source": [
    "# Solution\n",
    "env_keywords = ['sustainable', 'Sustainable', 'environment', 'Environment', \n",
    "                'renewables', 'Renewables', 'renewable', 'Renewable',\n",
    "               'climate', 'Climate', 'green', 'Green']\n",
    "\n",
    "env_freq_dict = {keyword: partial_report.count(keyword) for keyword in env_keywords}\n",
    "for k,v in env_freq_dict.items():\n",
    "    print(f'Keyword \"{k}\" is repeated {v}')\n",
    "print(env_freq_dict)"
   ]
  },
  {
   "cell_type": "markdown",
   "metadata": {
    "tags": []
   },
   "source": [
    "# Question 12\n",
    "\n",
    " - Use a specific method of `str` class to `split` the above long text into its sentences. The output would be a list; let's call that list `report_list`.\n",
    "\n",
    "    **A strong hint:** Remember that in English grammar every sentence ends with a `.` followed by one space. \n",
    " - Check the very last item of this list. It must be `''`. Using `remove` method of `list` class, remove that specific item from the list.\n",
    " - How many sentences are in `partial_report`? print the answer using `f-string`.\n",
    "\n"
   ]
  },
  {
   "cell_type": "code",
   "execution_count": null,
   "metadata": {},
   "outputs": [],
   "source": [
    "# Solution\n",
    "report_list = partial_report.split('. ')\n",
    "last = report_list[-1]\n",
    "report_list.remove(last)\n",
    "#print(report_list)\n",
    "print(f'There are {len(report_list)} sentences in partial_report.')"
   ]
  },
  {
   "cell_type": "markdown",
   "metadata": {},
   "source": [
    "# Question 13\n",
    "\n",
    "Now consider `combined_keywords = ['investment','climate']`. We would like to know which sentence(s) have **both** of these keywords, `investment` and `climate` in them. As an example, the following sentence has both of them:\n",
    "\n",
    "The reporting includes carbon emissions avoided, investor renewable **climate** capacity installed, and energy savings attributable to green bond **investments** in the portfolio\n",
    "\n",
    "Put those sentences in a list called `investment_climate_list` and print it using `print()` function.\n"
   ]
  },
  {
   "cell_type": "code",
   "execution_count": null,
   "metadata": {},
   "outputs": [],
   "source": [
    "# Solution\n",
    "investment_climate_list = []\n",
    "combined_keywords = ['investment','climate']\n",
    "for sen in report_list:\n",
    "    k = [wd for wd in combined_keywords if wd in sen]\n",
    "    if (len(k) == len(combined_keywords)):\n",
    "        investment_climate_list.append(sen)\n",
    "print(investment_climate_list)"
   ]
  },
  {
   "cell_type": "markdown",
   "metadata": {},
   "source": [
    "# Question 14\n",
    "\n",
    "Now consider `combined_keywords_2 = ['ESG','risk']`. We would like to know how many sentences have **either one** of these keywords `ESG` and `risk` in them. As an example, the following sentence have either one of them:\n",
    "\n",
    ">>Investment teams develop views on the materiality of specific sustainability-related topics by considering BlackRock's proprietary **ESG** research, as well as analysis from a variety of external sources\n",
    "\n",
    "Store these sentences in a list called `ESG_risk_list`.\n",
    "\n",
    "**HINT:** If you use nested `for` loops, please be aware of duplicity. Some sentences have both **ESG** and **risk** keywords. You must avoid including a sentence more than once in `ESG_risk_list`. There are several ways of doing this; using `set` or an additional clause in your `if` statement are two ways of handling this.\n"
   ]
  },
  {
   "cell_type": "code",
   "execution_count": null,
   "metadata": {},
   "outputs": [],
   "source": [
    "# Solution\n",
    "combined_keywords_2 = ['ESG','risk']\n",
    "ESG_risk_list = []\n",
    "set1 = set()\n",
    "set2 = set()\n",
    "for sen in report_list:\n",
    "    if combined_keywords_2[0] in sen:\n",
    "        set1.add(sen)\n",
    "    if combined_keywords_2[1] in sen:\n",
    "        set2.add(sen)\n",
    "i_set = set1|set2\n",
    "#print(i_set)\n",
    "ESG_risk_list = list(i_set)\n",
    "print(f'There are {len(ESG_risk_list)} sentences have either one of these keywords \"ESG\" and \"risk\".\\n')\n",
    "print(ESG_risk_list)\n"
   ]
  },
  {
   "cell_type": "markdown",
   "metadata": {
    "id": "ow84V60tjMSE"
   },
   "source": [
    "# Question 15\n",
    "\n",
    "In `partial_report`, replace `\".\"` with `\"--\"`. Call the new string `partial_report_updated`. Split `partial_report_updated` using separator characters of \"--\". The result will be a list. Call it `report_list_2`. How many sentences are in `report_list_2`? Display it using `f-string`. Explain why the number of sentences you got in this question differs from the number you have in the previous problem."
   ]
  },
  {
   "cell_type": "code",
   "execution_count": null,
   "metadata": {
    "id": "_5Yy7U-xjMSE"
   },
   "outputs": [],
   "source": [
    "## Solution\n",
    "partial_report_updated = partial_report.replace('.','--')\n",
    "report_list_2 = partial_report_updated.split('--')\n",
    "print(f'There are {len(report_list_2)} sentences in report_list_2.')  \n",
    "print('This is different because there were numbers with decimal point in the previous problem.')\n"
   ]
  },
  {
   "cell_type": "markdown",
   "metadata": {},
   "source": [
    "## Note about the above problem setup: \n",
    "\n",
    "#### As you can see, it is very likely to mistakenly modify the whole text (such as `partial_report`) when you store it in a cell like the above. In practice, we usually store and read it from a text file. In future assignments, we will learn how to read/write from/to a text file."
   ]
  },
  {
   "cell_type": "markdown",
   "metadata": {
    "id": "IUUwn45ISog9"
   },
   "source": [
    "# Question 16\n",
    "\n",
    "The following list stores the results of 200 rolls of a six-sided die. This list is in the below cell as well:\n",
    "\n",
    "`[2, 1, 6, 1, 1, 6, 3, 5, 1, 6, 2, 2, 1, 6, 1, 1, 1, 6, 4, 1, 1, 4, 5, 4, 6, 5, 6, 4, 6, 5, 2, 3, 5, 4, 1, 1, 1, 5, 4, 2, 4, 4, 3, 3, 6, 6, 1, 4, 3, 3, 2, 4, 2, 3, 2, 4, 4, 5, 1, 2, 3, 6, 4, 1, 2, 4, 4, 6, 3, 3, 5, 3, 2, 5, 6, 4, 1, 4, 2, 4, 1, 2, 4, 5, 5, 5, 4, 1, 5, 6, 5, 5, 1, 2, 6, 4, 1, 2, 4, 2, 5, 1, 5, 3, 1, 1, 6, 5, 4, 3, 6, 5, 3, 2, 2, 1, 1, 5, 4, 5, 6, 1, 2, 1, 2, 1, 6, 6, 6, 1, 3, 2, 3, 6, 4, 3, 1, 5, 3, 5, 4, 6, 2, 6, 5, 2, 5, 5, 4, 6, 2, 6, 1, 4, 2, 2, 3, 1, 5, 6, 1, 3, 6, 6, 2, 6, 1, 6, 4, 3, 1, 4, 5, 3, 2, 3, 3, 1, 6, 3, 6, 3, 2, 6, 1, 6, 3, 6, 5, 3, 1, 6, 1, 4, 6, 3, 3, 2, 2, 4]`\n",
    "\n",
    "Write a snippet that:\n",
    " - Use `for` loop and list `count()` method to count how many times each side of 1, 2, ..., 6 appeared.\n",
    " - Store the resulting six numbers in `die_result` list. Print the results using `print()` function. Make sure to use `f-string`. You will have six lines in your print-out in the form of \n",
    "\n",
    "1 appeared `xyz` times\n",
    "\n",
    "2 appeared `abc` times\n",
    "\n",
    ".\n",
    ".\n",
    ".\n",
    "\n",
    " - print the result of the previous step in a dictionary called `dice_dict`. `dice_dict` must look like this:\n",
    "\n",
    "`dice_dict = {1:frequency of 1, 2: frequency of 2, 3: frequency of 3, 4: frequency of 4, 5: frequency of 5, 6: frequency of 6}`\n",
    "\n",
    "**Note: You need to use dictionary comprehension to create this dictionary**"
   ]
  },
  {
   "cell_type": "code",
   "execution_count": 3,
   "metadata": {},
   "outputs": [
    {
     "name": "stdout",
     "output_type": "stream",
     "text": [
      "1 appeared 40 times\n",
      "2 appeared 31 times\n",
      "3 appeared 30 times\n",
      "4 appeared 32 times\n",
      "5 appeared 29 times\n",
      "6 appeared 38 times\n",
      "dice_dict = {2: 'frequency of 31', 1: 'frequency of 40', 6: 'frequency of 38', 3: 'frequency of 30', 5: 'frequency of 29', 4: 'frequency of 32'}\n"
     ]
    }
   ],
   "source": [
    "# Solution\n",
    "\n",
    "die_roll = [2, 1, 6, 1, 1, 6, 3, 5, 1, 6, 2, 2, 1, 6, 1, \n",
    " 1, 1, 6, 4, 1, 1, 4, 5, 4, 6, 5, 6, 4, 6, 5, \n",
    " 2, 3, 5, 4, 1, 1, 1, 5, 4, 2, 4, 4, 3, 3, 6, \n",
    " 6, 1, 4, 3, 3, 2, 4, 2, 3, 2, 4, 4, 5, 1, 2, \n",
    " 3, 6, 4, 1, 2, 4, 4, 6, 3, 3, 5, 3, 2, 5, 6, \n",
    " 4, 1, 4, 2, 4, 1, 2, 4, 5, 5, 5, 4, 1, 5, 6, \n",
    " 5, 5, 1, 2, 6, 4, 1, 2, 4, 2, 5, 1, 5, 3, 1, \n",
    " 1, 6, 5, 4, 3, 6, 5, 3, 2, 2, 1, 1, 5, 4, 5, \n",
    " 6, 1, 2, 1, 2, 1, 6, 6, 6, 1, 3, 2, 3, 6, 4, \n",
    " 3, 1, 5, 3, 5, 4, 6, 2, 6, 5, 2, 5, 5, 4, 6, \n",
    " 2, 6, 1, 4, 2, 2, 3, 1, 5, 6, 1, 3, 6, 6, 2, \n",
    " 6, 1, 6, 4, 3, 1, 4, 5, 3, 2, 3, 3, 1, 6, 3, \n",
    " 6, 3, 2, 6, 1, 6, 3, 6, 5, 3, 1, 6, 1, 4, 6, \n",
    " 3, 3, 2, 2, 4]\n",
    "die_result=[]\n",
    "for side in range(1,7):\n",
    "    die_result.append(die_roll.count(side))\n",
    "    print(f'{side} appeared {die_result[side-1]} times')\n",
    "\n",
    "dice_dict = {side: f'frequency of {die_roll.count(side)}' for side in die_roll}\n",
    "print(f'dice_dict = {dice_dict}')\n"
   ]
  },
  {
   "cell_type": "markdown",
   "metadata": {
    "id": "QrmAhuzIYnd3"
   },
   "source": [
    "# Question 17\n",
    "\n",
    "Use dictionary comprehension to create a dictionary that consists of `key, value` pairs in the form of `x: x*x` for all the non-negative x where `x <= 20`.\n"
   ]
  },
  {
   "cell_type": "code",
   "execution_count": null,
   "metadata": {},
   "outputs": [],
   "source": [
    "# Solution\n",
    "dict = {x: x*x for x in range(21) if x<= 20}\n",
    "print(dict)"
   ]
  },
  {
   "cell_type": "markdown",
   "metadata": {
    "id": "QrmAhuzIYnd3"
   },
   "source": [
    "# Question 18\n",
    "\n",
    "Use dictionary comprehension to create a dictionary that takes its keys from the following list. This dictionary's values must be equal to length of its key. \n",
    "\n",
    "`course_list = ['Operations Management', 'Python for Data Analysis', 'Adv. Business Analytics', 'Sustainable Supply Chains']`. \n",
    "\n",
    "The ideal out is: `{'Operations Management': 21, 'Python for Data Analysis': 24, 'Adv. Business Analytics': 23, 'Sustainable Supply Chains': 25}`"
   ]
  },
  {
   "cell_type": "code",
   "execution_count": null,
   "metadata": {},
   "outputs": [],
   "source": [
    "# Solution\n",
    "course_list = ['Operations Management', 'Python for Data Analysis', 'Adv. Business Analytics', 'Sustainable Supply Chains']\n",
    "course_dict = {k: len(k) for k in course_list}\n",
    "print(course_dict)"
   ]
  },
  {
   "cell_type": "markdown",
   "metadata": {
    "id": "QrmAhuzIYnd3"
   },
   "source": [
    "# Question 19\n",
    "\n",
    "Given a string, create a dictionary where the keys are the unique characters in the string and the values are the number of times each character appears in the string. You need to use `set` function along with dictionary comprehension. Run your code on `sample_word = \"Mississippi\"` and print the results using `print()` function."
   ]
  },
  {
   "cell_type": "code",
   "execution_count": null,
   "metadata": {},
   "outputs": [],
   "source": [
    "# Solution\n",
    "sample_word = \"Mississippi\"\n",
    "def uni_time(string):\n",
    "    dict = {k: string.count(k) for k in set(string)}\n",
    "    return dict\n",
    "uni_time(sample_word)"
   ]
  },
  {
   "cell_type": "code",
   "execution_count": null,
   "metadata": {},
   "outputs": [],
   "source": []
  }
 ],
 "metadata": {
  "colab": {
   "collapsed_sections": [],
   "name": "Updated Week 3 Homework_6Feb.ipynb",
   "provenance": []
  },
  "kernelspec": {
   "display_name": "Python 3 (ipykernel)",
   "language": "python",
   "name": "python3"
  },
  "language_info": {
   "codemirror_mode": {
    "name": "ipython",
    "version": 3
   },
   "file_extension": ".py",
   "mimetype": "text/x-python",
   "name": "python",
   "nbconvert_exporter": "python",
   "pygments_lexer": "ipython3",
   "version": "3.12.4"
  }
 },
 "nbformat": 4,
 "nbformat_minor": 4
}
