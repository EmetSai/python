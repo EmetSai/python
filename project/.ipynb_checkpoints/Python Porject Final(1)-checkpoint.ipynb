{
 "cells": [
  {
   "cell_type": "markdown",
   "id": "c406e707-ad46-4711-b7a8-33c47f1821db",
   "metadata": {},
   "source": [
    "# Python Team Porject\n",
    "### Group member: Boduo Lin, Qiaochu Ma, Meng Zhang, Jiaren Han, Wenyuan Pan"
   ]
  },
  {
   "cell_type": "markdown",
   "id": "87a649fa-d0dd-4b18-85dd-c5b2997f588f",
   "metadata": {},
   "source": [
    "## 1. Data Preprocessing"
   ]
  },
  {
   "cell_type": "code",
   "execution_count": null,
   "id": "6b03df17-ebb9-4b57-875d-ba50122bfb0f",
   "metadata": {},
   "outputs": [],
   "source": [
    "import pandas as pd\n",
    "import missingno as msno\n",
    "import seaborn as sns\n",
    "import matplotlib.pyplot as plt\n",
    "import numpy as np"
   ]
  },
  {
   "cell_type": "markdown",
   "id": "4211bd38-d680-4850-8d47-8495fd4f2552",
   "metadata": {},
   "source": [
    "#### Concatenate two files"
   ]
  },
  {
   "cell_type": "code",
   "execution_count": null,
   "id": "d88039fb-39e8-4749-86d5-104b083db79d",
   "metadata": {},
   "outputs": [],
   "source": [
    "fuel1 = pd.read_csv('Fuel_Level_Part_1.csv')\n",
    "fuel2 = pd.read_csv('Fuel_Level_Part_2.csv')\n",
    "display(fuel1)\n",
    "display(fuel2)"
   ]
  },
  {
   "cell_type": "code",
   "execution_count": null,
   "id": "c7e2e6e6-fb36-4937-ae38-75aade56ec93",
   "metadata": {},
   "outputs": [],
   "source": [
    "fuel2.rename(columns= {'Fuel_Level' : 'Fuel Level'},inplace= True)\n",
    "fuel1.rename(columns = {'Time stamp' : 'Timestamp'},inplace= True)"
   ]
  },
  {
   "cell_type": "code",
   "execution_count": null,
   "id": "65db1c5f-3a47-4521-a59d-c11bd05eca24",
   "metadata": {},
   "outputs": [],
   "source": [
    "fuel_level = pd.concat([fuel1,fuel2])\n",
    "display(fuel_level)"
   ]
  },
  {
   "cell_type": "markdown",
   "id": "867332e2-3239-452a-a965-16396a63995f",
   "metadata": {},
   "source": [
    "#### Merge three datasets"
   ]
  },
  {
   "cell_type": "code",
   "execution_count": null,
   "id": "649f3f24-c6a7-4432-8efe-1b0cee99ecf5",
   "metadata": {},
   "outputs": [],
   "source": [
    "tanks = pd.read_csv('Tanks.csv')\n",
    "locations = pd.read_csv('Locations.csv')\n",
    "invoices = pd.read_csv ('invoices.csv')"
   ]
  },
  {
   "cell_type": "code",
   "execution_count": null,
   "id": "f6e02c23-b346-41af-ba65-90a0692bdfc7",
   "metadata": {},
   "outputs": [],
   "source": [
    "merge1= pd.merge(tanks, locations, left_on=\"Tank Location\", right_on=\"Gas Station Location\", how=\"inner\")\n",
    "gas_station = pd.merge(merge1, invoices, left_on=\"Gas Station Location\", right_on=\"Invoice Gas Station Location\", how=\"inner\")\n",
    "display(gas_station.head())\n",
    "# We named the dataset that includes all three data as 'gas_station'"
   ]
  },
  {
   "cell_type": "markdown",
   "id": "64f4b1fc-c4cb-406c-aad8-d3810833a0a5",
   "metadata": {},
   "source": [
    "#### Data cleaning"
   ]
  },
  {
   "cell_type": "code",
   "execution_count": null,
   "id": "76019a50-7b12-4604-8775-0426819bb6e6",
   "metadata": {},
   "outputs": [],
   "source": [
    "# Data cleaning for gas_station\n",
    "msno.matrix(gas_station)"
   ]
  },
  {
   "cell_type": "code",
   "execution_count": null,
   "id": "368877f6-cc11-45e2-9382-78d70ecc54f6",
   "metadata": {},
   "outputs": [],
   "source": [
    "gas_station.isnull().sum()"
   ]
  },
  {
   "cell_type": "code",
   "execution_count": null,
   "id": "3645046d-597e-4237-96a3-4f300a61c2ec",
   "metadata": {},
   "outputs": [],
   "source": [
    "gas_station = gas_station.dropna()\n",
    "gas_station.head()\n",
    "# we've dropped 116 rows with missing data, now they all have full data sources."
   ]
  },
  {
   "cell_type": "code",
   "execution_count": null,
   "id": "d1f80596-0e7d-4535-ab05-854041e6bc16",
   "metadata": {},
   "outputs": [],
   "source": [
    "msno.matrix(gas_station)"
   ]
  },
  {
   "cell_type": "markdown",
   "id": "d98cf241-7850-4556-b03b-b1fa5bba6a29",
   "metadata": {},
   "source": [
    "#### data cleaning for fuel_level"
   ]
  },
  {
   "cell_type": "code",
   "execution_count": null,
   "id": "dad3e057-730c-4ef0-b28d-aa148f0060e1",
   "metadata": {},
   "outputs": [],
   "source": [
    "msno.bar(fuel_level)"
   ]
  },
  {
   "cell_type": "code",
   "execution_count": null,
   "id": "aafd964c-80df-4211-b38e-68a46481e748",
   "metadata": {},
   "outputs": [],
   "source": [
    "fuel_level[fuel_level.isnull().any(axis=1)]"
   ]
  },
  {
   "cell_type": "code",
   "execution_count": null,
   "id": "9a71b803-a3c1-41b2-80dc-0337871037d0",
   "metadata": {},
   "outputs": [],
   "source": [
    "fuel_level = fuel_level.dropna()\n",
    "display(fuel_level)\n",
    "# we've dropped 2 rows with missing data, now they all have full data sources."
   ]
  },
  {
   "cell_type": "code",
   "execution_count": null,
   "id": "7943f387-8a09-4376-906f-918d5cf9abac",
   "metadata": {},
   "outputs": [],
   "source": [
    "# checking whether fuel_level has duplicated data\n",
    "duplicated_ID_timestamp = fuel_level[fuel_level.duplicated(subset= ['Tank ID','Timestamp'], keep= False)]\n",
    "duplicated_ID_timestamp\n",
    "# there are 237 rows of data that are duplicated, we need to clean them as well."
   ]
  },
  {
   "cell_type": "code",
   "execution_count": null,
   "id": "c6c5fd05-eac5-4ea4-8cbe-c3344902b5d1",
   "metadata": {},
   "outputs": [],
   "source": [
    "# clean duplicated data by keeping their first existing data\n",
    "fuel_level = fuel_level.drop_duplicates(subset= ['Tank ID','Timestamp'], keep= 'first').reset_index(drop= True)\n",
    "display(fuel_level)\n",
    "# Now, this is the fuel_level data with no missing data and duplicated data."
   ]
  },
  {
   "cell_type": "markdown",
   "id": "58c0762e-1c54-4dd9-83e3-8ada8c32e44e",
   "metadata": {},
   "source": [
    "### 1.1 Visualize Fuel Levels"
   ]
  },
  {
   "cell_type": "code",
   "execution_count": null,
   "id": "c5e062b9-ba86-4a22-ad7f-019b0f70937c",
   "metadata": {},
   "outputs": [],
   "source": [
    "# change datatype of timestamp to Datetime\n",
    "fuel_level.Timestamp = pd.to_datetime(fuel_level.Timestamp)\n",
    "display(fuel_level.dtypes)"
   ]
  },
  {
   "cell_type": "code",
   "execution_count": null,
   "id": "822d0b5f-c237-471e-adf1-ea54aa9061c7",
   "metadata": {},
   "outputs": [],
   "source": [
    "# visualize each tanks' fuel level\n",
    "def visual_tank(ID):\n",
    "    plt.figure(figsize= (20,4))\n",
    "    plt.title(f' Fuel Level of {ID} by time')\n",
    "    return sns.lineplot(data = fuel_level[fuel_level['Tank ID'] == ID],\n",
    "               x = 'Timestamp',\n",
    "               y = 'Fuel Level');"
   ]
  },
  {
   "cell_type": "code",
   "execution_count": null,
   "id": "e00e696f-b2d6-4ddf-ae82-d20b970ae449",
   "metadata": {},
   "outputs": [],
   "source": [
    "# Check unique tanks\n",
    "fuel_level['Tank ID'].unique()"
   ]
  },
  {
   "cell_type": "code",
   "execution_count": null,
   "id": "e7e94fca-7de1-4a2d-b4a7-718b222433c2",
   "metadata": {},
   "outputs": [],
   "source": [
    "visual_tank('T 10');"
   ]
  },
  {
   "cell_type": "code",
   "execution_count": null,
   "id": "a94b045c-c42f-4fdd-a566-b049e59ba1b4",
   "metadata": {},
   "outputs": [],
   "source": [
    "visual_tank('T 11');"
   ]
  },
  {
   "cell_type": "code",
   "execution_count": null,
   "id": "bf293e21-f748-4f3f-8bfe-cac5b607f510",
   "metadata": {},
   "outputs": [],
   "source": [
    "visual_tank('T 12');"
   ]
  },
  {
   "cell_type": "code",
   "execution_count": null,
   "id": "7844c602-93f5-4348-830f-24156a708834",
   "metadata": {},
   "outputs": [],
   "source": [
    "visual_tank('T 13');"
   ]
  },
  {
   "cell_type": "code",
   "execution_count": null,
   "id": "bdda168d-6b0d-4141-b818-cac3c21ccede",
   "metadata": {},
   "outputs": [],
   "source": [
    "visual_tank('T 14');"
   ]
  },
  {
   "cell_type": "code",
   "execution_count": null,
   "id": "e328214c-442b-426a-84c7-ab2f8ddda49e",
   "metadata": {},
   "outputs": [],
   "source": [
    "visual_tank('T 15');"
   ]
  },
  {
   "cell_type": "code",
   "execution_count": null,
   "id": "180226a4-ea77-49c0-bc51-a4f810a99e9e",
   "metadata": {},
   "outputs": [],
   "source": [
    "visual_tank('T 16');"
   ]
  },
  {
   "cell_type": "code",
   "execution_count": null,
   "id": "682623f7-d53a-4efb-93c0-7d47e9ee8955",
   "metadata": {},
   "outputs": [],
   "source": [
    "visual_tank('T 17');"
   ]
  },
  {
   "cell_type": "code",
   "execution_count": null,
   "id": "a9a0129d-6299-4e98-b870-652c192ff4b2",
   "metadata": {},
   "outputs": [],
   "source": [
    "visual_tank('T 18');"
   ]
  },
  {
   "cell_type": "code",
   "execution_count": null,
   "id": "4e061b37-a7fa-4cbc-8132-d16fc53944ce",
   "metadata": {},
   "outputs": [],
   "source": [
    "visual_tank('T 19');"
   ]
  },
  {
   "cell_type": "code",
   "execution_count": null,
   "id": "156fe1ce-2db2-4879-957b-f0f415683770",
   "metadata": {},
   "outputs": [],
   "source": [
    "visual_tank('T 20');"
   ]
  },
  {
   "cell_type": "code",
   "execution_count": null,
   "id": "bf62d0dc-79d6-4dc5-89d1-d08447ca2e83",
   "metadata": {},
   "outputs": [],
   "source": [
    "visual_tank('T 21');"
   ]
  },
  {
   "cell_type": "code",
   "execution_count": null,
   "id": "af4c9e50-bd4b-4a73-a703-bc0a23d0972e",
   "metadata": {},
   "outputs": [],
   "source": [
    "visual_tank('T 22');"
   ]
  },
  {
   "cell_type": "code",
   "execution_count": null,
   "id": "b7f5e048-5a79-425f-98f7-4722945ca8b8",
   "metadata": {},
   "outputs": [],
   "source": [
    "visual_tank('T 23');"
   ]
  },
  {
   "cell_type": "code",
   "execution_count": null,
   "id": "d497cd41-ba7a-416b-a9a1-42d2107da70f",
   "metadata": {},
   "outputs": [],
   "source": [
    "visual_tank('T 24');"
   ]
  },
  {
   "cell_type": "code",
   "execution_count": null,
   "id": "887d85d2-ce35-4d0e-aaa2-392983c03ac4",
   "metadata": {},
   "outputs": [],
   "source": [
    "visual_tank('T 25');"
   ]
  },
  {
   "cell_type": "code",
   "execution_count": null,
   "id": "3790e7e5-03f3-485c-a039-828677ddbc82",
   "metadata": {},
   "outputs": [],
   "source": [
    "visual_tank('T 26');"
   ]
  },
  {
   "cell_type": "code",
   "execution_count": null,
   "id": "00a5c005-3e22-430e-949e-1aeb70cf49d7",
   "metadata": {},
   "outputs": [],
   "source": [
    "visual_tank('T 27');"
   ]
  },
  {
   "cell_type": "code",
   "execution_count": null,
   "id": "02de8f0a-7794-4b6d-9b98-96d2941cfe5d",
   "metadata": {},
   "outputs": [],
   "source": [
    "visual_tank('T 28');"
   ]
  },
  {
   "cell_type": "code",
   "execution_count": null,
   "id": "c5e9f57d-d0cf-4496-bda1-b0675bb11bf8",
   "metadata": {},
   "outputs": [],
   "source": [
    "visual_tank('T 29');"
   ]
  },
  {
   "cell_type": "code",
   "execution_count": null,
   "id": "81612041-f756-409e-bf30-dc6ea0807e1d",
   "metadata": {},
   "outputs": [],
   "source": [
    "visual_tank('T 30');"
   ]
  },
  {
   "cell_type": "code",
   "execution_count": null,
   "id": "5d5f13c1-3f98-4f2e-b7fd-2761ae6019cf",
   "metadata": {},
   "outputs": [],
   "source": [
    "visual_tank('T 31');"
   ]
  },
  {
   "cell_type": "code",
   "execution_count": null,
   "id": "e742ec25-c044-4023-a6b4-4fa3d8c08ff3",
   "metadata": {},
   "outputs": [],
   "source": [
    "visual_tank('T 32');"
   ]
  },
  {
   "cell_type": "code",
   "execution_count": null,
   "id": "bc9c3095-94a6-4dee-a088-c1437912e697",
   "metadata": {},
   "outputs": [],
   "source": [
    "# find locations for each tank\n",
    "tank_location = gas_station[['Tank ID', 'Gas Station Location']].drop_duplicates()\n",
    "tank_location"
   ]
  },
  {
   "cell_type": "markdown",
   "id": "03f702f0-a061-4be2-aa8a-22aa1987bad4",
   "metadata": {},
   "source": []
  },
  {
   "cell_type": "markdown",
   "id": "a532f205-05fb-47bb-b43a-ebd47b9c77d2",
   "metadata": {},
   "source": [
    "### 1.2 Quantify Current Performance"
   ]
  },
  {
   "cell_type": "code",
   "execution_count": null,
   "id": "2407ac33-dfab-428b-9c7d-26e93fb00c7c",
   "metadata": {},
   "outputs": [],
   "source": [
    "msno.matrix(gas_station)"
   ]
  },
  {
   "cell_type": "code",
   "execution_count": null,
   "id": "b4ee1d1c-1c7a-4540-9e5d-e9a783206aee",
   "metadata": {},
   "outputs": [],
   "source": [
    "gas_station.head()"
   ]
  },
  {
   "cell_type": "code",
   "execution_count": null,
   "id": "90454687-6d56-4898-8324-9a8e80786ef1",
   "metadata": {},
   "outputs": [],
   "source": [
    "#Calculate which station creates the most orders\n",
    "gas_station['Invoice Gas Station Location'].value_counts()"
   ]
  },
  {
   "cell_type": "code",
   "execution_count": null,
   "id": "6abe640e-cbe8-4473-bd33-3e76d5c7ab25",
   "metadata": {},
   "outputs": [],
   "source": [
    "#Calculate the total amount of fuel purchased by each station\n",
    "gas_station.groupby('Invoice Gas Station Location')['Amount Purchased'].sum().sort_values(ascending = False)"
   ]
  },
  {
   "cell_type": "code",
   "execution_count": null,
   "id": "069eea53-5a2a-415e-9bb2-786e8a58dd15",
   "metadata": {},
   "outputs": [],
   "source": [
    "#fuel type that is purchased more by the gas stations\n",
    "gas_station.groupby('Fuel Type')['Amount Purchased'].sum()"
   ]
  },
  {
   "cell_type": "code",
   "execution_count": null,
   "id": "e6c09a72-85a3-4a65-8b3e-15a5da371acb",
   "metadata": {},
   "outputs": [],
   "source": [
    "#Convert 'Invoice Date' into datetime\n",
    "gas_station['Invoice Date'] = pd.to_datetime(gas_station['Invoice Date'])"
   ]
  },
  {
   "cell_type": "code",
   "execution_count": null,
   "id": "22193046-e8c1-4b41-849c-9010f0cc4550",
   "metadata": {},
   "outputs": [],
   "source": [
    "#Add a column to extract the month of the order\n",
    "gas_station['Month'] = gas_station['Invoice Date'].dt.month\n",
    "\n",
    "#Group by 'Month' and calculate the total amount purchased for each month\n",
    "monthly_purchase = gas_station.groupby('Month')['Amount Purchased'].sum().reset_index()\n",
    "\n",
    "#Sort by the 'Amount Purchased' to find the month with the highest purchase\n",
    "max_purchase_month = monthly_purchase.sort_values(by='Amount Purchased', ascending=False)"
   ]
  },
  {
   "cell_type": "code",
   "execution_count": null,
   "id": "f919b2db-8c95-4324-905c-305df5a78140",
   "metadata": {},
   "outputs": [],
   "source": [
    "max_purchase_month"
   ]
  },
  {
   "cell_type": "code",
   "execution_count": null,
   "id": "50017da0-de9b-4741-b7da-7789b66c9b69",
   "metadata": {},
   "outputs": [],
   "source": [
    "def calculate_discount(Amount_Purchased):\n",
    "    \"\"\"\n",
    "    Purchase quantity (liters)\tDiscount per liter\n",
    "    0-15000\t    0\n",
    "    15000-25000\t2 cents\n",
    "    25000-40000\t3 center\n",
    "    40000+\t    4 cents\n",
    "    \n",
    "    \"\"\"\n",
    "    if Amount_Purchased<=15000:\n",
    "        discount = 0\n",
    "    elif 15000<Amount_Purchased<=25000:\n",
    "        discount = Amount_Purchased*0.02\n",
    "    elif 25000<Amount_Purchased<=40000:\n",
    "        discount = Amount_Purchased*0.03\n",
    "    else:\n",
    "        discount = Amount_Purchased*0.04\n",
    "\n",
    "    return discount\n",
    "\n",
    "gas_station['discount'] = gas_station['Amount Purchased'].apply(calculate_discount)"
   ]
  },
  {
   "cell_type": "code",
   "execution_count": null,
   "id": "40f33771-f448-418f-b2a2-e75e6231b599",
   "metadata": {},
   "outputs": [],
   "source": [
    "gas_station.head()"
   ]
  },
  {
   "cell_type": "code",
   "execution_count": null,
   "id": "87535521-a96e-4f33-97f9-189588efa52d",
   "metadata": {},
   "outputs": [],
   "source": [
    "#The total discount amount for each gas station\n",
    "gas_station.groupby('Invoice Gas Station Location')['discount'].sum().sort_values(ascending = False)"
   ]
  },
  {
   "cell_type": "markdown",
   "id": "bd373a5a-d4f2-4f24-a65d-82fb0952581f",
   "metadata": {},
   "source": [
    "## 2. Recommend Improved Ordering Strategies"
   ]
  },
  {
   "cell_type": "markdown",
   "id": "85b4a36e-364a-4719-bb08-da12b4276b63",
   "metadata": {},
   "source": [
    "### 2.1 Max Discount Based on Tank Capacity"
   ]
  },
  {
   "cell_type": "code",
   "execution_count": null,
   "id": "9daa6aba-ee35-467e-819f-b4d1f4d1f329",
   "metadata": {},
   "outputs": [],
   "source": [
    "#Tanks\n",
    "def max_discount(capacity):\n",
    "    \"\"\"\n",
    "    Purchase quantity (liters)\tDiscount per liter\n",
    "    0-15000\t    0\n",
    "    15000-25000\t2 cents\n",
    "    25000-40000\t3 center\n",
    "    40000+\t    4 cents\n",
    "    \n",
    "    \"\"\"\n",
    "    if capacity<=15000:\n",
    "        discount = 0\n",
    "    elif 15000<capacity<=25000:\n",
    "        discount = 0.02\n",
    "    elif 25000<capacity<=40000:\n",
    "        discount = 0.03\n",
    "    else:\n",
    "        discount = 0.04\n",
    "\n",
    "    return discount\n",
    "\n",
    "tanks['max_possible_discount_per_liter'] = tanks['Tank Capacity'].apply(max_discount)"
   ]
  },
  {
   "cell_type": "code",
   "execution_count": null,
   "id": "b8758fe3-22a0-464a-bf3a-5b6977700de7",
   "metadata": {},
   "outputs": [],
   "source": [
    "tanks"
   ]
  },
  {
   "cell_type": "code",
   "execution_count": null,
   "id": "f877793d-b965-4bdf-8963-2a58fd5def37",
   "metadata": {},
   "outputs": [],
   "source": [
    "#Max possible discount per liter by tank type in each tank location\n",
    "tanks.groupby(['Tank Location','Tank Type'])['max_possible_discount_per_liter'].max()"
   ]
  },
  {
   "cell_type": "markdown",
   "id": "5f03efdd-7396-4068-91af-48bb6a115bf9",
   "metadata": {},
   "source": [
    "### 2.2 Calculate a 7-day inventory threshold"
   ]
  },
  {
   "cell_type": "code",
   "execution_count": null,
   "id": "04e809e8-4c82-4f56-b4ea-5ce72ec2b008",
   "metadata": {},
   "outputs": [],
   "source": [
    "# Calculate daily consumption for each location and tank type\n",
    "# Group by Gas Station Location and Fuel Type to calculate average daily consumption\n",
    "daily_consumption = (\n",
    "    gas_station.groupby(['Gas Station Location', 'Fuel Type'])\n",
    "    .agg({'Amount Purchased': 'sum'})\n",
    "    .rename(columns={'Amount Purchased': 'Total_Consumption'})\n",
    "    .reset_index()\n",
    ")\n",
    "daily_consumption['Avg_Daily_Consumption'] = daily_consumption['Total_Consumption'] / 30  # Assuming a 30-day month\n",
    "\n",
    "# Calculate the 7-day inventory threshold\n",
    "daily_consumption['7_Day_Threshold'] = daily_consumption['Avg_Daily_Consumption'] * 7\n",
    "daily_consumption['7_Day_Threshold']"
   ]
  },
  {
   "cell_type": "markdown",
   "id": "1b539434-0b60-4670-b9f2-498a2c03995a",
   "metadata": {},
   "source": [
    "### 2.3 Compute potential savings"
   ]
  },
  {
   "cell_type": "code",
   "execution_count": null,
   "id": "34648361-f6fe-4bc6-a511-a38519b03553",
   "metadata": {},
   "outputs": [],
   "source": [
    "## Analyze invoices for potential savings with tiered discounts\n",
    "def calculate_discount(amount):\n",
    "    if amount < 15000:\n",
    "        return 0\n",
    "    elif amount <= 25000:\n",
    "        return 0.02  # 2 cents per liter\n",
    "    elif amount <= 40000:\n",
    "        return 0.03  # 3 cents per liter\n",
    "    else:\n",
    "        return 0.04  # 4 cents per liter\n",
    "\n",
    "gas_station['Discount_per_Liter'] = gas_station['Amount Purchased'].apply(calculate_discount)\n",
    "gas_station['Potential_Savings'] = gas_station['Amount Purchased'] * gas_station['Discount_per_Liter']"
   ]
  },
  {
   "cell_type": "code",
   "execution_count": null,
   "id": "ca97afdc-79bc-46f2-a1fc-759a6b4273e4",
   "metadata": {},
   "outputs": [],
   "source": [
    "# Aggregate potential savings and costs\n",
    "invoice_summary = (\n",
    "    gas_station.groupby(['Gas Station Location', 'Fuel Type'])\n",
    "    .agg({\n",
    "        'Gross Purchase Cost': 'sum',\n",
    "        'Amount Purchased': 'sum',\n",
    "        'Potential_Savings': 'sum'\n",
    "    })\n",
    "    .reset_index()\n",
    ")"
   ]
  },
  {
   "cell_type": "code",
   "execution_count": null,
   "id": "2decf746-70c0-43b6-9dc7-331333872af9",
   "metadata": {},
   "outputs": [],
   "source": [
    "display(invoice_summary)"
   ]
  },
  {
   "cell_type": "markdown",
   "id": "8e670f66-8865-4fee-80a3-75e968f3932e",
   "metadata": {},
   "source": [
    "## 3. Identify the Best Day for Fuel Orders"
   ]
  },
  {
   "cell_type": "code",
   "execution_count": null,
   "id": "6d1c27d4-d860-41ec-b9b8-f1987da0161c",
   "metadata": {},
   "outputs": [],
   "source": [
    "# 1. Read the Invoices.csv file\n",
    "invoices_df = pd.read_csv(\"Invoices.csv\")"
   ]
  },
  {
   "cell_type": "code",
   "execution_count": null,
   "id": "71ab88b2-5277-4517-9568-5d4338de511b",
   "metadata": {},
   "outputs": [],
   "source": [
    "# 2. Convert Invoice Date to a datetime object\n",
    "invoices_df[\"Invoice Date\"] = pd.to_datetime(\n",
    "    invoices_df[\"Invoice Date\"], \n",
    "    format=\"%m/%d/%Y\", \n",
    "    errors=\"coerce\"\n",
    ")"
   ]
  },
  {
   "cell_type": "code",
   "execution_count": null,
   "id": "5b6d7c38-8a04-493c-89a0-e7d9c70bae51",
   "metadata": {},
   "outputs": [],
   "source": [
    "# 3. Calculate price per liter: Gross Purchase Cost / Amount Purchased\n",
    "invoices_df[\"Price_per_Liter\"] = (\n",
    "    invoices_df[\"Gross Purchase Cost\"] / invoices_df[\"Amount Purchased\"]\n",
    ")"
   ]
  },
  {
   "cell_type": "code",
   "execution_count": null,
   "id": "e962f714-aa54-49b6-a957-e981aa45eb65",
   "metadata": {},
   "outputs": [],
   "source": [
    "# 4. Extract the day of week (e.g., Monday, Tuesday, etc.)\n",
    "invoices_df[\"Day_of_Week\"] = invoices_df[\"Invoice Date\"].dt.day_name()"
   ]
  },
  {
   "cell_type": "code",
   "execution_count": null,
   "id": "804fdcd4-c265-4e02-82f8-85622953690d",
   "metadata": {},
   "outputs": [],
   "source": [
    "# 5. Group by day of week and find the average price per liter\n",
    "avg_price_by_day = invoices_df.groupby(\"Day_of_Week\")[\"Price_per_Liter\"].mean().reset_index()"
   ]
  },
  {
   "cell_type": "code",
   "execution_count": null,
   "id": "ce2916da-9383-4cb1-a6fd-f661050dbbf7",
   "metadata": {},
   "outputs": [],
   "source": [
    "# order days Monday → Sunday if desired\n",
    "day_order = {\n",
    "    \"Monday\": 0, \"Tuesday\": 1, \"Wednesday\": 2, \n",
    "    \"Thursday\": 3, \"Friday\": 4, \"Saturday\": 5, \"Sunday\": 6\n",
    "}\n",
    "avg_price_by_day[\"Day_Index\"] = avg_price_by_day[\"Day_of_Week\"].map(day_order)\n",
    "avg_price_by_day.sort_values(\"Day_Index\", inplace=True)"
   ]
  },
  {
   "cell_type": "code",
   "execution_count": null,
   "id": "4ab9b95b-c121-4698-9ccb-725c44bca7fe",
   "metadata": {},
   "outputs": [],
   "source": [
    "# 6. Identify which day has the lowest average price\n",
    "cheapest_day_row = avg_price_by_day.loc[avg_price_by_day[\"Price_per_Liter\"].idxmin()]\n",
    "cheapest_day = cheapest_day_row[\"Day_of_Week\"]\n",
    "lowest_price = cheapest_day_row[\"Price_per_Liter\"]\n",
    "\n",
    "print(f\"Cheapest day of the week: {cheapest_day}\")\n",
    "print(f\"Average price on that day: ${lowest_price:.4f} per liter\")"
   ]
  },
  {
   "cell_type": "code",
   "execution_count": null,
   "id": "31abf1a3-3c78-43bd-8d71-c657a8ec47b3",
   "metadata": {},
   "outputs": [],
   "source": [
    "# 7. visualize average price per liter by day of week\n",
    "plt.figure(figsize=(8,5))\n",
    "sns.barplot(\n",
    "    x=\"Day_of_Week\", \n",
    "    y=\"Price_per_Liter\", \n",
    "    data=avg_price_by_day,\n",
    "    order=avg_price_by_day[\"Day_of_Week\"]\n",
    ")\n",
    "plt.title(\"Average Price per Liter by Day of Week\")\n",
    "plt.xlabel(\"Day of Week\")\n",
    "plt.ylabel(\"Avg Price per Liter (CAD)\")\n",
    "plt.show()"
   ]
  },
  {
   "cell_type": "code",
   "execution_count": null,
   "id": "cc79c666-f2d8-4c88-b506-9655239daea4",
   "metadata": {},
   "outputs": [],
   "source": [
    "# 8. Theoretical savings if ALL purchases happened on the cheapest day\n",
    "invoices_df[\"Savings_if_Cheapest\"] = (\n",
    "    (invoices_df[\"Price_per_Liter\"] - lowest_price) \n",
    "    * invoices_df[\"Amount Purchased\"]\n",
    ")\n",
    "total_savings = invoices_df[\"Savings_if_Cheapest\"].sum()\n",
    "\n",
    "print(f\"Total potential savings if all orders were made on {cheapest_day}: \"\n",
    "      f\"${total_savings:,.2f}\")"
   ]
  },
  {
   "cell_type": "code",
   "execution_count": null,
   "id": "05da30dc-58ed-48a9-ae11-d97d718dd6af",
   "metadata": {},
   "outputs": [],
   "source": []
  },
  {
   "cell_type": "markdown",
   "id": "8b786343-328d-46a5-853e-9f26a58f8c2c",
   "metadata": {},
   "source": [
    "## 4. Evaluate the Feasibility of Adding Tanks"
   ]
  },
  {
   "cell_type": "markdown",
   "id": "fa5b9848-bf08-4102-ab49-7fe58db00a59",
   "metadata": {},
   "source": [
    "### 4.1 Assumption"
   ]
  },
  {
   "cell_type": "code",
   "execution_count": null,
   "id": "64862f76-5ec5-41e9-b8fb-bd60746904d1",
   "metadata": {},
   "outputs": [],
   "source": [
    "# Set threshold and cost for adding new tanks\n",
    "threshold = 0.85  # Consider adding new tanks if utilization exceeds 85%\n",
    "tank_cost = 50000  # Cost per tank (CAD)\n",
    "inflation_rate = 0.025  # Annual inflation rate 0.025\n",
    "growth_rate = 0.05  # Annual fuel demand growth rate\n",
    "years = 5  # Analysis period"
   ]
  },
  {
   "cell_type": "markdown",
   "id": "3fbcf677-a81f-4025-86e8-93fcd218cb75",
   "metadata": {},
   "source": [
    "### 4.2 Utilization Rate"
   ]
  },
  {
   "cell_type": "code",
   "execution_count": null,
   "id": "ac05ab6c-15e4-4b1d-8857-77a6bde658f1",
   "metadata": {},
   "outputs": [],
   "source": [
    "# Calculate utilization rate\n",
    "current_capacity = tanks.groupby('Tank Location')['Tank Capacity'].sum()\n",
    "total_purchase = invoices.groupby('Invoice Gas Station Location')['Amount Purchased'].sum()\n",
    "usage_ratio = total_purchase / current_capacity"
   ]
  },
  {
   "cell_type": "markdown",
   "id": "75ef1b8b-f0ed-4d99-ac53-8b611ab5a9ae",
   "metadata": {},
   "source": [
    "### 4.3 High-risk gas stations"
   ]
  },
  {
   "cell_type": "code",
   "execution_count": null,
   "id": "de71b6a9-c255-4b59-89be-5f62c6fb8708",
   "metadata": {},
   "outputs": [],
   "source": [
    "# Identify high-risk gas stations\n",
    "high_risk_stations = usage_ratio[usage_ratio > threshold].reset_index()\n",
    "high_risk_stations.columns = ['Tank Location', 'Usage Ratio']"
   ]
  },
  {
   "cell_type": "markdown",
   "id": "722f31c8-a432-43f8-8ac4-05d504d14f89",
   "metadata": {},
   "source": [
    "### 4.4 Calculate potential savings and ROI"
   ]
  },
  {
   "cell_type": "code",
   "execution_count": null,
   "id": "c87b11ad-4709-46a1-99fd-1e32553cf967",
   "metadata": {},
   "outputs": [],
   "source": [
    "# Calculate potential savings\n",
    "def calculate_savings(purchase):\n",
    "    if purchase <= 15000:\n",
    "        return 0\n",
    "    elif 15000 < purchase <= 25000:\n",
    "        return purchase * 0.02\n",
    "    elif 25000 < purchase <= 40000:\n",
    "        return purchase * 0.03\n",
    "    else:\n",
    "        return purchase * 0.04\n",
    "high_risk_stations['Potential Savings'] = high_risk_stations['Usage Ratio'] * total_purchase * 0.04"
   ]
  },
  {
   "cell_type": "code",
   "execution_count": null,
   "id": "3f8542ff-1ced-464f-9e6b-ab922d3d3dfa",
   "metadata": {},
   "outputs": [],
   "source": [
    "# Calculate return on investment (ROI)\n",
    "def evaluate_roi(savings, cost, inflation_rate, growth_rate, years):\n",
    "    total_savings = 0\n",
    "    for year in range(1, years + 1):\n",
    "        total_savings += savings * ((1 + growth_rate) ** year) / ((1 + inflation_rate) ** year)\n",
    "    roi = (total_savings - cost) / cost\n",
    "    return total_savings, roi"
   ]
  },
  {
   "cell_type": "code",
   "execution_count": null,
   "id": "623e16bd-44ca-41b2-84a2-ca9812727213",
   "metadata": {},
   "outputs": [],
   "source": [
    "# Evaluate high-risk gas stations\n",
    "results = []\n",
    "for index, row in high_risk_stations.iterrows():\n",
    "    savings, roi = evaluate_roi(row['Potential Savings'], tank_cost, inflation_rate, growth_rate, years)\n",
    "    results.append({\n",
    "        'Station': row['Tank Location'],\n",
    "        'Potential Savings (5 years)': savings,\n",
    "        'ROI': roi,\n",
    "        'Recommendation': 'Add Tank' if roi > 0 else 'No Need'\n",
    "    })"
   ]
  },
  {
   "cell_type": "markdown",
   "id": "770871e7-fbcf-448d-a02b-ee99651911be",
   "metadata": {},
   "source": [
    "### 4.5 Decision for adding tanks"
   ]
  },
  {
   "cell_type": "code",
   "execution_count": null,
   "id": "d0bde362-2b80-424c-bd61-e32d33f85fd4",
   "metadata": {},
   "outputs": [],
   "source": [
    "# Convert results to DataFrame for output\n",
    "results_df = pd.DataFrame(results)\n",
    "\n",
    "# Display results\n",
    "\n",
    "display(results_df)\n",
    "\n",
    "# (Optional) Save results to CSV for further analysis\n",
    "results_df.to_csv('tank_expansion_analysis.csv', index=False)"
   ]
  },
  {
   "cell_type": "code",
   "execution_count": null,
   "id": "68347e7e-9423-41fe-a509-a94befee49b3",
   "metadata": {},
   "outputs": [],
   "source": []
  }
 ],
 "metadata": {
  "kernelspec": {
   "display_name": "Python 3 (ipykernel)",
   "language": "python",
   "name": "python3"
  },
  "language_info": {
   "codemirror_mode": {
    "name": "ipython",
    "version": 3
   },
   "file_extension": ".py",
   "mimetype": "text/x-python",
   "name": "python",
   "nbconvert_exporter": "python",
   "pygments_lexer": "ipython3",
   "version": "3.12.4"
  }
 },
 "nbformat": 4,
 "nbformat_minor": 5
}
