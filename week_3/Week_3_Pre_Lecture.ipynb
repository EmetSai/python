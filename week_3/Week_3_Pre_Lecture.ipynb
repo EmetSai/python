{
 "cells": [
  {
   "cell_type": "markdown",
   "id": "bbe8cf52-bf38-440a-9225-5e5ef71770e1",
   "metadata": {},
   "source": [
    "# Pre-Class file"
   ]
  },
  {
   "cell_type": "markdown",
   "id": "4e672287-c491-42c3-a61c-e64ec1eddcae",
   "metadata": {},
   "source": [
    "## Please run the following cell first\n"
   ]
  },
  {
   "cell_type": "code",
   "execution_count": null,
   "id": "11cc4bc7-3531-4c35-a9a0-44ca8398e6df",
   "metadata": {
    "tags": []
   },
   "outputs": [],
   "source": [
    "costco_stores = {'USA': 591, 'Canada': 107, 'Mexico':40, 'Japan':32, \n",
    "                'UK': 29, 'Korea': 18, 'Australia': 15, 'Taiwan': 14,\n",
    "                 'Spain': 4, 'China': 4, 'France': 2, 'Iceland':1, \n",
    "                 'New Zealand': 1, 'Sweden': 1}\n",
    "\n",
    "# Data Based on World Migration Report 2022\n",
    "# The Countries That Attract the Most Migrants\n",
    "# Number of foreign-born people in eaech country\n",
    "# year 2000\n",
    "migrant_yr_2000 = {'US':34.8, 'RU':11.9, 'DE':9.0, 'IN': 6.4, \n",
    "                'FR': 6.3, 'UA': 5.5, 'CA': 5.5,'SA': 5.3}\n",
    "\n",
    "# year 2020\n",
    "migrant_yr_2020 = {'US':50.6, 'DE':15.8, 'SA':13.5, 'RU':11.6, \n",
    "               'GB':9.4, 'AE':8.7, 'FR':8.5, 'CA':8.0 \n",
    "               }\n",
    "# kind of a lung disease\n",
    "longest_word_in_English = 'pneumonoultramicroscopicsilicovolcanoconiosis'\n",
    "\n",
    "# sample dictionary\n",
    "dict_items  = {'a': 2, 'b': 3, 'c': 4, 'd': 5, 'z': 10, 'w': 9}\n",
    "\n",
    "fortunes = [\"A bird will poop on you. But hey, that's good luck, right? 🐦💩\",\n",
    "            \"You'll discover that unicorns are real... just very good at hide and seek 🦄🙈\",\n",
    "            \"You will find a lost sock... 🧦❤️\",\n",
    "            \"You will eat something delicious today. 🍔\",\n",
    "            \"Someone will call you today. Hint: It's someone you've been thinking of 📞💖\",\n",
    "            \"You will stumble upon internet gold.🌐🎶\",\n",
    "            \"An unexpected adventure awaits you 🗺️\",\n",
    "            \"Your coffee is suspecting you have a thing for tea. Better reassure it! ☕💔🍵\",\n",
    "            \"You will make a new friend, and sparks might fly 🤝💘\",\n",
    "            \"Your talents will be recognized🏆\",\n",
    "            \"A pleasant surprise is waiting for you.🎁\",\n",
    "            \"The cookie doesn't lie... except for this time. Totally made that up! 🥠😂\",\n",
    "            \"You will discover a hidden talent🎨\",\n",
    "             \"Your refrigerator is judging your snack choices. Just a heads up! 🍔👀\",\n",
    "            \"A forgotten memory with a friend will resurface soon 💭\",\n",
    "            \"Someone is speaking highly of you 🗣️\",\n",
    "            \"Your TV is feeling lonely. Maybe binge-watch that show tonight? 📺❤️\",\n",
    "            \"You will receive some good news by mail... 👀\",\n",
    "            \"Your kindness will pay off soon 💙\",\n",
    "            \"You are destined to achieve great things, and someone wants to be by your side 🌟👫\",\n",
    "            \"Trust your instincts; they're on point today 🔮\",\n",
    "            \"Your pet has been gossiping about you. Wonder what they're saying? 🐾💬\",\n",
    "            \"Tonight, look up at the stars; someone might be thinking of you 🌌💙\",\n",
    "            \"You'll soon receive a mysterious package. It's probably just more online shopping. 📦🛍️\",\n",
    "            \"Ever feel like you're forgetting something? Yeah, it's probably important... 😅\",\n",
    "            \"Remember that thing you forgot? Yeah, me neither. 🤷‍♂️\",\n",
    "            \"Your pet is plotting to take over your bed. They might just succeed. 🐾🛌\",\n",
    "    ]\n",
    "\n",
    "baby_names = [\n",
    "    \"Liam\", \"Emma\", \"Noah\", \"Ava\", \"Olivia\", \"Isabella\", \"Sophia\", \"Mia\", \"Charlotte\", \"Amelia\", \n",
    "    \"Harper\", \"Evelyn\", \"Abigail\", \"Ella\", \"Scarlett\", \"Grace\", \"Lily\", \"Aria\", \"Chloe\", \"Isabelle\", \n",
    "    \"Caleb\", \"Ethan\", \"Joseph\", \"Christopher\", \"Andrew\", \"Anthony\", \"Joshua\", \"Samuel\", \"Gabriel\", \"Ryan\", \n",
    "    \"Dylan\", \"Daniel\", \"Benjamin\", \"Adam\", \"Sebastian\", \"Logan\", \"Jackson\", \"David\", \"Aiden\", \"James\", \n",
    "    \"John\", \"William\", \"Oscar\", \"Luke\", \"Henry\", \"Mateo\", \"Julian\", \"Jack\", \"Edward\", \"Leo\", \n",
    "    \"Jayden\", \"Carter\", \"Owen\", \"Wyatt\", \"Elijah\", \"Grayson\", \"Isaac\", \"Ian\", \"Carson\", \"Jaxon\", \n",
    "    \"Nolan\", \"Easton\", \"Nicholas\", \"Colton\", \"Maverick\", \"Axel\", \"Everett\", \"Kayden\", \"Bryson\", \"Weston\", \n",
    "    \"Ezra\", \"Miles\", \"Damian\", \"Micah\", \"Vincent\", \"Santiago\", \"Harrison\", \"Waylon\", \"Diego\", \"Cole\", \n",
    "    \"Max\", \"Evan\", \"Elliot\", \"Xander\", \"Antonio\", \"Braxton\", \"Dominic\", \"Dean\", \"Gael\", \"Lukas\", \n",
    "    \"Alan\", \"Rafael\", \"Kai\", \"Jude\", \"Adriel\", \"Tucker\", \"Rhett\", \"Ryker\", \"Ronan\", \"Jett\", \n",
    "    \"Bentley\", \"Zion\", \"Brooks\", \"Bennett\", \"Soren\", \"Maddox\", \"Nicolas\", \"Emilio\", \"Jensen\", \"Finn\", \n",
    "    \"Theo\", \"Rayan\", \"Zane\", \"Marcos\", \"Seth\", \"Travis\", \"Wade\", \"Walter\", \"Zayd\", \"Albert\", \n",
    "    \"Mohammed\", \"Nelson\", \"Cory\", \"Raphael\", \"Dante\", \"Rex\", \"Saul\", \"Taylor\", \"Zayn\", \"Arlo\", \n",
    "    \"Crew\", \"Francis\", \"Rory\", \"Hank\", \"Kellen\", \"Otis\", \"Quinton\", \"Kenny\", \"Sonny\", \"Mauricio\", \n",
    "    \"Ray\", \"Zeke\", \"Zaire\", \"Solomon\", \"Troy\", \"Kyson\", \"Brentley\", \"Ramon\", \"Jamir\", \"Vihaan\"\n",
    "]"
   ]
  },
  {
   "cell_type": "markdown",
   "id": "fdfe5e6f-a680-42e8-85f0-687019c22464",
   "metadata": {},
   "source": [
    "## Week 3 file"
   ]
  },
  {
   "cell_type": "code",
   "execution_count": null,
   "id": "e3e5da11-b96b-4efc-90e0-039095ab3652",
   "metadata": {},
   "outputs": [],
   "source": [
    "%whos"
   ]
  },
  {
   "cell_type": "code",
   "execution_count": null,
   "id": "52f36687-472a-4650-a900-677ba83f6d82",
   "metadata": {},
   "outputs": [],
   "source": [
    "%who"
   ]
  },
  {
   "cell_type": "code",
   "execution_count": null,
   "id": "311dc14f-68d3-45c1-b2c2-df89a7cd083e",
   "metadata": {},
   "outputs": [],
   "source": [
    "# list of variables\n",
    "%who_ls\n"
   ]
  },
  {
   "cell_type": "markdown",
   "id": "e11b1533-ac36-490e-ba4d-a6025620592c",
   "metadata": {},
   "source": [
    "## two new tricks with f-string"
   ]
  },
  {
   "cell_type": "code",
   "execution_count": null,
   "id": "b080d59f-c1d7-4d36-bd63-5cc96e2c1dd9",
   "metadata": {},
   "outputs": [],
   "source": [
    "x=2.3213\n",
    "y=1232131231"
   ]
  },
  {
   "cell_type": "code",
   "execution_count": null,
   "id": "6bbe7808-b7e2-404c-a147-aa547127ec4a",
   "metadata": {},
   "outputs": [],
   "source": [
    "print(f'x is {x:.3f}')"
   ]
  },
  {
   "cell_type": "code",
   "execution_count": null,
   "id": "fbc1f50e-7a24-4826-a46e-7a839044a6e5",
   "metadata": {},
   "outputs": [],
   "source": [
    "print(f'x is {x:.2%}')"
   ]
  },
  {
   "cell_type": "code",
   "execution_count": null,
   "id": "2cb9c3fb-39bd-4d9b-b17f-6653729d41e9",
   "metadata": {},
   "outputs": [],
   "source": [
    "# seperate large number by ','\n",
    "print(f'y is {y:,}')"
   ]
  },
  {
   "cell_type": "code",
   "execution_count": null,
   "id": "1b8b4175-ed86-4d52-bd93-5a68e07e136f",
   "metadata": {},
   "outputs": [],
   "source": [
    "print(f'y is {y:_}')"
   ]
  },
  {
   "cell_type": "code",
   "execution_count": null,
   "id": "bc82ec66-84ee-4d1d-8e46-1803c3e9b009",
   "metadata": {},
   "outputs": [],
   "source": [
    "# from last time\n",
    "import matplotlib.pyplot as plt\n",
    "import random"
   ]
  },
  {
   "cell_type": "markdown",
   "id": "b749f7e3-db29-416a-987c-288f4f4b3df4",
   "metadata": {},
   "source": [
    "# Question\n",
    "## generate 100 uniform random numbers between -1 and +1 call it x_values\n",
    "## generate 100 uniform random numbers between -1 and +1 call it y_values\n",
    "### plot y versus x values"
   ]
  },
  {
   "cell_type": "code",
   "execution_count": null,
   "id": "5a36c188-f991-4da6-8c36-2e1248566ce1",
   "metadata": {},
   "outputs": [],
   "source": [
    "random.random?"
   ]
  },
  {
   "cell_type": "code",
   "execution_count": null,
   "id": "f31b59d3-3ba8-4191-93d2-1963fad2a51b",
   "metadata": {},
   "outputs": [],
   "source": [
    "random.uniform?"
   ]
  },
  {
   "cell_type": "code",
   "execution_count": null,
   "id": "7e42b6ec-b343-4a90-b08a-eaf74001af0c",
   "metadata": {},
   "outputs": [],
   "source": [
    "random.uniform(2,5)"
   ]
  },
  {
   "cell_type": "code",
   "execution_count": null,
   "id": "d606e0e4-1716-491f-90f3-8a0386ef75f2",
   "metadata": {},
   "outputs": [],
   "source": [
    "# x_values\n",
    "x_values = [random.uniform(-1,1) for item in range(100)]\n",
    "y_values = [random.uniform(-1,1) for item in range(100)]\n",
    "plt.plot(x_values, y_values, color = 'r');\n",
    "# plot function by default plots a line plot"
   ]
  },
  {
   "cell_type": "code",
   "execution_count": null,
   "id": "3bbcde14-d101-4833-b3ec-a5925ada985a",
   "metadata": {},
   "outputs": [],
   "source": [
    "plt.scatter(x_values,y_values, color = 'skyblue')"
   ]
  },
  {
   "cell_type": "markdown",
   "id": "d02c0da9-9a59-4920-ac9c-1618585466de",
   "metadata": {},
   "source": [
    "# practice"
   ]
  },
  {
   "cell_type": "code",
   "execution_count": null,
   "id": "493dd704-b1e3-4060-9c02-8e383cea210c",
   "metadata": {},
   "outputs": [],
   "source": [
    "# Q1\n",
    "import math\n",
    "#math.factorial(4)\n",
    "\n",
    "#e = []\n",
    "#e_sum = []\n",
    "#for term in range(0,30):\n",
    "#    e.append(1/math.factorial(term))\n",
    "\n",
    "terms = [1/math.factorial(n) for n in range(30)]\n",
    "e = [sum(terms[:i]) for i in range(1,31)]\n",
    "print(e)\n",
    "plt.plot(e)\n",
    "#plt.scatter(e, color = 'skyblue')\n"
   ]
  },
  {
   "cell_type": "code",
   "execution_count": null,
   "id": "96493f21-f205-4fc0-8e5b-92a1fd7a2e77",
   "metadata": {},
   "outputs": [],
   "source": [
    "e[-1]"
   ]
  },
  {
   "cell_type": "markdown",
   "id": "4d838c09-07d5-4ff4-b3d2-b11c55aac88c",
   "metadata": {},
   "source": [
    "# `in exam`"
   ]
  },
  {
   "cell_type": "code",
   "execution_count": null,
   "id": "3643c4a5-f774-430d-b407-5aa127445228",
   "metadata": {},
   "outputs": [],
   "source": [
    "# Q3\n",
    "# costco_stores\n",
    "plt.figure(figsize=(14,8))\n",
    "somebar = plt.bar(costco_stores.keys(),\n",
    "        costco_stores.values(),\n",
    "       color = 'orange')\n",
    "\n",
    "plt.title(\"Costco Stores\")\n",
    "plt.xlabel('Country')\n",
    "plt.ylabel('Number of store')\n",
    "\n",
    "somebar[1].set_color('red')\n",
    "somebar[0].set_color('black')"
   ]
  },
  {
   "cell_type": "code",
   "execution_count": null,
   "id": "6ce9d0ec-f4fc-4599-a3c2-7d97b159573f",
   "metadata": {},
   "outputs": [],
   "source": [
    "#plt.bar?"
   ]
  },
  {
   "cell_type": "code",
   "execution_count": null,
   "id": "c7a56d61-32cb-4a44-aefe-9667198c1480",
   "metadata": {},
   "outputs": [],
   "source": [
    "!pip install covid"
   ]
  },
  {
   "cell_type": "code",
   "execution_count": null,
   "id": "ff2fa6d8-bd36-496d-9154-0e2d12a9433c",
   "metadata": {},
   "outputs": [],
   "source": [
    "# Covid class from covid module\n",
    "from covid import Covid\n",
    "# an object from Covid class\n",
    "covid_project = Covid()"
   ]
  },
  {
   "cell_type": "code",
   "execution_count": null,
   "id": "bb73ea46-c9b3-4d61-9413-810e076c7957",
   "metadata": {},
   "outputs": [],
   "source": [
    "covid_project.source\n",
    "# if i want jhu database:\n",
    "# covid_project = Covid(source = 'john_hopkins')"
   ]
  },
  {
   "cell_type": "code",
   "execution_count": null,
   "id": "e7ef7ac9-658c-4b1f-93d4-7474b591f4bc",
   "metadata": {},
   "outputs": [],
   "source": [
    "covid_project.list_countries()"
   ]
  },
  {
   "cell_type": "code",
   "execution_count": null,
   "id": "1863554b-20a6-4c46-a24b-0c91cb633378",
   "metadata": {},
   "outputs": [],
   "source": [
    "# list of available countries\n",
    "countries = covid_project.list_countries()\n",
    "print(countries)"
   ]
  },
  {
   "cell_type": "code",
   "execution_count": null,
   "id": "98c9843d-dfd8-4330-999d-3e254b8f965d",
   "metadata": {},
   "outputs": [],
   "source": [
    "print(type(countries))"
   ]
  },
  {
   "cell_type": "code",
   "execution_count": null,
   "id": "95803cd6-0d14-407a-a7a3-812ec29d6f90",
   "metadata": {},
   "outputs": [],
   "source": [
    "c= countries[8:]\n",
    "len(c)"
   ]
  },
  {
   "cell_type": "code",
   "execution_count": null,
   "id": "0ead679f-68ff-4fc6-84f3-c05376569842",
   "metadata": {},
   "outputs": [],
   "source": [
    "print(f'{covid_project.get_total_active_cases():_}')\n"
   ]
  },
  {
   "cell_type": "code",
   "execution_count": null,
   "id": "a7f91587-33af-4a4b-a7fa-859129ff2c15",
   "metadata": {},
   "outputs": [],
   "source": [
    "print(f'{covid_project.get_total_recovered():_}')"
   ]
  },
  {
   "cell_type": "code",
   "execution_count": null,
   "id": "6304c833-fc74-472b-8056-9b34cfcdb5f0",
   "metadata": {},
   "outputs": [],
   "source": []
  },
  {
   "cell_type": "code",
   "execution_count": null,
   "id": "a33565f3-64d1-4f36-bd59-498301ee630e",
   "metadata": {},
   "outputs": [],
   "source": [
    "temp = covid_project.get_status_by_country_name('china')\n",
    "print(temp)"
   ]
  },
  {
   "cell_type": "code",
   "execution_count": null,
   "id": "fa0085d2-800d-46fc-b538-34950f34fca0",
   "metadata": {},
   "outputs": [],
   "source": [
    "type(temp)"
   ]
  },
  {
   "cell_type": "code",
   "execution_count": null,
   "id": "38a44494-8cac-4ea3-952e-318f29af596e",
   "metadata": {},
   "outputs": [],
   "source": [
    "temp.keys()"
   ]
  },
  {
   "cell_type": "code",
   "execution_count": null,
   "id": "b5989e41-8a0f-423f-805c-38f98328f3e5",
   "metadata": {},
   "outputs": [],
   "source": [
    "temp.get('recovered')"
   ]
  },
  {
   "cell_type": "code",
   "execution_count": null,
   "id": "96cd2c9c-2526-4c64-884c-0e98b5bf5e1e",
   "metadata": {},
   "outputs": [],
   "source": [
    "data = covid_project.get_data()\n",
    "type(data)"
   ]
  },
  {
   "cell_type": "code",
   "execution_count": null,
   "id": "ad2f177a-7212-4547-b6fe-e02f9320cce1",
   "metadata": {},
   "outputs": [],
   "source": [
    "len(data)"
   ]
  },
  {
   "cell_type": "code",
   "execution_count": null,
   "id": "d42d1a2a-2428-48d7-bd31-682d30f465ce",
   "metadata": {},
   "outputs": [],
   "source": [
    "data[0]"
   ]
  },
  {
   "cell_type": "code",
   "execution_count": null,
   "id": "c7f19b24-4f45-432c-870d-252999d44c35",
   "metadata": {},
   "outputs": [],
   "source": [
    "data[0].get('critical')"
   ]
  },
  {
   "cell_type": "code",
   "execution_count": null,
   "id": "259a9727-ffbe-433b-95e1-2d3fea004c8c",
   "metadata": {},
   "outputs": [],
   "source": [
    "data[-1]"
   ]
  },
  {
   "cell_type": "code",
   "execution_count": null,
   "id": "44f90eb1-ef09-4f5d-ace5-a51194ba6bef",
   "metadata": {},
   "outputs": [],
   "source": [
    "data[-1].get('deaths')"
   ]
  },
  {
   "cell_type": "code",
   "execution_count": null,
   "id": "7b16143b-c07f-426f-941a-cd33fc5d20cc",
   "metadata": {},
   "outputs": [],
   "source": [
    "countries = covid_project.list_countries()\n",
    "countries.index('')\n",
    "del countries[6]  \n",
    "# countries.remove('')\n"
   ]
  },
  {
   "cell_type": "code",
   "execution_count": null,
   "id": "ffec0aea-d443-471f-91ba-b787d45503d3",
   "metadata": {},
   "outputs": [],
   "source": [
    "for i in data:\n",
    "    print(i)\n",
    "    print()\n",
    "    print()"
   ]
  },
  {
   "cell_type": "markdown",
   "id": "243011f0-6ea8-48f2-add1-acf64b01207c",
   "metadata": {},
   "source": [
    "# step 1: in countries, use slicing to keep only real countries, from usa to end"
   ]
  },
  {
   "cell_type": "code",
   "execution_count": null,
   "id": "b6347791-0e73-4572-9bb6-5d3063a8ed1d",
   "metadata": {},
   "outputs": [],
   "source": [
    "countries.index('usa')\n",
    "countries = countries[7:]\n",
    "countries"
   ]
  },
  {
   "cell_type": "code",
   "execution_count": null,
   "id": "c9ef192c-22c7-404e-a5b0-e8bca42ab09c",
   "metadata": {},
   "outputs": [],
   "source": [
    "data = data[8:]\n",
    "data[0]"
   ]
  },
  {
   "cell_type": "code",
   "execution_count": null,
   "id": "51ed193e-e0c3-46ad-b205-f9695c97bb10",
   "metadata": {},
   "outputs": [],
   "source": []
  },
  {
   "cell_type": "markdown",
   "id": "c8c4c9f6-0888-4037-956b-d6e3c3f00b82",
   "metadata": {},
   "source": [
    "# step 2: use dictionary com to keep data only for countries "
   ]
  },
  {
   "cell_type": "code",
   "execution_count": null,
   "id": "b563ae7f-3356-48ca-9705-ca6f42a53592",
   "metadata": {},
   "outputs": [],
   "source": [
    "data[-1]"
   ]
  },
  {
   "cell_type": "code",
   "execution_count": null,
   "id": "723a9ab6-c36b-46b9-84dd-d037ad0c5624",
   "metadata": {},
   "outputs": [],
   "source": [
    "len(countries) ==len(data)"
   ]
  },
  {
   "cell_type": "code",
   "execution_count": null,
   "id": "9c948472-37b8-4989-9da5-b0e69b7facb4",
   "metadata": {},
   "outputs": [],
   "source": [
    "# extract deaths rate from all countries and keep it in a list\n",
    "data[0]"
   ]
  },
  {
   "cell_type": "code",
   "execution_count": null,
   "id": "7c272f38-a462-40cf-bad3-cccbfee19970",
   "metadata": {},
   "outputs": [],
   "source": [
    "data[0].get('deaths')"
   ]
  },
  {
   "cell_type": "code",
   "execution_count": null,
   "id": "1ce481f2-e87d-453a-8359-302da1ebaad9",
   "metadata": {},
   "outputs": [],
   "source": [
    "deaths = [data[i].get('deaths') for i in range(len(data))]"
   ]
  },
  {
   "cell_type": "code",
   "execution_count": null,
   "id": "638eebb5-7352-4652-beb3-69d0104f709b",
   "metadata": {},
   "outputs": [],
   "source": [
    "confirmed = [data[i].get('confirmed') for  i in range(len(data))]\n",
    "# confirmed"
   ]
  },
  {
   "cell_type": "code",
   "execution_count": null,
   "id": "7ac4e906-bcf1-4b67-bb56-8f2e43323ebc",
   "metadata": {},
   "outputs": [],
   "source": [
    "# find ratio of death over confirmed use list com-\n",
    "ratio = [deaths[i]/confirmed[i] for  i in range(len(deaths)) if confirmed[i]!=0 and deaths[i] != 0]\n",
    "ratio"
   ]
  },
  {
   "cell_type": "code",
   "execution_count": null,
   "id": "53ec6214-5872-4d46-a87c-68ea12d1586f",
   "metadata": {},
   "outputs": [],
   "source": [
    "max(ratio)"
   ]
  },
  {
   "cell_type": "code",
   "execution_count": null,
   "id": "3c3876dd-47d0-4bc0-a7ee-1e40d42e7cf7",
   "metadata": {},
   "outputs": [],
   "source": [
    "# Q17\n",
    "print(f'{sum(ratio)/len(ratio):.2%}')"
   ]
  },
  {
   "cell_type": "code",
   "execution_count": null,
   "id": "8df949a3-7908-4536-8c85-8f400f045c93",
   "metadata": {},
   "outputs": [],
   "source": [
    "import statistics"
   ]
  },
  {
   "cell_type": "code",
   "execution_count": null,
   "id": "e9d232a0-c9fb-4501-bfb7-38576d1e5f16",
   "metadata": {},
   "outputs": [],
   "source": [
    "statistics.fmean(ratio)"
   ]
  },
  {
   "cell_type": "code",
   "execution_count": null,
   "id": "2efa5e72-122a-4624-a3ae-dc688948ec85",
   "metadata": {},
   "outputs": [],
   "source": [
    "#find stdev of ratio\n",
    "statistics.stdev(ratio)"
   ]
  },
  {
   "cell_type": "code",
   "execution_count": null,
   "id": "1b53552d-8944-4757-b486-fde4a94eb614",
   "metadata": {},
   "outputs": [],
   "source": []
  },
  {
   "cell_type": "code",
   "execution_count": null,
   "id": "e6b5bdbd-a7d4-4364-a26f-6f4e78cf266c",
   "metadata": {},
   "outputs": [],
   "source": []
  },
  {
   "cell_type": "markdown",
   "id": "2bbe4f45-25ac-4d95-aafc-b205d531e763",
   "metadata": {},
   "source": [
    "# functions"
   ]
  },
  {
   "cell_type": "code",
   "execution_count": null,
   "id": "4a572488-6b72-41df-bc2e-10bbef81cc68",
   "metadata": {},
   "outputs": [],
   "source": [
    "print('hi a')\n",
    "print('hi b')\n",
    "print('hi c')"
   ]
  },
  {
   "cell_type": "markdown",
   "id": "6f8c2e26-012e-4e29-bbd7-3d44b7807f33",
   "metadata": {},
   "source": [
    "## too much repetion + too difficult to debug, if there is a mistake instead define a function and call it multiple times"
   ]
  },
  {
   "cell_type": "code",
   "execution_count": null,
   "id": "14ef679a-e471-4b3f-bdfe-ec690156f34b",
   "metadata": {},
   "outputs": [],
   "source": [
    "def say_hi(student):\n",
    "    \"\"\"\n",
    "    This function says hi to student\n",
    "    skdna;sd;l\n",
    "    input is a string\n",
    "    \"\"\"\n",
    "    return 'hi ' + student"
   ]
  },
  {
   "cell_type": "code",
   "execution_count": null,
   "id": "94f7ed09-3188-45ba-a360-74d620778b86",
   "metadata": {},
   "outputs": [],
   "source": [
    "# say_hi??"
   ]
  },
  {
   "cell_type": "code",
   "execution_count": null,
   "id": "19cdfe9d-827d-401b-b0bd-5763dffb610a",
   "metadata": {},
   "outputs": [],
   "source": [
    "# say_hi?"
   ]
  },
  {
   "cell_type": "code",
   "execution_count": null,
   "id": "97c6779c-bed4-4629-a034-c22e00d078c8",
   "metadata": {},
   "outputs": [],
   "source": [
    "say_hi('va')"
   ]
  },
  {
   "cell_type": "code",
   "execution_count": null,
   "id": "10326fd8-8e89-4430-9529-ec703c162fc1",
   "metadata": {},
   "outputs": [],
   "source": [
    "# say hi to all baby names\n",
    "# baby_names\n",
    "for name in baby_names:\n",
    "    print(say_hi(name))"
   ]
  },
  {
   "cell_type": "code",
   "execution_count": null,
   "id": "ea9cc309-01e2-4cc4-a58a-3913aa71e60d",
   "metadata": {},
   "outputs": [],
   "source": [
    "# function with no input\n",
    "\n",
    "print('Hi')\n",
    "print()  #<--\n",
    "print('Bye')"
   ]
  },
  {
   "cell_type": "markdown",
   "id": "0a12a85d-d725-40b2-b307-1e245c4074ea",
   "metadata": {},
   "source": [
    "# `default values` of a function\n",
    "## function can have a default value giben to it\n",
    "## if not provided by the user, the default value will be used\n"
   ]
  },
  {
   "cell_type": "code",
   "execution_count": null,
   "id": "def9f52f-165b-40c5-838f-4ca45f793a1a",
   "metadata": {},
   "outputs": [],
   "source": [
    "# function that accepts a list and returns line plot of it with default color black\n",
    "\n",
    "def grapher(data=[2,10,6,20], color = 'black'):\n",
    "    \"\"\"\n",
    "    graphs input list at the default color of black\n",
    "    \"\"\"\n",
    "    import matplotlib.pyplot as plt\n",
    "    temp = plt.plot(data, color = color)\n",
    "    return temp"
   ]
  },
  {
   "cell_type": "code",
   "execution_count": null,
   "id": "5b3309da-8237-480a-a47f-49cb7e4002b0",
   "metadata": {},
   "outputs": [],
   "source": []
  },
  {
   "cell_type": "code",
   "execution_count": null,
   "id": "8eb50b06-6a14-422b-8a93-4fbd9159a941",
   "metadata": {},
   "outputs": [],
   "source": [
    "grapher()"
   ]
  },
  {
   "cell_type": "code",
   "execution_count": null,
   "id": "1753609b-187e-492f-84c3-672f14706b9b",
   "metadata": {},
   "outputs": [],
   "source": [
    "# call grapher plot in red\n",
    "grapher(color = 'red')"
   ]
  },
  {
   "cell_type": "code",
   "execution_count": null,
   "id": "f646013d-eb9f-46d2-bbbc-d85461b2f4e8",
   "metadata": {},
   "outputs": [],
   "source": [
    "# call with another list and pink color\n",
    "x=[5,10,-4]\n",
    "grapher(data=x, color='pink')"
   ]
  },
  {
   "cell_type": "markdown",
   "id": "d851e5ec-dd9d-4ad1-b110-f304b3c3fad3",
   "metadata": {},
   "source": [
    "# function with multiple return values \n",
    "# you can put them in a list, tuple, dict, and return that"
   ]
  },
  {
   "cell_type": "markdown",
   "id": "9bd6975f-c1cf-4e5d-aeae-3e39e18262b2",
   "metadata": {},
   "source": [
    "## a function that generates 2000 random numbers between -1 and +1, returns their min, max, and average in a list\n",
    "## a function that generates 2000 random numbers between -1 and +1, returns their min, max, and average in a dictionary\n"
   ]
  },
  {
   "cell_type": "code",
   "execution_count": null,
   "id": "4e5dabca-c405-4bfc-81bf-ced262c6e40d",
   "metadata": {},
   "outputs": [],
   "source": [
    "def ran_list():\n",
    "    \"\"\"\n",
    "    \"\"\"\n",
    "    import random\n",
    "    import statistics\n",
    "    list = [random.uniform(-1,1) for item in range(2000)]\n",
    "    min_=min(list)\n",
    "    max_=max(list)\n",
    "    avg_=statistics.fmean(list)\n",
    "    temp=[min_,max_,avg_]\n",
    "    return temp\n",
    "\n",
    "#def ran_dict():\n",
    "   # dict = {num: }"
   ]
  },
  {
   "cell_type": "code",
   "execution_count": null,
   "id": "11438e27-c239-4943-9ee2-92c73f6f7f60",
   "metadata": {},
   "outputs": [],
   "source": [
    "#ran_list()\n",
    "a = [random.uniform(65,105) for n in range(1000)]\n",
    "100 in a\n",
    "a.count(99)\n",
    "b= [random.randint(65,105) for n in range(1000)]\n",
    "b.count(100)"
   ]
  },
  {
   "cell_type": "code",
   "execution_count": null,
   "id": "05afa05a-4766-466e-a81a-52fd4bba762c",
   "metadata": {},
   "outputs": [],
   "source": [
    "def ran_dict():\n",
    "    \"\"\"\n",
    "    \"\"\"\n",
    "    import random\n",
    "    import statistics\n",
    "    rnds = [random.uniform(-1,1) for i in range(2000)]\n",
    "    temp = {}\n",
    "    temp['minimum']=min(rnds)\n",
    "    temp['maximum']=max(rnds)\n",
    "    temp['average']=statistics.fmean(rnds)\n",
    "    return temp"
   ]
  },
  {
   "cell_type": "code",
   "execution_count": null,
   "id": "bc728165-27fd-496b-abf1-d431fc8c60ac",
   "metadata": {},
   "outputs": [],
   "source": [
    "ran_dict()"
   ]
  },
  {
   "cell_type": "markdown",
   "id": "3ee81b70-557c-442a-9196-333d7d19202e",
   "metadata": {},
   "source": [
    "# `lambda` functions\n",
    "## mini function without name"
   ]
  },
  {
   "cell_type": "code",
   "execution_count": null,
   "id": "12890216-a35d-46d4-b9e0-dc6ddfd0da11",
   "metadata": {},
   "outputs": [],
   "source": [
    "names = ['asa', 'dsdf', 'lasdask', 'bd']\n",
    "sorted(names)"
   ]
  },
  {
   "cell_type": "code",
   "execution_count": null,
   "id": "7146a367-276b-4f56-a2f4-51f680b591c8",
   "metadata": {},
   "outputs": [],
   "source": [
    "# what if sort with len\n",
    "sorted(names, key=len)"
   ]
  },
  {
   "cell_type": "code",
   "execution_count": null,
   "id": "b2ff9f83-6b33-4081-bdef-27efcb085f5b",
   "metadata": {},
   "outputs": [],
   "source": [
    "sorted(names, key=len, reverse = True)"
   ]
  },
  {
   "cell_type": "markdown",
   "id": "3117aede-4567-49fa-92ac-4d57b6da999c",
   "metadata": {},
   "source": [
    "# another way to do it by using lambda\n",
    "## example: accepts a number and return its square"
   ]
  },
  {
   "cell_type": "code",
   "execution_count": null,
   "id": "0de4a090-3dbb-44e7-a120-6113429b3a1d",
   "metadata": {},
   "outputs": [],
   "source": [
    "L1=lambda x:x*x"
   ]
  },
  {
   "cell_type": "code",
   "execution_count": null,
   "id": "9a997085-bdf3-4dfc-9b97-7a433a6ba570",
   "metadata": {},
   "outputs": [],
   "source": [
    "L1(3)"
   ]
  },
  {
   "cell_type": "code",
   "execution_count": null,
   "id": "333c728f-9770-4159-a442-08217149f3d0",
   "metadata": {},
   "outputs": [],
   "source": [
    "# another example\n",
    "# lambda that accepts a string and return its first char\n",
    "L2=lambda y:y[0]\n",
    "L2('mandy')"
   ]
  },
  {
   "cell_type": "code",
   "execution_count": null,
   "id": "a0cefb5b-dd2b-4e2b-a4bc-33fa64f17ae8",
   "metadata": {},
   "outputs": [],
   "source": [
    "# lambda that accepts a string and return its len\n",
    "L3=lambda z:len(z)\n",
    "L3('mandy')"
   ]
  },
  {
   "cell_type": "code",
   "execution_count": null,
   "id": "fd06e07d-1c17-43d2-92fd-e063e36e7dd8",
   "metadata": {},
   "outputs": [],
   "source": [
    "names = ['AO', 'BOP', 'SJ']\n",
    "sorted(names, key = lambda x: len(x))\n"
   ]
  },
  {
   "cell_type": "code",
   "execution_count": null,
   "id": "6977d2a7-0216-40b3-ac8d-4217840680b6",
   "metadata": {},
   "outputs": [],
   "source": [
    "names"
   ]
  },
  {
   "cell_type": "code",
   "execution_count": null,
   "id": "8cc692a7-efd5-414d-994c-98a76da3f8a0",
   "metadata": {},
   "outputs": [],
   "source": [
    "sorted(names, key=lambda x: x[-1])"
   ]
  },
  {
   "cell_type": "code",
   "execution_count": null,
   "id": "e14bbc66-7c5c-4be2-a2d1-a920f3c31943",
   "metadata": {},
   "outputs": [],
   "source": [
    "temp={'America':30,\n",
    "     'UK': 5,\n",
    "     'Brazil':12}"
   ]
  },
  {
   "cell_type": "code",
   "execution_count": null,
   "id": "7ab8e249-1f7b-44e2-8f9a-c784a166c55c",
   "metadata": {},
   "outputs": [],
   "source": [
    "sorted(temp)"
   ]
  },
  {
   "cell_type": "code",
   "execution_count": null,
   "id": "27a83ce9-2b8b-4dfc-a644-591121c16095",
   "metadata": {},
   "outputs": [],
   "source": [
    "# sort base on value\n",
    "sorted(temp, key = lambda x: temp[x])"
   ]
  },
  {
   "cell_type": "code",
   "execution_count": null,
   "id": "a71adde7-b738-4fd7-a096-9fe8aabc2888",
   "metadata": {},
   "outputs": [],
   "source": []
  }
 ],
 "metadata": {
  "kernelspec": {
   "display_name": "Python 3 (ipykernel)",
   "language": "python",
   "name": "python3"
  },
  "language_info": {
   "codemirror_mode": {
    "name": "ipython",
    "version": 3
   },
   "file_extension": ".py",
   "mimetype": "text/x-python",
   "name": "python",
   "nbconvert_exporter": "python",
   "pygments_lexer": "ipython3",
   "version": "3.12.4"
  }
 },
 "nbformat": 4,
 "nbformat_minor": 5
}
