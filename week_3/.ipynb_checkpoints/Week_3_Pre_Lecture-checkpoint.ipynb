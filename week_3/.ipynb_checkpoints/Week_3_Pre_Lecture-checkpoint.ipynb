{
 "cells": [
  {
   "cell_type": "markdown",
   "id": "bbe8cf52-bf38-440a-9225-5e5ef71770e1",
   "metadata": {},
   "source": [
    "# Pre-Class file"
   ]
  },
  {
   "cell_type": "markdown",
   "id": "4e672287-c491-42c3-a61c-e64ec1eddcae",
   "metadata": {},
   "source": [
    "## Please run the following cell first\n"
   ]
  },
  {
   "cell_type": "code",
   "execution_count": 5,
   "id": "11cc4bc7-3531-4c35-a9a0-44ca8398e6df",
   "metadata": {
    "tags": []
   },
   "outputs": [],
   "source": [
    "costco_stores = {'USA': 591, 'Canada': 107, 'Mexico':40, 'Japan':32, \n",
    "                'UK': 29, 'Korea': 18, 'Australia': 15, 'Taiwan': 14,\n",
    "                 'Spain': 4, 'China': 4, 'France': 2, 'Iceland':1, \n",
    "                 'New Zealand': 1, 'Sweden': 1}\n",
    "\n",
    "# Data Based on World Migration Report 2022\n",
    "# The Countries That Attract the Most Migrants\n",
    "# Number of foreign-born people in eaech country\n",
    "# year 2000\n",
    "migrant_yr_2000 = {'US':34.8, 'RU':11.9, 'DE':9.0, 'IN': 6.4, \n",
    "                'FR': 6.3, 'UA': 5.5, 'CA': 5.5,'SA': 5.3}\n",
    "\n",
    "# year 2020\n",
    "migrant_yr_2020 = {'US':50.6, 'DE':15.8, 'SA':13.5, 'RU':11.6, \n",
    "               'GB':9.4, 'AE':8.7, 'FR':8.5, 'CA':8.0 \n",
    "               }\n",
    "# kind of a lung disease\n",
    "longest_word_in_English = 'pneumonoultramicroscopicsilicovolcanoconiosis'\n",
    "\n",
    "# sample dictionary\n",
    "dict_items  = {'a': 2, 'b': 3, 'c': 4, 'd': 5, 'z': 10, 'w': 9}\n",
    "\n",
    "fortunes = [\"A bird will poop on you. But hey, that's good luck, right? 🐦💩\",\n",
    "            \"You'll discover that unicorns are real... just very good at hide and seek 🦄🙈\",\n",
    "            \"You will find a lost sock... 🧦❤️\",\n",
    "            \"You will eat something delicious today. 🍔\",\n",
    "            \"Someone will call you today. Hint: It's someone you've been thinking of 📞💖\",\n",
    "            \"You will stumble upon internet gold.🌐🎶\",\n",
    "            \"An unexpected adventure awaits you 🗺️\",\n",
    "            \"Your coffee is suspecting you have a thing for tea. Better reassure it! ☕💔🍵\",\n",
    "            \"You will make a new friend, and sparks might fly 🤝💘\",\n",
    "            \"Your talents will be recognized🏆\",\n",
    "            \"A pleasant surprise is waiting for you.🎁\",\n",
    "            \"The cookie doesn't lie... except for this time. Totally made that up! 🥠😂\",\n",
    "            \"You will discover a hidden talent🎨\",\n",
    "             \"Your refrigerator is judging your snack choices. Just a heads up! 🍔👀\",\n",
    "            \"A forgotten memory with a friend will resurface soon 💭\",\n",
    "            \"Someone is speaking highly of you 🗣️\",\n",
    "            \"Your TV is feeling lonely. Maybe binge-watch that show tonight? 📺❤️\",\n",
    "            \"You will receive some good news by mail... 👀\",\n",
    "            \"Your kindness will pay off soon 💙\",\n",
    "            \"You are destined to achieve great things, and someone wants to be by your side 🌟👫\",\n",
    "            \"Trust your instincts; they're on point today 🔮\",\n",
    "            \"Your pet has been gossiping about you. Wonder what they're saying? 🐾💬\",\n",
    "            \"Tonight, look up at the stars; someone might be thinking of you 🌌💙\",\n",
    "            \"You'll soon receive a mysterious package. It's probably just more online shopping. 📦🛍️\",\n",
    "            \"Ever feel like you're forgetting something? Yeah, it's probably important... 😅\",\n",
    "            \"Remember that thing you forgot? Yeah, me neither. 🤷‍♂️\",\n",
    "            \"Your pet is plotting to take over your bed. They might just succeed. 🐾🛌\",\n",
    "    ]\n",
    "\n",
    "baby_names = [\n",
    "    \"Liam\", \"Emma\", \"Noah\", \"Ava\", \"Olivia\", \"Isabella\", \"Sophia\", \"Mia\", \"Charlotte\", \"Amelia\", \n",
    "    \"Harper\", \"Evelyn\", \"Abigail\", \"Ella\", \"Scarlett\", \"Grace\", \"Lily\", \"Aria\", \"Chloe\", \"Isabelle\", \n",
    "    \"Caleb\", \"Ethan\", \"Joseph\", \"Christopher\", \"Andrew\", \"Anthony\", \"Joshua\", \"Samuel\", \"Gabriel\", \"Ryan\", \n",
    "    \"Dylan\", \"Daniel\", \"Benjamin\", \"Adam\", \"Sebastian\", \"Logan\", \"Jackson\", \"David\", \"Aiden\", \"James\", \n",
    "    \"John\", \"William\", \"Oscar\", \"Luke\", \"Henry\", \"Mateo\", \"Julian\", \"Jack\", \"Edward\", \"Leo\", \n",
    "    \"Jayden\", \"Carter\", \"Owen\", \"Wyatt\", \"Elijah\", \"Grayson\", \"Isaac\", \"Ian\", \"Carson\", \"Jaxon\", \n",
    "    \"Nolan\", \"Easton\", \"Nicholas\", \"Colton\", \"Maverick\", \"Axel\", \"Everett\", \"Kayden\", \"Bryson\", \"Weston\", \n",
    "    \"Ezra\", \"Miles\", \"Damian\", \"Micah\", \"Vincent\", \"Santiago\", \"Harrison\", \"Waylon\", \"Diego\", \"Cole\", \n",
    "    \"Max\", \"Evan\", \"Elliot\", \"Xander\", \"Antonio\", \"Braxton\", \"Dominic\", \"Dean\", \"Gael\", \"Lukas\", \n",
    "    \"Alan\", \"Rafael\", \"Kai\", \"Jude\", \"Adriel\", \"Tucker\", \"Rhett\", \"Ryker\", \"Ronan\", \"Jett\", \n",
    "    \"Bentley\", \"Zion\", \"Brooks\", \"Bennett\", \"Soren\", \"Maddox\", \"Nicolas\", \"Emilio\", \"Jensen\", \"Finn\", \n",
    "    \"Theo\", \"Rayan\", \"Zane\", \"Marcos\", \"Seth\", \"Travis\", \"Wade\", \"Walter\", \"Zayd\", \"Albert\", \n",
    "    \"Mohammed\", \"Nelson\", \"Cory\", \"Raphael\", \"Dante\", \"Rex\", \"Saul\", \"Taylor\", \"Zayn\", \"Arlo\", \n",
    "    \"Crew\", \"Francis\", \"Rory\", \"Hank\", \"Kellen\", \"Otis\", \"Quinton\", \"Kenny\", \"Sonny\", \"Mauricio\", \n",
    "    \"Ray\", \"Zeke\", \"Zaire\", \"Solomon\", \"Troy\", \"Kyson\", \"Brentley\", \"Ramon\", \"Jamir\", \"Vihaan\"\n",
    "]"
   ]
  },
  {
   "cell_type": "markdown",
   "id": "fdfe5e6f-a680-42e8-85f0-687019c22464",
   "metadata": {},
   "source": [
    "## Week 3 file"
   ]
  },
  {
   "cell_type": "code",
   "execution_count": 11,
   "id": "e3e5da11-b96b-4efc-90e0-039095ab3652",
   "metadata": {},
   "outputs": [
    {
     "name": "stdout",
     "output_type": "stream",
     "text": [
      "Variable                  Type        Data/Info\n",
      "-----------------------------------------------\n",
      "baby_names                list        n=150\n",
      "costco_stores             dict        n=14\n",
      "dataframe_columns         function    <function dataframe_colum<...>ns at 0x0000027170B177E0>\n",
      "dataframe_hash            function    <function dataframe_hash at 0x00000271724DFEC0>\n",
      "dict_items                dict        n=6\n",
      "dtypes_str                function    <function dtypes_str at 0x00000271724DFD80>\n",
      "fortunes                  list        n=27\n",
      "get_dataframes            function    <function get_dataframes at 0x0000027170B17C40>\n",
      "getpass                   module      <module 'getpass' from 'D<...>aconda\\\\Lib\\\\getpass.py'>\n",
      "hashlib                   module      <module 'hashlib' from 'D<...>aconda\\\\Lib\\\\hashlib.py'>\n",
      "import_pandas_safely      function    <function import_pandas_s<...>ly at 0x00000271724DFCE0>\n",
      "is_data_frame             function    <function is_data_frame at 0x0000027170B179C0>\n",
      "json                      module      <module 'json' from 'D:\\\\<...>\\Lib\\\\json\\\\__init__.py'>\n",
      "longest_word_in_English   str         pneumonoultramicroscopicsilicovolcanoconiosis\n",
      "migrant_yr_2000           dict        n=8\n",
      "migrant_yr_2020           dict        n=8\n"
     ]
    }
   ],
   "source": [
    "%whos"
   ]
  },
  {
   "cell_type": "code",
   "execution_count": 9,
   "id": "52f36687-472a-4650-a900-677ba83f6d82",
   "metadata": {},
   "outputs": [
    {
     "name": "stdout",
     "output_type": "stream",
     "text": [
      "baby_names\t costco_stores\t dataframe_columns\t dataframe_hash\t dict_items\t dtypes_str\t fortunes\t get_dataframes\t getpass\t \n",
      "hashlib\t import_pandas_safely\t is_data_frame\t json\t longest_word_in_English\t migrant_yr_2000\t migrant_yr_2020\t \n"
     ]
    }
   ],
   "source": [
    "%who"
   ]
  },
  {
   "cell_type": "code",
   "execution_count": 13,
   "id": "311dc14f-68d3-45c1-b2c2-df89a7cd083e",
   "metadata": {},
   "outputs": [
    {
     "data": {
      "text/plain": [
       "['baby_names',\n",
       " 'costco_stores',\n",
       " 'dataframe_columns',\n",
       " 'dataframe_hash',\n",
       " 'dict_items',\n",
       " 'dtypes_str',\n",
       " 'fortunes',\n",
       " 'get_dataframes',\n",
       " 'getpass',\n",
       " 'hashlib',\n",
       " 'import_pandas_safely',\n",
       " 'is_data_frame',\n",
       " 'json',\n",
       " 'longest_word_in_English',\n",
       " 'migrant_yr_2000',\n",
       " 'migrant_yr_2020']"
      ]
     },
     "execution_count": 13,
     "metadata": {},
     "output_type": "execute_result"
    }
   ],
   "source": [
    "# list of variables\n",
    "%who_ls\n"
   ]
  },
  {
   "cell_type": "markdown",
   "id": "e11b1533-ac36-490e-ba4d-a6025620592c",
   "metadata": {},
   "source": [
    "## two new tricks with f-string"
   ]
  },
  {
   "cell_type": "code",
   "execution_count": 26,
   "id": "b080d59f-c1d7-4d36-bd63-5cc96e2c1dd9",
   "metadata": {},
   "outputs": [],
   "source": [
    "x=2.3213\n",
    "y=1232131231"
   ]
  },
  {
   "cell_type": "code",
   "execution_count": 28,
   "id": "6bbe7808-b7e2-404c-a147-aa547127ec4a",
   "metadata": {},
   "outputs": [
    {
     "name": "stdout",
     "output_type": "stream",
     "text": [
      "x is 2.321\n"
     ]
    }
   ],
   "source": [
    "print(f'x is {x:.3f}')"
   ]
  },
  {
   "cell_type": "code",
   "execution_count": 30,
   "id": "fbc1f50e-7a24-4826-a46e-7a839044a6e5",
   "metadata": {},
   "outputs": [
    {
     "name": "stdout",
     "output_type": "stream",
     "text": [
      "x is 232.13%\n"
     ]
    }
   ],
   "source": [
    "print(f'x is {x:.2%}')"
   ]
  },
  {
   "cell_type": "code",
   "execution_count": 34,
   "id": "2cb9c3fb-39bd-4d9b-b17f-6653729d41e9",
   "metadata": {},
   "outputs": [
    {
     "name": "stdout",
     "output_type": "stream",
     "text": [
      "y is 1,232,131,231\n"
     ]
    }
   ],
   "source": [
    "# seperate large number by ','\n",
    "print(f'y is {y:,}')"
   ]
  },
  {
   "cell_type": "code",
   "execution_count": 36,
   "id": "1b8b4175-ed86-4d52-bd93-5a68e07e136f",
   "metadata": {},
   "outputs": [
    {
     "name": "stdout",
     "output_type": "stream",
     "text": [
      "y is 1_232_131_231\n"
     ]
    }
   ],
   "source": [
    "print(f'y is {y:_}')"
   ]
  },
  {
   "cell_type": "code",
   "execution_count": 42,
   "id": "bc82ec66-84ee-4d1d-8e46-1803c3e9b009",
   "metadata": {},
   "outputs": [],
   "source": [
    "# from last time\n",
    "import matplotlib.pyplot as plt\n",
    "import random"
   ]
  },
  {
   "cell_type": "markdown",
   "id": "b749f7e3-db29-416a-987c-288f4f4b3df4",
   "metadata": {},
   "source": [
    "# Question\n",
    "## generate 100 uniform random numbers between -1 and +1 call it x_values\n",
    "## generate 100 uniform random numbers between -1 and +1 call it y_values\n",
    "### plot y versus x values"
   ]
  },
  {
   "cell_type": "code",
   "execution_count": 53,
   "id": "5a36c188-f991-4da6-8c36-2e1248566ce1",
   "metadata": {},
   "outputs": [
    {
     "data": {
      "text/plain": [
       "\u001b[1;31mSignature:\u001b[0m \u001b[0mrandom\u001b[0m\u001b[1;33m.\u001b[0m\u001b[0mrandom\u001b[0m\u001b[1;33m(\u001b[0m\u001b[1;33m)\u001b[0m\u001b[1;33m\u001b[0m\u001b[1;33m\u001b[0m\u001b[0m\n",
       "\u001b[1;31mDocstring:\u001b[0m random() -> x in the interval [0, 1).\n",
       "\u001b[1;31mType:\u001b[0m      builtin_function_or_method"
      ]
     },
     "metadata": {},
     "output_type": "display_data"
    }
   ],
   "source": [
    "random.random?"
   ]
  },
  {
   "cell_type": "code",
   "execution_count": 55,
   "id": "f31b59d3-3ba8-4191-93d2-1963fad2a51b",
   "metadata": {},
   "outputs": [
    {
     "data": {
      "text/plain": [
       "\u001b[1;31mSignature:\u001b[0m \u001b[0mrandom\u001b[0m\u001b[1;33m.\u001b[0m\u001b[0muniform\u001b[0m\u001b[1;33m(\u001b[0m\u001b[0ma\u001b[0m\u001b[1;33m,\u001b[0m \u001b[0mb\u001b[0m\u001b[1;33m)\u001b[0m\u001b[1;33m\u001b[0m\u001b[1;33m\u001b[0m\u001b[0m\n",
       "\u001b[1;31mDocstring:\u001b[0m\n",
       "Get a random number in the range [a, b) or [a, b] depending on rounding.\n",
       "\n",
       "The mean (expected value) and variance of the random variable are:\n",
       "\n",
       "    E[X] = (a + b) / 2\n",
       "    Var[X] = (b - a) ** 2 / 12\n",
       "\u001b[1;31mFile:\u001b[0m      d:\\anaconda\\lib\\random.py\n",
       "\u001b[1;31mType:\u001b[0m      method"
      ]
     },
     "metadata": {},
     "output_type": "display_data"
    }
   ],
   "source": [
    "random.uniform?"
   ]
  },
  {
   "cell_type": "code",
   "execution_count": 57,
   "id": "7e42b6ec-b343-4a90-b08a-eaf74001af0c",
   "metadata": {},
   "outputs": [
    {
     "data": {
      "text/plain": [
       "2.1291285244464624"
      ]
     },
     "execution_count": 57,
     "metadata": {},
     "output_type": "execute_result"
    }
   ],
   "source": [
    "random.uniform(2,5)"
   ]
  },
  {
   "cell_type": "code",
   "execution_count": 72,
   "id": "d606e0e4-1716-491f-90f3-8a0386ef75f2",
   "metadata": {},
   "outputs": [
    {
     "data": {
      "image/png": "[encoded data removed]",
      "text/plain": [
       "<Figure size 640x480 with 1 Axes>"
      ]
     },
     "metadata": {},
     "output_type": "display_data"
    }
   ],
   "source": [
    "# x_values\n",
    "x_values = [random.uniform(-1,1) for item in range(100)]\n",
    "y_values = [random.uniform(-1,1) for item in range(100)]\n",
    "plt.plot(x_values, y_values, color = 'r');\n",
    "# plot function by default plots a line plot"
   ]
  },
  {
   "cell_type": "code",
   "execution_count": 76,
   "id": "3bbcde14-d101-4833-b3ec-a5925ada985a",
   "metadata": {},
   "outputs": [
    {
     "data": {
      "text/plain": [
       "<matplotlib.collections.PathCollection at 0x271760ffdd0>"
      ]
     },
     "execution_count": 76,
     "metadata": {},
     "output_type": "execute_result"
    },
    {
     "data": {
      "image/png": "[encoded data removed]",
      "text/plain": [
       "<Figure size 640x480 with 1 Axes>"
      ]
     },
     "metadata": {},
     "output_type": "display_data"
    }
   ],
   "source": [
    "plt.scatter(x_values,y_values, color = 'skyblue')"
   ]
  },
  {
   "cell_type": "markdown",
   "id": "d02c0da9-9a59-4920-ac9c-1618585466de",
   "metadata": {},
   "source": [
    "# practice"
   ]
  },
  {
   "cell_type": "code",
   "execution_count": 111,
   "id": "493dd704-b1e3-4060-9c02-8e383cea210c",
   "metadata": {},
   "outputs": [
    {
     "name": "stdout",
     "output_type": "stream",
     "text": [
      "[1.0, 2.0, 2.5, 2.6666666666666665, 2.7083333333333335, 2.716666666666667, 2.7180555555555554, 2.7182539682539684, 2.71827876984127, 2.7182815255731922, 2.7182818011463845, 2.718281826198493, 2.7182818282861687, 2.718281828446759, 2.7182818284582297, 2.7182818284589945, 2.7182818284590424, 2.718281828459045, 2.718281828459045, 2.718281828459045, 2.718281828459045, 2.718281828459045, 2.718281828459045, 2.718281828459045, 2.718281828459045, 2.718281828459045, 2.718281828459045, 2.718281828459045, 2.718281828459045, 2.718281828459045]\n"
     ]
    },
    {
     "data": {
      "text/plain": [
       "[<matplotlib.lines.Line2D at 0x27177b6fad0>]"
      ]
     },
     "execution_count": 111,
     "metadata": {},
     "output_type": "execute_result"
    },
    {
     "data": {
      "image/png": "[encoded data removed]",
      "text/plain": [
       "<Figure size 640x480 with 1 Axes>"
      ]
     },
     "metadata": {},
     "output_type": "display_data"
    }
   ],
   "source": [
    "# Q1\n",
    "import math\n",
    "#math.factorial(4)\n",
    "\n",
    "#e = []\n",
    "#e_sum = []\n",
    "#for term in range(0,30):\n",
    "#    e.append(1/math.factorial(term))\n",
    "\n",
    "terms = [1/math.factorial(n) for n in range(30)]\n",
    "e = [sum(terms[:i]) for i in range(1,31)]\n",
    "print(e)\n",
    "plt.plot(e)\n",
    "#plt.scatter(e, color = 'skyblue')\n"
   ]
  },
  {
   "cell_type": "code",
   "execution_count": 113,
   "id": "96493f21-f205-4fc0-8e5b-92a1fd7a2e77",
   "metadata": {},
   "outputs": [
    {
     "data": {
      "text/plain": [
       "2.718281828459045"
      ]
     },
     "execution_count": 113,
     "metadata": {},
     "output_type": "execute_result"
    }
   ],
   "source": [
    "e[-1]"
   ]
  },
  {
   "cell_type": "markdown",
   "id": "4d838c09-07d5-4ff4-b3d2-b11c55aac88c",
   "metadata": {},
   "source": [
    "# `in exam`"
   ]
  },
  {
   "cell_type": "code",
   "execution_count": 144,
   "id": "3643c4a5-f774-430d-b407-5aa127445228",
   "metadata": {},
   "outputs": [
    {
     "data": {
      "image/png": "[encoded data removed]",
      "text/plain": [
       "<Figure size 1400x800 with 1 Axes>"
      ]
     },
     "metadata": {},
     "output_type": "display_data"
    }
   ],
   "source": [
    "# Q3\n",
    "# costco_stores\n",
    "plt.figure(figsize=(14,8))\n",
    "somebar = plt.bar(costco_stores.keys(),\n",
    "        costco_stores.values(),\n",
    "       color = 'orange')\n",
    "\n",
    "plt.title(\"Costco Stores\")\n",
    "plt.xlabel('Country')\n",
    "plt.ylabel('Number of store')\n",
    "\n",
    "somebar[1].set_color('red')\n",
    "somebar[0].set_color('black')"
   ]
  },
  {
   "cell_type": "code",
   "execution_count": 124,
   "id": "6ce9d0ec-f4fc-4599-a3c2-7d97b159573f",
   "metadata": {},
   "outputs": [],
   "source": [
    "#plt.bar?"
   ]
  },
  {
   "cell_type": "code",
   "execution_count": 146,
   "id": "c7a56d61-32cb-4a44-aefe-9667198c1480",
   "metadata": {},
   "outputs": [
    {
     "name": "stdout",
     "output_type": "stream",
     "text": [
      "Requirement already satisfied: covid in d:\\anaconda\\lib\\site-packages (3.0.0)\n",
      "Requirement already satisfied: beautifulsoup4 in d:\\anaconda\\lib\\site-packages (from covid) (4.12.3)\n",
      "Requirement already satisfied: bleach>=3 in d:\\anaconda\\lib\\site-packages (from covid) (4.1.0)\n",
      "Requirement already satisfied: click in d:\\anaconda\\lib\\site-packages (from covid) (8.1.7)\n",
      "Collecting importlib-metadata (from covid)\n",
      "  Downloading importlib_metadata-8.5.0-py3-none-any.whl.metadata (4.8 kB)\n",
      "Collecting inflection (from covid)\n",
      "  Downloading inflection-0.5.1-py2.py3-none-any.whl.metadata (1.7 kB)\n",
      "Requirement already satisfied: jeepney>=0.4.2 in d:\\anaconda\\lib\\site-packages (from covid) (0.8.0)\n",
      "Requirement already satisfied: pydantic in d:\\anaconda\\lib\\site-packages (from covid) (2.5.3)\n",
      "Requirement already satisfied: requests in d:\\anaconda\\lib\\site-packages (from covid) (2.32.2)\n",
      "Requirement already satisfied: typer in d:\\anaconda\\lib\\site-packages (from covid) (0.12.5)\n",
      "Requirement already satisfied: typing-extensions in d:\\anaconda\\lib\\site-packages (from covid) (4.11.0)\n",
      "Requirement already satisfied: packaging in d:\\anaconda\\lib\\site-packages (from bleach>=3->covid) (23.2)\n",
      "Requirement already satisfied: six>=1.9.0 in d:\\anaconda\\lib\\site-packages (from bleach>=3->covid) (1.16.0)\n",
      "Requirement already satisfied: webencodings in d:\\anaconda\\lib\\site-packages (from bleach>=3->covid) (0.5.1)\n",
      "Requirement already satisfied: soupsieve>1.2 in d:\\anaconda\\lib\\site-packages (from beautifulsoup4->covid) (2.5)\n",
      "Requirement already satisfied: colorama in d:\\anaconda\\lib\\site-packages (from click->covid) (0.4.6)\n",
      "Collecting zipp>=3.20 (from importlib-metadata->covid)\n",
      "  Downloading zipp-3.20.2-py3-none-any.whl.metadata (3.7 kB)\n",
      "Requirement already satisfied: annotated-types>=0.4.0 in d:\\anaconda\\lib\\site-packages (from pydantic->covid) (0.6.0)\n",
      "Requirement already satisfied: pydantic-core==2.14.6 in d:\\anaconda\\lib\\site-packages (from pydantic->covid) (2.14.6)\n",
      "Requirement already satisfied: charset-normalizer<4,>=2 in d:\\anaconda\\lib\\site-packages (from requests->covid) (2.0.4)\n",
      "Requirement already satisfied: idna<4,>=2.5 in d:\\anaconda\\lib\\site-packages (from requests->covid) (3.7)\n",
      "Requirement already satisfied: urllib3<3,>=1.21.1 in d:\\anaconda\\lib\\site-packages (from requests->covid) (2.2.2)\n",
      "Requirement already satisfied: certifi>=2017.4.17 in d:\\anaconda\\lib\\site-packages (from requests->covid) (2024.8.30)\n",
      "Requirement already satisfied: shellingham>=1.3.0 in d:\\anaconda\\lib\\site-packages (from typer->covid) (1.5.4)\n",
      "Collecting rich>=10.11.0 (from typer->covid)\n",
      "  Downloading rich-13.9.4-py3-none-any.whl.metadata (18 kB)\n",
      "Collecting markdown-it-py>=2.2.0 (from rich>=10.11.0->typer->covid)\n",
      "  Downloading markdown_it_py-3.0.0-py3-none-any.whl.metadata (6.9 kB)\n",
      "Requirement already satisfied: pygments<3.0.0,>=2.13.0 in d:\\anaconda\\lib\\site-packages (from rich>=10.11.0->typer->covid) (2.15.1)\n",
      "Collecting mdurl~=0.1 (from markdown-it-py>=2.2.0->rich>=10.11.0->typer->covid)\n",
      "  Downloading mdurl-0.1.2-py3-none-any.whl.metadata (1.6 kB)\n",
      "Downloading importlib_metadata-8.5.0-py3-none-any.whl (26 kB)\n",
      "Downloading inflection-0.5.1-py2.py3-none-any.whl (9.5 kB)\n",
      "Downloading rich-13.9.4-py3-none-any.whl (242 kB)\n",
      "   ---------------------------------------- 0.0/242.4 kB ? eta -:--:--\n",
      "   ---------------------------------------- 242.4/242.4 kB 4.9 MB/s eta 0:00:00\n",
      "Downloading zipp-3.20.2-py3-none-any.whl (9.2 kB)\n",
      "Downloading markdown_it_py-3.0.0-py3-none-any.whl (87 kB)\n",
      "   ---------------------------------------- 0.0/87.5 kB ? eta -:--:--\n",
      "   ---------------------------------------- 87.5/87.5 kB 5.2 MB/s eta 0:00:00\n",
      "Downloading mdurl-0.1.2-py3-none-any.whl (10.0 kB)\n",
      "Installing collected packages: zipp, mdurl, inflection, markdown-it-py, importlib-metadata, rich\n",
      "Successfully installed importlib-metadata-8.5.0 inflection-0.5.1 markdown-it-py-3.0.0 mdurl-0.1.2 rich-13.9.4 zipp-3.20.2\n"
     ]
    }
   ],
   "source": [
    "!pip install covid"
   ]
  },
  {
   "cell_type": "code",
   "execution_count": 148,
   "id": "ff2fa6d8-bd36-496d-9154-0e2d12a9433c",
   "metadata": {},
   "outputs": [],
   "source": [
    "# Covid class from covid module\n",
    "from covid import Covid\n",
    "# an object from Covid class\n",
    "covid_project = Covid()"
   ]
  },
  {
   "cell_type": "code",
   "execution_count": 178,
   "id": "bb73ea46-c9b3-4d61-9413-810e076c7957",
   "metadata": {},
   "outputs": [
    {
     "data": {
      "text/plain": [
       "'worldometers'"
      ]
     },
     "execution_count": 178,
     "metadata": {},
     "output_type": "execute_result"
    }
   ],
   "source": [
    "covid_project.source\n",
    "# if i want jhu database:\n",
    "# covid_project = Covid(source = 'john_hopkins')"
   ]
  },
  {
   "cell_type": "code",
   "execution_count": 182,
   "id": "1863554b-20a6-4c46-a24b-0c91cb633378",
   "metadata": {},
   "outputs": [
    {
     "name": "stdout",
     "output_type": "stream",
     "text": [
      "['north america', 'asia', 'europe', 'south america', 'oceania', 'africa', '', 'world', 'usa', 'india', 'france', 'germany', 'brazil', 's. korea', 'japan', 'italy', 'uk', 'russia', 'turkey', 'spain', 'australia', 'vietnam', 'taiwan', 'argentina', 'netherlands', 'mexico', 'iran', 'indonesia', 'poland', 'colombia', 'greece', 'austria', 'portugal', 'ukraine', 'chile', 'malaysia', 'canada', 'belgium', 'israel', 'dprk', 'thailand', 'czechia', 'peru', 'switzerland', 'philippines', 'south africa', 'romania', 'denmark', 'singapore', 'hong kong', 'sweden', 'new zealand', 'serbia', 'iraq', 'hungary', 'bangladesh', 'slovakia', 'georgia', 'jordan', 'ireland', 'pakistan', 'finland', 'norway', 'kazakhstan', 'lithuania', 'slovenia', 'bulgaria', 'croatia', 'guatemala', 'morocco', 'lebanon', 'costa rica', 'bolivia', 'tunisia', 'cuba', 'ecuador', 'uae', 'panama', 'uruguay', 'mongolia', 'nepal', 'belarus', 'latvia', 'saudi arabia', 'paraguay', 'azerbaijan', 'bahrain', 'cyprus', 'dominican republic', 'sri lanka', 'kuwait', 'myanmar', 'moldova', 'estonia', 'palestine', 'venezuela', 'egypt', 'qatar', 'libya', 'ethiopia', 'réunion', 'honduras', 'armenia', 'bosnia and herzegovina', 'oman', 'luxembourg', 'north macedonia', 'zambia', 'kenya', 'brunei', 'albania', 'botswana', 'montenegro', 'algeria', 'nigeria', 'zimbabwe', 'uzbekistan', 'afghanistan', 'mozambique', 'martinique', 'laos', 'iceland', 'kyrgyzstan', 'guadeloupe', 'el salvador', 'trinidad and tobago', 'maldives', 'namibia', 'uganda', 'ghana', 'jamaica', 'cambodia', 'rwanda', 'cameroon', 'malta', 'barbados', 'angola', 'channel islands', 'drc', 'french guiana', 'malawi', 'senegal', 'ivory coast', 'suriname', 'new caledonia', 'french polynesia', 'eswatini', 'guyana', 'belize', 'fiji', 'madagascar', 'cabo verde', 'sudan', 'mauritania', 'bhutan', 'syria', 'burundi', 'seychelles', 'gabon', 'andorra', 'papua new guinea', 'curaçao', 'aruba', 'tanzania', 'mauritius', 'mayotte', 'togo', 'guinea', 'bahamas', 'isle of man', 'lesotho', 'haiti', 'faeroe islands', 'mali', 'cayman islands', 'saint lucia', 'benin', 'macao', 'somalia', 'micronesia', 'san marino', 'solomon islands', 'congo', 'timor-leste', 'burkina faso', 'liechtenstein', 'gibraltar', 'grenada', 'bermuda', 'south sudan', 'nicaragua', 'tajikistan', 'equatorial guinea', 'monaco', 'samoa', 'tonga', 'marshall islands', 'dominica', 'djibouti', 'car', 'gambia', 'saint martin', 'vanuatu', 'greenland', 'yemen', 'caribbean netherlands', 'sint maarten', 'eritrea', 'niger', 'st. vincent grenadines', 'guinea-bissau', 'comoros', 'antigua and barbuda', 'liberia', 'sierra leone', 'chad', 'british virgin islands', 'cook islands', 'sao tome and principe', 'turks and caicos', 'saint kitts and nevis', 'palau', 'st. barth', 'nauru', 'kiribati', 'anguilla', 'wallis and futuna', 'saint pierre miquelon', 'tuvalu', 'saint helena', 'falkland islands', 'montserrat', 'niue', 'diamond princess', 'tokelau', 'vatican city', 'western sahara', 'ms zaandam', 'china']\n"
     ]
    }
   ],
   "source": [
    "# list of available countries\n",
    "countries = covid_project.list_countries()\n",
    "print(countries)"
   ]
  },
  {
   "cell_type": "code",
   "execution_count": 184,
   "id": "98c9843d-dfd8-4330-999d-3e254b8f965d",
   "metadata": {},
   "outputs": [
    {
     "name": "stdout",
     "output_type": "stream",
     "text": [
      "<class 'list'>\n"
     ]
    }
   ],
   "source": [
    "print(type(countries))"
   ]
  },
  {
   "cell_type": "code",
   "execution_count": 188,
   "id": "95803cd6-0d14-407a-a7a3-812ec29d6f90",
   "metadata": {},
   "outputs": [
    {
     "data": {
      "text/plain": [
       "231"
      ]
     },
     "execution_count": 188,
     "metadata": {},
     "output_type": "execute_result"
    }
   ],
   "source": [
    "c= countries[8:]\n",
    "len(c)"
   ]
  },
  {
   "cell_type": "code",
   "execution_count": 211,
   "id": "0ead679f-68ff-4fc6-84f3-c05376569842",
   "metadata": {},
   "outputs": [
    {
     "name": "stdout",
     "output_type": "stream",
     "text": [
      "22_123_398\n"
     ]
    }
   ],
   "source": [
    "print(f'{covid_project.get_total_active_cases():_}')"
   ]
  },
  {
   "cell_type": "code",
   "execution_count": 215,
   "id": "a7f91587-33af-4a4b-a7fa-859129ff2c15",
   "metadata": {},
   "outputs": [
    {
     "name": "stdout",
     "output_type": "stream",
     "text": [
      "675_619_811\n"
     ]
    }
   ],
   "source": [
    "print(f'{covid_project.get_total_recovered():_}')"
   ]
  },
  {
   "cell_type": "code",
   "execution_count": null,
   "id": "6304c833-fc74-472b-8056-9b34cfcdb5f0",
   "metadata": {},
   "outputs": [],
   "source": []
  },
  {
   "cell_type": "code",
   "execution_count": 227,
   "id": "a33565f3-64d1-4f36-bd59-498301ee630e",
   "metadata": {},
   "outputs": [
    {
     "name": "stdout",
     "output_type": "stream",
     "text": [
      "{'country': 'China', 'total_cases': 503302, 'confirmed': 503302, 'new_cases': 0, 'deaths': 5272, 'new_deaths': 0, 'recovered': 379053, 'active': 118977, 'active_cases': 118977, 'critical': 0, 'total_tests': 160000000, 'total_tests_per_million': Decimal('0'), 'total_cases_per_million': Decimal('347'), 'total_deaths_per_million': Decimal('4'), 'population': Decimal('1448471400')}\n"
     ]
    }
   ],
   "source": [
    "temp = covid_project.get_status_by_country_name('china')\n",
    "print(temp)"
   ]
  },
  {
   "cell_type": "code",
   "execution_count": 237,
   "id": "fa0085d2-800d-46fc-b538-34950f34fca0",
   "metadata": {},
   "outputs": [
    {
     "data": {
      "text/plain": [
       "dict"
      ]
     },
     "execution_count": 237,
     "metadata": {},
     "output_type": "execute_result"
    }
   ],
   "source": [
    "type(temp)"
   ]
  },
  {
   "cell_type": "code",
   "execution_count": 229,
   "id": "38a44494-8cac-4ea3-952e-318f29af596e",
   "metadata": {},
   "outputs": [
    {
     "data": {
      "text/plain": [
       "dict_keys(['country', 'total_cases', 'confirmed', 'new_cases', 'deaths', 'new_deaths', 'recovered', 'active', 'active_cases', 'critical', 'total_tests', 'total_tests_per_million', 'total_cases_per_million', 'total_deaths_per_million', 'population'])"
      ]
     },
     "execution_count": 229,
     "metadata": {},
     "output_type": "execute_result"
    }
   ],
   "source": [
    "temp.keys()"
   ]
  },
  {
   "cell_type": "code",
   "execution_count": 231,
   "id": "b5989e41-8a0f-423f-805c-38f98328f3e5",
   "metadata": {},
   "outputs": [
    {
     "data": {
      "text/plain": [
       "379053"
      ]
     },
     "execution_count": 231,
     "metadata": {},
     "output_type": "execute_result"
    }
   ],
   "source": [
    "temp.get('recovered')"
   ]
  },
  {
   "cell_type": "code",
   "execution_count": 239,
   "id": "96cd2c9c-2526-4c64-884c-0e98b5bf5e1e",
   "metadata": {},
   "outputs": [
    {
     "data": {
      "text/plain": [
       "list"
      ]
     },
     "execution_count": 239,
     "metadata": {},
     "output_type": "execute_result"
    }
   ],
   "source": [
    "data = covid_project.get_data()\n",
    "type(data)"
   ]
  },
  {
   "cell_type": "code",
   "execution_count": 245,
   "id": "ad2f177a-7212-4547-b6fe-e02f9320cce1",
   "metadata": {},
   "outputs": [
    {
     "data": {
      "text/plain": [
       "239"
      ]
     },
     "execution_count": 245,
     "metadata": {},
     "output_type": "execute_result"
    }
   ],
   "source": [
    "len(data)"
   ]
  },
  {
   "cell_type": "code",
   "execution_count": 247,
   "id": "d42d1a2a-2428-48d7-bd31-682d30f465ce",
   "metadata": {},
   "outputs": [
    {
     "data": {
      "text/plain": [
       "{'country': 'North America',\n",
       " 'total_cases': 131889132,\n",
       " 'confirmed': 131889132,\n",
       " 'new_cases': 0,\n",
       " 'deaths': 1695941,\n",
       " 'new_deaths': 0,\n",
       " 'recovered': 127665129,\n",
       " 'active': 2528062,\n",
       " 'active_cases': 2528062,\n",
       " 'critical': 6095,\n",
       " 'total_tests': 0,\n",
       " 'total_tests_per_million': Decimal('0'),\n",
       " 'total_cases_per_million': Decimal('0'),\n",
       " 'total_deaths_per_million': Decimal('0'),\n",
       " 'population': Decimal('0')}"
      ]
     },
     "execution_count": 247,
     "metadata": {},
     "output_type": "execute_result"
    }
   ],
   "source": [
    "data[0]"
   ]
  },
  {
   "cell_type": "code",
   "execution_count": 249,
   "id": "c7f19b24-4f45-432c-870d-252999d44c35",
   "metadata": {},
   "outputs": [
    {
     "data": {
      "text/plain": [
       "6095"
      ]
     },
     "execution_count": 249,
     "metadata": {},
     "output_type": "execute_result"
    }
   ],
   "source": [
    "data[0].get('critical')"
   ]
  },
  {
   "cell_type": "code",
   "execution_count": 251,
   "id": "259a9727-ffbe-433b-95e1-2d3fea004c8c",
   "metadata": {},
   "outputs": [
    {
     "data": {
      "text/plain": [
       "{'country': 'China',\n",
       " 'total_cases': 503302,\n",
       " 'confirmed': 503302,\n",
       " 'new_cases': 0,\n",
       " 'deaths': 5272,\n",
       " 'new_deaths': 0,\n",
       " 'recovered': 379053,\n",
       " 'active': 118977,\n",
       " 'active_cases': 118977,\n",
       " 'critical': 0,\n",
       " 'total_tests': 160000000,\n",
       " 'total_tests_per_million': Decimal('0'),\n",
       " 'total_cases_per_million': Decimal('347'),\n",
       " 'total_deaths_per_million': Decimal('4'),\n",
       " 'population': Decimal('1448471400')}"
      ]
     },
     "execution_count": 251,
     "metadata": {},
     "output_type": "execute_result"
    }
   ],
   "source": [
    "data[-1]"
   ]
  },
  {
   "cell_type": "code",
   "execution_count": 257,
   "id": "44f90eb1-ef09-4f5d-ace5-a51194ba6bef",
   "metadata": {},
   "outputs": [
    {
     "data": {
      "text/plain": [
       "5272"
      ]
     },
     "execution_count": 257,
     "metadata": {},
     "output_type": "execute_result"
    }
   ],
   "source": [
    "data[-1].get('deaths')"
   ]
  },
  {
   "cell_type": "code",
   "execution_count": 294,
   "id": "7b16143b-c07f-426f-941a-cd33fc5d20cc",
   "metadata": {},
   "outputs": [],
   "source": [
    "countries = covid_project.list_countries()\n",
    "countries.index('')\n",
    "del countries[6]  \n",
    "# countries.remove('')\n"
   ]
  },
  {
   "cell_type": "code",
   "execution_count": null,
   "id": "ffec0aea-d443-471f-91ba-b787d45503d3",
   "metadata": {},
   "outputs": [],
   "source": [
    "for i in data:\n",
    "    print(i)\n",
    "    print()\n",
    "    print()"
   ]
  },
  {
   "cell_type": "markdown",
   "id": "243011f0-6ea8-48f2-add1-acf64b01207c",
   "metadata": {},
   "source": [
    "# step 1: in countries, use slicing to keep only real countries, from usa to end"
   ]
  },
  {
   "cell_type": "code",
   "execution_count": null,
   "id": "b6347791-0e73-4572-9bb6-5d3063a8ed1d",
   "metadata": {},
   "outputs": [],
   "source": [
    "countries.index('usa')\n",
    "countries = countries[7:]\n",
    "countries"
   ]
  },
  {
   "cell_type": "code",
   "execution_count": 313,
   "id": "c9ef192c-22c7-404e-a5b0-e8bca42ab09c",
   "metadata": {},
   "outputs": [
    {
     "data": {
      "text/plain": [
       "{'country': 'USA',\n",
       " 'total_cases': 111820082,\n",
       " 'confirmed': 111820082,\n",
       " 'new_cases': 0,\n",
       " 'deaths': 1219487,\n",
       " 'new_deaths': 0,\n",
       " 'recovered': 109814428,\n",
       " 'active': 786167,\n",
       " 'active_cases': 786167,\n",
       " 'critical': 940,\n",
       " 'total_tests': 1186851502,\n",
       " 'total_tests_per_million': Decimal('0'),\n",
       " 'total_cases_per_million': Decimal('333985'),\n",
       " 'total_deaths_per_million': Decimal('3642'),\n",
       " 'population': Decimal('334805269')}"
      ]
     },
     "execution_count": 313,
     "metadata": {},
     "output_type": "execute_result"
    }
   ],
   "source": [
    "data = data[8:]\n",
    "data[0]"
   ]
  },
  {
   "cell_type": "code",
   "execution_count": null,
   "id": "51ed193e-e0c3-46ad-b205-f9695c97bb10",
   "metadata": {},
   "outputs": [],
   "source": []
  },
  {
   "cell_type": "markdown",
   "id": "c8c4c9f6-0888-4037-956b-d6e3c3f00b82",
   "metadata": {},
   "source": [
    "# step 2: use dictionary com to keep data only for countries "
   ]
  },
  {
   "cell_type": "code",
   "execution_count": 317,
   "id": "b563ae7f-3356-48ca-9705-ca6f42a53592",
   "metadata": {},
   "outputs": [
    {
     "data": {
      "text/plain": [
       "{'country': 'China',\n",
       " 'total_cases': 503302,\n",
       " 'confirmed': 503302,\n",
       " 'new_cases': 0,\n",
       " 'deaths': 5272,\n",
       " 'new_deaths': 0,\n",
       " 'recovered': 379053,\n",
       " 'active': 118977,\n",
       " 'active_cases': 118977,\n",
       " 'critical': 0,\n",
       " 'total_tests': 160000000,\n",
       " 'total_tests_per_million': Decimal('0'),\n",
       " 'total_cases_per_million': Decimal('347'),\n",
       " 'total_deaths_per_million': Decimal('4'),\n",
       " 'population': Decimal('1448471400')}"
      ]
     },
     "execution_count": 317,
     "metadata": {},
     "output_type": "execute_result"
    }
   ],
   "source": [
    "data[-1]"
   ]
  },
  {
   "cell_type": "code",
   "execution_count": 319,
   "id": "723a9ab6-c36b-46b9-84dd-d037ad0c5624",
   "metadata": {},
   "outputs": [
    {
     "data": {
      "text/plain": [
       "True"
      ]
     },
     "execution_count": 319,
     "metadata": {},
     "output_type": "execute_result"
    }
   ],
   "source": [
    "len(countries) ==len(data)"
   ]
  },
  {
   "cell_type": "code",
   "execution_count": 321,
   "id": "9c948472-37b8-4989-9da5-b0e69b7facb4",
   "metadata": {},
   "outputs": [
    {
     "data": {
      "text/plain": [
       "{'country': 'USA',\n",
       " 'total_cases': 111820082,\n",
       " 'confirmed': 111820082,\n",
       " 'new_cases': 0,\n",
       " 'deaths': 1219487,\n",
       " 'new_deaths': 0,\n",
       " 'recovered': 109814428,\n",
       " 'active': 786167,\n",
       " 'active_cases': 786167,\n",
       " 'critical': 940,\n",
       " 'total_tests': 1186851502,\n",
       " 'total_tests_per_million': Decimal('0'),\n",
       " 'total_cases_per_million': Decimal('333985'),\n",
       " 'total_deaths_per_million': Decimal('3642'),\n",
       " 'population': Decimal('334805269')}"
      ]
     },
     "execution_count": 321,
     "metadata": {},
     "output_type": "execute_result"
    }
   ],
   "source": [
    "# extract deaths rate from all countries and keep it in a list\n",
    "data[0]"
   ]
  },
  {
   "cell_type": "code",
   "execution_count": 323,
   "id": "7c272f38-a462-40cf-bad3-cccbfee19970",
   "metadata": {},
   "outputs": [
    {
     "data": {
      "text/plain": [
       "1219487"
      ]
     },
     "execution_count": 323,
     "metadata": {},
     "output_type": "execute_result"
    }
   ],
   "source": [
    "data[0].get('deaths')"
   ]
  },
  {
   "cell_type": "code",
   "execution_count": 325,
   "id": "1ce481f2-e87d-453a-8359-302da1ebaad9",
   "metadata": {},
   "outputs": [],
   "source": [
    "deaths = [data[i].get('deaths') for i in range(len(data))]"
   ]
  },
  {
   "cell_type": "code",
   "execution_count": 329,
   "id": "638eebb5-7352-4652-beb3-69d0104f709b",
   "metadata": {},
   "outputs": [],
   "source": [
    "confirmed = [data[i].get('confirmed') for  i in range(len(data))]\n",
    "# confirmed"
   ]
  },
  {
   "cell_type": "code",
   "execution_count": null,
   "id": "7ac4e906-bcf1-4b67-bb56-8f2e43323ebc",
   "metadata": {},
   "outputs": [],
   "source": [
    "# find ratio of death over confirmed use list com-\n",
    "ratio = [deaths[i]/confirmed[i] for  i in range(len(deaths)) if confirmed[i]!=0 and deaths[i] != 0]\n",
    "ratio"
   ]
  },
  {
   "cell_type": "code",
   "execution_count": 337,
   "id": "53ec6214-5872-4d46-a87c-68ea12d1586f",
   "metadata": {},
   "outputs": [
    {
     "data": {
      "text/plain": [
       "0.2222222222222222"
      ]
     },
     "execution_count": 337,
     "metadata": {},
     "output_type": "execute_result"
    }
   ],
   "source": [
    "max(ratio)"
   ]
  },
  {
   "cell_type": "code",
   "execution_count": 341,
   "id": "3c3876dd-47d0-4bc0-a7ee-1e40d42e7cf7",
   "metadata": {},
   "outputs": [
    {
     "name": "stdout",
     "output_type": "stream",
     "text": [
      "1.42%\n"
     ]
    }
   ],
   "source": [
    "# Q17\n",
    "print(f'{sum(ratio)/len(ratio):.2%}')"
   ]
  },
  {
   "cell_type": "code",
   "execution_count": 343,
   "id": "8df949a3-7908-4536-8c85-8f400f045c93",
   "metadata": {},
   "outputs": [],
   "source": [
    "import statistics"
   ]
  },
  {
   "cell_type": "code",
   "execution_count": 345,
   "id": "e9d232a0-c9fb-4501-bfb7-38576d1e5f16",
   "metadata": {},
   "outputs": [
    {
     "data": {
      "text/plain": [
       "0.014160644462126577"
      ]
     },
     "execution_count": 345,
     "metadata": {},
     "output_type": "execute_result"
    }
   ],
   "source": [
    "statistics.fmean(ratio)"
   ]
  },
  {
   "cell_type": "code",
   "execution_count": 347,
   "id": "2efa5e72-122a-4624-a3ae-dc688948ec85",
   "metadata": {},
   "outputs": [
    {
     "data": {
      "text/plain": [
       "0.021719805213960587"
      ]
     },
     "execution_count": 347,
     "metadata": {},
     "output_type": "execute_result"
    }
   ],
   "source": [
    "#find stdev of ratio\n",
    "statistics.stdev(ratio)"
   ]
  },
  {
   "cell_type": "code",
   "execution_count": null,
   "id": "1b53552d-8944-4757-b486-fde4a94eb614",
   "metadata": {},
   "outputs": [],
   "source": []
  },
  {
   "cell_type": "code",
   "execution_count": null,
   "id": "e6b5bdbd-a7d4-4364-a26f-6f4e78cf266c",
   "metadata": {},
   "outputs": [],
   "source": []
  },
  {
   "cell_type": "markdown",
   "id": "2bbe4f45-25ac-4d95-aafc-b205d531e763",
   "metadata": {},
   "source": [
    "# functions"
   ]
  },
  {
   "cell_type": "code",
   "execution_count": 350,
   "id": "4a572488-6b72-41df-bc2e-10bbef81cc68",
   "metadata": {},
   "outputs": [
    {
     "name": "stdout",
     "output_type": "stream",
     "text": [
      "hi a\n",
      "hi b\n",
      "hi c\n"
     ]
    }
   ],
   "source": [
    "print('hi a')\n",
    "print('hi b')\n",
    "print('hi c')"
   ]
  },
  {
   "cell_type": "markdown",
   "id": "6f8c2e26-012e-4e29-bbd7-3d44b7807f33",
   "metadata": {},
   "source": [
    "## too much repetion + too difficult to debug, if there is a mistake instead define a function and call it multiple times"
   ]
  },
  {
   "cell_type": "code",
   "execution_count": 366,
   "id": "14ef679a-e471-4b3f-bdfe-ec690156f34b",
   "metadata": {},
   "outputs": [],
   "source": [
    "def say_hi(student):\n",
    "    \"\"\"\n",
    "    This function says hi to student\n",
    "    skdna;sd;l\n",
    "    input is a string\n",
    "    \"\"\"\n",
    "    return 'hi ' + student"
   ]
  },
  {
   "cell_type": "code",
   "execution_count": 376,
   "id": "94f7ed09-3188-45ba-a360-74d620778b86",
   "metadata": {},
   "outputs": [],
   "source": [
    "# say_hi??"
   ]
  },
  {
   "cell_type": "code",
   "execution_count": 378,
   "id": "19cdfe9d-827d-401b-b0bd-5763dffb610a",
   "metadata": {},
   "outputs": [],
   "source": [
    "# say_hi?"
   ]
  },
  {
   "cell_type": "code",
   "execution_count": 380,
   "id": "97c6779c-bed4-4629-a034-c22e00d078c8",
   "metadata": {},
   "outputs": [
    {
     "data": {
      "text/plain": [
       "'hi va'"
      ]
     },
     "execution_count": 380,
     "metadata": {},
     "output_type": "execute_result"
    }
   ],
   "source": [
    "say_hi('va')"
   ]
  },
  {
   "cell_type": "code",
   "execution_count": null,
   "id": "10326fd8-8e89-4430-9529-ec703c162fc1",
   "metadata": {},
   "outputs": [],
   "source": [
    "# say hi to all baby names\n",
    "# baby_names\n",
    "for name in baby_names:\n",
    "    print(say_hi(name))"
   ]
  },
  {
   "cell_type": "code",
   "execution_count": 390,
   "id": "ea9cc309-01e2-4cc4-a58a-3913aa71e60d",
   "metadata": {},
   "outputs": [
    {
     "name": "stdout",
     "output_type": "stream",
     "text": [
      "Hi\n",
      "\n",
      "Bye\n"
     ]
    }
   ],
   "source": [
    "# function with no input\n",
    "\n",
    "print('Hi')\n",
    "print()  #<--\n",
    "print('Bye')"
   ]
  },
  {
   "cell_type": "markdown",
   "id": "0a12a85d-d725-40b2-b307-1e245c4074ea",
   "metadata": {},
   "source": [
    "# `default values` of a function\n",
    "## function can have a default value giben to it\n",
    "## if not provided by the user, the default value will be used\n"
   ]
  },
  {
   "cell_type": "code",
   "execution_count": 398,
   "id": "def9f52f-165b-40c5-838f-4ca45f793a1a",
   "metadata": {},
   "outputs": [],
   "source": [
    "# function that accepts a list and returns line plot of it with default color black\n",
    "\n",
    "def grapher(data=[2,10,6,20], color = 'black'):\n",
    "    \"\"\"\n",
    "    graphs input list at the default color of black\n",
    "    \"\"\"\n",
    "    import matplotlib.pyplot as plt\n",
    "    temp = plt.plot(data, color = color)\n",
    "    return temp"
   ]
  },
  {
   "cell_type": "code",
   "execution_count": 400,
   "id": "5b3309da-8237-480a-a47f-49cb7e4002b0",
   "metadata": {},
   "outputs": [
    {
     "data": {
      "text/plain": [
       "<function __main__.grapher(data=[2, 10, 6, 20], color='black')>"
      ]
     },
     "execution_count": 400,
     "metadata": {},
     "output_type": "execute_result"
    }
   ],
   "source": [
    "grapher"
   ]
  },
  {
   "cell_type": "code",
   "execution_count": 402,
   "id": "8eb50b06-6a14-422b-8a93-4fbd9159a941",
   "metadata": {},
   "outputs": [
    {
     "data": {
      "text/plain": [
       "[<matplotlib.lines.Line2D at 0x271000464e0>]"
      ]
     },
     "execution_count": 402,
     "metadata": {},
     "output_type": "execute_result"
    },
    {
     "data": {
      "image/png": "[encoded data removed]",
      "text/plain": [
       "<Figure size 640x480 with 1 Axes>"
      ]
     },
     "metadata": {},
     "output_type": "display_data"
    }
   ],
   "source": [
    "grapher()"
   ]
  },
  {
   "cell_type": "code",
   "execution_count": 404,
   "id": "1753609b-187e-492f-84c3-672f14706b9b",
   "metadata": {},
   "outputs": [
    {
     "data": {
      "text/plain": [
       "[<matplotlib.lines.Line2D at 0x2710175bb30>]"
      ]
     },
     "execution_count": 404,
     "metadata": {},
     "output_type": "execute_result"
    },
    {
     "data": {
      "image/png": "[encoded data removed]",
      "text/plain": [
       "<Figure size 640x480 with 1 Axes>"
      ]
     },
     "metadata": {},
     "output_type": "display_data"
    }
   ],
   "source": [
    "# call grapher plot in red\n",
    "grapher(color = 'red')"
   ]
  },
  {
   "cell_type": "code",
   "execution_count": 408,
   "id": "f646013d-eb9f-46d2-bbbc-d85461b2f4e8",
   "metadata": {},
   "outputs": [
    {
     "data": {
      "text/plain": [
       "[<matplotlib.lines.Line2D at 0x27101741b50>]"
      ]
     },
     "execution_count": 408,
     "metadata": {},
     "output_type": "execute_result"
    },
    {
     "data": {
      "image/png": "[encoded data removed]",
      "text/plain": [
       "<Figure size 640x480 with 1 Axes>"
      ]
     },
     "metadata": {},
     "output_type": "display_data"
    }
   ],
   "source": [
    "# call with another list and pink color\n",
    "x=[5,10,-4]\n",
    "grapher(data=x, color='pink')"
   ]
  },
  {
   "cell_type": "markdown",
   "id": "d851e5ec-dd9d-4ad1-b110-f304b3c3fad3",
   "metadata": {},
   "source": [
    "# function with multiple return values \n",
    "# you can put them in a list, tuple, dict, and return that"
   ]
  },
  {
   "cell_type": "markdown",
   "id": "9bd6975f-c1cf-4e5d-aeae-3e39e18262b2",
   "metadata": {},
   "source": [
    "## a function that generates 2000 random numbers between -1 and +1, returns their min, max, and average in a list\n",
    "## a function that generates 2000 random numbers between -1 and +1, returns their min, max, and average in a dictionary\n"
   ]
  },
  {
   "cell_type": "code",
   "execution_count": 426,
   "id": "4e5dabca-c405-4bfc-81bf-ced262c6e40d",
   "metadata": {},
   "outputs": [],
   "source": [
    "def ran_list():\n",
    "    \"\"\"\n",
    "    \"\"\"\n",
    "    import random\n",
    "    import statistics\n",
    "    list = [random.uniform(-1,1) for item in range(2000)]\n",
    "    min_=min(list)\n",
    "    max_=max(list)\n",
    "    avg_=statistics.fmean(list)\n",
    "    temp=[min_,max_,avg_]\n",
    "    return temp\n",
    "\n",
    "#def ran_dict():\n",
    "   # dict = {num: }"
   ]
  },
  {
   "cell_type": "code",
   "execution_count": 428,
   "id": "11438e27-c239-4943-9ee2-92c73f6f7f60",
   "metadata": {},
   "outputs": [
    {
     "data": {
      "text/plain": [
       "[-0.9976680705780543, 0.9978445518400569, 0.012475868535359742]"
      ]
     },
     "execution_count": 428,
     "metadata": {},
     "output_type": "execute_result"
    }
   ],
   "source": [
    "ran_list()"
   ]
  },
  {
   "cell_type": "code",
   "execution_count": 430,
   "id": "05afa05a-4766-466e-a81a-52fd4bba762c",
   "metadata": {},
   "outputs": [],
   "source": [
    "def ran_dict():\n",
    "    \"\"\"\n",
    "    \"\"\"\n",
    "    import random\n",
    "    import statistics\n",
    "    rnds = [random.uniform(-1,1) for i in range(2000)]\n",
    "    temp = {}\n",
    "    temp['minimum']=min(rnds)\n",
    "    temp['maximum']=max(rnds)\n",
    "    temp['average']=statistics.fmean(rnds)\n",
    "    return temp"
   ]
  },
  {
   "cell_type": "code",
   "execution_count": 432,
   "id": "bc728165-27fd-496b-abf1-d431fc8c60ac",
   "metadata": {},
   "outputs": [
    {
     "data": {
      "text/plain": [
       "{'minimum': -0.9998773479453007,\n",
       " 'maximum': 0.9997071558410118,\n",
       " 'average': -0.015895822878303035}"
      ]
     },
     "execution_count": 432,
     "metadata": {},
     "output_type": "execute_result"
    }
   ],
   "source": [
    "ran_dict()"
   ]
  },
  {
   "cell_type": "markdown",
   "id": "3ee81b70-557c-442a-9196-333d7d19202e",
   "metadata": {},
   "source": [
    "# `lambda` functions\n",
    "## mini function without name"
   ]
  },
  {
   "cell_type": "code",
   "execution_count": 443,
   "id": "12890216-a35d-46d4-b9e0-dc6ddfd0da11",
   "metadata": {},
   "outputs": [
    {
     "data": {
      "text/plain": [
       "['asa', 'bd', 'dsdf', 'lasdask']"
      ]
     },
     "execution_count": 443,
     "metadata": {},
     "output_type": "execute_result"
    }
   ],
   "source": [
    "names = ['asa', 'dsdf', 'lasdask', 'bd']\n",
    "sorted(names)"
   ]
  },
  {
   "cell_type": "code",
   "execution_count": 445,
   "id": "7146a367-276b-4f56-a2f4-51f680b591c8",
   "metadata": {},
   "outputs": [
    {
     "data": {
      "text/plain": [
       "['bd', 'asa', 'dsdf', 'lasdask']"
      ]
     },
     "execution_count": 445,
     "metadata": {},
     "output_type": "execute_result"
    }
   ],
   "source": [
    "# what if sort with len\n",
    "sorted(names, key=len)"
   ]
  },
  {
   "cell_type": "code",
   "execution_count": 449,
   "id": "b2ff9f83-6b33-4081-bdef-27efcb085f5b",
   "metadata": {},
   "outputs": [
    {
     "data": {
      "text/plain": [
       "['lasdask', 'dsdf', 'asa', 'bd']"
      ]
     },
     "execution_count": 449,
     "metadata": {},
     "output_type": "execute_result"
    }
   ],
   "source": [
    "sorted(names, key=len, reverse = True)"
   ]
  },
  {
   "cell_type": "markdown",
   "id": "3117aede-4567-49fa-92ac-4d57b6da999c",
   "metadata": {},
   "source": [
    "# another way to do it by using lambda\n",
    "## example: accepts a number and return its square"
   ]
  },
  {
   "cell_type": "code",
   "execution_count": 452,
   "id": "0de4a090-3dbb-44e7-a120-6113429b3a1d",
   "metadata": {},
   "outputs": [],
   "source": [
    "L1=lambda x:x*x"
   ]
  },
  {
   "cell_type": "code",
   "execution_count": 454,
   "id": "9a997085-bdf3-4dfc-9b97-7a433a6ba570",
   "metadata": {},
   "outputs": [
    {
     "data": {
      "text/plain": [
       "9"
      ]
     },
     "execution_count": 454,
     "metadata": {},
     "output_type": "execute_result"
    }
   ],
   "source": [
    "L1(3)"
   ]
  },
  {
   "cell_type": "code",
   "execution_count": 458,
   "id": "333c728f-9770-4159-a442-08217149f3d0",
   "metadata": {},
   "outputs": [
    {
     "data": {
      "text/plain": [
       "'m'"
      ]
     },
     "execution_count": 458,
     "metadata": {},
     "output_type": "execute_result"
    }
   ],
   "source": [
    "# another example\n",
    "# lambda that accepts a string and return its first char\n",
    "L2=lambda y:y[0]\n",
    "L2('mandy')"
   ]
  },
  {
   "cell_type": "code",
   "execution_count": 462,
   "id": "a0cefb5b-dd2b-4e2b-a4bc-33fa64f17ae8",
   "metadata": {},
   "outputs": [
    {
     "data": {
      "text/plain": [
       "5"
      ]
     },
     "execution_count": 462,
     "metadata": {},
     "output_type": "execute_result"
    }
   ],
   "source": [
    "# lambda that accepts a string and return its len\n",
    "L3=lambda z:len(z)\n",
    "L3('mandy')"
   ]
  },
  {
   "cell_type": "code",
   "execution_count": 477,
   "id": "fd06e07d-1c17-43d2-92fd-e063e36e7dd8",
   "metadata": {},
   "outputs": [
    {
     "data": {
      "text/plain": [
       "['AO', 'SJ', 'BOP']"
      ]
     },
     "execution_count": 477,
     "metadata": {},
     "output_type": "execute_result"
    }
   ],
   "source": [
    "names = ['AO', 'BOP', 'SJ']\n",
    "sorted(names, key = lambda x: len(x))\n"
   ]
  },
  {
   "cell_type": "code",
   "execution_count": 479,
   "id": "6977d2a7-0216-40b3-ac8d-4217840680b6",
   "metadata": {},
   "outputs": [
    {
     "data": {
      "text/plain": [
       "['AO', 'BOP', 'SJ']"
      ]
     },
     "execution_count": 479,
     "metadata": {},
     "output_type": "execute_result"
    }
   ],
   "source": [
    "names"
   ]
  },
  {
   "cell_type": "code",
   "execution_count": 481,
   "id": "8cc692a7-efd5-414d-994c-98a76da3f8a0",
   "metadata": {},
   "outputs": [
    {
     "data": {
      "text/plain": [
       "['SJ', 'AO', 'BOP']"
      ]
     },
     "execution_count": 481,
     "metadata": {},
     "output_type": "execute_result"
    }
   ],
   "source": [
    "sorted(names, key=lambda x: x[-1])"
   ]
  },
  {
   "cell_type": "code",
   "execution_count": 489,
   "id": "e14bbc66-7c5c-4be2-a2d1-a920f3c31943",
   "metadata": {},
   "outputs": [],
   "source": [
    "temp={'America':30,\n",
    "     'UK': 5,\n",
    "     'Brazil':12}"
   ]
  },
  {
   "cell_type": "code",
   "execution_count": 491,
   "id": "7ab8e249-1f7b-44e2-8f9a-c784a166c55c",
   "metadata": {},
   "outputs": [
    {
     "data": {
      "text/plain": [
       "['America', 'Brazil', 'UK']"
      ]
     },
     "execution_count": 491,
     "metadata": {},
     "output_type": "execute_result"
    }
   ],
   "source": [
    "sorted(temp)"
   ]
  },
  {
   "cell_type": "code",
   "execution_count": 499,
   "id": "27a83ce9-2b8b-4dfc-a644-591121c16095",
   "metadata": {},
   "outputs": [
    {
     "data": {
      "text/plain": [
       "['UK', 'Brazil', 'America']"
      ]
     },
     "execution_count": 499,
     "metadata": {},
     "output_type": "execute_result"
    }
   ],
   "source": [
    "# sort base on value\n",
    "sorted(temp, key = lambda x: temp[x])"
   ]
  },
  {
   "cell_type": "code",
   "execution_count": null,
   "id": "a71adde7-b738-4fd7-a096-9fe8aabc2888",
   "metadata": {},
   "outputs": [],
   "source": []
  }
 ],
 "metadata": {
  "kernelspec": {
   "display_name": "Python 3 (ipykernel)",
   "language": "python",
   "name": "python3"
  },
  "language_info": {
   "codemirror_mode": {
    "name": "ipython",
    "version": 3
   },
   "file_extension": ".py",
   "mimetype": "text/x-python",
   "name": "python",
   "nbconvert_exporter": "python",
   "pygments_lexer": "ipython3",
   "version": "3.12.4"
  }
 },
 "nbformat": 4,
 "nbformat_minor": 5
}
