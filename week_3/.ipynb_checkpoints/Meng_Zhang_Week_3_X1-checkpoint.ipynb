{
 "cells": [
  {
   "cell_type": "markdown",
   "metadata": {
    "id": "cuYPG-FC8ryF",
    "tags": []
   },
   "source": [
    "# Week 3 Homework\n",
    "\n",
    "This homework provides an opportunity for you to practice the most important topics we discussed in week 3. It will also prepare you for week 4 of this course."
   ]
  },
  {
   "cell_type": "markdown",
   "metadata": {
    "id": "cKDuOTQB8ryN",
    "jp-MarkdownHeadingCollapsed": true,
    "tags": []
   },
   "source": [
    "## Submission guidelines:\n",
    "**`Please display all your output using the print() function`**\n",
    "\n",
    "**Once you are done, remove all the output (`Right click on screen --> Clear All Outputs`), save your file as: `YourFirstName_YourLastName_Week_3_SectionNumber.ipynb`.**\n",
    "\n",
    "**If you submit under any other name/format, your submission will not be graded!**\n",
    "\n",
    "\n",
    "\n",
    "`**please print out all your results and answers using the print() function**`\n",
    "\n",
    "## **Please import all the needed libraries/modules for each cell in that cell.**"
   ]
  },
  {
   "cell_type": "markdown",
   "metadata": {},
   "source": [
    "# Let's begin with a fun library\n",
    "\n",
    "Install `cowsay` by running the following cell: "
   ]
  },
  {
   "cell_type": "code",
   "execution_count": null,
   "metadata": {},
   "outputs": [],
   "source": [
    "pip install cowsay"
   ]
  },
  {
   "cell_type": "markdown",
   "metadata": {},
   "source": [
    "### Now run the following snippet"
   ]
  },
  {
   "cell_type": "code",
   "execution_count": null,
   "metadata": {},
   "outputs": [],
   "source": [
    "import cowsay\n",
    "cowsay.cow('Mooo')"
   ]
  },
  {
   "cell_type": "markdown",
   "metadata": {},
   "source": [
    "### Now enjoy running the following cell:"
   ]
  },
  {
   "cell_type": "code",
   "execution_count": null,
   "metadata": {},
   "outputs": [],
   "source": [
    "cowsay.cheese(\"Im a python developer\")\n",
    "cowsay.beavis(\"Me too!\")\n",
    "cowsay.daemon('Lets play!')\n",
    "cowsay.dragon('This is week 5; we are almost there')\n",
    "cowsay.kitty('You got this!')\n",
    "cowsay.pig('Im a piggy')\n",
    "cowsay.stegosaurus('Im very cute')\n",
    "cowsay.trex('Rawr')\n",
    "cowsay.turkey('Happy Thanksgiving')\n",
    "cowsay.tux('Enough playing! Get to work now!')"
   ]
  },
  {
   "cell_type": "markdown",
   "metadata": {
    "id": "pn7BtKIvYnd2"
   },
   "source": [
    "## Question 1\n",
    "\n",
    "Write a Python script to put these dictionaries together: `dict_1 = {1:10, 2:20}`, `dict_2={3:30, 4:40}`, and `dict_3={5:50,6:60}`. You can use any method you like.\n",
    "\n",
    "The desired output would be `results= {1: 10, 2: 20, 3: 30, 4: 40, 5: 50, 6: 60}`.\n",
    "\n"
   ]
  },
  {
   "cell_type": "code",
   "execution_count": 2,
   "metadata": {},
   "outputs": [
    {
     "name": "stdout",
     "output_type": "stream",
     "text": [
      "results= {1: 10, 2: 20, 3: 30, 4: 40, 5: 50, 6: 60}\n"
     ]
    }
   ],
   "source": [
    "# Solution\n",
    "dict_1 = {1:10, 2:20}\n",
    "dict_2 = {3:30, 4:40}\n",
    "dict_3 = {5:50, 6:60}\n",
    "results = dict_1 | dict_2 | dict_3\n",
    "print(f'results= {results}')"
   ]
  },
  {
   "cell_type": "markdown",
   "metadata": {},
   "source": [
    "# Question 2\n",
    "\n",
    " - Create a `pandas` Series from the list of `[10, 20, 50, 60, 100, 1000]`.\n",
    " - Calculate and display this Series' average and standard deviation.\n",
    " - Calculate and display 27th percentile of this Series\n",
    " - Calculate and display median of this Series\n",
    " \n",
    "**STOP:** You must use proper `f-string` to print out the outputs. As an example; you must display average as\n",
    "\n",
    "```python\n",
    "Average of [10, 20, 50, 60, 100, 1000] is 206.667\n",
    "```"
   ]
  },
  {
   "cell_type": "code",
   "execution_count": 4,
   "metadata": {},
   "outputs": [
    {
     "name": "stdout",
     "output_type": "stream",
     "text": [
      "Average of [10, 20, 50, 60, 100, 1000] is 206.667, and standard deviation is 389.957\n",
      "27th percentile of [10, 20, 50, 60, 100, 1000] is 30.500\n",
      "Median of [10, 20, 50, 60, 100, 1000] is 55.000\n"
     ]
    }
   ],
   "source": [
    "# Solution\n",
    "import pandas as pd\n",
    "list2 = [10, 20, 50, 60, 100, 1000]\n",
    "q2 = pd.Series(list2)\n",
    "q2_1 = q2.mean()\n",
    "q2_2 = q2.std()\n",
    "print(f'Average of {list2} is {q2_1:.3f}, and standard deviation is {q2_2:.3f}')\n",
    "\n",
    "q2_3 = q2.quantile(0.27)\n",
    "print(f'27th percentile of {list2} is {q2_3:.3f}')\n",
    "\n",
    "q2_4 = q2.median()\n",
    "print(f'Median of {list2} is {q2_4:.3f}')\n"
   ]
  },
  {
   "cell_type": "markdown",
   "metadata": {},
   "source": [
    "# Question 3\n",
    "\n",
    " - Create a `pandas` Series from a list of 2000 random integer numbers between 1 and 15 (both ends included).\n",
    " - Using list comprehension, change their index to `num_1, num_2, ..., num_2000`\n",
    " - Calculate and display this `Series`' mode.\n",
    " - Calculate and display median of this `Series`.\n",
    " \n",
    "**STOP:** You must use proper `f-string` to printout the outputs. Displaying just a number will get you no points. Let's get into habit of displaying outputs properly."
   ]
  },
  {
   "cell_type": "code",
   "execution_count": 20,
   "metadata": {},
   "outputs": [
    {
     "name": "stdout",
     "output_type": "stream",
     "text": [
      "num_1        1\n",
      "num_2       13\n",
      "num_3       11\n",
      "num_4       10\n",
      "num_5        3\n",
      "            ..\n",
      "num_1996     4\n",
      "num_1997     9\n",
      "num_1998     1\n",
      "num_1999     8\n",
      "num_2000     8\n",
      "Length: 2000, dtype: int64\n",
      "\n",
      "The mode of this series is 4\n",
      "Median of this Series is 8.0\n"
     ]
    }
   ],
   "source": [
    "# Solution\n",
    "import random\n",
    "import pandas as pd\n",
    "list3 = [random.randrange(1,16,1) for num in range(2000)]\n",
    "#name3 = ['num_'+name for name in range(1,2001)]\n",
    "#q3_1 = pd.Series(list3, index = name3)\n",
    "q3 = pd.Series(list3)\n",
    "q3.index = ['num_'+str(name) for name in range(1,2001)]\n",
    "print(f'{q3}\\n')\n",
    "print(f'The mode of this series is',*q3.mode().to_list())\n",
    "print(f'Median of this Series is {q3.median()}')\n",
    "\n"
   ]
  },
  {
   "cell_type": "markdown",
   "metadata": {},
   "source": [
    "# Question 4\n",
    "Assume `scores = {\"Yue\":[100, 95, 80], \"Yichen\":[95, 98, 93], \"Catherine\": [98, 92, 96]}` as a dictionary where each key has a value that is a list itself. \n",
    " - Create and display a `DataFrame` from `scores` and call it `df_scores_1`. Change indexes of this DataFrame to `Mathematics`, `Finance`, `Science`.\n",
    " - Create and display a `DataFrame` called `df_scores_2` which has course names as columns and students names as rows.\n",
    " - Create and display a `DataFrame` called `df_scores_3` from `df_scores_2` that shows only scores of `Mathematics` and `Science`.\n",
    " -  In `df_scores_1`, drop `Mathematics`'s row and display the remaining result.\n",
    " - sort `df_scores_2` based on grade of `Mathematics` "
   ]
  },
  {
   "cell_type": "code",
   "execution_count": 24,
   "metadata": {},
   "outputs": [
    {
     "name": "stdout",
     "output_type": "stream",
     "text": [
      "             Yue  Yichen  Catherine\n",
      "Mathematics  100      95         98\n",
      "Finance       95      98         92\n",
      "Science       80      93         96\n",
      "\n",
      "           Mathematics  Finance  Science\n",
      "Yue                100       95       80\n",
      "Yichen              95       98       93\n",
      "Catherine           98       92       96\n",
      "\n",
      "           Mathematics  Science\n",
      "Yue                100       80\n",
      "Yichen              95       93\n",
      "Catherine           98       96\n",
      "\n",
      "         Yue  Yichen  Catherine\n",
      "Finance   95      98         92\n",
      "Science   80      93         96\n",
      "\n",
      "           Mathematics  Finance  Science\n",
      "Yue                100       95       80\n",
      "Catherine           98       92       96\n",
      "Yichen              95       98       93\n"
     ]
    }
   ],
   "source": [
    "# Solution\n",
    "scores = {\"Yue\":[100, 95, 80], \"Yichen\":[95, 98, 93], \"Catherine\": [98, 92, 96]}\n",
    "df_scores_1 = pd.DataFrame(scores, index = ['Mathematics', 'Finance', 'Science'])\n",
    "print(f'{df_scores_1}\\n')\n",
    "\n",
    "df_scores_2 = df_scores_1.transpose()\n",
    "print(f'{df_scores_2}\\n')\n",
    "\n",
    "df_scores_3 = df_scores_2[['Mathematics', 'Science']]\n",
    "print(f'{df_scores_3}\\n')\n",
    "\n",
    "print(f'{df_scores_1.drop(index = ['Mathematics'])}\\n')\n",
    "\n",
    "print(f'{df_scores_2.sort_values(by='Mathematics', ascending=False)}')\n"
   ]
  },
  {
   "cell_type": "markdown",
   "metadata": {},
   "source": [
    "# Question 5\n",
    "\n",
    "Create a `DataFrame` called `df_Inv_Sales` from the latest Retail sector's Inventory and Sales data available at:\n",
    "\n",
    "`LINK_INV_SALES = https://www.dropbox.com/scl/fi/ig9e36l7cxfh03rdlg0vg/INV_SALES.xlsx?rlkey=63bfisc49kdb021rw49xasze9&st=bbndaies&dl=1`\n",
    "\n",
    "Note that this is an Excel file.\n",
    "\n",
    "This `Dataframe` has three columns: \n",
    "- `DATE`\n",
    "- `RETAIL_SALES_MILLIONS`: Retail sector's Sales in millions of dollars\n",
    "- `RETAIL_INVENTORY_MILLIONS`: Retail sector's Inventory levels in millions of dollars\n",
    "\n",
    "The following questions will guide you to calculate an important inventory metric called Inventory to Sales ratio."
   ]
  },
  {
   "cell_type": "code",
   "execution_count": 26,
   "metadata": {},
   "outputs": [
    {
     "name": "stdout",
     "output_type": "stream",
     "text": [
      "          DATE  RETAIL_SALES_MILLIONS  RETAIL_INVENTORY_MILLIONS\n",
      "0   1992-01-01                 146925                  242426.25\n",
      "1   1992-02-01                 147223                  242917.95\n",
      "2   1992-03-01                 146805                  245164.35\n",
      "3   1992-04-01                 148032                  248693.76\n",
      "4   1992-05-01                 149010                  248846.70\n",
      "..         ...                    ...                        ...\n",
      "367 2022-08-01                 598380                  741991.20\n",
      "368 2022-09-01                 596342                  739464.08\n",
      "369 2022-10-01                 602583                  735151.26\n",
      "370 2022-11-01                 595328                  738206.72\n",
      "371 2022-12-01                 587878                  740726.28\n",
      "\n",
      "[372 rows x 3 columns]\n"
     ]
    }
   ],
   "source": [
    "# Solution\n",
    "LINK_INV_SALES = 'https://www.dropbox.com/scl/fi/ig9e36l7cxfh03rdlg0vg/INV_SALES.xlsx?rlkey=63bfisc49kdb021rw49xasze9&st=bbndaies&dl=1'\n",
    "df_Inv_Sales = pd.read_excel(LINK_INV_SALES)\n",
    "print(f'{df_Inv_Sales}')\n"
   ]
  },
  {
   "cell_type": "markdown",
   "metadata": {},
   "source": [
    "# Question 6\n",
    "Set the `DATE` column to be the index of `df_Inv_Sales`"
   ]
  },
  {
   "cell_type": "code",
   "execution_count": 28,
   "metadata": {},
   "outputs": [
    {
     "name": "stdout",
     "output_type": "stream",
     "text": [
      "                 DATE  RETAIL_SALES_MILLIONS  RETAIL_INVENTORY_MILLIONS\n",
      "DATE                                                                   \n",
      "1992-01-01 1992-01-01                 146925                  242426.25\n",
      "1992-02-01 1992-02-01                 147223                  242917.95\n",
      "1992-03-01 1992-03-01                 146805                  245164.35\n",
      "1992-04-01 1992-04-01                 148032                  248693.76\n",
      "1992-05-01 1992-05-01                 149010                  248846.70\n",
      "...               ...                    ...                        ...\n",
      "2022-08-01 2022-08-01                 598380                  741991.20\n",
      "2022-09-01 2022-09-01                 596342                  739464.08\n",
      "2022-10-01 2022-10-01                 602583                  735151.26\n",
      "2022-11-01 2022-11-01                 595328                  738206.72\n",
      "2022-12-01 2022-12-01                 587878                  740726.28\n",
      "\n",
      "[372 rows x 3 columns]\n"
     ]
    }
   ],
   "source": [
    "# Solution\n",
    "new_df = df_Inv_Sales.set_index('DATE', drop = False)\n",
    "print(f'{new_df}')"
   ]
  },
  {
   "cell_type": "markdown",
   "metadata": {},
   "source": [
    "# Question 7\n",
    "Now drop the column of `DATE` from this `DateFrame`"
   ]
  },
  {
   "cell_type": "code",
   "execution_count": 31,
   "metadata": {},
   "outputs": [
    {
     "name": "stdout",
     "output_type": "stream",
     "text": [
      "            RETAIL_SALES_MILLIONS  RETAIL_INVENTORY_MILLIONS\n",
      "DATE                                                        \n",
      "1992-01-01                 146925                  242426.25\n",
      "1992-02-01                 147223                  242917.95\n",
      "1992-03-01                 146805                  245164.35\n",
      "1992-04-01                 148032                  248693.76\n",
      "1992-05-01                 149010                  248846.70\n",
      "...                           ...                        ...\n",
      "2022-08-01                 598380                  741991.20\n",
      "2022-09-01                 596342                  739464.08\n",
      "2022-10-01                 602583                  735151.26\n",
      "2022-11-01                 595328                  738206.72\n",
      "2022-12-01                 587878                  740726.28\n",
      "\n",
      "[372 rows x 2 columns]\n"
     ]
    }
   ],
   "source": [
    "# Solution\n",
    "new_df_2 = new_df.drop(columns = \"DATE\")\n",
    "print(f'{new_df_2}')"
   ]
  },
  {
   "cell_type": "markdown",
   "metadata": {},
   "source": [
    "# Question 8\n",
    "\n",
    "Define a new column called `RETAIL_INV_SALES_RATIO` that contains ratio of `Inventory` over `Sales` ($\\dfrac{\\text{Inventory}}{\\text{Sales}}$) for each row. You must use `.div()` method."
   ]
  },
  {
   "cell_type": "code",
   "execution_count": 33,
   "metadata": {},
   "outputs": [
    {
     "name": "stdout",
     "output_type": "stream",
     "text": [
      "            RETAIL_SALES_MILLIONS  RETAIL_INVENTORY_MILLIONS  \\\n",
      "DATE                                                           \n",
      "1992-01-01                 146925                  242426.25   \n",
      "1992-02-01                 147223                  242917.95   \n",
      "1992-03-01                 146805                  245164.35   \n",
      "1992-04-01                 148032                  248693.76   \n",
      "1992-05-01                 149010                  248846.70   \n",
      "...                           ...                        ...   \n",
      "2022-08-01                 598380                  741991.20   \n",
      "2022-09-01                 596342                  739464.08   \n",
      "2022-10-01                 602583                  735151.26   \n",
      "2022-11-01                 595328                  738206.72   \n",
      "2022-12-01                 587878                  740726.28   \n",
      "\n",
      "            RETAIL_INV_SALES_RATIO  \n",
      "DATE                                \n",
      "1992-01-01                    1.65  \n",
      "1992-02-01                    1.65  \n",
      "1992-03-01                    1.67  \n",
      "1992-04-01                    1.68  \n",
      "1992-05-01                    1.67  \n",
      "...                            ...  \n",
      "2022-08-01                    1.24  \n",
      "2022-09-01                    1.24  \n",
      "2022-10-01                    1.22  \n",
      "2022-11-01                    1.24  \n",
      "2022-12-01                    1.26  \n",
      "\n",
      "[372 rows x 3 columns]\n"
     ]
    }
   ],
   "source": [
    "# Solution\n",
    "new_df_2['RETAIL_INV_SALES_RATIO'] = new_df_2['RETAIL_INVENTORY_MILLIONS'].div(new_df_2['RETAIL_SALES_MILLIONS'])\n",
    "print(f'{new_df_2}')"
   ]
  },
  {
   "cell_type": "markdown",
   "metadata": {},
   "source": [
    "# Question 9\n",
    "\n",
    "Using boolean indexing keep rows of the DataFrame that have Dates more than `'2000-1-1'`."
   ]
  },
  {
   "cell_type": "code",
   "execution_count": 37,
   "metadata": {},
   "outputs": [
    {
     "name": "stdout",
     "output_type": "stream",
     "text": [
      "            RETAIL_SALES_MILLIONS  RETAIL_INVENTORY_MILLIONS  \\\n",
      "DATE                                                           \n",
      "2000-02-01                 247133                  385527.48   \n",
      "2000-03-01                 249825                  387228.75   \n",
      "2000-04-01                 245831                  388412.98   \n",
      "2000-05-01                 246201                  391459.59   \n",
      "2000-06-01                 248160                  397056.00   \n",
      "...                           ...                        ...   \n",
      "2022-08-01                 598380                  741991.20   \n",
      "2022-09-01                 596342                  739464.08   \n",
      "2022-10-01                 602583                  735151.26   \n",
      "2022-11-01                 595328                  738206.72   \n",
      "2022-12-01                 587878                  740726.28   \n",
      "\n",
      "            RETAIL_INV_SALES_RATIO  \n",
      "DATE                                \n",
      "2000-02-01                    1.56  \n",
      "2000-03-01                    1.55  \n",
      "2000-04-01                    1.58  \n",
      "2000-05-01                    1.59  \n",
      "2000-06-01                    1.60  \n",
      "...                            ...  \n",
      "2022-08-01                    1.24  \n",
      "2022-09-01                    1.24  \n",
      "2022-10-01                    1.22  \n",
      "2022-11-01                    1.24  \n",
      "2022-12-01                    1.26  \n",
      "\n",
      "[275 rows x 3 columns]\n"
     ]
    }
   ],
   "source": [
    "# Solution\n",
    "new_df_3 = new_df_2[new_df_2.index > '2000-1-1']\n",
    "print(f'{new_df_3}')"
   ]
  },
  {
   "cell_type": "markdown",
   "metadata": {},
   "source": [
    "# Question 10\n",
    "\n",
    "What is the maximum and minimum value of the ratio?"
   ]
  },
  {
   "cell_type": "code",
   "execution_count": 43,
   "metadata": {},
   "outputs": [
    {
     "name": "stdout",
     "output_type": "stream",
     "text": [
      "Maximum of the ratio is 1.69\n",
      "Minimum of the ratio is 1.09\n"
     ]
    }
   ],
   "source": [
    "# Solution\n",
    "print(f'Maximum of the ratio is {new_df_3['RETAIL_INV_SALES_RATIO'].max():.2f}')\n",
    "print(f'Minimum of the ratio is {new_df_3['RETAIL_INV_SALES_RATIO'].min()}')\n"
   ]
  },
  {
   "cell_type": "markdown",
   "metadata": {},
   "source": [
    "# Question 11\n",
    "\n",
    "Plot `RETAIL_INV_SALES_RATIO`"
   ]
  },
  {
   "cell_type": "code",
   "execution_count": 46,
   "metadata": {},
   "outputs": [
    {
     "data": {
      "image/png": "[encoded data removed]",
      "text/plain": [
       "<Figure size 640x480 with 1 Axes>"
      ]
     },
     "metadata": {},
     "output_type": "display_data"
    }
   ],
   "source": [
    "# Solution\n",
    "import matplotlib.pyplot as plt\n",
    "plt.plot(new_df_3['RETAIL_INV_SALES_RATIO']);"
   ]
  },
  {
   "cell_type": "code",
   "execution_count": null,
   "metadata": {},
   "outputs": [],
   "source": []
  },
  {
   "cell_type": "code",
   "execution_count": null,
   "metadata": {},
   "outputs": [],
   "source": []
  }
 ],
 "metadata": {
  "colab": {
   "collapsed_sections": [],
   "name": "Updated Week 3 Homework_6Feb.ipynb",
   "provenance": []
  },
  "kernelspec": {
   "display_name": "Python 3 (ipykernel)",
   "language": "python",
   "name": "python3"
  },
  "language_info": {
   "codemirror_mode": {
    "name": "ipython",
    "version": 3
   },
   "file_extension": ".py",
   "mimetype": "text/x-python",
   "name": "python",
   "nbconvert_exporter": "python",
   "pygments_lexer": "ipython3",
   "version": "3.12.4"
  }
 },
 "nbformat": 4,
 "nbformat_minor": 4
}
