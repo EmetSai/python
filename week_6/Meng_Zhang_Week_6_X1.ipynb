{
 "cells": [
  {
   "cell_type": "markdown",
   "id": "cfc45565-cc50-485a-bd22-8739654bf161",
   "metadata": {
    "id": "cuYPG-FC8ryF"
   },
   "source": [
    "# Week 6 Homework\n",
    "\n",
    "This homework provides an opportunity for you to practice the most important topics we discussed in week 5 and 6. It will also prepare you for week 7 of this course."
   ]
  },
  {
   "cell_type": "markdown",
   "id": "c663dcab-66a4-497d-8665-d90598140f8a",
   "metadata": {
    "id": "cKDuOTQB8ryN",
    "jp-MarkdownHeadingCollapsed": true,
    "tags": []
   },
   "source": [
    "## Submission guidelines:\n",
    "**`Please display all your output using the print() or display() functions`**\n",
    "\n",
    "**Once you are done, remove all the output (`Right click on screen --> Clear All Outputs`), save your file as: `YourFirstName_YourLastName_Week_6_SectionNumber.ipynb`.**"
   ]
  },
  {
   "cell_type": "markdown",
   "id": "6744cacc-c27f-4424-9a41-130fe413bade",
   "metadata": {},
   "source": [
    "## Note\n",
    " - Please set `pandas` `display precision` to `2`. "
   ]
  },
  {
   "cell_type": "markdown",
   "id": "562f889e-706b-4deb-b3bc-4732cb87b6b0",
   "metadata": {
    "tags": []
   },
   "source": [
    "# Question 1: Packages for fast Exploratory Data Analysis (EDA)\n",
    "\n",
    "<p style=\"text-align: center;\"> <img src=https://www.dropbox.com/s/fl2zv2pxavee42e/Titanic_4.jpg?raw=1 width=800/>\n",
    "\n",
    "\n"
   ]
  },
  {
   "cell_type": "markdown",
   "id": "13d1e47d-9ce0-4b76-b547-98326e61c299",
   "metadata": {},
   "source": [
    "In the last several years, there has been an explosion of packages that deliver `fast` data exploration with very little code (`low-code package`). Some of the most commonly used `low-code EDA (Exploratory Data Analysis)` packages are:\n",
    "\n",
    " - **lux:** https://pypi.org/project/lux-widget/  \n",
    " - **yopo:** https://pypi.org/project/yopo/    \n",
    " - **sweetviz:** https://pypi.org/project/sweetviz/ \n",
    " - **autoviz:** https://pypi.org/project/autoviz/  \n",
    " - **d-tale:** https://pypi.org/project/dtale/ \n",
    " - **ydata-profiling:**  https://pypi.org/project/pandas-profiling/\n",
    "    \n",
    "\n",
    "This question will guide you through installing `ydata-profiling`; exploring a dataset, and exporting your report to a `html` format. You are required to submit your `html` report as well. This is what you need to do:\n",
    "\n",
    " - Install `ydata-profiling` by running `pip install -U ydata-profiling` in a cell.\n",
    " - We will explore the famous `Titanic dataset` using this package. `Titanic dataset` contains informationof the passangers aboard the `Titanic` ship. Read the titanic dataset from `https://www.dropbox.com/s/075uxba459751z9/titanic.csv?raw=1` into a dataframe called `df_titanic`.\n",
    " - Use `ydata-profiling` to generate an exploratory report based on this dataset. You can start by running \n",
    " \n",
    ">>```python\n",
    "import ydata_profiling \n",
    "profile_titanic = ydata_profiling.ProfileReport(df_titanic, title=\"Give a title\")\n",
    "profile_titanic\n",
    ">>```\n",
    "\n",
    "**Please explore the `html` file and understand the kind of analysis this package offers.**\n",
    "\n",
    " - **For more details:** You can see one example here: `https://docs.profiling.ydata.ai/4.5/getting-started/concepts/`.\n",
    " - Create a `html` file of the report. Set the `title` of your `html` file to `titanic_profile_created_by_Your_firstname_your_lastname_section_number`. Make sure to also name your `html` file as `titanic_profile_created_by_Your_firstname_your_lastname_section_number`. \n",
    " - You are required to submit a zip file containing the generated `html` file.\n",
    "\n",
    "**For Your Information:** This package recently changed its name from `pandas-profiling` to `ydata-profiling`"
   ]
  },
  {
   "cell_type": "code",
   "execution_count": null,
   "id": "828b427e-1c84-4db4-b1fd-4b27682cc3e5",
   "metadata": {},
   "outputs": [],
   "source": [
    "pip install -U ydata-profiling"
   ]
  },
  {
   "cell_type": "code",
   "execution_count": null,
   "id": "42d38381-6a1d-476e-8eaa-996f549d8c3d",
   "metadata": {},
   "outputs": [],
   "source": [
    "pip install ipywidgets"
   ]
  },
  {
   "cell_type": "code",
   "execution_count": null,
   "id": "3e523d5e-71f3-4490-b416-e6a99f33dde8",
   "metadata": {},
   "outputs": [],
   "source": [
    "# Solution\n",
    "import pandas as pd\n",
    "pd.options.display.precision = 2\n",
    "df_titanic = pd.read_csv('https://www.dropbox.com/s/075uxba459751z9/titanic.csv?raw=1')"
   ]
  },
  {
   "cell_type": "code",
   "execution_count": null,
   "id": "8c0f9a4d-0567-4cbb-8ad3-722b9ec66739",
   "metadata": {},
   "outputs": [],
   "source": [
    "import ydata_profiling \n",
    "profile_titanic = ydata_profiling.ProfileReport(df_titanic, title=\"titanic_profile_created_by_Meng_Zhang_X1\")\n",
    "profile_titanic.to_file('titanic_profile_created_by_Meng_Zhang_X1.html')\n",
    "profile_titanic"
   ]
  },
  {
   "cell_type": "code",
   "execution_count": null,
   "id": "94c3c9fe-8415-458a-af5a-4b500931b525",
   "metadata": {},
   "outputs": [],
   "source": []
  },
  {
   "cell_type": "markdown",
   "id": "15f4610f-a64e-467a-9714-64588dea3454",
   "metadata": {},
   "source": [
    "# Question 2: `Yahoo Finance`\n",
    "\n",
    "<p style=\"text-align: center;\"> <img src=https://www.dropbox.com/s/o7fv9wbd97p2bb5/yf.png?raw=1 width=200/>\n"
   ]
  },
  {
   "cell_type": "markdown",
   "id": "28343daf-b25a-4590-a96a-0c87f943d73f",
   "metadata": {
    "id": "-wfo6tVnYnd4"
   },
   "source": [
    "This assignment allows you to connect to `Yahoo Finance` (https://pypi.org/project/yfinance/); get financial data, and work with it. \n",
    "`yfinance` package provides stock market data and company information. Install the `yfinance` package using `pip install yfinance`. Make sure to run that command in one cell all by itself. `yfinance` provides financial data as a `DataFrame`; this is an excellent opportunity to practice working with pandas' `DataFrame`.\n",
    "\n",
    " - In the stock markets, each traded company is usually recognized with a `symbol` (sometimes called `ticker`). Go to https://stockanalysis.com/stocks/ and find the symbol for `Costco Wholesale`.\n",
    " - Go ahead and explore  https://pypi.org/project/yfinance/\n",
    " - In the following cell try `import yfinance as yf`\n",
    " - Store Costco's market data (open, high, low, ... ) for the last 12 months in a `DataFrame` called `df_costco`.\n",
    " - Using `matplotlib`, plot `Open` and `Close`for the last 12 months in one plot. Please choose an appropriate plot kind. \n",
    " - Drop columns of `Stock Splits` and `Dividends`.\n",
    " - Create a new column called `Close_to_Open_ratio` that stores the ratio of the Closing price (price at the end of the trading day) to the Opening price (price at the beginning of the trading day).\n",
    " - What is the average of the `Close_to_Open_ratio` column? Show this with proper `f-string`.  \n",
    " - Assume a day trader buys Costco's stock at the beginning of the day and sells it at the end of the day. In what fraction of days, this day trader makes money? Please answer it based on the values in the `Close_to_Open_ratio` column. Use boolean indexing.  **Another way to ask this question is: what is the probability of making some money on a typical day?**"
   ]
  },
  {
   "cell_type": "code",
   "execution_count": null,
   "id": "7d802982-828a-4a32-8d5d-aded49862127",
   "metadata": {},
   "outputs": [],
   "source": [
    "# Solution\n",
    "!pip install yfinance"
   ]
  },
  {
   "cell_type": "code",
   "execution_count": null,
   "id": "4a06d05d-d79e-44fb-b2bc-3070e20160a4",
   "metadata": {},
   "outputs": [],
   "source": [
    "# Costco Wholesale Corporation (COST)\n",
    "import yfinance as yf\n",
    "df_costco = yf.Ticker('COST').history(period=\"1y\")\n",
    "df_costco"
   ]
  },
  {
   "cell_type": "code",
   "execution_count": null,
   "id": "a41b1f39-7628-4565-9546-e1bdcbe28a60",
   "metadata": {},
   "outputs": [],
   "source": [
    "import matplotlib.pyplot as plt\n",
    "fig, ax = plt.subplots()\n",
    "ax.plot(df_costco.Open, label = 'Open', color = 'blue')\n",
    "ax.plot(df_costco.Close, label = 'Open', color = 'red')\n",
    "plt.show()"
   ]
  },
  {
   "cell_type": "code",
   "execution_count": null,
   "id": "d9e1ea22-3e76-4071-a994-e11676c313df",
   "metadata": {},
   "outputs": [],
   "source": [
    "df_costco2 = df_costco.drop(['Stock Splits', 'Dividends'], axis = 1)\n",
    "df_costco2"
   ]
  },
  {
   "cell_type": "code",
   "execution_count": null,
   "id": "115e20ea-5c2e-48b9-938e-5b7ca561850e",
   "metadata": {},
   "outputs": [],
   "source": [
    "df_costco2['Close_to_Open_ratio'] = df_costco['Close'] / df_costco['Open']\n",
    "df_costco2"
   ]
  },
  {
   "cell_type": "code",
   "execution_count": null,
   "id": "f2886eb0-b287-43a2-bc0a-bd43c714c72a",
   "metadata": {},
   "outputs": [],
   "source": [
    "print(f'The average of the Close_to_Open_ratio column is {df_costco2.Close_to_Open_ratio.mean().round(5)}.')\n",
    "make_money = df_costco2.Close_to_Open_ratio.gt(1).sum()\n",
    "num_days = df_costco2.Close_to_Open_ratio.count()\n",
    "print(f'The probability of making some money is {(make_money/num_days):.2%}.')"
   ]
  },
  {
   "cell_type": "markdown",
   "id": "19a2a6e1-e829-47ee-b6a1-ff9d63812300",
   "metadata": {},
   "source": [
    "## Question 3: Visualizing unemployment claims\n",
    "\n",
    "The following is the unemployment rate in the U.S. from year 2011 until 2022.\n",
    "\n",
    "**9.8, 9.1, 8.3, 8.0, 6.6, 5.6, 4.8, 4.7, 4.0, 14.7, 4.0, 3.5**\n",
    "\n",
    "**Step 1:** Create a `pandas` dataframe from the above numbers with years 2011-2022 being index.\n",
    "\n",
    "**Step 2:** Use object-oriented approach of `matplotlib` to construct an appropriate plot of unemployment rates. Please feel free to consult with https://www.data-to-viz.com/ to choose the right kind of plot."
   ]
  },
  {
   "cell_type": "code",
   "execution_count": null,
   "id": "74b19833-4bfe-47fe-901e-2d1794de66ed",
   "metadata": {},
   "outputs": [],
   "source": [
    "# Solution\n",
    "import pandas as pd\n",
    "import matplotlib.pyplot as plt\n",
    "unemp_rate = {'unemp_rate':[9.8, 9.1, 8.3, 8.0, 6.6, 5.6, 4.8, 4.7, 4.0, 14.7, 4.0, 3.5]}\n",
    "years = [n for n in range(2011,2023)]\n",
    "df_unemp_rate = pd.DataFrame(unemp_rate)\n",
    "df_unemp_rate.index = years\n",
    "df_unemp_rate\n",
    "fig, ax = plt.subplots()\n",
    "ax.plot(df_unemp_rate.unemp_rate, color = 'red');"
   ]
  },
  {
   "cell_type": "markdown",
   "id": "3c311d47-f776-464f-af84-eb2e376c462d",
   "metadata": {
    "tags": []
   },
   "source": [
    "## Question 4: Let's look at your project dataset\n",
    "\n",
    "This question will help you start working on your project datasets. Two of the csv files look at the fuel inventory level for different tanks at different time stamps. Consider `Fuel_Level_Part_1.csv`. For the tank `T 12`, please plot inventory levels for dates after `'2019-06-15'`. "
   ]
  },
  {
   "cell_type": "code",
   "execution_count": null,
   "id": "3d65fe9a-bec6-4941-866b-cccb23d12566",
   "metadata": {},
   "outputs": [],
   "source": [
    "# Solution\n",
    "import pandas as pd\n",
    "import matplotlib.pyplot as plt\n",
    "\n",
    "df_fuel_1 = pd.read_csv('Fuel_Level_Part_1.csv')\n",
    "df_fuel_1 = df_fuel_1.set_index('Tank ID')\n",
    "df_fuel_2 = df_fuel_1.loc[['T 12']]\n",
    "df_fuel_2['Time stamp'] = pd.to_datetime(df_fuel_2['Time stamp'])\n",
    "df_fuel_3 = df_fuel_2[df_fuel_2['Time stamp'] > '2019-06-15']\n",
    "df_fuel_3\n",
    "fig, ax = plt.subplots()\n",
    "\n",
    "ax.plot(df_fuel_3['Time stamp'], df_fuel_3['Fuel Level'])\n",
    "ax.set_xlabel('Date')\n",
    "ax.set_ylabel('Fuel Level')\n",
    "fig.autofmt_xdate(rotation=45)"
   ]
  },
  {
   "cell_type": "markdown",
   "id": "2923cbc8-3f39-4a35-ac03-97f43a21c994",
   "metadata": {
    "tags": []
   },
   "source": [
    "## Question 5: Let's look at FIFA World Cup dataset\n",
    "\n",
    "**Background:**\n",
    "\n",
    "Football (soccer) is my favorite sport! I have played it for many years (and have broken my right leg three times playing footbal!) This question will help us explore statistics about the history of FIFA (Fédération Internationale de Football Association) World Cup. The **FIFA World Cup** is one of the most prominent and celebrated international soccer competitions, held every four years and featuring teams from all over the globe. It is a month-long event that attracts millions of viewers worldwide, showcasing the talents of the world's best soccer players competing for the trophy and the title of world champion.\n",
    "\n",
    "\n",
    "You will have access to multiple csv files. Please read the following csv file (using `read_csv`) into dataframe and name the dataframe appropriately\n",
    "\n",
    "bookings_link = 'https://www.dropbox.com/scl/fi/n7rhwl7a1ezsrxiwr5ie3/bookings.csv?rlkey=7vzktvhlbp8t77cjkmgcysjeh&st=w1su1dev&raw=1'\n",
    "\n",
    "This dataset contains all the booking information for the FIFA World Cup from 1970-2022. \n",
    "\n",
    "**Explanation:** In soccer, a booking is a formal warning given by the referee to a player who has committed a significant foul or unsportsmanlike behavior. A player receives a yellow card for the first booking and a red card for the second, which results in ejection from the game.\n",
    "\n"
   ]
  },
  {
   "cell_type": "code",
   "execution_count": null,
   "id": "d5d822ca-fe46-4dd6-a810-951527901e9f",
   "metadata": {},
   "outputs": [],
   "source": [
    "# solution\n",
    "import pandas as pd\n",
    "bookings_link = 'https://www.dropbox.com/scl/fi/n7rhwl7a1ezsrxiwr5ie3/bookings.csv?rlkey=7vzktvhlbp8t77cjkmgcysjeh&st=w1su1dev&raw=1'\n",
    "df_booking = pd.read_csv(bookings_link)\n",
    "df_booking"
   ]
  },
  {
   "cell_type": "markdown",
   "id": "17f5fd09-2bd1-414f-b885-32e1c99acfeb",
   "metadata": {
    "tags": []
   },
   "source": [
    "## Question 6: \n",
    "\n",
    "How many total yellow cards have been given in all these tournaments? (Answer is just one number). Make sure to use `f-string` for displaying the results."
   ]
  },
  {
   "cell_type": "code",
   "execution_count": null,
   "id": "b59fedc4-71f6-4705-9062-fbea6e3a75df",
   "metadata": {},
   "outputs": [],
   "source": [
    "# Solution\n",
    "numYCard = df_booking['yellow_card'].sum()\n",
    "print(f'{numYCard}')"
   ]
  },
  {
   "cell_type": "markdown",
   "id": "700859c8-b037-49ac-aecd-f99d0ae3aa19",
   "metadata": {
    "tags": []
   },
   "source": [
    "## Question 7: \n",
    "\n",
    "How many FIFA World Cup tournments data is available in this dataset? \n",
    "\n",
    "**Very strong hint:** use `nunique()` function on an appropriate column. \n",
    "\n",
    "Make sure to use `f-string` for displaying the results."
   ]
  },
  {
   "cell_type": "code",
   "execution_count": null,
   "id": "17ed9ed4-b31e-4b6e-b662-216a887ad6aa",
   "metadata": {},
   "outputs": [],
   "source": [
    "# Solution\n",
    "print(f'{df_booking['tournament_id'].nunique()}')"
   ]
  },
  {
   "cell_type": "markdown",
   "id": "9224a766-c83b-4c0b-b08a-a6449ffa2547",
   "metadata": {
    "tags": []
   },
   "source": [
    "## Question 8: \n",
    "\n",
    "How many total second yellow cards have been given in all these tournaments? (Answer is just one number). Make sure to use `f-string` for displaying the results."
   ]
  },
  {
   "cell_type": "code",
   "execution_count": null,
   "id": "0131f613-8bec-415d-8df3-0b7803c1db14",
   "metadata": {},
   "outputs": [],
   "source": [
    "# solution\n",
    "num2YCard = df_booking['second_yellow_card'].sum()\n",
    "print(f'{num2YCard}')"
   ]
  },
  {
   "cell_type": "markdown",
   "id": "ecc7cd80-9166-4157-a657-11b24dcbb6a4",
   "metadata": {
    "tags": []
   },
   "source": [
    "## Question 9: \n",
    "\n",
    "How many total red cards have been given in all these tournaments? (Answer is just one number). Make sure to use `f-string` for displaying the results."
   ]
  },
  {
   "cell_type": "code",
   "execution_count": null,
   "id": "97ec7db5-4909-46d4-adde-1d842b00bd95",
   "metadata": {},
   "outputs": [],
   "source": [
    "# solution\n",
    "numRCard = df_booking['red_card'].sum()\n",
    "print(f'{numRCard}')"
   ]
  },
  {
   "cell_type": "markdown",
   "id": "16d4118e-e37d-48c6-8d07-eb11deda6884",
   "metadata": {
    "tags": []
   },
   "source": [
    "## Question 10: \n",
    "\n",
    "Can you say that sum of second yellow card and red cards is equal to sum of `send-offs`? \n",
    "\n",
    "**Explanation:** In soccer, a *send off* refers to a player being ordered to leave the field by the referee.\n",
    "\n",
    "Make sure to use `f-string` for answering this question."
   ]
  },
  {
   "cell_type": "code",
   "execution_count": null,
   "id": "728f0b8c-8231-4d52-828a-5e7d706451fa",
   "metadata": {},
   "outputs": [],
   "source": [
    "# Solution\n",
    "numSendOff = df_booking['sending_off'].sum()\n",
    "print(f'{bool((num2YCard+numRCard)==numSendOff)}')"
   ]
  },
  {
   "cell_type": "markdown",
   "id": "6fe597d6-6b94-46ab-b425-648a2631339d",
   "metadata": {
    "tags": []
   },
   "source": [
    "## Question 11: \n",
    "\n",
    "Your friend *Ian*, who loves playing soccer, claims that the total number of bookings in the first half is more than in the second half! Can you use `value_counts()` to check his claim? Visualize the results using the `plot` function and ensure to select an appropriate type of plot."
   ]
  },
  {
   "cell_type": "code",
   "execution_count": null,
   "id": "41ee47c7-c71d-4fd1-addb-eecfc503da77",
   "metadata": {},
   "outputs": [],
   "source": [
    "# Solution\n",
    "import pandas as pd\n",
    "import matplotlib.pyplot as plt\n",
    "df_count_half = df_booking[(df_booking['match_period'] == 'first half')|(df_booking['match_period'] == 'second half')]\n",
    "booking_count = df_count_half['match_period'].value_counts()\n",
    "\n",
    "booking_count.plot(kind = 'bar')\n",
    "plt.title('Bookings')\n",
    "plt.xlabel('Match Period')\n",
    "plt.ylabel('Number of Bookings');\n"
   ]
  },
  {
   "cell_type": "markdown",
   "id": "6df3be4d-4e59-4a78-a61f-221ddb7dc882",
   "metadata": {
    "tags": []
   },
   "source": [
    "## Question 12: \n",
    "\n",
    "My friend *Milo*, who loves playing with a soccer ball, claims that World Cup games become more aggressive over time. One way to measure level of aggressiveness is by counting number of bookings in each tournment. Use `groupby`, `count`, and `plot` functions to visualize total number of bookings in each tournment. Do you think Milo is right?"
   ]
  },
  {
   "cell_type": "code",
   "execution_count": null,
   "id": "ed0727b7-104b-4307-89a0-890b3476d157",
   "metadata": {},
   "outputs": [],
   "source": [
    "# Solution\n",
    "import pandas as pd\n",
    "import matplotlib.pyplot as plt\n",
    "bookings_by_tournament = df_booking.groupby(by = 'tournament_id')['booking_id'].count()\n",
    "\n",
    "bookings_by_tournament.plot()\n",
    "plt.title('Number of Bookings in Each World Cup Tournament')\n",
    "plt.xlabel('Tournament')\n",
    "plt.ylabel('Number of Bookings')\n",
    "print(f'Milo is not right')"
   ]
  },
  {
   "cell_type": "markdown",
   "id": "992e4cc1-19bb-45f0-91e3-5d4fb20ec566",
   "metadata": {
    "tags": []
   },
   "source": [
    "## Question 13: \n",
    "\n",
    "Which game had the largest number of bookings?\n",
    "\n",
    "**Note:** This is a bit of challenging question. You may want to explore using `groupby` a bit."
   ]
  },
  {
   "cell_type": "code",
   "execution_count": null,
   "id": "85d1fd78-b11e-4f5f-99db-9e5f5f101694",
   "metadata": {},
   "outputs": [],
   "source": [
    "# Solution\n",
    "bookings_by_game = df_booking.groupby(by = 'match_id')['booking_id'].count()\n",
    "print(f'{bookings_by_game.idxmax()} had the largest number of bookings.')"
   ]
  },
  {
   "cell_type": "markdown",
   "id": "4dce1ffc-9366-49cd-8fd8-6def6abeb563",
   "metadata": {},
   "source": [
    "# Question 14\n",
    "\n",
    "Now we will explore information about the players. Please read the following csv file (using `read_csv`) into dataframe and name the dataframe appropriately\n",
    "\n",
    "players_link = 'https://www.dropbox.com/scl/fi/k3aw29vgt0kf2vqcgein6/players.csv?rlkey=yzr8xjjdhawo5z7afg4dxklvr&st=xuqxf5qy&raw=1'\n",
    "\n",
    "This dataset contains information about the players who participated in the FIFA World Cup from 1970 to 2022.  "
   ]
  },
  {
   "cell_type": "code",
   "execution_count": 3,
   "id": "85426b0d-d0cc-4afa-aaf6-877a901b1833",
   "metadata": {},
   "outputs": [
    {
     "data": {
      "text/html": [
       "<div>\n",
       "<style scoped>\n",
       "    .dataframe tbody tr th:only-of-type {\n",
       "        vertical-align: middle;\n",
       "    }\n",
       "\n",
       "    .dataframe tbody tr th {\n",
       "        vertical-align: top;\n",
       "    }\n",
       "\n",
       "    .dataframe thead th {\n",
       "        text-align: right;\n",
       "    }\n",
       "</style>\n",
       "<table border=\"1\" class=\"dataframe\">\n",
       "  <thead>\n",
       "    <tr style=\"text-align: right;\">\n",
       "      <th></th>\n",
       "      <th>key_id</th>\n",
       "      <th>player_id</th>\n",
       "      <th>family_name</th>\n",
       "      <th>given_name</th>\n",
       "      <th>birth_date</th>\n",
       "      <th>female</th>\n",
       "      <th>goal_keeper</th>\n",
       "      <th>defender</th>\n",
       "      <th>midfielder</th>\n",
       "      <th>forward</th>\n",
       "      <th>count_tournaments</th>\n",
       "      <th>list_tournaments</th>\n",
       "      <th>player_wikipedia_link</th>\n",
       "    </tr>\n",
       "  </thead>\n",
       "  <tbody>\n",
       "    <tr>\n",
       "      <th>0</th>\n",
       "      <td>1</td>\n",
       "      <td>P-35894</td>\n",
       "      <td>A'Court</td>\n",
       "      <td>Alan</td>\n",
       "      <td>1934-09-30</td>\n",
       "      <td>0</td>\n",
       "      <td>0</td>\n",
       "      <td>0</td>\n",
       "      <td>0</td>\n",
       "      <td>1</td>\n",
       "      <td>1</td>\n",
       "      <td>1958</td>\n",
       "      <td>https://en.wikipedia.org/wiki/Alan_A%27Court</td>\n",
       "    </tr>\n",
       "    <tr>\n",
       "      <th>1</th>\n",
       "      <td>2</td>\n",
       "      <td>P-29915</td>\n",
       "      <td>Aarønes</td>\n",
       "      <td>Ann Kristin</td>\n",
       "      <td>1973-01-19</td>\n",
       "      <td>1</td>\n",
       "      <td>0</td>\n",
       "      <td>0</td>\n",
       "      <td>1</td>\n",
       "      <td>1</td>\n",
       "      <td>2</td>\n",
       "      <td>1995, 1999</td>\n",
       "      <td>https://en.wikipedia.org/wiki/Ann_Kristin_Aar%...</td>\n",
       "    </tr>\n",
       "    <tr>\n",
       "      <th>2</th>\n",
       "      <td>3</td>\n",
       "      <td>P-03484</td>\n",
       "      <td>Aaronson</td>\n",
       "      <td>Brenden</td>\n",
       "      <td>2000-10-22</td>\n",
       "      <td>0</td>\n",
       "      <td>0</td>\n",
       "      <td>0</td>\n",
       "      <td>0</td>\n",
       "      <td>1</td>\n",
       "      <td>1</td>\n",
       "      <td>2022</td>\n",
       "      <td>https://en.wikipedia.org/wiki/Brenden_Aaronson</td>\n",
       "    </tr>\n",
       "    <tr>\n",
       "      <th>3</th>\n",
       "      <td>4</td>\n",
       "      <td>P-04189</td>\n",
       "      <td>Abadzhiev</td>\n",
       "      <td>Stefan</td>\n",
       "      <td>1934-07-03</td>\n",
       "      <td>0</td>\n",
       "      <td>0</td>\n",
       "      <td>0</td>\n",
       "      <td>0</td>\n",
       "      <td>1</td>\n",
       "      <td>1</td>\n",
       "      <td>1966</td>\n",
       "      <td>https://en.wikipedia.org/wiki/Stefan_Abadzhiev</td>\n",
       "    </tr>\n",
       "    <tr>\n",
       "      <th>4</th>\n",
       "      <td>5</td>\n",
       "      <td>P-03523</td>\n",
       "      <td>Abalo</td>\n",
       "      <td>Jean-Paul</td>\n",
       "      <td>1975-06-26</td>\n",
       "      <td>0</td>\n",
       "      <td>0</td>\n",
       "      <td>1</td>\n",
       "      <td>0</td>\n",
       "      <td>0</td>\n",
       "      <td>1</td>\n",
       "      <td>2006</td>\n",
       "      <td>https://en.wikipedia.org/wiki/Jean-Paul_Abalo</td>\n",
       "    </tr>\n",
       "    <tr>\n",
       "      <th>...</th>\n",
       "      <td>...</td>\n",
       "      <td>...</td>\n",
       "      <td>...</td>\n",
       "      <td>...</td>\n",
       "      <td>...</td>\n",
       "      <td>...</td>\n",
       "      <td>...</td>\n",
       "      <td>...</td>\n",
       "      <td>...</td>\n",
       "      <td>...</td>\n",
       "      <td>...</td>\n",
       "      <td>...</td>\n",
       "      <td>...</td>\n",
       "    </tr>\n",
       "    <tr>\n",
       "      <th>10396</th>\n",
       "      <td>10397</td>\n",
       "      <td>P-31085</td>\n",
       "      <td>Żurkowski</td>\n",
       "      <td>Szymon</td>\n",
       "      <td>1997-09-25</td>\n",
       "      <td>0</td>\n",
       "      <td>0</td>\n",
       "      <td>0</td>\n",
       "      <td>1</td>\n",
       "      <td>0</td>\n",
       "      <td>1</td>\n",
       "      <td>2022</td>\n",
       "      <td>https://en.wikipedia.org/wiki/Szymon_%C5%BBurk...</td>\n",
       "    </tr>\n",
       "    <tr>\n",
       "      <th>10397</th>\n",
       "      <td>10398</td>\n",
       "      <td>P-59568</td>\n",
       "      <td>Zurrer</td>\n",
       "      <td>Emily</td>\n",
       "      <td>1987-07-12</td>\n",
       "      <td>1</td>\n",
       "      <td>0</td>\n",
       "      <td>1</td>\n",
       "      <td>0</td>\n",
       "      <td>0</td>\n",
       "      <td>2</td>\n",
       "      <td>2011, 2015</td>\n",
       "      <td>https://en.wikipedia.org/wiki/Emily_Zurrer</td>\n",
       "    </tr>\n",
       "    <tr>\n",
       "      <th>10398</th>\n",
       "      <td>10399</td>\n",
       "      <td>P-51653</td>\n",
       "      <td>Zusi</td>\n",
       "      <td>Graham</td>\n",
       "      <td>1986-08-18</td>\n",
       "      <td>0</td>\n",
       "      <td>0</td>\n",
       "      <td>0</td>\n",
       "      <td>1</td>\n",
       "      <td>0</td>\n",
       "      <td>1</td>\n",
       "      <td>2014</td>\n",
       "      <td>https://en.wikipedia.org/wiki/Graham_Zusi</td>\n",
       "    </tr>\n",
       "    <tr>\n",
       "      <th>10399</th>\n",
       "      <td>10400</td>\n",
       "      <td>P-05885</td>\n",
       "      <td>Zygmantovich</td>\n",
       "      <td>Andrei</td>\n",
       "      <td>1962-12-02</td>\n",
       "      <td>0</td>\n",
       "      <td>0</td>\n",
       "      <td>0</td>\n",
       "      <td>1</td>\n",
       "      <td>0</td>\n",
       "      <td>1</td>\n",
       "      <td>1990</td>\n",
       "      <td>https://en.wikipedia.org/wiki/Andrei_Zygmantovich</td>\n",
       "    </tr>\n",
       "    <tr>\n",
       "      <th>10400</th>\n",
       "      <td>10401</td>\n",
       "      <td>P-97724</td>\n",
       "      <td>Zykov</td>\n",
       "      <td>Valery</td>\n",
       "      <td>1944-02-24</td>\n",
       "      <td>0</td>\n",
       "      <td>0</td>\n",
       "      <td>0</td>\n",
       "      <td>1</td>\n",
       "      <td>0</td>\n",
       "      <td>1</td>\n",
       "      <td>1970</td>\n",
       "      <td>https://en.wikipedia.org/wiki/Valery_Zykov</td>\n",
       "    </tr>\n",
       "  </tbody>\n",
       "</table>\n",
       "<p>10401 rows × 13 columns</p>\n",
       "</div>"
      ],
      "text/plain": [
       "       key_id player_id   family_name   given_name  birth_date  female  \\\n",
       "0           1   P-35894       A'Court         Alan  1934-09-30       0   \n",
       "1           2   P-29915       Aarønes  Ann Kristin  1973-01-19       1   \n",
       "2           3   P-03484      Aaronson      Brenden  2000-10-22       0   \n",
       "3           4   P-04189     Abadzhiev       Stefan  1934-07-03       0   \n",
       "4           5   P-03523         Abalo    Jean-Paul  1975-06-26       0   \n",
       "...       ...       ...           ...          ...         ...     ...   \n",
       "10396   10397   P-31085     Żurkowski       Szymon  1997-09-25       0   \n",
       "10397   10398   P-59568        Zurrer        Emily  1987-07-12       1   \n",
       "10398   10399   P-51653          Zusi       Graham  1986-08-18       0   \n",
       "10399   10400   P-05885  Zygmantovich       Andrei  1962-12-02       0   \n",
       "10400   10401   P-97724         Zykov       Valery  1944-02-24       0   \n",
       "\n",
       "       goal_keeper  defender  midfielder  forward  count_tournaments  \\\n",
       "0                0         0           0        1                  1   \n",
       "1                0         0           1        1                  2   \n",
       "2                0         0           0        1                  1   \n",
       "3                0         0           0        1                  1   \n",
       "4                0         1           0        0                  1   \n",
       "...            ...       ...         ...      ...                ...   \n",
       "10396            0         0           1        0                  1   \n",
       "10397            0         1           0        0                  2   \n",
       "10398            0         0           1        0                  1   \n",
       "10399            0         0           1        0                  1   \n",
       "10400            0         0           1        0                  1   \n",
       "\n",
       "      list_tournaments                              player_wikipedia_link  \n",
       "0                 1958       https://en.wikipedia.org/wiki/Alan_A%27Court  \n",
       "1           1995, 1999  https://en.wikipedia.org/wiki/Ann_Kristin_Aar%...  \n",
       "2                 2022     https://en.wikipedia.org/wiki/Brenden_Aaronson  \n",
       "3                 1966     https://en.wikipedia.org/wiki/Stefan_Abadzhiev  \n",
       "4                 2006      https://en.wikipedia.org/wiki/Jean-Paul_Abalo  \n",
       "...                ...                                                ...  \n",
       "10396             2022  https://en.wikipedia.org/wiki/Szymon_%C5%BBurk...  \n",
       "10397       2011, 2015         https://en.wikipedia.org/wiki/Emily_Zurrer  \n",
       "10398             2014          https://en.wikipedia.org/wiki/Graham_Zusi  \n",
       "10399             1990  https://en.wikipedia.org/wiki/Andrei_Zygmantovich  \n",
       "10400             1970         https://en.wikipedia.org/wiki/Valery_Zykov  \n",
       "\n",
       "[10401 rows x 13 columns]"
      ]
     },
     "execution_count": 3,
     "metadata": {},
     "output_type": "execute_result"
    }
   ],
   "source": [
    "# Solution\n",
    "players_link = 'https://www.dropbox.com/scl/fi/k3aw29vgt0kf2vqcgein6/players.csv?rlkey=yzr8xjjdhawo5z7afg4dxklvr&st=xuqxf5qy&raw=1'\n",
    "df_players = pd.read_csv(players_link)\n",
    "df_players"
   ]
  },
  {
   "cell_type": "markdown",
   "id": "ab5b1f4a-108a-4b16-a6c1-e33ff410a990",
   "metadata": {},
   "source": [
    "# Question 15\n",
    "\n",
    "How many rows does this dataset have? You must use `f-string` to show the results."
   ]
  },
  {
   "cell_type": "code",
   "execution_count": 6,
   "id": "8d6c1137-4de9-4bab-a1f5-1df43b0536f3",
   "metadata": {},
   "outputs": [
    {
     "name": "stdout",
     "output_type": "stream",
     "text": [
      "This dataset have 10401 rows\n"
     ]
    }
   ],
   "source": [
    "# Solution\n",
    "print(f'This dataset have {len(df_players)} rows')"
   ]
  },
  {
   "cell_type": "markdown",
   "id": "4dea5a04-d11d-46b7-b1cc-b430eece92e8",
   "metadata": {},
   "source": [
    "# Question 16\n",
    "\n",
    "Professor Naser claims that `player_id` is a unique number assigned to each player. Can you use `nunique` function along with the answer to the previous part to check his claim? "
   ]
  },
  {
   "cell_type": "code",
   "execution_count": 9,
   "id": "0cc049c7-dc76-42e3-b3dc-fc1e31c844b3",
   "metadata": {},
   "outputs": [
    {
     "name": "stdout",
     "output_type": "stream",
     "text": [
      "player_id is a unique number assigned to each player\n"
     ]
    }
   ],
   "source": [
    "# Solution\n",
    "df_players.player_id.nunique()\n",
    "print(f'player_id is a unique number assigned to each player')"
   ]
  },
  {
   "cell_type": "markdown",
   "id": "d073a15a-9977-4d63-ade1-e1eca66e64bc",
   "metadata": {},
   "source": [
    "# Question 17\n",
    "\n",
    "Visualize number of `male` and `female` players in this dataset. Make sure that your plot has appropriate `xlabel`, `ylabel`, and `title`. Feel free to use `matplotlib`, `pandas`, or `seaborn` for visualization"
   ]
  },
  {
   "cell_type": "code",
   "execution_count": 12,
   "id": "364b4eb0-48f9-49b4-8684-6377aa808ce1",
   "metadata": {},
   "outputs": [
    {
     "data": {
      "text/plain": [
       "Text(0, 0.5, 'Number of players')"
      ]
     },
     "execution_count": 12,
     "metadata": {},
     "output_type": "execute_result"
    },
    {
     "data": {
      "image/png": "[encoded data removed]",
      "text/plain": [
       "<Figure size 640x480 with 1 Axes>"
      ]
     },
     "metadata": {},
     "output_type": "display_data"
    }
   ],
   "source": [
    "# Solution\n",
    "import pandas as pd\n",
    "import matplotlib.pyplot as plt\n",
    "sex_count = df_players.female.value_counts()\n",
    "sex_count.index = sex_count.index.map({0: 'Male', 1: 'Female'})\n",
    "sex_count.plot(kind = 'bar')\n",
    "plt.title('Number of male and female players')\n",
    "plt.xlabel('Sex')\n",
    "plt.ylabel('Number of players')"
   ]
  },
  {
   "cell_type": "markdown",
   "id": "a0249454-c7fd-4ab1-ae99-dc581d4d05a3",
   "metadata": {},
   "source": [
    "# Question 18\n",
    "\n",
    "Some players may play in more than one tournment. How many players have played in just one tournment? You must use `f-string` to show the results."
   ]
  },
  {
   "cell_type": "code",
   "execution_count": null,
   "id": "8f1a0a81-4191-456f-836e-05bd82c696a3",
   "metadata": {},
   "outputs": [],
   "source": [
    "# Solution\n",
    "one_time = df_players.count_tournaments.value_counts()\n",
    "print(f'{one_time.get(1)} players have played in just one tournment')"
   ]
  },
  {
   "cell_type": "markdown",
   "id": "1ffb2a02-6851-476c-a8f0-78c75c9d147e",
   "metadata": {},
   "source": [
    "# Question 19\n",
    "\n",
    "The following dataset contains information about the award winners:\n",
    "\n",
    "awards_winners_link = 'https://www.dropbox.com/scl/fi/etewiuf5muakg7pw3n2za/award_winners.csv?rlkey=fh9ad72jmnyzdsqaf4uuli52n&st=e907k6bq&raw=1'\n",
    "\n",
    "Using `read_csv`, create a dataframe for awards winners. How many `Golden Gloves` awards were given in all of these tournments? You must use `f-string` to show the results."
   ]
  },
  {
   "cell_type": "code",
   "execution_count": null,
   "id": "027bfeb4-a7a1-4b05-b89b-dd42cf56b625",
   "metadata": {},
   "outputs": [],
   "source": [
    "# Solution\n",
    "awards_winners_link = 'https://www.dropbox.com/scl/fi/etewiuf5muakg7pw3n2za/award_winners.csv?rlkey=fh9ad72jmnyzdsqaf4uuli52n&st=e907k6bq&raw=1'\n",
    "df_winner = pd.read_csv(awards_winners_link)\n",
    "df_winner\n",
    "print(f'{df_winner.award_name.value_counts().get('Golden Glove')} Golden Gloves awards were given')"
   ]
  },
  {
   "cell_type": "code",
   "execution_count": null,
   "id": "250b9f18-dd25-41ea-b5f5-c5a63fc8a54f",
   "metadata": {},
   "outputs": [],
   "source": []
  }
 ],
 "metadata": {
  "kernelspec": {
   "display_name": "Python 3 (ipykernel)",
   "language": "python",
   "name": "python3"
  },
  "language_info": {
   "codemirror_mode": {
    "name": "ipython",
    "version": 3
   },
   "file_extension": ".py",
   "mimetype": "text/x-python",
   "name": "python",
   "nbconvert_exporter": "python",
   "pygments_lexer": "ipython3",
   "version": "3.12.4"
  }
 },
 "nbformat": 4,
 "nbformat_minor": 5
}
